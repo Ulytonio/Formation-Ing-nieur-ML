{
 "cells": [
  {
   "cell_type": "markdown",
   "id": "4d583804",
   "metadata": {},
   "source": [
    "## Partie 1 : Nettoyage et Fusion des deux dataset\n",
    "\n"
   ]
  },
  {
   "cell_type": "code",
   "execution_count": 2,
   "id": "0121e65c",
   "metadata": {},
   "outputs": [
    {
     "data": {
      "application/javascript": [
       "\n",
       "            setTimeout(function() {\n",
       "                var nbb_cell_id = 2;\n",
       "                var nbb_unformatted_code = \"import pandas as pd\\nimport matplotlib.pyplot as plt\\nimport seaborn as sns\\nimport numpy as np\\n\\n# Chargement des donn\\u00e9es \\n\\ndata1  = pd.read_csv(\\\"2015-building-energy-benchmarking.csv\\\",low_memory = False)\\ndata2 = pd.read_csv(\\\"2016-building-energy-benchmarking.csv\\\",low_memory = False)\";\n",
       "                var nbb_formatted_code = \"import pandas as pd\\nimport matplotlib.pyplot as plt\\nimport seaborn as sns\\nimport numpy as np\\n\\n# Chargement des donn\\u00e9es\\n\\ndata1 = pd.read_csv(\\\"2015-building-energy-benchmarking.csv\\\", low_memory=False)\\ndata2 = pd.read_csv(\\\"2016-building-energy-benchmarking.csv\\\", low_memory=False)\";\n",
       "                var nbb_cells = Jupyter.notebook.get_cells();\n",
       "                for (var i = 0; i < nbb_cells.length; ++i) {\n",
       "                    if (nbb_cells[i].input_prompt_number == nbb_cell_id) {\n",
       "                        if (nbb_cells[i].get_text() == nbb_unformatted_code) {\n",
       "                             nbb_cells[i].set_text(nbb_formatted_code);\n",
       "                        }\n",
       "                        break;\n",
       "                    }\n",
       "                }\n",
       "            }, 500);\n",
       "            "
      ],
      "text/plain": [
       "<IPython.core.display.Javascript object>"
      ]
     },
     "metadata": {},
     "output_type": "display_data"
    }
   ],
   "source": [
    "import pandas as pd\n",
    "import matplotlib.pyplot as plt\n",
    "import seaborn as sns\n",
    "import numpy as np\n",
    "\n",
    "# Chargement des données\n",
    "\n",
    "data1 = pd.read_csv(\"2015-building-energy-benchmarking.csv\", low_memory=False)\n",
    "data2 = pd.read_csv(\"2016-building-energy-benchmarking.csv\", low_memory=False)"
   ]
  },
  {
   "cell_type": "code",
   "execution_count": 3,
   "id": "85795f26",
   "metadata": {},
   "outputs": [
    {
     "data": {
      "text/plain": [
       "['OSEBuildingID',\n",
       " 'DataYear',\n",
       " 'BuildingType',\n",
       " 'PrimaryPropertyType',\n",
       " 'PropertyName',\n",
       " 'TaxParcelIdentificationNumber',\n",
       " 'Location',\n",
       " 'CouncilDistrictCode',\n",
       " 'Neighborhood',\n",
       " 'YearBuilt',\n",
       " 'NumberofBuildings',\n",
       " 'NumberofFloors',\n",
       " 'PropertyGFATotal',\n",
       " 'PropertyGFAParking',\n",
       " 'PropertyGFABuilding(s)',\n",
       " 'ListOfAllPropertyUseTypes',\n",
       " 'LargestPropertyUseType',\n",
       " 'LargestPropertyUseTypeGFA',\n",
       " 'SecondLargestPropertyUseType',\n",
       " 'SecondLargestPropertyUseTypeGFA',\n",
       " 'ThirdLargestPropertyUseType',\n",
       " 'ThirdLargestPropertyUseTypeGFA',\n",
       " 'YearsENERGYSTARCertified',\n",
       " 'ENERGYSTARScore',\n",
       " 'SiteEUI(kBtu/sf)',\n",
       " 'SiteEUIWN(kBtu/sf)',\n",
       " 'SourceEUI(kBtu/sf)',\n",
       " 'SourceEUIWN(kBtu/sf)',\n",
       " 'SiteEnergyUse(kBtu)',\n",
       " 'SiteEnergyUseWN(kBtu)',\n",
       " 'SteamUse(kBtu)',\n",
       " 'Electricity(kWh)',\n",
       " 'Electricity(kBtu)',\n",
       " 'NaturalGas(therms)',\n",
       " 'NaturalGas(kBtu)',\n",
       " 'OtherFuelUse(kBtu)',\n",
       " 'GHGEmissions(MetricTonsCO2e)',\n",
       " 'GHGEmissionsIntensity(kgCO2e/ft2)',\n",
       " 'DefaultData',\n",
       " 'Comment',\n",
       " 'ComplianceStatus',\n",
       " 'Outlier',\n",
       " '2010 Census Tracts',\n",
       " 'Seattle Police Department Micro Community Policing Plan Areas',\n",
       " 'City Council Districts',\n",
       " 'SPD Beats',\n",
       " 'Zip Codes']"
      ]
     },
     "execution_count": 3,
     "metadata": {},
     "output_type": "execute_result"
    },
    {
     "data": {
      "application/javascript": [
       "\n",
       "            setTimeout(function() {\n",
       "                var nbb_cell_id = 3;\n",
       "                var nbb_unformatted_code = \"# Liste des diff\\u00e9rentes colonnes du Data Set\\n\\nlist(data1.columns)\";\n",
       "                var nbb_formatted_code = \"# Liste des diff\\u00e9rentes colonnes du Data Set\\n\\nlist(data1.columns)\";\n",
       "                var nbb_cells = Jupyter.notebook.get_cells();\n",
       "                for (var i = 0; i < nbb_cells.length; ++i) {\n",
       "                    if (nbb_cells[i].input_prompt_number == nbb_cell_id) {\n",
       "                        if (nbb_cells[i].get_text() == nbb_unformatted_code) {\n",
       "                             nbb_cells[i].set_text(nbb_formatted_code);\n",
       "                        }\n",
       "                        break;\n",
       "                    }\n",
       "                }\n",
       "            }, 500);\n",
       "            "
      ],
      "text/plain": [
       "<IPython.core.display.Javascript object>"
      ]
     },
     "metadata": {},
     "output_type": "display_data"
    }
   ],
   "source": [
    "# Liste des différentes colonnes du Data Set\n",
    "\n",
    "list(data1.columns)"
   ]
  },
  {
   "cell_type": "code",
   "execution_count": 4,
   "id": "fd7fe638",
   "metadata": {},
   "outputs": [
    {
     "data": {
      "text/plain": [
       "['OSEBuildingID',\n",
       " 'DataYear',\n",
       " 'BuildingType',\n",
       " 'PrimaryPropertyType',\n",
       " 'PropertyName',\n",
       " 'Address',\n",
       " 'City',\n",
       " 'State',\n",
       " 'ZipCode',\n",
       " 'TaxParcelIdentificationNumber',\n",
       " 'CouncilDistrictCode',\n",
       " 'Neighborhood',\n",
       " 'Latitude',\n",
       " 'Longitude',\n",
       " 'YearBuilt',\n",
       " 'NumberofBuildings',\n",
       " 'NumberofFloors',\n",
       " 'PropertyGFATotal',\n",
       " 'PropertyGFAParking',\n",
       " 'PropertyGFABuilding(s)',\n",
       " 'ListOfAllPropertyUseTypes',\n",
       " 'LargestPropertyUseType',\n",
       " 'LargestPropertyUseTypeGFA',\n",
       " 'SecondLargestPropertyUseType',\n",
       " 'SecondLargestPropertyUseTypeGFA',\n",
       " 'ThirdLargestPropertyUseType',\n",
       " 'ThirdLargestPropertyUseTypeGFA',\n",
       " 'YearsENERGYSTARCertified',\n",
       " 'ENERGYSTARScore',\n",
       " 'SiteEUI(kBtu/sf)',\n",
       " 'SiteEUIWN(kBtu/sf)',\n",
       " 'SourceEUI(kBtu/sf)',\n",
       " 'SourceEUIWN(kBtu/sf)',\n",
       " 'SiteEnergyUse(kBtu)',\n",
       " 'SiteEnergyUseWN(kBtu)',\n",
       " 'SteamUse(kBtu)',\n",
       " 'Electricity(kWh)',\n",
       " 'Electricity(kBtu)',\n",
       " 'NaturalGas(therms)',\n",
       " 'NaturalGas(kBtu)',\n",
       " 'DefaultData',\n",
       " 'Comments',\n",
       " 'ComplianceStatus',\n",
       " 'Outlier',\n",
       " 'TotalGHGEmissions',\n",
       " 'GHGEmissionsIntensity']"
      ]
     },
     "execution_count": 4,
     "metadata": {},
     "output_type": "execute_result"
    },
    {
     "data": {
      "application/javascript": [
       "\n",
       "            setTimeout(function() {\n",
       "                var nbb_cell_id = 4;\n",
       "                var nbb_unformatted_code = \"# Liste des diff\\u00e9rentes colonnes du Data Set\\n\\nlist(data2.columns)\";\n",
       "                var nbb_formatted_code = \"# Liste des diff\\u00e9rentes colonnes du Data Set\\n\\nlist(data2.columns)\";\n",
       "                var nbb_cells = Jupyter.notebook.get_cells();\n",
       "                for (var i = 0; i < nbb_cells.length; ++i) {\n",
       "                    if (nbb_cells[i].input_prompt_number == nbb_cell_id) {\n",
       "                        if (nbb_cells[i].get_text() == nbb_unformatted_code) {\n",
       "                             nbb_cells[i].set_text(nbb_formatted_code);\n",
       "                        }\n",
       "                        break;\n",
       "                    }\n",
       "                }\n",
       "            }, 500);\n",
       "            "
      ],
      "text/plain": [
       "<IPython.core.display.Javascript object>"
      ]
     },
     "metadata": {},
     "output_type": "display_data"
    }
   ],
   "source": [
    "# Liste des différentes colonnes du Data Set\n",
    "\n",
    "list(data2.columns)"
   ]
  },
  {
   "cell_type": "code",
   "execution_count": 5,
   "id": "317156d4",
   "metadata": {},
   "outputs": [
    {
     "data": {
      "application/javascript": [
       "\n",
       "            setTimeout(function() {\n",
       "                var nbb_cell_id = 5;\n",
       "                var nbb_unformatted_code = \"# Gr\\u00e2ce aux diff\\u00e9rentes colonnes deux deux datsets, nous pouvons modifi\\u00e9 les colonnes qui ont des noms diff\\u00e9rents alors que \\n# ce sont les m\\u00eames donn\\u00e9es. Et nous allons \\u00e9galement supprim\\u00e9 les colonnes qui ne nous int\\u00e9ressent pas pour notre \\u00e9tude.\\n\\ndel data1['2010 Census Tracts']\\ndel data1['Seattle Police Department Micro Community Policing Plan Areas']\\ndel data1['City Council Districts']\\ndel data1['SPD Beats']\\ndel data1['Zip Codes']\\ndel data1['Location']\\n\\ndel data2['Address']\\ndel data2['City']\\ndel data2['State']\\ndel data2['ZipCode']\\ndel data2['Latitude']\\ndel data2['Longitude']\\n\\n# J'ai d\\u00e9cid\\u00e9 de ne pas prendre en compte les donn\\u00e9es de localisation que sont la longitude et la latitude. Dans un premier\\n# temps, j'ai pr\\u00e9f\\u00e9re de garder que la variable Neighborhood, qui nous donne d\\u00e9j\\u00e0 une information sur la localisation\\n# du b\\u00e2timent\";\n",
       "                var nbb_formatted_code = \"# Gr\\u00e2ce aux diff\\u00e9rentes colonnes deux deux datsets, nous pouvons modifi\\u00e9 les colonnes qui ont des noms diff\\u00e9rents alors que\\n# ce sont les m\\u00eames donn\\u00e9es. Et nous allons \\u00e9galement supprim\\u00e9 les colonnes qui ne nous int\\u00e9ressent pas pour notre \\u00e9tude.\\n\\ndel data1[\\\"2010 Census Tracts\\\"]\\ndel data1[\\\"Seattle Police Department Micro Community Policing Plan Areas\\\"]\\ndel data1[\\\"City Council Districts\\\"]\\ndel data1[\\\"SPD Beats\\\"]\\ndel data1[\\\"Zip Codes\\\"]\\ndel data1[\\\"Location\\\"]\\n\\ndel data2[\\\"Address\\\"]\\ndel data2[\\\"City\\\"]\\ndel data2[\\\"State\\\"]\\ndel data2[\\\"ZipCode\\\"]\\ndel data2[\\\"Latitude\\\"]\\ndel data2[\\\"Longitude\\\"]\\n\\n# J'ai d\\u00e9cid\\u00e9 de ne pas prendre en compte les donn\\u00e9es de localisation que sont la longitude et la latitude. Dans un premier\\n# temps, j'ai pr\\u00e9f\\u00e9re de garder que la variable Neighborhood, qui nous donne d\\u00e9j\\u00e0 une information sur la localisation\\n# du b\\u00e2timent\";\n",
       "                var nbb_cells = Jupyter.notebook.get_cells();\n",
       "                for (var i = 0; i < nbb_cells.length; ++i) {\n",
       "                    if (nbb_cells[i].input_prompt_number == nbb_cell_id) {\n",
       "                        if (nbb_cells[i].get_text() == nbb_unformatted_code) {\n",
       "                             nbb_cells[i].set_text(nbb_formatted_code);\n",
       "                        }\n",
       "                        break;\n",
       "                    }\n",
       "                }\n",
       "            }, 500);\n",
       "            "
      ],
      "text/plain": [
       "<IPython.core.display.Javascript object>"
      ]
     },
     "metadata": {},
     "output_type": "display_data"
    }
   ],
   "source": [
    "# Grâce aux différentes colonnes deux deux datsets, nous pouvons modifié les colonnes qui ont des noms différents alors que\n",
    "# ce sont les mêmes données. Et nous allons également supprimé les colonnes qui ne nous intéressent pas pour notre étude.\n",
    "\n",
    "del data1[\"2010 Census Tracts\"]\n",
    "del data1[\"Seattle Police Department Micro Community Policing Plan Areas\"]\n",
    "del data1[\"City Council Districts\"]\n",
    "del data1[\"SPD Beats\"]\n",
    "del data1[\"Zip Codes\"]\n",
    "del data1[\"Location\"]\n",
    "\n",
    "del data2[\"Address\"]\n",
    "del data2[\"City\"]\n",
    "del data2[\"State\"]\n",
    "del data2[\"ZipCode\"]\n",
    "del data2[\"Latitude\"]\n",
    "del data2[\"Longitude\"]\n",
    "\n",
    "# J'ai décidé de ne pas prendre en compte les données de localisation que sont la longitude et la latitude. Dans un premier\n",
    "# temps, j'ai préfére de garder que la variable Neighborhood, qui nous donne déjà une information sur la localisation\n",
    "# du bâtiment"
   ]
  },
  {
   "cell_type": "code",
   "execution_count": 6,
   "id": "d3cdde1f",
   "metadata": {},
   "outputs": [
    {
     "data": {
      "application/javascript": [
       "\n",
       "            setTimeout(function() {\n",
       "                var nbb_cell_id = 6;\n",
       "                var nbb_unformatted_code = \"# Je change le nom des colonnes du deuxi\\u00e8me dataset.\\n\\ndata2 = data2.rename(columns = {'TotalGHGEmissions': 'GHGEmissions(MetricTonsCO2e)', 'GHGEmissionsIntensity': 'GHGEmissionsIntensity(kgCO2e/ft2)'})\";\n",
       "                var nbb_formatted_code = \"# Je change le nom des colonnes du deuxi\\u00e8me dataset.\\n\\ndata2 = data2.rename(\\n    columns={\\n        \\\"TotalGHGEmissions\\\": \\\"GHGEmissions(MetricTonsCO2e)\\\",\\n        \\\"GHGEmissionsIntensity\\\": \\\"GHGEmissionsIntensity(kgCO2e/ft2)\\\",\\n    }\\n)\";\n",
       "                var nbb_cells = Jupyter.notebook.get_cells();\n",
       "                for (var i = 0; i < nbb_cells.length; ++i) {\n",
       "                    if (nbb_cells[i].input_prompt_number == nbb_cell_id) {\n",
       "                        if (nbb_cells[i].get_text() == nbb_unformatted_code) {\n",
       "                             nbb_cells[i].set_text(nbb_formatted_code);\n",
       "                        }\n",
       "                        break;\n",
       "                    }\n",
       "                }\n",
       "            }, 500);\n",
       "            "
      ],
      "text/plain": [
       "<IPython.core.display.Javascript object>"
      ]
     },
     "metadata": {},
     "output_type": "display_data"
    }
   ],
   "source": [
    "# Je change le nom des colonnes du deuxième dataset.\n",
    "\n",
    "data2 = data2.rename(\n",
    "    columns={\n",
    "        \"TotalGHGEmissions\": \"GHGEmissions(MetricTonsCO2e)\",\n",
    "        \"GHGEmissionsIntensity\": \"GHGEmissionsIntensity(kgCO2e/ft2)\",\n",
    "    }\n",
    ")"
   ]
  },
  {
   "cell_type": "code",
   "execution_count": 7,
   "id": "b949fdd3",
   "metadata": {},
   "outputs": [
    {
     "data": {
      "application/javascript": [
       "\n",
       "            setTimeout(function() {\n",
       "                var nbb_cell_id = 7;\n",
       "                var nbb_unformatted_code = \"# Je fusionne les deux datasets pour n'en avoir plus qu'une seule.\\n\\ndata = pd.concat([data1, data2])\";\n",
       "                var nbb_formatted_code = \"# Je fusionne les deux datasets pour n'en avoir plus qu'une seule.\\n\\ndata = pd.concat([data1, data2])\";\n",
       "                var nbb_cells = Jupyter.notebook.get_cells();\n",
       "                for (var i = 0; i < nbb_cells.length; ++i) {\n",
       "                    if (nbb_cells[i].input_prompt_number == nbb_cell_id) {\n",
       "                        if (nbb_cells[i].get_text() == nbb_unformatted_code) {\n",
       "                             nbb_cells[i].set_text(nbb_formatted_code);\n",
       "                        }\n",
       "                        break;\n",
       "                    }\n",
       "                }\n",
       "            }, 500);\n",
       "            "
      ],
      "text/plain": [
       "<IPython.core.display.Javascript object>"
      ]
     },
     "metadata": {},
     "output_type": "display_data"
    }
   ],
   "source": [
    "# Je fusionne les deux datasets pour n'en avoir plus qu'une seule.\n",
    "\n",
    "data = pd.concat([data1, data2])"
   ]
  },
  {
   "cell_type": "code",
   "execution_count": 8,
   "id": "d0d9bf32",
   "metadata": {},
   "outputs": [
    {
     "data": {
      "text/html": [
       "<div>\n",
       "<style scoped>\n",
       "    .dataframe tbody tr th:only-of-type {\n",
       "        vertical-align: middle;\n",
       "    }\n",
       "\n",
       "    .dataframe tbody tr th {\n",
       "        vertical-align: top;\n",
       "    }\n",
       "\n",
       "    .dataframe thead th {\n",
       "        text-align: right;\n",
       "    }\n",
       "</style>\n",
       "<table border=\"1\" class=\"dataframe\">\n",
       "  <thead>\n",
       "    <tr style=\"text-align: right;\">\n",
       "      <th></th>\n",
       "      <th>OSEBuildingID</th>\n",
       "      <th>DataYear</th>\n",
       "      <th>BuildingType</th>\n",
       "      <th>PrimaryPropertyType</th>\n",
       "      <th>PropertyName</th>\n",
       "      <th>TaxParcelIdentificationNumber</th>\n",
       "      <th>CouncilDistrictCode</th>\n",
       "      <th>Neighborhood</th>\n",
       "      <th>YearBuilt</th>\n",
       "      <th>NumberofBuildings</th>\n",
       "      <th>...</th>\n",
       "      <th>NaturalGas(therms)</th>\n",
       "      <th>NaturalGas(kBtu)</th>\n",
       "      <th>OtherFuelUse(kBtu)</th>\n",
       "      <th>GHGEmissions(MetricTonsCO2e)</th>\n",
       "      <th>GHGEmissionsIntensity(kgCO2e/ft2)</th>\n",
       "      <th>DefaultData</th>\n",
       "      <th>Comment</th>\n",
       "      <th>ComplianceStatus</th>\n",
       "      <th>Outlier</th>\n",
       "      <th>Comments</th>\n",
       "    </tr>\n",
       "  </thead>\n",
       "  <tbody>\n",
       "    <tr>\n",
       "      <th>0</th>\n",
       "      <td>1</td>\n",
       "      <td>2015</td>\n",
       "      <td>NonResidential</td>\n",
       "      <td>Hotel</td>\n",
       "      <td>MAYFLOWER PARK HOTEL</td>\n",
       "      <td>659000030</td>\n",
       "      <td>7</td>\n",
       "      <td>DOWNTOWN</td>\n",
       "      <td>1927</td>\n",
       "      <td>1.0</td>\n",
       "      <td>...</td>\n",
       "      <td>12724.000000</td>\n",
       "      <td>1.272388e+06</td>\n",
       "      <td>0.0</td>\n",
       "      <td>249.43</td>\n",
       "      <td>2.64</td>\n",
       "      <td>No</td>\n",
       "      <td>NaN</td>\n",
       "      <td>Compliant</td>\n",
       "      <td>NaN</td>\n",
       "      <td>NaN</td>\n",
       "    </tr>\n",
       "    <tr>\n",
       "      <th>1</th>\n",
       "      <td>2</td>\n",
       "      <td>2015</td>\n",
       "      <td>NonResidential</td>\n",
       "      <td>Hotel</td>\n",
       "      <td>PARAMOUNT HOTEL</td>\n",
       "      <td>659000220</td>\n",
       "      <td>7</td>\n",
       "      <td>DOWNTOWN</td>\n",
       "      <td>1996</td>\n",
       "      <td>1.0</td>\n",
       "      <td>...</td>\n",
       "      <td>44490.000000</td>\n",
       "      <td>4.448985e+06</td>\n",
       "      <td>0.0</td>\n",
       "      <td>263.51</td>\n",
       "      <td>2.38</td>\n",
       "      <td>No</td>\n",
       "      <td>NaN</td>\n",
       "      <td>Compliant</td>\n",
       "      <td>NaN</td>\n",
       "      <td>NaN</td>\n",
       "    </tr>\n",
       "    <tr>\n",
       "      <th>2</th>\n",
       "      <td>3</td>\n",
       "      <td>2015</td>\n",
       "      <td>NonResidential</td>\n",
       "      <td>Hotel</td>\n",
       "      <td>WESTIN HOTEL</td>\n",
       "      <td>659000475</td>\n",
       "      <td>7</td>\n",
       "      <td>DOWNTOWN</td>\n",
       "      <td>1969</td>\n",
       "      <td>1.0</td>\n",
       "      <td>...</td>\n",
       "      <td>37099.000000</td>\n",
       "      <td>3.709900e+06</td>\n",
       "      <td>0.0</td>\n",
       "      <td>2061.48</td>\n",
       "      <td>1.92</td>\n",
       "      <td>Yes</td>\n",
       "      <td>NaN</td>\n",
       "      <td>Compliant</td>\n",
       "      <td>NaN</td>\n",
       "      <td>NaN</td>\n",
       "    </tr>\n",
       "    <tr>\n",
       "      <th>3</th>\n",
       "      <td>5</td>\n",
       "      <td>2015</td>\n",
       "      <td>NonResidential</td>\n",
       "      <td>Hotel</td>\n",
       "      <td>HOTEL MAX</td>\n",
       "      <td>659000640</td>\n",
       "      <td>7</td>\n",
       "      <td>DOWNTOWN</td>\n",
       "      <td>1926</td>\n",
       "      <td>1.0</td>\n",
       "      <td>...</td>\n",
       "      <td>20019.000000</td>\n",
       "      <td>2.001894e+06</td>\n",
       "      <td>0.0</td>\n",
       "      <td>1936.34</td>\n",
       "      <td>31.38</td>\n",
       "      <td>No</td>\n",
       "      <td>NaN</td>\n",
       "      <td>Compliant</td>\n",
       "      <td>High Outlier</td>\n",
       "      <td>NaN</td>\n",
       "    </tr>\n",
       "    <tr>\n",
       "      <th>4</th>\n",
       "      <td>8</td>\n",
       "      <td>2015</td>\n",
       "      <td>NonResidential</td>\n",
       "      <td>Hotel</td>\n",
       "      <td>WARWICK SEATTLE HOTEL</td>\n",
       "      <td>659000970</td>\n",
       "      <td>7</td>\n",
       "      <td>DOWNTOWN</td>\n",
       "      <td>1980</td>\n",
       "      <td>1.0</td>\n",
       "      <td>...</td>\n",
       "      <td>87631.000000</td>\n",
       "      <td>8.763105e+06</td>\n",
       "      <td>0.0</td>\n",
       "      <td>507.70</td>\n",
       "      <td>4.02</td>\n",
       "      <td>No</td>\n",
       "      <td>NaN</td>\n",
       "      <td>Compliant</td>\n",
       "      <td>NaN</td>\n",
       "      <td>NaN</td>\n",
       "    </tr>\n",
       "    <tr>\n",
       "      <th>...</th>\n",
       "      <td>...</td>\n",
       "      <td>...</td>\n",
       "      <td>...</td>\n",
       "      <td>...</td>\n",
       "      <td>...</td>\n",
       "      <td>...</td>\n",
       "      <td>...</td>\n",
       "      <td>...</td>\n",
       "      <td>...</td>\n",
       "      <td>...</td>\n",
       "      <td>...</td>\n",
       "      <td>...</td>\n",
       "      <td>...</td>\n",
       "      <td>...</td>\n",
       "      <td>...</td>\n",
       "      <td>...</td>\n",
       "      <td>...</td>\n",
       "      <td>...</td>\n",
       "      <td>...</td>\n",
       "      <td>...</td>\n",
       "      <td>...</td>\n",
       "    </tr>\n",
       "    <tr>\n",
       "      <th>3371</th>\n",
       "      <td>50222</td>\n",
       "      <td>2016</td>\n",
       "      <td>Nonresidential COS</td>\n",
       "      <td>Office</td>\n",
       "      <td>Horticulture building</td>\n",
       "      <td>1624049080</td>\n",
       "      <td>2</td>\n",
       "      <td>GREATER DUWAMISH</td>\n",
       "      <td>1990</td>\n",
       "      <td>1.0</td>\n",
       "      <td>...</td>\n",
       "      <td>3254.750244</td>\n",
       "      <td>3.254750e+05</td>\n",
       "      <td>NaN</td>\n",
       "      <td>20.94</td>\n",
       "      <td>1.70</td>\n",
       "      <td>True</td>\n",
       "      <td>NaN</td>\n",
       "      <td>Error - Correct Default Data</td>\n",
       "      <td>NaN</td>\n",
       "      <td>NaN</td>\n",
       "    </tr>\n",
       "    <tr>\n",
       "      <th>3372</th>\n",
       "      <td>50223</td>\n",
       "      <td>2016</td>\n",
       "      <td>Nonresidential COS</td>\n",
       "      <td>Other</td>\n",
       "      <td>International district/Chinatown CC</td>\n",
       "      <td>3558300000</td>\n",
       "      <td>2</td>\n",
       "      <td>DOWNTOWN</td>\n",
       "      <td>2004</td>\n",
       "      <td>1.0</td>\n",
       "      <td>...</td>\n",
       "      <td>5537.299805</td>\n",
       "      <td>5.537300e+05</td>\n",
       "      <td>NaN</td>\n",
       "      <td>32.17</td>\n",
       "      <td>2.01</td>\n",
       "      <td>False</td>\n",
       "      <td>NaN</td>\n",
       "      <td>Compliant</td>\n",
       "      <td>NaN</td>\n",
       "      <td>NaN</td>\n",
       "    </tr>\n",
       "    <tr>\n",
       "      <th>3373</th>\n",
       "      <td>50224</td>\n",
       "      <td>2016</td>\n",
       "      <td>Nonresidential COS</td>\n",
       "      <td>Other</td>\n",
       "      <td>Queen Anne Pool</td>\n",
       "      <td>1794501150</td>\n",
       "      <td>7</td>\n",
       "      <td>MAGNOLIA / QUEEN ANNE</td>\n",
       "      <td>1974</td>\n",
       "      <td>1.0</td>\n",
       "      <td>...</td>\n",
       "      <td>39737.390630</td>\n",
       "      <td>3.973739e+06</td>\n",
       "      <td>NaN</td>\n",
       "      <td>223.54</td>\n",
       "      <td>16.99</td>\n",
       "      <td>False</td>\n",
       "      <td>NaN</td>\n",
       "      <td>Compliant</td>\n",
       "      <td>NaN</td>\n",
       "      <td>NaN</td>\n",
       "    </tr>\n",
       "    <tr>\n",
       "      <th>3374</th>\n",
       "      <td>50225</td>\n",
       "      <td>2016</td>\n",
       "      <td>Nonresidential COS</td>\n",
       "      <td>Mixed Use Property</td>\n",
       "      <td>South Park Community Center</td>\n",
       "      <td>7883603155</td>\n",
       "      <td>1</td>\n",
       "      <td>GREATER DUWAMISH</td>\n",
       "      <td>1989</td>\n",
       "      <td>1.0</td>\n",
       "      <td>...</td>\n",
       "      <td>3706.010010</td>\n",
       "      <td>3.706010e+05</td>\n",
       "      <td>NaN</td>\n",
       "      <td>22.11</td>\n",
       "      <td>1.57</td>\n",
       "      <td>False</td>\n",
       "      <td>NaN</td>\n",
       "      <td>Compliant</td>\n",
       "      <td>NaN</td>\n",
       "      <td>NaN</td>\n",
       "    </tr>\n",
       "    <tr>\n",
       "      <th>3375</th>\n",
       "      <td>50226</td>\n",
       "      <td>2016</td>\n",
       "      <td>Nonresidential COS</td>\n",
       "      <td>Mixed Use Property</td>\n",
       "      <td>Van Asselt Community Center</td>\n",
       "      <td>7857002030</td>\n",
       "      <td>2</td>\n",
       "      <td>GREATER DUWAMISH</td>\n",
       "      <td>1938</td>\n",
       "      <td>1.0</td>\n",
       "      <td>...</td>\n",
       "      <td>7203.419922</td>\n",
       "      <td>7.203420e+05</td>\n",
       "      <td>NaN</td>\n",
       "      <td>41.27</td>\n",
       "      <td>2.26</td>\n",
       "      <td>False</td>\n",
       "      <td>NaN</td>\n",
       "      <td>Compliant</td>\n",
       "      <td>NaN</td>\n",
       "      <td>NaN</td>\n",
       "    </tr>\n",
       "  </tbody>\n",
       "</table>\n",
       "<p>6716 rows × 42 columns</p>\n",
       "</div>"
      ],
      "text/plain": [
       "      OSEBuildingID  DataYear        BuildingType PrimaryPropertyType  \\\n",
       "0                 1      2015      NonResidential               Hotel   \n",
       "1                 2      2015      NonResidential               Hotel   \n",
       "2                 3      2015      NonResidential               Hotel   \n",
       "3                 5      2015      NonResidential               Hotel   \n",
       "4                 8      2015      NonResidential               Hotel   \n",
       "...             ...       ...                 ...                 ...   \n",
       "3371          50222      2016  Nonresidential COS              Office   \n",
       "3372          50223      2016  Nonresidential COS               Other   \n",
       "3373          50224      2016  Nonresidential COS               Other   \n",
       "3374          50225      2016  Nonresidential COS  Mixed Use Property   \n",
       "3375          50226      2016  Nonresidential COS  Mixed Use Property   \n",
       "\n",
       "                             PropertyName TaxParcelIdentificationNumber  \\\n",
       "0                    MAYFLOWER PARK HOTEL                     659000030   \n",
       "1                         PARAMOUNT HOTEL                     659000220   \n",
       "2                            WESTIN HOTEL                     659000475   \n",
       "3                               HOTEL MAX                     659000640   \n",
       "4                   WARWICK SEATTLE HOTEL                     659000970   \n",
       "...                                   ...                           ...   \n",
       "3371                Horticulture building                    1624049080   \n",
       "3372  International district/Chinatown CC                    3558300000   \n",
       "3373                      Queen Anne Pool                    1794501150   \n",
       "3374          South Park Community Center                    7883603155   \n",
       "3375          Van Asselt Community Center                    7857002030   \n",
       "\n",
       "      CouncilDistrictCode           Neighborhood  YearBuilt  \\\n",
       "0                       7               DOWNTOWN       1927   \n",
       "1                       7               DOWNTOWN       1996   \n",
       "2                       7               DOWNTOWN       1969   \n",
       "3                       7               DOWNTOWN       1926   \n",
       "4                       7               DOWNTOWN       1980   \n",
       "...                   ...                    ...        ...   \n",
       "3371                    2       GREATER DUWAMISH       1990   \n",
       "3372                    2               DOWNTOWN       2004   \n",
       "3373                    7  MAGNOLIA / QUEEN ANNE       1974   \n",
       "3374                    1       GREATER DUWAMISH       1989   \n",
       "3375                    2       GREATER DUWAMISH       1938   \n",
       "\n",
       "      NumberofBuildings  ...  NaturalGas(therms)  NaturalGas(kBtu)  \\\n",
       "0                   1.0  ...        12724.000000      1.272388e+06   \n",
       "1                   1.0  ...        44490.000000      4.448985e+06   \n",
       "2                   1.0  ...        37099.000000      3.709900e+06   \n",
       "3                   1.0  ...        20019.000000      2.001894e+06   \n",
       "4                   1.0  ...        87631.000000      8.763105e+06   \n",
       "...                 ...  ...                 ...               ...   \n",
       "3371                1.0  ...         3254.750244      3.254750e+05   \n",
       "3372                1.0  ...         5537.299805      5.537300e+05   \n",
       "3373                1.0  ...        39737.390630      3.973739e+06   \n",
       "3374                1.0  ...         3706.010010      3.706010e+05   \n",
       "3375                1.0  ...         7203.419922      7.203420e+05   \n",
       "\n",
       "      OtherFuelUse(kBtu)  GHGEmissions(MetricTonsCO2e)  \\\n",
       "0                    0.0                        249.43   \n",
       "1                    0.0                        263.51   \n",
       "2                    0.0                       2061.48   \n",
       "3                    0.0                       1936.34   \n",
       "4                    0.0                        507.70   \n",
       "...                  ...                           ...   \n",
       "3371                 NaN                         20.94   \n",
       "3372                 NaN                         32.17   \n",
       "3373                 NaN                        223.54   \n",
       "3374                 NaN                         22.11   \n",
       "3375                 NaN                         41.27   \n",
       "\n",
       "     GHGEmissionsIntensity(kgCO2e/ft2) DefaultData  Comment  \\\n",
       "0                                 2.64          No      NaN   \n",
       "1                                 2.38          No      NaN   \n",
       "2                                 1.92         Yes      NaN   \n",
       "3                                31.38          No      NaN   \n",
       "4                                 4.02          No      NaN   \n",
       "...                                ...         ...      ...   \n",
       "3371                              1.70        True      NaN   \n",
       "3372                              2.01       False      NaN   \n",
       "3373                             16.99       False      NaN   \n",
       "3374                              1.57       False      NaN   \n",
       "3375                              2.26       False      NaN   \n",
       "\n",
       "                  ComplianceStatus       Outlier Comments  \n",
       "0                        Compliant           NaN      NaN  \n",
       "1                        Compliant           NaN      NaN  \n",
       "2                        Compliant           NaN      NaN  \n",
       "3                        Compliant  High Outlier      NaN  \n",
       "4                        Compliant           NaN      NaN  \n",
       "...                            ...           ...      ...  \n",
       "3371  Error - Correct Default Data           NaN      NaN  \n",
       "3372                     Compliant           NaN      NaN  \n",
       "3373                     Compliant           NaN      NaN  \n",
       "3374                     Compliant           NaN      NaN  \n",
       "3375                     Compliant           NaN      NaN  \n",
       "\n",
       "[6716 rows x 42 columns]"
      ]
     },
     "execution_count": 8,
     "metadata": {},
     "output_type": "execute_result"
    },
    {
     "data": {
      "application/javascript": [
       "\n",
       "            setTimeout(function() {\n",
       "                var nbb_cell_id = 8;\n",
       "                var nbb_unformatted_code = \"data\";\n",
       "                var nbb_formatted_code = \"data\";\n",
       "                var nbb_cells = Jupyter.notebook.get_cells();\n",
       "                for (var i = 0; i < nbb_cells.length; ++i) {\n",
       "                    if (nbb_cells[i].input_prompt_number == nbb_cell_id) {\n",
       "                        if (nbb_cells[i].get_text() == nbb_unformatted_code) {\n",
       "                             nbb_cells[i].set_text(nbb_formatted_code);\n",
       "                        }\n",
       "                        break;\n",
       "                    }\n",
       "                }\n",
       "            }, 500);\n",
       "            "
      ],
      "text/plain": [
       "<IPython.core.display.Javascript object>"
      ]
     },
     "metadata": {},
     "output_type": "display_data"
    }
   ],
   "source": [
    "data"
   ]
  },
  {
   "cell_type": "code",
   "execution_count": 9,
   "id": "55809e7d",
   "metadata": {},
   "outputs": [
    {
     "name": "stderr",
     "output_type": "stream",
     "text": [
      "C:\\Users\\antoi\\miniconda3\\envs\\Test\\lib\\site-packages\\pandas\\core\\frame.py:4308: SettingWithCopyWarning: \n",
      "A value is trying to be set on a copy of a slice from a DataFrame\n",
      "\n",
      "See the caveats in the documentation: https://pandas.pydata.org/pandas-docs/stable/user_guide/indexing.html#returning-a-view-versus-a-copy\n",
      "  return super().drop(\n"
     ]
    },
    {
     "data": {
      "application/javascript": [
       "\n",
       "            setTimeout(function() {\n",
       "                var nbb_cell_id = 9;\n",
       "                var nbb_unformatted_code = \"# Comme nous avons fusionn\\u00e9 les deux datasets, il est possible que certains b\\u00e2timents apparaissent deux fois. \\n# Nous allons alors calcul\\u00e9 la moyenne sur les deux ann\\u00e9es. Ceci nous permettra de supprimer les potentiels doublons\\n\\nmean_columns = ['NumberofBuildings', 'NumberofFloors', 'PropertyGFATotal',\\n                'PropertyGFAParking', 'PropertyGFABuilding(s)',\\n                'LargestPropertyUseTypeGFA', 'SecondLargestPropertyUseTypeGFA',\\n                'ThirdLargestPropertyUseTypeGFA', 'ENERGYSTARScore', 'SiteEUI(kBtu/sf)',\\n                'SiteEUIWN(kBtu/sf)', 'SourceEUI(kBtu/sf)', 'SourceEUIWN(kBtu/sf)',\\n                'SiteEnergyUse(kBtu)', 'SiteEnergyUseWN(kBtu)', 'SteamUse(kBtu)',\\n                'Electricity(kWh)', 'Electricity(kBtu)', 'NaturalGas(therms)',\\n                'NaturalGas(kBtu)', 'GHGEmissions(MetricTonsCO2e)','GHGEmissionsIntensity(kgCO2e/ft2)']\\n\\nOSEBuilding_means = data[['OSEBuildingID']+mean_columns].groupby('OSEBuildingID').mean()\\nOSEBuilding_means.head()\\n\\nduplicate_building = data.drop_duplicates(subset=['OSEBuildingID'], keep='last')\\nduplicate_building.drop(mean_columns, axis=1, inplace=True)\\ndata = pd.merge(duplicate_building, OSEBuilding_means, how='left', on='OSEBuildingID')\";\n",
       "                var nbb_formatted_code = \"# Comme nous avons fusionn\\u00e9 les deux datasets, il est possible que certains b\\u00e2timents apparaissent deux fois.\\n# Nous allons alors calcul\\u00e9 la moyenne sur les deux ann\\u00e9es. Ceci nous permettra de supprimer les potentiels doublons\\n\\nmean_columns = [\\n    \\\"NumberofBuildings\\\",\\n    \\\"NumberofFloors\\\",\\n    \\\"PropertyGFATotal\\\",\\n    \\\"PropertyGFAParking\\\",\\n    \\\"PropertyGFABuilding(s)\\\",\\n    \\\"LargestPropertyUseTypeGFA\\\",\\n    \\\"SecondLargestPropertyUseTypeGFA\\\",\\n    \\\"ThirdLargestPropertyUseTypeGFA\\\",\\n    \\\"ENERGYSTARScore\\\",\\n    \\\"SiteEUI(kBtu/sf)\\\",\\n    \\\"SiteEUIWN(kBtu/sf)\\\",\\n    \\\"SourceEUI(kBtu/sf)\\\",\\n    \\\"SourceEUIWN(kBtu/sf)\\\",\\n    \\\"SiteEnergyUse(kBtu)\\\",\\n    \\\"SiteEnergyUseWN(kBtu)\\\",\\n    \\\"SteamUse(kBtu)\\\",\\n    \\\"Electricity(kWh)\\\",\\n    \\\"Electricity(kBtu)\\\",\\n    \\\"NaturalGas(therms)\\\",\\n    \\\"NaturalGas(kBtu)\\\",\\n    \\\"GHGEmissions(MetricTonsCO2e)\\\",\\n    \\\"GHGEmissionsIntensity(kgCO2e/ft2)\\\",\\n]\\n\\nOSEBuilding_means = (\\n    data[[\\\"OSEBuildingID\\\"] + mean_columns].groupby(\\\"OSEBuildingID\\\").mean()\\n)\\nOSEBuilding_means.head()\\n\\nduplicate_building = data.drop_duplicates(subset=[\\\"OSEBuildingID\\\"], keep=\\\"last\\\")\\nduplicate_building.drop(mean_columns, axis=1, inplace=True)\\ndata = pd.merge(duplicate_building, OSEBuilding_means, how=\\\"left\\\", on=\\\"OSEBuildingID\\\")\";\n",
       "                var nbb_cells = Jupyter.notebook.get_cells();\n",
       "                for (var i = 0; i < nbb_cells.length; ++i) {\n",
       "                    if (nbb_cells[i].input_prompt_number == nbb_cell_id) {\n",
       "                        if (nbb_cells[i].get_text() == nbb_unformatted_code) {\n",
       "                             nbb_cells[i].set_text(nbb_formatted_code);\n",
       "                        }\n",
       "                        break;\n",
       "                    }\n",
       "                }\n",
       "            }, 500);\n",
       "            "
      ],
      "text/plain": [
       "<IPython.core.display.Javascript object>"
      ]
     },
     "metadata": {},
     "output_type": "display_data"
    }
   ],
   "source": [
    "# Comme nous avons fusionné les deux datasets, il est possible que certains bâtiments apparaissent deux fois.\n",
    "# Nous allons alors calculé la moyenne sur les deux années. Ceci nous permettra de supprimer les potentiels doublons\n",
    "\n",
    "mean_columns = [\n",
    "    \"NumberofBuildings\",\n",
    "    \"NumberofFloors\",\n",
    "    \"PropertyGFATotal\",\n",
    "    \"PropertyGFAParking\",\n",
    "    \"PropertyGFABuilding(s)\",\n",
    "    \"LargestPropertyUseTypeGFA\",\n",
    "    \"SecondLargestPropertyUseTypeGFA\",\n",
    "    \"ThirdLargestPropertyUseTypeGFA\",\n",
    "    \"ENERGYSTARScore\",\n",
    "    \"SiteEUI(kBtu/sf)\",\n",
    "    \"SiteEUIWN(kBtu/sf)\",\n",
    "    \"SourceEUI(kBtu/sf)\",\n",
    "    \"SourceEUIWN(kBtu/sf)\",\n",
    "    \"SiteEnergyUse(kBtu)\",\n",
    "    \"SiteEnergyUseWN(kBtu)\",\n",
    "    \"SteamUse(kBtu)\",\n",
    "    \"Electricity(kWh)\",\n",
    "    \"Electricity(kBtu)\",\n",
    "    \"NaturalGas(therms)\",\n",
    "    \"NaturalGas(kBtu)\",\n",
    "    \"GHGEmissions(MetricTonsCO2e)\",\n",
    "    \"GHGEmissionsIntensity(kgCO2e/ft2)\",\n",
    "]\n",
    "\n",
    "OSEBuilding_means = (\n",
    "    data[[\"OSEBuildingID\"] + mean_columns].groupby(\"OSEBuildingID\").mean()\n",
    ")\n",
    "OSEBuilding_means.head()\n",
    "\n",
    "duplicate_building = data.drop_duplicates(subset=[\"OSEBuildingID\"], keep=\"last\")\n",
    "duplicate_building.drop(mean_columns, axis=1, inplace=True)\n",
    "data = pd.merge(duplicate_building, OSEBuilding_means, how=\"left\", on=\"OSEBuildingID\")"
   ]
  },
  {
   "cell_type": "code",
   "execution_count": 10,
   "id": "fda55ef5",
   "metadata": {},
   "outputs": [
    {
     "data": {
      "text/html": [
       "<div>\n",
       "<style scoped>\n",
       "    .dataframe tbody tr th:only-of-type {\n",
       "        vertical-align: middle;\n",
       "    }\n",
       "\n",
       "    .dataframe tbody tr th {\n",
       "        vertical-align: top;\n",
       "    }\n",
       "\n",
       "    .dataframe thead th {\n",
       "        text-align: right;\n",
       "    }\n",
       "</style>\n",
       "<table border=\"1\" class=\"dataframe\">\n",
       "  <thead>\n",
       "    <tr style=\"text-align: right;\">\n",
       "      <th></th>\n",
       "      <th>OSEBuildingID</th>\n",
       "      <th>DataYear</th>\n",
       "      <th>CouncilDistrictCode</th>\n",
       "      <th>YearBuilt</th>\n",
       "      <th>OtherFuelUse(kBtu)</th>\n",
       "      <th>Comments</th>\n",
       "      <th>NumberofBuildings</th>\n",
       "      <th>NumberofFloors</th>\n",
       "      <th>PropertyGFATotal</th>\n",
       "      <th>PropertyGFAParking</th>\n",
       "      <th>PropertyGFABuilding(s)</th>\n",
       "      <th>LargestPropertyUseTypeGFA</th>\n",
       "      <th>SecondLargestPropertyUseTypeGFA</th>\n",
       "      <th>ThirdLargestPropertyUseTypeGFA</th>\n",
       "      <th>ENERGYSTARScore</th>\n",
       "      <th>SiteEUI(kBtu/sf)</th>\n",
       "      <th>SiteEUIWN(kBtu/sf)</th>\n",
       "      <th>SourceEUI(kBtu/sf)</th>\n",
       "      <th>SourceEUIWN(kBtu/sf)</th>\n",
       "      <th>SiteEnergyUse(kBtu)</th>\n",
       "      <th>SiteEnergyUseWN(kBtu)</th>\n",
       "      <th>SteamUse(kBtu)</th>\n",
       "      <th>Electricity(kWh)</th>\n",
       "      <th>Electricity(kBtu)</th>\n",
       "      <th>NaturalGas(therms)</th>\n",
       "      <th>NaturalGas(kBtu)</th>\n",
       "      <th>GHGEmissions(MetricTonsCO2e)</th>\n",
       "      <th>GHGEmissionsIntensity(kgCO2e/ft2)</th>\n",
       "    </tr>\n",
       "  </thead>\n",
       "  <tbody>\n",
       "    <tr>\n",
       "      <th>count</th>\n",
       "      <td>3432.000000</td>\n",
       "      <td>3432.000000</td>\n",
       "      <td>3432.000000</td>\n",
       "      <td>3432.000000</td>\n",
       "      <td>55.000000</td>\n",
       "      <td>0.0</td>\n",
       "      <td>3431.000000</td>\n",
       "      <td>3432.000000</td>\n",
       "      <td>3.432000e+03</td>\n",
       "      <td>3432.000000</td>\n",
       "      <td>3.432000e+03</td>\n",
       "      <td>3.402000e+03</td>\n",
       "      <td>1704.000000</td>\n",
       "      <td>607.000000</td>\n",
       "      <td>2656.000000</td>\n",
       "      <td>3429.000000</td>\n",
       "      <td>3429.000000</td>\n",
       "      <td>3428.000000</td>\n",
       "      <td>3428.000000</td>\n",
       "      <td>3.429000e+03</td>\n",
       "      <td>3.429000e+03</td>\n",
       "      <td>3.428000e+03</td>\n",
       "      <td>3.428000e+03</td>\n",
       "      <td>3.428000e+03</td>\n",
       "      <td>3.428000e+03</td>\n",
       "      <td>3.428000e+03</td>\n",
       "      <td>3428.000000</td>\n",
       "      <td>3428.000000</td>\n",
       "    </tr>\n",
       "    <tr>\n",
       "      <th>mean</th>\n",
       "      <td>21184.746795</td>\n",
       "      <td>2015.983683</td>\n",
       "      <td>4.448135</td>\n",
       "      <td>1968.360140</td>\n",
       "      <td>3238.072727</td>\n",
       "      <td>NaN</td>\n",
       "      <td>1.087875</td>\n",
       "      <td>4.688228</td>\n",
       "      <td>9.447183e+04</td>\n",
       "      <td>9651.224068</td>\n",
       "      <td>8.482061e+04</td>\n",
       "      <td>7.921153e+04</td>\n",
       "      <td>28497.813467</td>\n",
       "      <td>11660.911531</td>\n",
       "      <td>68.116717</td>\n",
       "      <td>54.445859</td>\n",
       "      <td>57.489341</td>\n",
       "      <td>133.943174</td>\n",
       "      <td>138.589950</td>\n",
       "      <td>5.398222e+06</td>\n",
       "      <td>5.311222e+06</td>\n",
       "      <td>2.737963e+05</td>\n",
       "      <td>1.087418e+06</td>\n",
       "      <td>3.710342e+06</td>\n",
       "      <td>1.361560e+04</td>\n",
       "      <td>1.361560e+06</td>\n",
       "      <td>119.311982</td>\n",
       "      <td>1.092922</td>\n",
       "    </tr>\n",
       "    <tr>\n",
       "      <th>std</th>\n",
       "      <td>12211.835092</td>\n",
       "      <td>0.126710</td>\n",
       "      <td>2.119483</td>\n",
       "      <td>33.182901</td>\n",
       "      <td>24014.190061</td>\n",
       "      <td>NaN</td>\n",
       "      <td>1.992205</td>\n",
       "      <td>5.458473</td>\n",
       "      <td>2.172062e+05</td>\n",
       "      <td>32953.838541</td>\n",
       "      <td>2.048840e+05</td>\n",
       "      <td>2.011318e+05</td>\n",
       "      <td>54202.216986</td>\n",
       "      <td>29021.209831</td>\n",
       "      <td>26.377049</td>\n",
       "      <td>55.895447</td>\n",
       "      <td>57.157732</td>\n",
       "      <td>137.744473</td>\n",
       "      <td>137.275549</td>\n",
       "      <td>2.152855e+07</td>\n",
       "      <td>1.595773e+07</td>\n",
       "      <td>3.795683e+06</td>\n",
       "      <td>4.332754e+06</td>\n",
       "      <td>1.478348e+07</td>\n",
       "      <td>6.729292e+04</td>\n",
       "      <td>6.729292e+06</td>\n",
       "      <td>534.287074</td>\n",
       "      <td>1.769338</td>\n",
       "    </tr>\n",
       "    <tr>\n",
       "      <th>min</th>\n",
       "      <td>1.000000</td>\n",
       "      <td>2015.000000</td>\n",
       "      <td>1.000000</td>\n",
       "      <td>1900.000000</td>\n",
       "      <td>0.000000</td>\n",
       "      <td>NaN</td>\n",
       "      <td>0.500000</td>\n",
       "      <td>0.000000</td>\n",
       "      <td>1.128500e+04</td>\n",
       "      <td>-1.500000</td>\n",
       "      <td>-8.451000e+03</td>\n",
       "      <td>6.455000e+03</td>\n",
       "      <td>0.000000</td>\n",
       "      <td>0.000000</td>\n",
       "      <td>1.000000</td>\n",
       "      <td>0.000000</td>\n",
       "      <td>0.000000</td>\n",
       "      <td>0.000000</td>\n",
       "      <td>-2.050000</td>\n",
       "      <td>0.000000e+00</td>\n",
       "      <td>0.000000e+00</td>\n",
       "      <td>0.000000e+00</td>\n",
       "      <td>2.000000e+00</td>\n",
       "      <td>7.000000e+00</td>\n",
       "      <td>0.000000e+00</td>\n",
       "      <td>0.000000e+00</td>\n",
       "      <td>0.090000</td>\n",
       "      <td>0.000000</td>\n",
       "    </tr>\n",
       "    <tr>\n",
       "      <th>25%</th>\n",
       "      <td>19974.250000</td>\n",
       "      <td>2016.000000</td>\n",
       "      <td>3.000000</td>\n",
       "      <td>1948.000000</td>\n",
       "      <td>0.000000</td>\n",
       "      <td>NaN</td>\n",
       "      <td>1.000000</td>\n",
       "      <td>2.000000</td>\n",
       "      <td>2.846350e+04</td>\n",
       "      <td>0.000000</td>\n",
       "      <td>2.726825e+04</td>\n",
       "      <td>2.505300e+04</td>\n",
       "      <td>5000.000000</td>\n",
       "      <td>2275.500000</td>\n",
       "      <td>52.500000</td>\n",
       "      <td>27.850000</td>\n",
       "      <td>29.600000</td>\n",
       "      <td>74.287500</td>\n",
       "      <td>79.500000</td>\n",
       "      <td>9.293272e+05</td>\n",
       "      <td>9.898913e+05</td>\n",
       "      <td>0.000000e+00</td>\n",
       "      <td>1.859820e+05</td>\n",
       "      <td>6.345736e+05</td>\n",
       "      <td>0.000000e+00</td>\n",
       "      <td>0.000000e+00</td>\n",
       "      <td>9.568750</td>\n",
       "      <td>0.150000</td>\n",
       "    </tr>\n",
       "    <tr>\n",
       "      <th>50%</th>\n",
       "      <td>23109.500000</td>\n",
       "      <td>2016.000000</td>\n",
       "      <td>4.000000</td>\n",
       "      <td>1974.000000</td>\n",
       "      <td>0.000000</td>\n",
       "      <td>NaN</td>\n",
       "      <td>1.000000</td>\n",
       "      <td>4.000000</td>\n",
       "      <td>4.419500e+04</td>\n",
       "      <td>0.000000</td>\n",
       "      <td>4.213725e+04</td>\n",
       "      <td>3.986750e+04</td>\n",
       "      <td>10725.500000</td>\n",
       "      <td>5000.000000</td>\n",
       "      <td>75.500000</td>\n",
       "      <td>38.100001</td>\n",
       "      <td>40.650001</td>\n",
       "      <td>95.900000</td>\n",
       "      <td>101.599999</td>\n",
       "      <td>1.792235e+06</td>\n",
       "      <td>1.940694e+06</td>\n",
       "      <td>0.000000e+00</td>\n",
       "      <td>3.440100e+05</td>\n",
       "      <td>1.173787e+06</td>\n",
       "      <td>3.211758e+03</td>\n",
       "      <td>3.211605e+05</td>\n",
       "      <td>33.842500</td>\n",
       "      <td>0.545000</td>\n",
       "    </tr>\n",
       "    <tr>\n",
       "      <th>75%</th>\n",
       "      <td>25976.500000</td>\n",
       "      <td>2016.000000</td>\n",
       "      <td>7.000000</td>\n",
       "      <td>1997.000000</td>\n",
       "      <td>0.000000</td>\n",
       "      <td>NaN</td>\n",
       "      <td>1.000000</td>\n",
       "      <td>5.000000</td>\n",
       "      <td>9.044875e+04</td>\n",
       "      <td>2890.250000</td>\n",
       "      <td>8.192375e+04</td>\n",
       "      <td>7.557300e+04</td>\n",
       "      <td>26797.250000</td>\n",
       "      <td>10182.500000</td>\n",
       "      <td>89.625000</td>\n",
       "      <td>60.050000</td>\n",
       "      <td>64.750001</td>\n",
       "      <td>144.150000</td>\n",
       "      <td>149.900002</td>\n",
       "      <td>4.195498e+06</td>\n",
       "      <td>4.402542e+06</td>\n",
       "      <td>0.000000e+00</td>\n",
       "      <td>8.214296e+05</td>\n",
       "      <td>2.802775e+06</td>\n",
       "      <td>1.152796e+04</td>\n",
       "      <td>1.152789e+06</td>\n",
       "      <td>91.890000</td>\n",
       "      <td>1.290000</td>\n",
       "    </tr>\n",
       "    <tr>\n",
       "      <th>max</th>\n",
       "      <td>50226.000000</td>\n",
       "      <td>2016.000000</td>\n",
       "      <td>7.000000</td>\n",
       "      <td>2015.000000</td>\n",
       "      <td>178094.000000</td>\n",
       "      <td>NaN</td>\n",
       "      <td>111.000000</td>\n",
       "      <td>99.000000</td>\n",
       "      <td>9.320156e+06</td>\n",
       "      <td>512608.000000</td>\n",
       "      <td>9.320156e+06</td>\n",
       "      <td>9.320156e+06</td>\n",
       "      <td>686750.000000</td>\n",
       "      <td>459748.000000</td>\n",
       "      <td>100.000000</td>\n",
       "      <td>834.400024</td>\n",
       "      <td>834.400024</td>\n",
       "      <td>2620.000000</td>\n",
       "      <td>2620.000000</td>\n",
       "      <td>8.739237e+08</td>\n",
       "      <td>4.716139e+08</td>\n",
       "      <td>1.314066e+08</td>\n",
       "      <td>1.925775e+08</td>\n",
       "      <td>6.570744e+08</td>\n",
       "      <td>2.979090e+06</td>\n",
       "      <td>2.979090e+08</td>\n",
       "      <td>16870.980000</td>\n",
       "      <td>34.090000</td>\n",
       "    </tr>\n",
       "  </tbody>\n",
       "</table>\n",
       "</div>"
      ],
      "text/plain": [
       "       OSEBuildingID     DataYear  CouncilDistrictCode    YearBuilt  \\\n",
       "count    3432.000000  3432.000000          3432.000000  3432.000000   \n",
       "mean    21184.746795  2015.983683             4.448135  1968.360140   \n",
       "std     12211.835092     0.126710             2.119483    33.182901   \n",
       "min         1.000000  2015.000000             1.000000  1900.000000   \n",
       "25%     19974.250000  2016.000000             3.000000  1948.000000   \n",
       "50%     23109.500000  2016.000000             4.000000  1974.000000   \n",
       "75%     25976.500000  2016.000000             7.000000  1997.000000   \n",
       "max     50226.000000  2016.000000             7.000000  2015.000000   \n",
       "\n",
       "       OtherFuelUse(kBtu)  Comments  NumberofBuildings  NumberofFloors  \\\n",
       "count           55.000000       0.0        3431.000000     3432.000000   \n",
       "mean          3238.072727       NaN           1.087875        4.688228   \n",
       "std          24014.190061       NaN           1.992205        5.458473   \n",
       "min              0.000000       NaN           0.500000        0.000000   \n",
       "25%              0.000000       NaN           1.000000        2.000000   \n",
       "50%              0.000000       NaN           1.000000        4.000000   \n",
       "75%              0.000000       NaN           1.000000        5.000000   \n",
       "max         178094.000000       NaN         111.000000       99.000000   \n",
       "\n",
       "       PropertyGFATotal  PropertyGFAParking  PropertyGFABuilding(s)  \\\n",
       "count      3.432000e+03         3432.000000            3.432000e+03   \n",
       "mean       9.447183e+04         9651.224068            8.482061e+04   \n",
       "std        2.172062e+05        32953.838541            2.048840e+05   \n",
       "min        1.128500e+04           -1.500000           -8.451000e+03   \n",
       "25%        2.846350e+04            0.000000            2.726825e+04   \n",
       "50%        4.419500e+04            0.000000            4.213725e+04   \n",
       "75%        9.044875e+04         2890.250000            8.192375e+04   \n",
       "max        9.320156e+06       512608.000000            9.320156e+06   \n",
       "\n",
       "       LargestPropertyUseTypeGFA  SecondLargestPropertyUseTypeGFA  \\\n",
       "count               3.402000e+03                      1704.000000   \n",
       "mean                7.921153e+04                     28497.813467   \n",
       "std                 2.011318e+05                     54202.216986   \n",
       "min                 6.455000e+03                         0.000000   \n",
       "25%                 2.505300e+04                      5000.000000   \n",
       "50%                 3.986750e+04                     10725.500000   \n",
       "75%                 7.557300e+04                     26797.250000   \n",
       "max                 9.320156e+06                    686750.000000   \n",
       "\n",
       "       ThirdLargestPropertyUseTypeGFA  ENERGYSTARScore  SiteEUI(kBtu/sf)  \\\n",
       "count                      607.000000      2656.000000       3429.000000   \n",
       "mean                     11660.911531        68.116717         54.445859   \n",
       "std                      29021.209831        26.377049         55.895447   \n",
       "min                          0.000000         1.000000          0.000000   \n",
       "25%                       2275.500000        52.500000         27.850000   \n",
       "50%                       5000.000000        75.500000         38.100001   \n",
       "75%                      10182.500000        89.625000         60.050000   \n",
       "max                     459748.000000       100.000000        834.400024   \n",
       "\n",
       "       SiteEUIWN(kBtu/sf)  SourceEUI(kBtu/sf)  SourceEUIWN(kBtu/sf)  \\\n",
       "count         3429.000000         3428.000000           3428.000000   \n",
       "mean            57.489341          133.943174            138.589950   \n",
       "std             57.157732          137.744473            137.275549   \n",
       "min              0.000000            0.000000             -2.050000   \n",
       "25%             29.600000           74.287500             79.500000   \n",
       "50%             40.650001           95.900000            101.599999   \n",
       "75%             64.750001          144.150000            149.900002   \n",
       "max            834.400024         2620.000000           2620.000000   \n",
       "\n",
       "       SiteEnergyUse(kBtu)  SiteEnergyUseWN(kBtu)  SteamUse(kBtu)  \\\n",
       "count         3.429000e+03           3.429000e+03    3.428000e+03   \n",
       "mean          5.398222e+06           5.311222e+06    2.737963e+05   \n",
       "std           2.152855e+07           1.595773e+07    3.795683e+06   \n",
       "min           0.000000e+00           0.000000e+00    0.000000e+00   \n",
       "25%           9.293272e+05           9.898913e+05    0.000000e+00   \n",
       "50%           1.792235e+06           1.940694e+06    0.000000e+00   \n",
       "75%           4.195498e+06           4.402542e+06    0.000000e+00   \n",
       "max           8.739237e+08           4.716139e+08    1.314066e+08   \n",
       "\n",
       "       Electricity(kWh)  Electricity(kBtu)  NaturalGas(therms)  \\\n",
       "count      3.428000e+03       3.428000e+03        3.428000e+03   \n",
       "mean       1.087418e+06       3.710342e+06        1.361560e+04   \n",
       "std        4.332754e+06       1.478348e+07        6.729292e+04   \n",
       "min        2.000000e+00       7.000000e+00        0.000000e+00   \n",
       "25%        1.859820e+05       6.345736e+05        0.000000e+00   \n",
       "50%        3.440100e+05       1.173787e+06        3.211758e+03   \n",
       "75%        8.214296e+05       2.802775e+06        1.152796e+04   \n",
       "max        1.925775e+08       6.570744e+08        2.979090e+06   \n",
       "\n",
       "       NaturalGas(kBtu)  GHGEmissions(MetricTonsCO2e)  \\\n",
       "count      3.428000e+03                   3428.000000   \n",
       "mean       1.361560e+06                    119.311982   \n",
       "std        6.729292e+06                    534.287074   \n",
       "min        0.000000e+00                      0.090000   \n",
       "25%        0.000000e+00                      9.568750   \n",
       "50%        3.211605e+05                     33.842500   \n",
       "75%        1.152789e+06                     91.890000   \n",
       "max        2.979090e+08                  16870.980000   \n",
       "\n",
       "       GHGEmissionsIntensity(kgCO2e/ft2)  \n",
       "count                        3428.000000  \n",
       "mean                            1.092922  \n",
       "std                             1.769338  \n",
       "min                             0.000000  \n",
       "25%                             0.150000  \n",
       "50%                             0.545000  \n",
       "75%                             1.290000  \n",
       "max                            34.090000  "
      ]
     },
     "execution_count": 10,
     "metadata": {},
     "output_type": "execute_result"
    },
    {
     "data": {
      "application/javascript": [
       "\n",
       "            setTimeout(function() {\n",
       "                var nbb_cell_id = 10;\n",
       "                var nbb_unformatted_code = \"%matplotlib inline\\n\\npd.set_option('display.max_columns', 500)\\npd.set_option('display.max_rows', 500)\\n\\n# R\\u00e9sum\\u00e9 des donn\\u00e9es brutes\\ndata.describe()\";\n",
       "                var nbb_formatted_code = \"%matplotlib inline\\n\\npd.set_option(\\\"display.max_columns\\\", 500)\\npd.set_option(\\\"display.max_rows\\\", 500)\\n\\n# R\\u00e9sum\\u00e9 des donn\\u00e9es brutes\\ndata.describe()\";\n",
       "                var nbb_cells = Jupyter.notebook.get_cells();\n",
       "                for (var i = 0; i < nbb_cells.length; ++i) {\n",
       "                    if (nbb_cells[i].input_prompt_number == nbb_cell_id) {\n",
       "                        if (nbb_cells[i].get_text() == nbb_unformatted_code) {\n",
       "                             nbb_cells[i].set_text(nbb_formatted_code);\n",
       "                        }\n",
       "                        break;\n",
       "                    }\n",
       "                }\n",
       "            }, 500);\n",
       "            "
      ],
      "text/plain": [
       "<IPython.core.display.Javascript object>"
      ]
     },
     "metadata": {},
     "output_type": "display_data"
    }
   ],
   "source": [
    "%matplotlib inline\n",
    "\n",
    "pd.set_option(\"display.max_columns\", 500)\n",
    "pd.set_option(\"display.max_rows\", 500)\n",
    "\n",
    "# Résumé des données brutes\n",
    "data.describe()"
   ]
  },
  {
   "cell_type": "code",
   "execution_count": 11,
   "id": "1ee90754",
   "metadata": {},
   "outputs": [
    {
     "data": {
      "application/javascript": [
       "\n",
       "            setTimeout(function() {\n",
       "                var nbb_cell_id = 11;\n",
       "                var nbb_unformatted_code = \"# Nous allons maintenant cr\\u00e9e de nouvelles variables \\u00e0 partir de celles existantes.\\n# Je remplace la variable date de contruction par l'age du b\\u00e2timent gr\\u00e2ce \\u00e0 la date des relev\\u00e9s.\\n# Je cr\\u00e9e aussi deux variables gr\\u00e2ce aux surfaces des batiments. Le rapport entre la surface Batiment ou Parking et la surface\\n# totale. Gr\\u00e2ce aux tableaux pr\\u00e9c\\u00e9dents, j'ai d\\u00e9cid\\u00e9 de supprim\\u00e9 les donn\\u00e9es avec la surface des batiments n\\u00e9gatives\\n\\ndata['BuildingAge'] = data['DataYear'] - data['YearBuilt']\\ndata = data[data['PropertyGFAParking']>=0]\\ndata['GFABuilding'] = (data['PropertyGFABuilding(s)'] / data['PropertyGFATotal'])\\ndata['GFAParking'] = (data['PropertyGFAParking'] / data['PropertyGFATotal'])\";\n",
       "                var nbb_formatted_code = \"# Nous allons maintenant cr\\u00e9e de nouvelles variables \\u00e0 partir de celles existantes.\\n# Je remplace la variable date de contruction par l'age du b\\u00e2timent gr\\u00e2ce \\u00e0 la date des relev\\u00e9s.\\n# Je cr\\u00e9e aussi deux variables gr\\u00e2ce aux surfaces des batiments. Le rapport entre la surface Batiment ou Parking et la surface\\n# totale. Gr\\u00e2ce aux tableaux pr\\u00e9c\\u00e9dents, j'ai d\\u00e9cid\\u00e9 de supprim\\u00e9 les donn\\u00e9es avec la surface des batiments n\\u00e9gatives\\n\\ndata[\\\"BuildingAge\\\"] = data[\\\"DataYear\\\"] - data[\\\"YearBuilt\\\"]\\ndata = data[data[\\\"PropertyGFAParking\\\"] >= 0]\\ndata[\\\"GFABuilding\\\"] = data[\\\"PropertyGFABuilding(s)\\\"] / data[\\\"PropertyGFATotal\\\"]\\ndata[\\\"GFAParking\\\"] = data[\\\"PropertyGFAParking\\\"] / data[\\\"PropertyGFATotal\\\"]\";\n",
       "                var nbb_cells = Jupyter.notebook.get_cells();\n",
       "                for (var i = 0; i < nbb_cells.length; ++i) {\n",
       "                    if (nbb_cells[i].input_prompt_number == nbb_cell_id) {\n",
       "                        if (nbb_cells[i].get_text() == nbb_unformatted_code) {\n",
       "                             nbb_cells[i].set_text(nbb_formatted_code);\n",
       "                        }\n",
       "                        break;\n",
       "                    }\n",
       "                }\n",
       "            }, 500);\n",
       "            "
      ],
      "text/plain": [
       "<IPython.core.display.Javascript object>"
      ]
     },
     "metadata": {},
     "output_type": "display_data"
    }
   ],
   "source": [
    "# Nous allons maintenant créer de nouvelles variables à partir de celles existantes.\n",
    "# Je remplace la variable date de contruction par l'âge du bâtiment grâce à la date des relevés.\n",
    "# Je crée aussi deux variables grâce aux surfaces des batiments. Le rapport entre la surface Bâtiment ou Parking et la surface\n",
    "# totale. Grâce aux tableaux précédents, j'ai décidé de supprimé les données avec la surface des batiments négatives\n",
    "\n",
    "data[\"BuildingAge\"] = data[\"DataYear\"] - data[\"YearBuilt\"]\n",
    "data = data[data[\"PropertyGFAParking\"] >= 0]\n",
    "data[\"GFABuilding\"] = data[\"PropertyGFABuilding(s)\"] / data[\"PropertyGFATotal\"]\n",
    "data[\"GFAParking\"] = data[\"PropertyGFAParking\"] / data[\"PropertyGFATotal\"]"
   ]
  },
  {
   "cell_type": "code",
   "execution_count": 12,
   "id": "cbd45a58",
   "metadata": {},
   "outputs": [
    {
     "data": {
      "application/javascript": [
       "\n",
       "            setTimeout(function() {\n",
       "                var nbb_cell_id = 12;\n",
       "                var nbb_unformatted_code = \"# Je supprime les variables qui contiennent WN. Ce sont les m\\u00eames variables mais normalis\\u00e9 en fonction des conditions climatiques.\\n\\n\\nfor c in data.columns:\\n    if c not in ['OSEBuildingID','BuildingType','PrimaryPropertyType','CouncilDistrictCode',\\n                 'Neighborhood','NumberofBuildings','NumberofFloors','PropertyGFATotal',\\n                 'ListOfAllPropertyUseTypes','LargestPropertyUseType','LargestPropertyUseTypeGFA',\\n                 'SecondLargestPropertyUseType','SecondLargestPropertyUseTypeGFA','ThirdLargestPropertyUseType',\\n                 'ThirdLargestPropertyUseTypeGFA','YearsENERGYSTARCertified','ENERGYSTARScore','SiteEUI(kBtu/sf)',\\n                 'SourceEUI(kBtu/sf)','SiteEnergyUse(kBtu)','SteamUse(kBtu)','Electricity(kWh)','NaturalGas(kBtu)',\\n                 'OtherFuelUse(kBtu)','GHGEmissions(MetricTonsCO2e)','GHGEmissionsIntensity(kgCO2e/ft2)','DefaultData',\\n                 'Outlier','GFABuilding','GFAParking','BuildingAge','ComplianceStatus']:\\n           del data[c]\";\n",
       "                var nbb_formatted_code = \"# Je supprime les variables qui contiennent WN. Ce sont les m\\u00eames variables mais normalis\\u00e9 en fonction des conditions climatiques.\\n\\n\\nfor c in data.columns:\\n    if c not in [\\n        \\\"OSEBuildingID\\\",\\n        \\\"BuildingType\\\",\\n        \\\"PrimaryPropertyType\\\",\\n        \\\"CouncilDistrictCode\\\",\\n        \\\"Neighborhood\\\",\\n        \\\"NumberofBuildings\\\",\\n        \\\"NumberofFloors\\\",\\n        \\\"PropertyGFATotal\\\",\\n        \\\"ListOfAllPropertyUseTypes\\\",\\n        \\\"LargestPropertyUseType\\\",\\n        \\\"LargestPropertyUseTypeGFA\\\",\\n        \\\"SecondLargestPropertyUseType\\\",\\n        \\\"SecondLargestPropertyUseTypeGFA\\\",\\n        \\\"ThirdLargestPropertyUseType\\\",\\n        \\\"ThirdLargestPropertyUseTypeGFA\\\",\\n        \\\"YearsENERGYSTARCertified\\\",\\n        \\\"ENERGYSTARScore\\\",\\n        \\\"SiteEUI(kBtu/sf)\\\",\\n        \\\"SourceEUI(kBtu/sf)\\\",\\n        \\\"SiteEnergyUse(kBtu)\\\",\\n        \\\"SteamUse(kBtu)\\\",\\n        \\\"Electricity(kWh)\\\",\\n        \\\"NaturalGas(kBtu)\\\",\\n        \\\"OtherFuelUse(kBtu)\\\",\\n        \\\"GHGEmissions(MetricTonsCO2e)\\\",\\n        \\\"GHGEmissionsIntensity(kgCO2e/ft2)\\\",\\n        \\\"DefaultData\\\",\\n        \\\"Outlier\\\",\\n        \\\"GFABuilding\\\",\\n        \\\"GFAParking\\\",\\n        \\\"BuildingAge\\\",\\n        \\\"ComplianceStatus\\\",\\n    ]:\\n        del data[c]\";\n",
       "                var nbb_cells = Jupyter.notebook.get_cells();\n",
       "                for (var i = 0; i < nbb_cells.length; ++i) {\n",
       "                    if (nbb_cells[i].input_prompt_number == nbb_cell_id) {\n",
       "                        if (nbb_cells[i].get_text() == nbb_unformatted_code) {\n",
       "                             nbb_cells[i].set_text(nbb_formatted_code);\n",
       "                        }\n",
       "                        break;\n",
       "                    }\n",
       "                }\n",
       "            }, 500);\n",
       "            "
      ],
      "text/plain": [
       "<IPython.core.display.Javascript object>"
      ]
     },
     "metadata": {},
     "output_type": "display_data"
    }
   ],
   "source": [
    "# Je supprime les variables qui contiennent WN. Ce sont les mêmes variables mais normalisées en fonction des conditions climatiques.\n",
    "\n",
    "\n",
    "for c in data.columns:\n",
    "    if c not in [\n",
    "        \"OSEBuildingID\",\n",
    "        \"BuildingType\",\n",
    "        \"PrimaryPropertyType\",\n",
    "        \"CouncilDistrictCode\",\n",
    "        \"Neighborhood\",\n",
    "        \"NumberofBuildings\",\n",
    "        \"NumberofFloors\",\n",
    "        \"PropertyGFATotal\",\n",
    "        \"ListOfAllPropertyUseTypes\",\n",
    "        \"LargestPropertyUseType\",\n",
    "        \"LargestPropertyUseTypeGFA\",\n",
    "        \"SecondLargestPropertyUseType\",\n",
    "        \"SecondLargestPropertyUseTypeGFA\",\n",
    "        \"ThirdLargestPropertyUseType\",\n",
    "        \"ThirdLargestPropertyUseTypeGFA\",\n",
    "        \"YearsENERGYSTARCertified\",\n",
    "        \"ENERGYSTARScore\",\n",
    "        \"SiteEUI(kBtu/sf)\",\n",
    "        \"SourceEUI(kBtu/sf)\",\n",
    "        \"SiteEnergyUse(kBtu)\",\n",
    "        \"SteamUse(kBtu)\",\n",
    "        \"Electricity(kWh)\",\n",
    "        \"NaturalGas(kBtu)\",\n",
    "        \"OtherFuelUse(kBtu)\",\n",
    "        \"GHGEmissions(MetricTonsCO2e)\",\n",
    "        \"GHGEmissionsIntensity(kgCO2e/ft2)\",\n",
    "        \"DefaultData\",\n",
    "        \"Outlier\",\n",
    "        \"GFABuilding\",\n",
    "        \"GFAParking\",\n",
    "        \"BuildingAge\",\n",
    "        \"ComplianceStatus\",\n",
    "    ]:\n",
    "        del data[c]"
   ]
  },
  {
   "cell_type": "code",
   "execution_count": 13,
   "id": "a10a9a58",
   "metadata": {},
   "outputs": [
    {
     "name": "stdout",
     "output_type": "stream",
     "text": [
      "('NonResidential', 1487)\n",
      "('Multifamily LR (1-4)', 1040)\n",
      "('Multifamily MR (5-9)', 583)\n",
      "('Multifamily HR (10+)', 110)\n",
      "('SPS-District K-12', 99)\n",
      "('Nonresidential COS', 85)\n",
      "('Campus', 25)\n",
      "('Nonresidential WA', 1)\n"
     ]
    },
    {
     "data": {
      "application/javascript": [
       "\n",
       "            setTimeout(function() {\n",
       "                var nbb_cell_id = 13;\n",
       "                var nbb_unformatted_code = \"# Notre analyse devant \\u00eatre bas\\u00e9 sur les b\\u00e2timents non r\\u00e9sidentiels, nous allons maintenant supprim\\u00e9 les b\\u00e2timents de ce type\\n\\nfrom collections import Counter\\n\\ndef most_common_words(labels):\\n    counter = Counter(labels)\\n    for word in counter.most_common(100):\\n        print(word)\\n\\nmost_common_words(data['BuildingType'].values)\";\n",
       "                var nbb_formatted_code = \"# Notre analyse devant \\u00eatre bas\\u00e9 sur les b\\u00e2timents non r\\u00e9sidentiels, nous allons maintenant supprim\\u00e9 les b\\u00e2timents de ce type\\n\\nfrom collections import Counter\\n\\n\\ndef most_common_words(labels):\\n    counter = Counter(labels)\\n    for word in counter.most_common(100):\\n        print(word)\\n\\n\\nmost_common_words(data[\\\"BuildingType\\\"].values)\";\n",
       "                var nbb_cells = Jupyter.notebook.get_cells();\n",
       "                for (var i = 0; i < nbb_cells.length; ++i) {\n",
       "                    if (nbb_cells[i].input_prompt_number == nbb_cell_id) {\n",
       "                        if (nbb_cells[i].get_text() == nbb_unformatted_code) {\n",
       "                             nbb_cells[i].set_text(nbb_formatted_code);\n",
       "                        }\n",
       "                        break;\n",
       "                    }\n",
       "                }\n",
       "            }, 500);\n",
       "            "
      ],
      "text/plain": [
       "<IPython.core.display.Javascript object>"
      ]
     },
     "metadata": {},
     "output_type": "display_data"
    }
   ],
   "source": [
    "# Notre analyse devant être basé sur les bâtiments non résidentiels, nous allons maintenant supprimé les bâtiments de ce type\n",
    "\n",
    "from collections import Counter\n",
    "\n",
    "\n",
    "def most_common_words(labels):\n",
    "    counter = Counter(labels)\n",
    "    for word in counter.most_common(100):\n",
    "        print(word)\n",
    "\n",
    "\n",
    "most_common_words(data[\"BuildingType\"].values)"
   ]
  },
  {
   "cell_type": "code",
   "execution_count": 14,
   "id": "3244541d",
   "metadata": {},
   "outputs": [
    {
     "name": "stdout",
     "output_type": "stream",
     "text": [
      "('NonResidential', 1487)\n",
      "('SPS-District K-12', 99)\n",
      "('Nonresidential COS', 85)\n",
      "('Campus', 25)\n",
      "('Nonresidential WA', 1)\n"
     ]
    },
    {
     "data": {
      "application/javascript": [
       "\n",
       "            setTimeout(function() {\n",
       "                var nbb_cell_id = 14;\n",
       "                var nbb_unformatted_code = \"data = data[~data['BuildingType'].str.contains(\\\"Multifamily\\\")]\\nmost_common_words(data['BuildingType'].values)\";\n",
       "                var nbb_formatted_code = \"data = data[~data[\\\"BuildingType\\\"].str.contains(\\\"Multifamily\\\")]\\nmost_common_words(data[\\\"BuildingType\\\"].values)\";\n",
       "                var nbb_cells = Jupyter.notebook.get_cells();\n",
       "                for (var i = 0; i < nbb_cells.length; ++i) {\n",
       "                    if (nbb_cells[i].input_prompt_number == nbb_cell_id) {\n",
       "                        if (nbb_cells[i].get_text() == nbb_unformatted_code) {\n",
       "                             nbb_cells[i].set_text(nbb_formatted_code);\n",
       "                        }\n",
       "                        break;\n",
       "                    }\n",
       "                }\n",
       "            }, 500);\n",
       "            "
      ],
      "text/plain": [
       "<IPython.core.display.Javascript object>"
      ]
     },
     "metadata": {},
     "output_type": "display_data"
    }
   ],
   "source": [
    "data = data[~data[\"BuildingType\"].str.contains(\"Multifamily\")]\n",
    "most_common_words(data[\"BuildingType\"].values)"
   ]
  },
  {
   "cell_type": "code",
   "execution_count": 15,
   "id": "d3406282",
   "metadata": {},
   "outputs": [
    {
     "data": {
      "application/javascript": [
       "\n",
       "            setTimeout(function() {\n",
       "                var nbb_cell_id = 15;\n",
       "                var nbb_unformatted_code = \"# Je r\\u00e9alise certain traitement sur les variables contenant des Nan\\n\\ndata['SecondLargestPropertyUseTypeGFA'] = data['SecondLargestPropertyUseTypeGFA'].fillna(0)\\ndata['ThirdLargestPropertyUseTypeGFA'] = data['ThirdLargestPropertyUseTypeGFA'].fillna(0)\\ndata['LargestPropertyUseTypeGFA'] = data['LargestPropertyUseTypeGFA'].fillna(0)\\ndata['SecondLargestPropertyUseType'] = data['SecondLargestPropertyUseType'].fillna('Aucun')\\ndata['ThirdLargestPropertyUseType'] = data['ThirdLargestPropertyUseType'].fillna('Aucun')\\ndata['LargestPropertyUseType'] = data['LargestPropertyUseType'].fillna('Aucun')\\ndata = data[data['NumberofFloors'].notna()]\\ndata = data[data['SiteEnergyUse(kBtu)'].notna()]\\ndata = data[data['GHGEmissions(MetricTonsCO2e)'].notna()]\";\n",
       "                var nbb_formatted_code = \"# Je r\\u00e9alise certain traitement sur les variables contenant des Nan\\n\\ndata[\\\"SecondLargestPropertyUseTypeGFA\\\"] = data[\\n    \\\"SecondLargestPropertyUseTypeGFA\\\"\\n].fillna(0)\\ndata[\\\"ThirdLargestPropertyUseTypeGFA\\\"] = data[\\\"ThirdLargestPropertyUseTypeGFA\\\"].fillna(\\n    0\\n)\\ndata[\\\"LargestPropertyUseTypeGFA\\\"] = data[\\\"LargestPropertyUseTypeGFA\\\"].fillna(0)\\ndata[\\\"SecondLargestPropertyUseType\\\"] = data[\\\"SecondLargestPropertyUseType\\\"].fillna(\\n    \\\"Aucun\\\"\\n)\\ndata[\\\"ThirdLargestPropertyUseType\\\"] = data[\\\"ThirdLargestPropertyUseType\\\"].fillna(\\n    \\\"Aucun\\\"\\n)\\ndata[\\\"LargestPropertyUseType\\\"] = data[\\\"LargestPropertyUseType\\\"].fillna(\\\"Aucun\\\")\\ndata = data[data[\\\"NumberofFloors\\\"].notna()]\\ndata = data[data[\\\"SiteEnergyUse(kBtu)\\\"].notna()]\\ndata = data[data[\\\"GHGEmissions(MetricTonsCO2e)\\\"].notna()]\";\n",
       "                var nbb_cells = Jupyter.notebook.get_cells();\n",
       "                for (var i = 0; i < nbb_cells.length; ++i) {\n",
       "                    if (nbb_cells[i].input_prompt_number == nbb_cell_id) {\n",
       "                        if (nbb_cells[i].get_text() == nbb_unformatted_code) {\n",
       "                             nbb_cells[i].set_text(nbb_formatted_code);\n",
       "                        }\n",
       "                        break;\n",
       "                    }\n",
       "                }\n",
       "            }, 500);\n",
       "            "
      ],
      "text/plain": [
       "<IPython.core.display.Javascript object>"
      ]
     },
     "metadata": {},
     "output_type": "display_data"
    }
   ],
   "source": [
    "# Je réalise certain traitement sur les variables contenant des Nan\n",
    "\n",
    "data[\"SecondLargestPropertyUseTypeGFA\"] = data[\"SecondLargestPropertyUseTypeGFA\"].fillna(0)\n",
    "data[\"ThirdLargestPropertyUseTypeGFA\"] = data[\"ThirdLargestPropertyUseTypeGFA\"].fillna(0)\n",
    "data[\"LargestPropertyUseTypeGFA\"] = data[\"LargestPropertyUseTypeGFA\"].fillna(0)\n",
    "data[\"SecondLargestPropertyUseType\"] = data[\"SecondLargestPropertyUseType\"].fillna(\"Aucun\")\n",
    "data[\"ThirdLargestPropertyUseType\"] = data[\"ThirdLargestPropertyUseType\"].fillna(\"Aucun\")\n",
    "data[\"LargestPropertyUseType\"] = data[\"LargestPropertyUseType\"].fillna(\"Aucun\")\n",
    "data = data[data[\"NumberofFloors\"].notna()]\n",
    "data = data[data[\"SiteEnergyUse(kBtu)\"].notna()]\n",
    "data = data[data[\"GHGEmissions(MetricTonsCO2e)\"].notna()]"
   ]
  },
  {
   "cell_type": "markdown",
   "id": "d306ae27",
   "metadata": {},
   "source": [
    "## Partie 2 : Analyse Exploratoire "
   ]
  },
  {
   "cell_type": "code",
   "execution_count": 16,
   "id": "152209b4",
   "metadata": {},
   "outputs": [
    {
     "name": "stdout",
     "output_type": "stream",
     "text": [
      "NumberofFloors\n",
      "moy:\n",
      " 4.099646226415095\n",
      "med:\n",
      " 2.0\n",
      "mod:\n",
      " 0    1.0\n",
      "dtype: float64\n",
      "var:\n",
      " 42.45764138427821\n",
      "ect:\n",
      " 6.515952837788055\n",
      "skw:\n",
      " 6.080973157913627\n",
      "kur:\n",
      " 53.45712701838129\n"
     ]
    },
    {
     "data": {
      "image/png": "[encoded data removed]",
      "text/plain": [
       "<Figure size 432x288 with 1 Axes>"
      ]
     },
     "metadata": {
      "needs_background": "light"
     },
     "output_type": "display_data"
    },
    {
     "data": {
      "image/png": "[encoded data removed]",
      "text/plain": [
       "<Figure size 432x288 with 1 Axes>"
      ]
     },
     "metadata": {
      "needs_background": "light"
     },
     "output_type": "display_data"
    },
    {
     "name": "stdout",
     "output_type": "stream",
     "text": [
      "PropertyGFATotal\n",
      "moy:\n",
      " 118411.57635613208\n",
      "med:\n",
      " 49250.5\n",
      "mod:\n",
      " 0    21600.0\n",
      "dtype: float64\n",
      "var:\n",
      " 87185556111.03029\n",
      "ect:\n",
      " 295272.0036018151\n",
      "skw:\n",
      " 19.22866426667273\n",
      "kur:\n",
      " 561.1592228835243\n"
     ]
    },
    {
     "data": {
      "image/png": "[encoded data removed]",
      "text/plain": [
       "<Figure size 432x288 with 1 Axes>"
      ]
     },
     "metadata": {
      "needs_background": "light"
     },
     "output_type": "display_data"
    },
    {
     "data": {
      "image/png": "[encoded data removed]",
      "text/plain": [
       "<Figure size 432x288 with 1 Axes>"
      ]
     },
     "metadata": {
      "needs_background": "light"
     },
     "output_type": "display_data"
    },
    {
     "name": "stdout",
     "output_type": "stream",
     "text": [
      "LargestPropertyUseTypeGFA\n",
      "moy:\n",
      " 98185.72906839622\n",
      "med:\n",
      " 43086.0\n",
      "mod:\n",
      " 0    0.0\n",
      "dtype: float64\n",
      "var:\n",
      " 75607574713.55586\n",
      "ect:\n",
      " 274968.3158357629\n",
      "skw:\n",
      " 23.25073513719044\n",
      "kur:\n",
      " 749.4352754889353\n"
     ]
    },
    {
     "data": {
      "image/png": "[encoded data removed]",
      "text/plain": [
       "<Figure size 432x288 with 1 Axes>"
      ]
     },
     "metadata": {
      "needs_background": "light"
     },
     "output_type": "display_data"
    },
    {
     "data": {
      "image/png": "[encoded data removed]",
      "text/plain": [
       "<Figure size 432x288 with 1 Axes>"
      ]
     },
     "metadata": {
      "needs_background": "light"
     },
     "output_type": "display_data"
    },
    {
     "name": "stdout",
     "output_type": "stream",
     "text": [
      "SecondLargestPropertyUseTypeGFA\n",
      "moy:\n",
      " 18959.027799787735\n",
      "med:\n",
      " 0.0\n",
      "mod:\n",
      " 0    0.0\n",
      "dtype: float64\n",
      "var:\n",
      " 2816546873.5928116\n",
      "ect:\n",
      " 53071.14916404968\n",
      "skw:\n",
      " 5.6448093275417754\n",
      "kur:\n",
      " 43.04113132205658\n"
     ]
    },
    {
     "data": {
      "image/png": "[encoded data removed]",
      "text/plain": [
       "<Figure size 432x288 with 1 Axes>"
      ]
     },
     "metadata": {
      "needs_background": "light"
     },
     "output_type": "display_data"
    },
    {
     "data": {
      "image/png": "[encoded data removed]",
      "text/plain": [
       "<Figure size 432x288 with 1 Axes>"
      ]
     },
     "metadata": {
      "needs_background": "light"
     },
     "output_type": "display_data"
    },
    {
     "name": "stdout",
     "output_type": "stream",
     "text": [
      "ThirdLargestPropertyUseTypeGFA\n",
      "moy:\n",
      " 3132.994869952535\n",
      "med:\n",
      " 0.0\n",
      "mod:\n",
      " 0    0.0\n",
      "dtype: float64\n",
      "var:\n",
      " 316542912.3807983\n",
      "ect:\n",
      " 17791.652885013194\n",
      "skw:\n",
      " 15.661142451908562\n",
      "kur:\n",
      " 327.10490017630514\n"
     ]
    },
    {
     "data": {
      "image/png": "[encoded data removed]",
      "text/plain": [
       "<Figure size 432x288 with 1 Axes>"
      ]
     },
     "metadata": {
      "needs_background": "light"
     },
     "output_type": "display_data"
    },
    {
     "data": {
      "image/png": "[encoded data removed]",
      "text/plain": [
       "<Figure size 432x288 with 1 Axes>"
      ]
     },
     "metadata": {
      "needs_background": "light"
     },
     "output_type": "display_data"
    },
    {
     "name": "stdout",
     "output_type": "stream",
     "text": [
      "ENERGYSTARScore\n",
      "moy:\n",
      " 64.93842150910667\n",
      "med:\n",
      " 72.5\n",
      "mod:\n",
      " 0    100.0\n",
      "dtype: float64\n",
      "var:\n",
      " 786.1124266497368\n",
      "ect:\n",
      " 28.037696528954314\n",
      "skw:\n",
      " -0.7547797750292722\n",
      "kur:\n",
      " -0.5196387540232386\n"
     ]
    },
    {
     "data": {
      "image/png": "[encoded data removed]",
      "text/plain": [
       "<Figure size 432x288 with 1 Axes>"
      ]
     },
     "metadata": {
      "needs_background": "light"
     },
     "output_type": "display_data"
    },
    {
     "data": {
      "image/png": "[encoded data removed]",
      "text/plain": [
       "<Figure size 432x288 with 1 Axes>"
      ]
     },
     "metadata": {
      "needs_background": "light"
     },
     "output_type": "display_data"
    },
    {
     "name": "stdout",
     "output_type": "stream",
     "text": [
      "SiteEUI(kBtu/sf)\n",
      "moy:\n",
      " 72.11500593281279\n",
      "med:\n",
      " 51.7000005725\n",
      "mod:\n",
      " 0    61.0\n",
      "dtype: float64\n",
      "var:\n",
      " 5400.692465579977\n",
      "ect:\n",
      " 73.48940376394393\n",
      "skw:\n",
      " 3.766400504683707\n",
      "kur:\n",
      " 22.612061132242985\n"
     ]
    },
    {
     "data": {
      "image/png": "[encoded data removed]",
      "text/plain": [
       "<Figure size 432x288 with 1 Axes>"
      ]
     },
     "metadata": {
      "needs_background": "light"
     },
     "output_type": "display_data"
    },
    {
     "data": {
      "image/png": "[encoded data removed]",
      "text/plain": [
       "<Figure size 432x288 with 1 Axes>"
      ]
     },
     "metadata": {
      "needs_background": "light"
     },
     "output_type": "display_data"
    },
    {
     "name": "stdout",
     "output_type": "stream",
     "text": [
      "SourceEUI(kBtu/sf)\n",
      "moy:\n",
      " 176.28673349751975\n",
      "med:\n",
      " 131.749999225\n",
      "mod:\n",
      " 0    128.350002\n",
      "dtype: float64\n",
      "var:\n",
      " 33776.391069014215\n",
      "ect:\n",
      " 183.78354406478894\n",
      "skw:\n",
      " 4.982013536341477\n",
      "kur:\n",
      " 44.82045241266133\n"
     ]
    },
    {
     "data": {
      "image/png": "[encoded data removed]",
      "text/plain": [
       "<Figure size 432x288 with 1 Axes>"
      ]
     },
     "metadata": {
      "needs_background": "light"
     },
     "output_type": "display_data"
    },
    {
     "data": {
      "image/png": "[encoded data removed]",
      "text/plain": [
       "<Figure size 432x288 with 1 Axes>"
      ]
     },
     "metadata": {
      "needs_background": "light"
     },
     "output_type": "display_data"
    },
    {
     "name": "stdout",
     "output_type": "stream",
     "text": [
      "SiteEnergyUse(kBtu)\n",
      "moy:\n",
      " 8459876.551897023\n",
      "med:\n",
      " 2551749.5625\n",
      "mod:\n",
      " 0       0.000000e+00\n",
      "1       1.697945e+04\n",
      "2       3.402425e+04\n",
      "3       3.420975e+04\n",
      "4       5.526710e+04\n",
      "            ...     \n",
      "1691    2.797747e+08\n",
      "1692    2.891500e+08\n",
      "1693    2.944517e+08\n",
      "1694    4.483853e+08\n",
      "1695    8.739237e+08\n",
      "Length: 1696, dtype: float64\n",
      "var:\n",
      " 906229458615642.6\n",
      "ect:\n",
      " 30103645.271223262\n",
      "skw:\n",
      " 17.99157463618652\n",
      "kur:\n",
      " 445.0342841571296\n"
     ]
    },
    {
     "data": {
      "image/png": "[encoded data removed]",
      "text/plain": [
       "<Figure size 432x288 with 1 Axes>"
      ]
     },
     "metadata": {
      "needs_background": "light"
     },
     "output_type": "display_data"
    },
    {
     "data": {
      "image/png": "[encoded data removed]",
      "text/plain": [
       "<Figure size 432x288 with 1 Axes>"
      ]
     },
     "metadata": {
      "needs_background": "light"
     },
     "output_type": "display_data"
    },
    {
     "name": "stdout",
     "output_type": "stream",
     "text": [
      "SteamUse(kBtu)\n",
      "moy:\n",
      " 513615.88628236443\n",
      "med:\n",
      " 0.0\n",
      "mod:\n",
      " 0    0.0\n",
      "dtype: float64\n",
      "var:\n",
      " 28641318835106.445\n",
      "ect:\n",
      " 5351758.4806404\n",
      "skw:\n",
      " 19.209054442360742\n",
      "kur:\n",
      " 416.91520168514785\n"
     ]
    },
    {
     "data": {
      "image/png": "[encoded data removed]",
      "text/plain": [
       "<Figure size 432x288 with 1 Axes>"
      ]
     },
     "metadata": {
      "needs_background": "light"
     },
     "output_type": "display_data"
    },
    {
     "data": {
      "image/png": "[encoded data removed]",
      "text/plain": [
       "<Figure size 432x288 with 1 Axes>"
      ]
     },
     "metadata": {
      "needs_background": "light"
     },
     "output_type": "display_data"
    },
    {
     "name": "stdout",
     "output_type": "stream",
     "text": [
      "Electricity(kWh)\n",
      "moy:\n",
      " 1719460.4245700848\n",
      "med:\n",
      " 482721.101575\n",
      "mod:\n",
      " 0       2.000000e+00\n",
      "1       2.449950e+03\n",
      "2       2.630750e+03\n",
      "3       4.976200e+03\n",
      "4       9.971950e+03\n",
      "            ...     \n",
      "1691    4.100195e+07\n",
      "1692    4.410208e+07\n",
      "1693    4.976086e+07\n",
      "1694    8.195296e+07\n",
      "1695    1.925775e+08\n",
      "Length: 1696, dtype: float64\n",
      "var:\n",
      " 36778000408421.016\n",
      "ect:\n",
      " 6064486.821522578\n",
      "skw:\n",
      " 20.852835660552923\n",
      "kur:\n",
      " 601.3938179843342\n"
     ]
    },
    {
     "data": {
      "image/png": "[encoded data removed]",
      "text/plain": [
       "<Figure size 432x288 with 1 Axes>"
      ]
     },
     "metadata": {
      "needs_background": "light"
     },
     "output_type": "display_data"
    },
    {
     "data": {
      "image/png": "[encoded data removed]",
      "text/plain": [
       "<Figure size 432x288 with 1 Axes>"
      ]
     },
     "metadata": {
      "needs_background": "light"
     },
     "output_type": "display_data"
    },
    {
     "name": "stdout",
     "output_type": "stream",
     "text": [
      "NaturalGas(kBtu)\n",
      "moy:\n",
      " 1972968.3950694574\n",
      "med:\n",
      " 497954.25\n",
      "mod:\n",
      " 0    0.0\n",
      "dtype: float64\n",
      "var:\n",
      " 88374594656082.42\n",
      "ect:\n",
      " 9400776.279440034\n",
      "skw:\n",
      " 21.650715761702685\n",
      "kur:\n",
      " 613.3256246351807\n"
     ]
    },
    {
     "data": {
      "image/png": "[encoded data removed]",
      "text/plain": [
       "<Figure size 432x288 with 1 Axes>"
      ]
     },
     "metadata": {
      "needs_background": "light"
     },
     "output_type": "display_data"
    },
    {
     "data": {
      "image/png": "[encoded data removed]",
      "text/plain": [
       "<Figure size 432x288 with 1 Axes>"
      ]
     },
     "metadata": {
      "needs_background": "light"
     },
     "output_type": "display_data"
    },
    {
     "name": "stdout",
     "output_type": "stream",
     "text": [
      "GHGEmissions(MetricTonsCO2e)\n",
      "moy:\n",
      " 185.3290566037736\n",
      "med:\n",
      " 50.2675\n",
      "mod:\n",
      " 0      0.240\n",
      "1      0.790\n",
      "2      1.560\n",
      "3      3.620\n",
      "4      3.730\n",
      "5      6.860\n",
      "6      9.145\n",
      "7      9.585\n",
      "8     16.645\n",
      "9     17.665\n",
      "10    21.105\n",
      "11    22.660\n",
      "12    23.660\n",
      "13    24.055\n",
      "14    30.485\n",
      "15    36.205\n",
      "16    50.405\n",
      "17    65.515\n",
      "18    71.060\n",
      "dtype: float64\n",
      "var:\n",
      " 555811.9439759674\n",
      "ect:\n",
      " 745.5279632421358\n",
      "skw:\n",
      " 14.115806020373842\n",
      "kur:\n",
      " 246.8318978382579\n"
     ]
    },
    {
     "data": {
      "image/png": "[encoded data removed]",
      "text/plain": [
       "<Figure size 432x288 with 1 Axes>"
      ]
     },
     "metadata": {
      "needs_background": "light"
     },
     "output_type": "display_data"
    },
    {
     "data": {
      "image/png": "[encoded data removed]",
      "text/plain": [
       "<Figure size 432x288 with 1 Axes>"
      ]
     },
     "metadata": {
      "needs_background": "light"
     },
     "output_type": "display_data"
    },
    {
     "name": "stdout",
     "output_type": "stream",
     "text": [
      "GHGEmissionsIntensity(kgCO2e/ft2)\n",
      "moy:\n",
      " 1.502532429245283\n",
      "med:\n",
      " 0.7875\n",
      "mod:\n",
      " 0    0.19\n",
      "dtype: float64\n",
      "var:\n",
      " 5.136749232438909\n",
      "ect:\n",
      " 2.2664397703091317\n",
      "skw:\n",
      " 4.785726599139725\n",
      "kur:\n",
      " 39.88121092614859\n"
     ]
    },
    {
     "data": {
      "image/png": "[encoded data removed]",
      "text/plain": [
       "<Figure size 432x288 with 1 Axes>"
      ]
     },
     "metadata": {
      "needs_background": "light"
     },
     "output_type": "display_data"
    },
    {
     "data": {
      "image/png": "[encoded data removed]",
      "text/plain": [
       "<Figure size 432x288 with 1 Axes>"
      ]
     },
     "metadata": {
      "needs_background": "light"
     },
     "output_type": "display_data"
    },
    {
     "name": "stdout",
     "output_type": "stream",
     "text": [
      "BuildingAge\n",
      "moy:\n",
      " 54.295400943396224\n",
      "med:\n",
      " 51.0\n",
      "mod:\n",
      " 0    116\n",
      "dtype: int64\n",
      "var:\n",
      " 1078.4887996033954\n",
      "ect:\n",
      " 32.840353219833\n",
      "skw:\n",
      " 0.28347995947703536\n",
      "kur:\n",
      " -1.0584642399878992\n"
     ]
    },
    {
     "data": {
      "image/png": "[encoded data removed]",
      "text/plain": [
       "<Figure size 432x288 with 1 Axes>"
      ]
     },
     "metadata": {
      "needs_background": "light"
     },
     "output_type": "display_data"
    },
    {
     "data": {
      "image/png": "[encoded data removed]",
      "text/plain": [
       "<Figure size 432x288 with 1 Axes>"
      ]
     },
     "metadata": {
      "needs_background": "light"
     },
     "output_type": "display_data"
    },
    {
     "name": "stdout",
     "output_type": "stream",
     "text": [
      "GFABuilding\n",
      "moy:\n",
      " 0.9373968163694284\n",
      "med:\n",
      " 1.0\n",
      "mod:\n",
      " 0    1.0\n",
      "dtype: float64\n",
      "var:\n",
      " 0.019362168262015034\n",
      "ect:\n",
      " 0.13914800847304654\n",
      "skw:\n",
      " -2.5506634943383584\n",
      "kur:\n",
      " 7.66478627432698\n"
     ]
    },
    {
     "data": {
      "image/png": "[encoded data removed]",
      "text/plain": [
       "<Figure size 432x288 with 1 Axes>"
      ]
     },
     "metadata": {
      "needs_background": "light"
     },
     "output_type": "display_data"
    },
    {
     "data": {
      "image/png": "[encoded data removed]",
      "text/plain": [
       "<Figure size 432x288 with 1 Axes>"
      ]
     },
     "metadata": {
      "needs_background": "light"
     },
     "output_type": "display_data"
    },
    {
     "name": "stdout",
     "output_type": "stream",
     "text": [
      "GFAParking\n",
      "moy:\n",
      " 0.06260318363057171\n",
      "med:\n",
      " 0.0\n",
      "mod:\n",
      " 0    0.0\n",
      "dtype: float64\n",
      "var:\n",
      " 0.019362168262015034\n",
      "ect:\n",
      " 0.13914800847304654\n",
      "skw:\n",
      " 2.5506634943383566\n",
      "kur:\n",
      " 7.664786274326971\n"
     ]
    },
    {
     "data": {
      "image/png": "[encoded data removed]",
      "text/plain": [
       "<Figure size 432x288 with 1 Axes>"
      ]
     },
     "metadata": {
      "needs_background": "light"
     },
     "output_type": "display_data"
    },
    {
     "data": {
      "image/png": "[encoded data removed]",
      "text/plain": [
       "<Figure size 432x288 with 1 Axes>"
      ]
     },
     "metadata": {
      "needs_background": "light"
     },
     "output_type": "display_data"
    },
    {
     "data": {
      "application/javascript": [
       "\n",
       "            setTimeout(function() {\n",
       "                var nbb_cell_id = 16;\n",
       "                var nbb_unformatted_code = \"# Je r\\u00e9alise une analyse univari\\u00e9 de toutes les variables quantitatives.\\n\\nfor c in data.columns:\\n    if c in ['BuildingAge','PropertyGFATotal','LargestPropertyUseTypeGFA','GFABuilding','NumberofFloors',\\n             'SecondLargestPropertyUseTypeGFA','ThirdLargestPropertyUseTypeGFA','ENERGYSTARScore','SiteEUI(kBtu/sf)'\\n             ,'SourceEUI(kBtu/sf)','SiteEnergyUse(kBtu)','SteamUse(kBtu)','Electricity(kWh)','NaturalGas(kBtu)','GFAParking'\\n             ,'GHGEmissions(MetricTonsCO2e)','GHGEmissionsIntensity(kgCO2e/ft2)']:\\n        subset = data[c] # Cr\\u00e9ation du sous-\\u00e9chantillon\\n        print(c)\\n        print(\\\"moy:\\\\n\\\",subset.mean())\\n        print(\\\"med:\\\\n\\\",subset.median())\\n        print(\\\"mod:\\\\n\\\",subset.mode())\\n        print(\\\"var:\\\\n\\\",subset.var(ddof=0))\\n        print(\\\"ect:\\\\n\\\",subset.std(ddof=0))\\n        print(\\\"skw:\\\\n\\\",subset.skew())\\n        print(\\\"kur:\\\\n\\\",subset.kurtosis())\\n        subset.hist(density=True,bins=50) # Cr\\u00e9e l'histogramme\\n        plt.show() # Affiche l'histogramme\\n        data.boxplot(column=c, vert=False)\\n        plt.show()\";\n",
       "                var nbb_formatted_code = \"# Je r\\u00e9alise une analyse univari\\u00e9 de toutes les variables quantitatives.\\n\\nfor c in data.columns:\\n    if c in [\\n        \\\"BuildingAge\\\",\\n        \\\"PropertyGFATotal\\\",\\n        \\\"LargestPropertyUseTypeGFA\\\",\\n        \\\"GFABuilding\\\",\\n        \\\"NumberofFloors\\\",\\n        \\\"SecondLargestPropertyUseTypeGFA\\\",\\n        \\\"ThirdLargestPropertyUseTypeGFA\\\",\\n        \\\"ENERGYSTARScore\\\",\\n        \\\"SiteEUI(kBtu/sf)\\\",\\n        \\\"SourceEUI(kBtu/sf)\\\",\\n        \\\"SiteEnergyUse(kBtu)\\\",\\n        \\\"SteamUse(kBtu)\\\",\\n        \\\"Electricity(kWh)\\\",\\n        \\\"NaturalGas(kBtu)\\\",\\n        \\\"GFAParking\\\",\\n        \\\"GHGEmissions(MetricTonsCO2e)\\\",\\n        \\\"GHGEmissionsIntensity(kgCO2e/ft2)\\\",\\n    ]:\\n        subset = data[c]  # Cr\\u00e9ation du sous-\\u00e9chantillon\\n        print(c)\\n        print(\\\"moy:\\\\n\\\", subset.mean())\\n        print(\\\"med:\\\\n\\\", subset.median())\\n        print(\\\"mod:\\\\n\\\", subset.mode())\\n        print(\\\"var:\\\\n\\\", subset.var(ddof=0))\\n        print(\\\"ect:\\\\n\\\", subset.std(ddof=0))\\n        print(\\\"skw:\\\\n\\\", subset.skew())\\n        print(\\\"kur:\\\\n\\\", subset.kurtosis())\\n        subset.hist(density=True, bins=50)  # Cr\\u00e9e l'histogramme\\n        plt.show()  # Affiche l'histogramme\\n        data.boxplot(column=c, vert=False)\\n        plt.show()\";\n",
       "                var nbb_cells = Jupyter.notebook.get_cells();\n",
       "                for (var i = 0; i < nbb_cells.length; ++i) {\n",
       "                    if (nbb_cells[i].input_prompt_number == nbb_cell_id) {\n",
       "                        if (nbb_cells[i].get_text() == nbb_unformatted_code) {\n",
       "                             nbb_cells[i].set_text(nbb_formatted_code);\n",
       "                        }\n",
       "                        break;\n",
       "                    }\n",
       "                }\n",
       "            }, 500);\n",
       "            "
      ],
      "text/plain": [
       "<IPython.core.display.Javascript object>"
      ]
     },
     "metadata": {},
     "output_type": "display_data"
    }
   ],
   "source": [
    "# Je réalise une analyse univarié de toutes les variables quantitatives.\n",
    "\n",
    "for c in data.columns:\n",
    "    if c in [\n",
    "        \"BuildingAge\",\n",
    "        \"PropertyGFATotal\",\n",
    "        \"LargestPropertyUseTypeGFA\",\n",
    "        \"GFABuilding\",\n",
    "        \"NumberofFloors\",\n",
    "        \"SecondLargestPropertyUseTypeGFA\",\n",
    "        \"ThirdLargestPropertyUseTypeGFA\",\n",
    "        \"ENERGYSTARScore\",\n",
    "        \"SiteEUI(kBtu/sf)\",\n",
    "        \"SourceEUI(kBtu/sf)\",\n",
    "        \"SiteEnergyUse(kBtu)\",\n",
    "        \"SteamUse(kBtu)\",\n",
    "        \"Electricity(kWh)\",\n",
    "        \"NaturalGas(kBtu)\",\n",
    "        \"GFAParking\",\n",
    "        \"GHGEmissions(MetricTonsCO2e)\",\n",
    "        \"GHGEmissionsIntensity(kgCO2e/ft2)\",\n",
    "    ]:\n",
    "        subset = data[c]  # Création du sous-échantillon\n",
    "        print(c)\n",
    "        print(\"moy:\\n\", subset.mean())\n",
    "        print(\"med:\\n\", subset.median())\n",
    "        print(\"mod:\\n\", subset.mode())\n",
    "        print(\"var:\\n\", subset.var(ddof=0))\n",
    "        print(\"ect:\\n\", subset.std(ddof=0))\n",
    "        print(\"skw:\\n\", subset.skew())\n",
    "        print(\"kur:\\n\", subset.kurtosis())\n",
    "        subset.hist(density=True, bins=50)  # Crée l'histogramme\n",
    "        plt.show()  # Affiche l'histogramme\n",
    "        data.boxplot(column=c, vert=False)\n",
    "        plt.show()"
   ]
  },
  {
   "cell_type": "code",
   "execution_count": 17,
   "id": "f031bd11",
   "metadata": {},
   "outputs": [
    {
     "data": {
      "image/png": "[encoded data removed]",
      "text/plain": [
       "<Figure size 432x288 with 2 Axes>"
      ]
     },
     "metadata": {
      "needs_background": "light"
     },
     "output_type": "display_data"
    },
    {
     "data": {
      "application/javascript": [
       "\n",
       "            setTimeout(function() {\n",
       "                var nbb_cell_id = 17;\n",
       "                var nbb_unformatted_code = \"# Regardons dans un premier temps, toutes les corr\\u00e9lations entre les variables.\\n\\ndata_map = data[['SiteEUI(kBtu/sf)','SourceEUI(kBtu/sf)','SiteEnergyUse(kBtu)','SteamUse(kBtu)','Electricity(kWh)',\\n                 'NaturalGas(kBtu)','GHGEmissions(MetricTonsCO2e)','GHGEmissionsIntensity(kgCO2e/ft2)', 'PropertyGFATotal',\\n                'LargestPropertyUseTypeGFA','SecondLargestPropertyUseTypeGFA','ThirdLargestPropertyUseTypeGFA']]\\n\\ncmap = sns.diverging_palette(220, 20, as_cmap=True)\\nax = sns.heatmap(data_map.corr(method='pearson', min_periods=1), cmap=cmap)\";\n",
       "                var nbb_formatted_code = \"# Regardons dans un premier temps, toutes les corr\\u00e9lations entre les variables.\\n\\ndata_map = data[\\n    [\\n        \\\"SiteEUI(kBtu/sf)\\\",\\n        \\\"SourceEUI(kBtu/sf)\\\",\\n        \\\"SiteEnergyUse(kBtu)\\\",\\n        \\\"SteamUse(kBtu)\\\",\\n        \\\"Electricity(kWh)\\\",\\n        \\\"NaturalGas(kBtu)\\\",\\n        \\\"GHGEmissions(MetricTonsCO2e)\\\",\\n        \\\"GHGEmissionsIntensity(kgCO2e/ft2)\\\",\\n        \\\"PropertyGFATotal\\\",\\n        \\\"LargestPropertyUseTypeGFA\\\",\\n        \\\"SecondLargestPropertyUseTypeGFA\\\",\\n        \\\"ThirdLargestPropertyUseTypeGFA\\\",\\n    ]\\n]\\n\\ncmap = sns.diverging_palette(220, 20, as_cmap=True)\\nax = sns.heatmap(data_map.corr(method=\\\"pearson\\\", min_periods=1), cmap=cmap)\";\n",
       "                var nbb_cells = Jupyter.notebook.get_cells();\n",
       "                for (var i = 0; i < nbb_cells.length; ++i) {\n",
       "                    if (nbb_cells[i].input_prompt_number == nbb_cell_id) {\n",
       "                        if (nbb_cells[i].get_text() == nbb_unformatted_code) {\n",
       "                             nbb_cells[i].set_text(nbb_formatted_code);\n",
       "                        }\n",
       "                        break;\n",
       "                    }\n",
       "                }\n",
       "            }, 500);\n",
       "            "
      ],
      "text/plain": [
       "<IPython.core.display.Javascript object>"
      ]
     },
     "metadata": {},
     "output_type": "display_data"
    }
   ],
   "source": [
    "# Regardons dans un premier temps, toutes les corrélations entre les variables.\n",
    "\n",
    "data_map = data[\n",
    "    [\n",
    "        \"SiteEUI(kBtu/sf)\",\n",
    "        \"SourceEUI(kBtu/sf)\",\n",
    "        \"SiteEnergyUse(kBtu)\",\n",
    "        \"SteamUse(kBtu)\",\n",
    "        \"Electricity(kWh)\",\n",
    "        \"NaturalGas(kBtu)\",\n",
    "        \"GHGEmissions(MetricTonsCO2e)\",\n",
    "        \"GHGEmissionsIntensity(kgCO2e/ft2)\",\n",
    "        \"PropertyGFATotal\",\n",
    "        \"LargestPropertyUseTypeGFA\",\n",
    "        \"SecondLargestPropertyUseTypeGFA\",\n",
    "        \"ThirdLargestPropertyUseTypeGFA\",\n",
    "    ]\n",
    "]\n",
    "\n",
    "cmap = sns.diverging_palette(220, 20, as_cmap=True)\n",
    "ax = sns.heatmap(data_map.corr(method=\"pearson\", min_periods=1), cmap=cmap)"
   ]
  },
  {
   "cell_type": "code",
   "execution_count": 18,
   "id": "498dfb0e",
   "metadata": {},
   "outputs": [
    {
     "data": {
      "image/png": "[encoded data removed]",
      "text/plain": [
       "<Figure size 432x288 with 1 Axes>"
      ]
     },
     "metadata": {
      "needs_background": "light"
     },
     "output_type": "display_data"
    },
    {
     "data": {
      "application/javascript": [
       "\n",
       "            setTimeout(function() {\n",
       "                var nbb_cell_id = 18;\n",
       "                var nbb_unformatted_code = \"# Faisons une analyse bivari\\u00e9 des deux variables qui nous interessent pour la suite, SiteEnergyUse et GHGEmissions(MetricTonsCO2e)\\n\\nsns.scatterplot(data = data, x='PropertyGFATotal', y='SiteEnergyUse(kBtu)', hue='BuildingType')\\nplt.show()\";\n",
       "                var nbb_formatted_code = \"# Faisons une analyse bivari\\u00e9 des deux variables qui nous interessent pour la suite, SiteEnergyUse et GHGEmissions(MetricTonsCO2e)\\n\\nsns.scatterplot(\\n    data=data, x=\\\"PropertyGFATotal\\\", y=\\\"SiteEnergyUse(kBtu)\\\", hue=\\\"BuildingType\\\"\\n)\\nplt.show()\";\n",
       "                var nbb_cells = Jupyter.notebook.get_cells();\n",
       "                for (var i = 0; i < nbb_cells.length; ++i) {\n",
       "                    if (nbb_cells[i].input_prompt_number == nbb_cell_id) {\n",
       "                        if (nbb_cells[i].get_text() == nbb_unformatted_code) {\n",
       "                             nbb_cells[i].set_text(nbb_formatted_code);\n",
       "                        }\n",
       "                        break;\n",
       "                    }\n",
       "                }\n",
       "            }, 500);\n",
       "            "
      ],
      "text/plain": [
       "<IPython.core.display.Javascript object>"
      ]
     },
     "metadata": {},
     "output_type": "display_data"
    }
   ],
   "source": [
    "# Faisons une analyse bivarié des deux variables qui nous interessent pour la suite, SiteEnergyUse et GHGEmissions(MetricTonsCO2e)\n",
    "\n",
    "sns.scatterplot(data=data, x=\"PropertyGFATotal\", y=\"SiteEnergyUse(kBtu)\", hue=\"BuildingType\")\n",
    "plt.show()"
   ]
  },
  {
   "cell_type": "code",
   "execution_count": 19,
   "id": "7835503d",
   "metadata": {},
   "outputs": [
    {
     "data": {
      "application/javascript": [
       "\n",
       "            setTimeout(function() {\n",
       "                var nbb_cell_id = 19;\n",
       "                var nbb_unformatted_code = \"# Gr\\u00e2ce \\u00e0 cette \\u00e9tude, nous pouvons remarquer qu'il existe un batiment Campus qui semble tr\\u00e9s eloign\\u00e9 des autres.\\n# Il s'agit dans doute une valeur atypique, j'ai choisi de ne pas la consid\\u00e9rer pour la suite.\\n\\ndata = data[data['SiteEnergyUse(kBtu)']<8*10**8]\";\n",
       "                var nbb_formatted_code = \"# Gr\\u00e2ce \\u00e0 cette \\u00e9tude, nous pouvons remarquer qu'il existe un batiment Campus qui semble tr\\u00e9s eloign\\u00e9 des autres.\\n# Il s'agit dans doute une valeur atypique, j'ai choisi de ne pas la consid\\u00e9rer pour la suite.\\n\\ndata = data[data[\\\"SiteEnergyUse(kBtu)\\\"] < 8 * 10 ** 8]\";\n",
       "                var nbb_cells = Jupyter.notebook.get_cells();\n",
       "                for (var i = 0; i < nbb_cells.length; ++i) {\n",
       "                    if (nbb_cells[i].input_prompt_number == nbb_cell_id) {\n",
       "                        if (nbb_cells[i].get_text() == nbb_unformatted_code) {\n",
       "                             nbb_cells[i].set_text(nbb_formatted_code);\n",
       "                        }\n",
       "                        break;\n",
       "                    }\n",
       "                }\n",
       "            }, 500);\n",
       "            "
      ],
      "text/plain": [
       "<IPython.core.display.Javascript object>"
      ]
     },
     "metadata": {},
     "output_type": "display_data"
    }
   ],
   "source": [
    "# Grâce à cette étude, nous pouvons remarquer qu'il existe un batiment Campus qui semble trés eloigné des autres.\n",
    "# Il s'agit dans doute une valeur atypique, j'ai choisi de ne pas la considérer pour la suite.\n",
    "\n",
    "data = data[data[\"SiteEnergyUse(kBtu)\"] < 8 * 10 ** 8]"
   ]
  },
  {
   "cell_type": "code",
   "execution_count": 20,
   "id": "59a7b97b",
   "metadata": {},
   "outputs": [
    {
     "data": {
      "image/png": "[encoded data removed]",
      "text/plain": [
       "<Figure size 432x288 with 1 Axes>"
      ]
     },
     "metadata": {
      "needs_background": "light"
     },
     "output_type": "display_data"
    },
    {
     "data": {
      "application/javascript": [
       "\n",
       "            setTimeout(function() {\n",
       "                var nbb_cell_id = 20;\n",
       "                var nbb_unformatted_code = \"X = \\\"BuildingType\\\" # qualitative\\nY = \\\"SiteEnergyUse(kBtu)\\\" # quantitative\\n\\n\\nmodalites = data[X].unique()\\ngroupes = []\\nfor m in modalites:\\n    groupes.append(data[data[X]==m][Y])\\n\\n# Propri\\u00e9t\\u00e9s graphiques (pas tr\\u00e8s importantes)    \\nmedianprops = {'color':\\\"black\\\"}\\nmeanprops = {'marker':'o', 'markeredgecolor':'black',\\n            'markerfacecolor':'firebrick'}\\n    \\nplt.boxplot(groupes, labels=modalites, showfliers=False, medianprops=medianprops, \\n            vert=False, patch_artist=True, showmeans=True, meanprops=meanprops)\\n\\nplt.xlabel(\\\"SiteEnergyUse(kBtu)\\\")\\n\\nplt.show()\";\n",
       "                var nbb_formatted_code = \"X = \\\"BuildingType\\\"  # qualitative\\nY = \\\"SiteEnergyUse(kBtu)\\\"  # quantitative\\n\\n\\nmodalites = data[X].unique()\\ngroupes = []\\nfor m in modalites:\\n    groupes.append(data[data[X] == m][Y])\\n\\n# Propri\\u00e9t\\u00e9s graphiques (pas tr\\u00e8s importantes)\\nmedianprops = {\\\"color\\\": \\\"black\\\"}\\nmeanprops = {\\\"marker\\\": \\\"o\\\", \\\"markeredgecolor\\\": \\\"black\\\", \\\"markerfacecolor\\\": \\\"firebrick\\\"}\\n\\nplt.boxplot(\\n    groupes,\\n    labels=modalites,\\n    showfliers=False,\\n    medianprops=medianprops,\\n    vert=False,\\n    patch_artist=True,\\n    showmeans=True,\\n    meanprops=meanprops,\\n)\\n\\nplt.xlabel(\\\"SiteEnergyUse(kBtu)\\\")\\n\\nplt.show()\";\n",
       "                var nbb_cells = Jupyter.notebook.get_cells();\n",
       "                for (var i = 0; i < nbb_cells.length; ++i) {\n",
       "                    if (nbb_cells[i].input_prompt_number == nbb_cell_id) {\n",
       "                        if (nbb_cells[i].get_text() == nbb_unformatted_code) {\n",
       "                             nbb_cells[i].set_text(nbb_formatted_code);\n",
       "                        }\n",
       "                        break;\n",
       "                    }\n",
       "                }\n",
       "            }, 500);\n",
       "            "
      ],
      "text/plain": [
       "<IPython.core.display.Javascript object>"
      ]
     },
     "metadata": {},
     "output_type": "display_data"
    }
   ],
   "source": [
    "X = \"BuildingType\"  # qualitative\n",
    "Y = \"SiteEnergyUse(kBtu)\"  # quantitative\n",
    "\n",
    "\n",
    "modalites = data[X].unique()\n",
    "groupes = []\n",
    "for m in modalites:\n",
    "    groupes.append(data[data[X] == m][Y])\n",
    "\n",
    "# Propriétés graphiques (pas très importantes)\n",
    "medianprops = {\"color\": \"black\"}\n",
    "meanprops = {\"marker\": \"o\", \"markeredgecolor\": \"black\", \"markerfacecolor\": \"firebrick\"}\n",
    "\n",
    "plt.boxplot(\n",
    "    groupes,\n",
    "    labels=modalites,\n",
    "    showfliers=False,\n",
    "    medianprops=medianprops,\n",
    "    vert=False,\n",
    "    patch_artist=True,\n",
    "    showmeans=True,\n",
    "    meanprops=meanprops,\n",
    ")\n",
    "\n",
    "plt.xlabel(\"SiteEnergyUse(kBtu)\")\n",
    "\n",
    "plt.show()"
   ]
  },
  {
   "cell_type": "code",
   "execution_count": 21,
   "id": "19f1748c",
   "metadata": {},
   "outputs": [
    {
     "data": {
      "image/png": "[encoded data removed]",
      "text/plain": [
       "<Figure size 432x288 with 1 Axes>"
      ]
     },
     "metadata": {
      "needs_background": "light"
     },
     "output_type": "display_data"
    },
    {
     "data": {
      "application/javascript": [
       "\n",
       "            setTimeout(function() {\n",
       "                var nbb_cell_id = 21;\n",
       "                var nbb_unformatted_code = \"sns.scatterplot(data = data, x='PropertyGFATotal', y='SiteEnergyUse(kBtu)', hue='BuildingType')\\nplt.show()\";\n",
       "                var nbb_formatted_code = \"sns.scatterplot(\\n    data=data, x=\\\"PropertyGFATotal\\\", y=\\\"SiteEnergyUse(kBtu)\\\", hue=\\\"BuildingType\\\"\\n)\\nplt.show()\";\n",
       "                var nbb_cells = Jupyter.notebook.get_cells();\n",
       "                for (var i = 0; i < nbb_cells.length; ++i) {\n",
       "                    if (nbb_cells[i].input_prompt_number == nbb_cell_id) {\n",
       "                        if (nbb_cells[i].get_text() == nbb_unformatted_code) {\n",
       "                             nbb_cells[i].set_text(nbb_formatted_code);\n",
       "                        }\n",
       "                        break;\n",
       "                    }\n",
       "                }\n",
       "            }, 500);\n",
       "            "
      ],
      "text/plain": [
       "<IPython.core.display.Javascript object>"
      ]
     },
     "metadata": {},
     "output_type": "display_data"
    }
   ],
   "source": [
    "sns.scatterplot(\n",
    "    data=data, x=\"PropertyGFATotal\", y=\"SiteEnergyUse(kBtu)\", hue=\"BuildingType\"\n",
    ")\n",
    "plt.show()"
   ]
  },
  {
   "cell_type": "code",
   "execution_count": 22,
   "id": "a9388787",
   "metadata": {},
   "outputs": [
    {
     "data": {
      "image/png": "[encoded data removed]",
      "text/plain": [
       "<Figure size 504x504 with 1 Axes>"
      ]
     },
     "metadata": {
      "needs_background": "light"
     },
     "output_type": "display_data"
    },
    {
     "data": {
      "application/javascript": [
       "\n",
       "            setTimeout(function() {\n",
       "                var nbb_cell_id = 22;\n",
       "                var nbb_unformatted_code = \"bins = pd.IntervalIndex.from_tuples([(0, 10), (10, 20), (20, 30), (30, 40), (40, 50), \\n                                     (50, 60), (60, 70), (70,80), (80,90), (90,100), \\n                                     (100,110), (110,120)])\\n\\nsns.catplot(data=data, kind=\\\"bar\\\",x=pd.cut(data['BuildingAge'], bins=bins), y=\\\"SiteEnergyUse(kBtu)\\\",ci=None,height=7)\\nplt.title(\\\"Influence de l'\\u00e2ge des b\\u00e2timents sur les d\\u00e9pensent \\u00e9nergietiques\\\")\\nplt.show()\";\n",
       "                var nbb_formatted_code = \"bins = pd.IntervalIndex.from_tuples(\\n    [\\n        (0, 10),\\n        (10, 20),\\n        (20, 30),\\n        (30, 40),\\n        (40, 50),\\n        (50, 60),\\n        (60, 70),\\n        (70, 80),\\n        (80, 90),\\n        (90, 100),\\n        (100, 110),\\n        (110, 120),\\n    ]\\n)\\n\\nsns.catplot(\\n    data=data,\\n    kind=\\\"bar\\\",\\n    x=pd.cut(data[\\\"BuildingAge\\\"], bins=bins),\\n    y=\\\"SiteEnergyUse(kBtu)\\\",\\n    ci=None,\\n    height=7,\\n)\\nplt.title(\\\"Influence de l'\\u00e2ge des b\\u00e2timents sur les d\\u00e9pensent \\u00e9nergietiques\\\")\\nplt.show()\";\n",
       "                var nbb_cells = Jupyter.notebook.get_cells();\n",
       "                for (var i = 0; i < nbb_cells.length; ++i) {\n",
       "                    if (nbb_cells[i].input_prompt_number == nbb_cell_id) {\n",
       "                        if (nbb_cells[i].get_text() == nbb_unformatted_code) {\n",
       "                             nbb_cells[i].set_text(nbb_formatted_code);\n",
       "                        }\n",
       "                        break;\n",
       "                    }\n",
       "                }\n",
       "            }, 500);\n",
       "            "
      ],
      "text/plain": [
       "<IPython.core.display.Javascript object>"
      ]
     },
     "metadata": {},
     "output_type": "display_data"
    }
   ],
   "source": [
    "bins = pd.IntervalIndex.from_tuples(\n",
    "    [\n",
    "        (0, 10),\n",
    "        (10, 20),\n",
    "        (20, 30),\n",
    "        (30, 40),\n",
    "        (40, 50),\n",
    "        (50, 60),\n",
    "        (60, 70),\n",
    "        (70, 80),\n",
    "        (80, 90),\n",
    "        (90, 100),\n",
    "        (100, 110),\n",
    "        (110, 120),\n",
    "    ]\n",
    ")\n",
    "\n",
    "sns.catplot(\n",
    "    data=data,\n",
    "    kind=\"bar\",\n",
    "    x=pd.cut(data[\"BuildingAge\"], bins=bins),\n",
    "    y=\"SiteEnergyUse(kBtu)\",\n",
    "    ci=None,\n",
    "    height=7,\n",
    ")\n",
    "plt.title(\"Influence de l'âge des bâtiments sur les dépensent énergietiques\")\n",
    "plt.show()"
   ]
  },
  {
   "cell_type": "code",
   "execution_count": 23,
   "id": "0778644b",
   "metadata": {},
   "outputs": [
    {
     "data": {
      "image/png": "[encoded data removed]",
      "text/plain": [
       "<Figure size 432x288 with 1 Axes>"
      ]
     },
     "metadata": {
      "needs_background": "light"
     },
     "output_type": "display_data"
    },
    {
     "data": {
      "application/javascript": [
       "\n",
       "            setTimeout(function() {\n",
       "                var nbb_cell_id = 23;\n",
       "                var nbb_unformatted_code = \"X = \\\"BuildingType\\\" # qualitative\\nY = \\\"GHGEmissions(MetricTonsCO2e)\\\" # quantitative\\n\\n\\nmodalites = data[X].unique()\\ngroupes = []\\nfor m in modalites:\\n    groupes.append(data[data[X]==m][Y])\\n\\n# Propri\\u00e9t\\u00e9s graphiques (pas tr\\u00e8s importantes)    \\nmedianprops = {'color':\\\"black\\\"}\\nmeanprops = {'marker':'o', 'markeredgecolor':'black',\\n            'markerfacecolor':'firebrick'}\\n    \\nplt.boxplot(groupes, labels=modalites, showfliers=False, medianprops=medianprops, \\n            vert=False, patch_artist=True, showmeans=True, meanprops=meanprops)\\n\\nplt.xlabel(\\\"GHGEmissions(MetricTonsCO2e)\\\")\\n\\nplt.show()\";\n",
       "                var nbb_formatted_code = \"X = \\\"BuildingType\\\"  # qualitative\\nY = \\\"GHGEmissions(MetricTonsCO2e)\\\"  # quantitative\\n\\n\\nmodalites = data[X].unique()\\ngroupes = []\\nfor m in modalites:\\n    groupes.append(data[data[X] == m][Y])\\n\\n# Propri\\u00e9t\\u00e9s graphiques (pas tr\\u00e8s importantes)\\nmedianprops = {\\\"color\\\": \\\"black\\\"}\\nmeanprops = {\\\"marker\\\": \\\"o\\\", \\\"markeredgecolor\\\": \\\"black\\\", \\\"markerfacecolor\\\": \\\"firebrick\\\"}\\n\\nplt.boxplot(\\n    groupes,\\n    labels=modalites,\\n    showfliers=False,\\n    medianprops=medianprops,\\n    vert=False,\\n    patch_artist=True,\\n    showmeans=True,\\n    meanprops=meanprops,\\n)\\n\\nplt.xlabel(\\\"GHGEmissions(MetricTonsCO2e)\\\")\\n\\nplt.show()\";\n",
       "                var nbb_cells = Jupyter.notebook.get_cells();\n",
       "                for (var i = 0; i < nbb_cells.length; ++i) {\n",
       "                    if (nbb_cells[i].input_prompt_number == nbb_cell_id) {\n",
       "                        if (nbb_cells[i].get_text() == nbb_unformatted_code) {\n",
       "                             nbb_cells[i].set_text(nbb_formatted_code);\n",
       "                        }\n",
       "                        break;\n",
       "                    }\n",
       "                }\n",
       "            }, 500);\n",
       "            "
      ],
      "text/plain": [
       "<IPython.core.display.Javascript object>"
      ]
     },
     "metadata": {},
     "output_type": "display_data"
    }
   ],
   "source": [
    "X = \"BuildingType\"  # qualitative\n",
    "Y = \"GHGEmissions(MetricTonsCO2e)\"  # quantitative\n",
    "\n",
    "\n",
    "modalites = data[X].unique()\n",
    "groupes = []\n",
    "for m in modalites:\n",
    "    groupes.append(data[data[X] == m][Y])\n",
    "\n",
    "# Propriétés graphiques (pas très importantes)\n",
    "medianprops = {\"color\": \"black\"}\n",
    "meanprops = {\"marker\": \"o\", \"markeredgecolor\": \"black\", \"markerfacecolor\": \"firebrick\"}\n",
    "\n",
    "plt.boxplot(\n",
    "    groupes,\n",
    "    labels=modalites,\n",
    "    showfliers=False,\n",
    "    medianprops=medianprops,\n",
    "    vert=False,\n",
    "    patch_artist=True,\n",
    "    showmeans=True,\n",
    "    meanprops=meanprops,\n",
    ")\n",
    "\n",
    "plt.xlabel(\"GHGEmissions(MetricTonsCO2e)\")\n",
    "\n",
    "plt.show()"
   ]
  },
  {
   "cell_type": "code",
   "execution_count": 24,
   "id": "47114bc8",
   "metadata": {},
   "outputs": [
    {
     "data": {
      "image/png": "[encoded data removed]",
      "text/plain": [
       "<Figure size 432x288 with 1 Axes>"
      ]
     },
     "metadata": {
      "needs_background": "light"
     },
     "output_type": "display_data"
    },
    {
     "data": {
      "application/javascript": [
       "\n",
       "            setTimeout(function() {\n",
       "                var nbb_cell_id = 24;\n",
       "                var nbb_unformatted_code = \"sns.scatterplot(data = data, x='PropertyGFATotal', y='GHGEmissions(MetricTonsCO2e)', hue='BuildingType')\\nplt.title(\\\"Influence de la surface sur les \\u00e9missions de CO2\\\")\\nplt.show()\";\n",
       "                var nbb_formatted_code = \"sns.scatterplot(\\n    data=data,\\n    x=\\\"PropertyGFATotal\\\",\\n    y=\\\"GHGEmissions(MetricTonsCO2e)\\\",\\n    hue=\\\"BuildingType\\\",\\n)\\nplt.title(\\\"Influence de la surface sur les \\u00e9missions de CO2\\\")\\nplt.show()\";\n",
       "                var nbb_cells = Jupyter.notebook.get_cells();\n",
       "                for (var i = 0; i < nbb_cells.length; ++i) {\n",
       "                    if (nbb_cells[i].input_prompt_number == nbb_cell_id) {\n",
       "                        if (nbb_cells[i].get_text() == nbb_unformatted_code) {\n",
       "                             nbb_cells[i].set_text(nbb_formatted_code);\n",
       "                        }\n",
       "                        break;\n",
       "                    }\n",
       "                }\n",
       "            }, 500);\n",
       "            "
      ],
      "text/plain": [
       "<IPython.core.display.Javascript object>"
      ]
     },
     "metadata": {},
     "output_type": "display_data"
    }
   ],
   "source": [
    "sns.scatterplot(\n",
    "    data=data,\n",
    "    x=\"PropertyGFATotal\",\n",
    "    y=\"GHGEmissions(MetricTonsCO2e)\",\n",
    "    hue=\"BuildingType\",\n",
    ")\n",
    "plt.title(\"Influence de la surface sur les émissions de CO2\")\n",
    "plt.show()"
   ]
  },
  {
   "cell_type": "code",
   "execution_count": 25,
   "id": "9f0f413a",
   "metadata": {},
   "outputs": [
    {
     "data": {
      "image/png": "[encoded data removed]",
      "text/plain": [
       "<Figure size 504x504 with 1 Axes>"
      ]
     },
     "metadata": {
      "needs_background": "light"
     },
     "output_type": "display_data"
    },
    {
     "data": {
      "application/javascript": [
       "\n",
       "            setTimeout(function() {\n",
       "                var nbb_cell_id = 25;\n",
       "                var nbb_unformatted_code = \"bins = pd.IntervalIndex.from_tuples([(0, 10), (10, 20), (20, 30), (30, 40), (40, 50), \\n                                     (50, 60), (60, 70), (70,80), (80,90), (90,100), \\n                                     (100,110), (110,120)])\\n\\nsns.catplot(data=data, kind=\\\"bar\\\",x=pd.cut(data['BuildingAge'], bins=bins), y=\\\"GHGEmissions(MetricTonsCO2e)\\\",ci=None,height=7)\\nplt.title(\\\"Influence de l'\\u00e2ge des b\\u00e2timents sur les \\u00e9missions de CO2\\\")\\nplt.show()\";\n",
       "                var nbb_formatted_code = \"bins = pd.IntervalIndex.from_tuples(\\n    [\\n        (0, 10),\\n        (10, 20),\\n        (20, 30),\\n        (30, 40),\\n        (40, 50),\\n        (50, 60),\\n        (60, 70),\\n        (70, 80),\\n        (80, 90),\\n        (90, 100),\\n        (100, 110),\\n        (110, 120),\\n    ]\\n)\\n\\nsns.catplot(\\n    data=data,\\n    kind=\\\"bar\\\",\\n    x=pd.cut(data[\\\"BuildingAge\\\"], bins=bins),\\n    y=\\\"GHGEmissions(MetricTonsCO2e)\\\",\\n    ci=None,\\n    height=7,\\n)\\nplt.title(\\\"Influence de l'\\u00e2ge des b\\u00e2timents sur les \\u00e9missions de CO2\\\")\\nplt.show()\";\n",
       "                var nbb_cells = Jupyter.notebook.get_cells();\n",
       "                for (var i = 0; i < nbb_cells.length; ++i) {\n",
       "                    if (nbb_cells[i].input_prompt_number == nbb_cell_id) {\n",
       "                        if (nbb_cells[i].get_text() == nbb_unformatted_code) {\n",
       "                             nbb_cells[i].set_text(nbb_formatted_code);\n",
       "                        }\n",
       "                        break;\n",
       "                    }\n",
       "                }\n",
       "            }, 500);\n",
       "            "
      ],
      "text/plain": [
       "<IPython.core.display.Javascript object>"
      ]
     },
     "metadata": {},
     "output_type": "display_data"
    }
   ],
   "source": [
    "bins = pd.IntervalIndex.from_tuples(\n",
    "    [\n",
    "        (0, 10),\n",
    "        (10, 20),\n",
    "        (20, 30),\n",
    "        (30, 40),\n",
    "        (40, 50),\n",
    "        (50, 60),\n",
    "        (60, 70),\n",
    "        (70, 80),\n",
    "        (80, 90),\n",
    "        (90, 100),\n",
    "        (100, 110),\n",
    "        (110, 120),\n",
    "    ]\n",
    ")\n",
    "\n",
    "sns.catplot(\n",
    "    data=data,\n",
    "    kind=\"bar\",\n",
    "    x=pd.cut(data[\"BuildingAge\"], bins=bins),\n",
    "    y=\"GHGEmissions(MetricTonsCO2e)\",\n",
    "    ci=None,\n",
    "    height=7,\n",
    ")\n",
    "plt.title(\"Influence de l'âge des bâtiments sur les émissions de CO2\")\n",
    "plt.show()"
   ]
  },
  {
   "cell_type": "code",
   "execution_count": 26,
   "id": "62ceb05d",
   "metadata": {},
   "outputs": [
    {
     "data": {
      "application/javascript": [
       "\n",
       "            setTimeout(function() {\n",
       "                var nbb_cell_id = 26;\n",
       "                var nbb_unformatted_code = \"# Je vais maintenant s\\u00e9par\\u00e9 mes donn\\u00e9es en deux dataset. Je vais dans un premier temps, supprim\\u00e9 toutes les donn\\u00e9es Outliers,\\n# Defaultdata et ComplianceStatut. Je les garde dans un deuxi\\u00e8me dataset pour pouvoir, une fois notre mod\\u00e8le s\\u00e9lectionn\\u00e9\\n# voir leurs influences sur les r\\u00e9sultats \\n\\ndata_wo = data\\n\\ndata.drop( data[data['Outlier'] == 'High Outlier' ].index, inplace=True)\\ndata.drop( data[data['Outlier'] == 'Low Outlier' ].index, inplace=True)\\ndata.drop( data[data['Outlier'] == 'High outlier' ].index, inplace=True)\\ndata.drop( data[data['Outlier'] == 'Low outlier' ].index, inplace=True)\\ndata.drop( data[data['DefaultData'] == 'Yes' ].index, inplace=True)\\ndata = data[data['DefaultData'].notna()]\\ndata.drop( data[data['DefaultData'] == True ].index, inplace=True)\\ndata = data[data['ComplianceStatus'] == \\\"Compliant\\\"]\";\n",
       "                var nbb_formatted_code = \"# Je vais maintenant s\\u00e9par\\u00e9 mes donn\\u00e9es en deux dataset. Je vais dans un premier temps, supprim\\u00e9 toutes les donn\\u00e9es Outliers,\\n# Defaultdata et ComplianceStatut. Je les garde dans un deuxi\\u00e8me dataset pour pouvoir, une fois notre mod\\u00e8le s\\u00e9lectionn\\u00e9\\n# voir leurs influences sur les r\\u00e9sultats\\n\\ndata_wo = data\\n\\ndata.drop(data[data[\\\"Outlier\\\"] == \\\"High Outlier\\\"].index, inplace=True)\\ndata.drop(data[data[\\\"Outlier\\\"] == \\\"Low Outlier\\\"].index, inplace=True)\\ndata.drop(data[data[\\\"Outlier\\\"] == \\\"High outlier\\\"].index, inplace=True)\\ndata.drop(data[data[\\\"Outlier\\\"] == \\\"Low outlier\\\"].index, inplace=True)\\ndata.drop(data[data[\\\"DefaultData\\\"] == \\\"Yes\\\"].index, inplace=True)\\ndata = data[data[\\\"DefaultData\\\"].notna()]\\ndata.drop(data[data[\\\"DefaultData\\\"] == True].index, inplace=True)\\ndata = data[data[\\\"ComplianceStatus\\\"] == \\\"Compliant\\\"]\";\n",
       "                var nbb_cells = Jupyter.notebook.get_cells();\n",
       "                for (var i = 0; i < nbb_cells.length; ++i) {\n",
       "                    if (nbb_cells[i].input_prompt_number == nbb_cell_id) {\n",
       "                        if (nbb_cells[i].get_text() == nbb_unformatted_code) {\n",
       "                             nbb_cells[i].set_text(nbb_formatted_code);\n",
       "                        }\n",
       "                        break;\n",
       "                    }\n",
       "                }\n",
       "            }, 500);\n",
       "            "
      ],
      "text/plain": [
       "<IPython.core.display.Javascript object>"
      ]
     },
     "metadata": {},
     "output_type": "display_data"
    }
   ],
   "source": [
    "# Je vais maintenant séparé mes données en deux dataset. Je vais dans un premier temps supprimer toutes les données Outliers,\n",
    "# Defaultdata et ComplianceStatut. Je les garde dans un deuxième dataset pour pouvoir, une fois notre modèle sélectionné\n",
    "# voir leurs influences sur les résultats.\n",
    "\n",
    "data_wo = data\n",
    "\n",
    "data.drop(data[data[\"Outlier\"] == \"High Outlier\"].index, inplace=True)\n",
    "data.drop(data[data[\"Outlier\"] == \"Low Outlier\"].index, inplace=True)\n",
    "data.drop(data[data[\"Outlier\"] == \"High outlier\"].index, inplace=True)\n",
    "data.drop(data[data[\"Outlier\"] == \"Low outlier\"].index, inplace=True)\n",
    "data.drop(data[data[\"DefaultData\"] == \"Yes\"].index, inplace=True)\n",
    "data = data[data[\"DefaultData\"].notna()]\n",
    "data.drop(data[data[\"DefaultData\"] == True].index, inplace=True)\n",
    "data = data[data[\"ComplianceStatus\"] == \"Compliant\"]"
   ]
  },
  {
   "cell_type": "code",
   "execution_count": 26,
   "id": "f38d2548",
   "metadata": {},
   "outputs": [],
   "source": [
    "# Enregistrement au format CSV\n",
    "data.to_csv(\"data_nettoyees.csv\",index=False)\n",
    "data.to_csv(\"data_wo.csv\",index=False)"
   ]
  }
 ],
 "metadata": {
  "kernelspec": {
   "display_name": "Python 3",
   "language": "python",
   "name": "python3"
  },
  "language_info": {
   "codemirror_mode": {
    "name": "ipython",
    "version": 3
   },
   "file_extension": ".py",
   "mimetype": "text/x-python",
   "name": "python",
   "nbconvert_exporter": "python",
   "pygments_lexer": "ipython3",
   "version": "3.9.5"
  }
 },
 "nbformat": 4,
 "nbformat_minor": 5
}
