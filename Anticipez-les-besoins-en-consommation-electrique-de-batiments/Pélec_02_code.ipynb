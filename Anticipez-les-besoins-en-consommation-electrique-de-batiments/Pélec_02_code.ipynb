{
 "cells": [
  {
   "cell_type": "markdown",
   "id": "d5ab3c2a",
   "metadata": {},
   "source": [
    "## Partie 1 : Preprocessing"
   ]
  },
  {
   "cell_type": "code",
   "execution_count": 2,
   "id": "ac7a6daf",
   "metadata": {},
   "outputs": [
    {
     "data": {
      "application/javascript": [
       "\n",
       "            setTimeout(function() {\n",
       "                var nbb_cell_id = 2;\n",
       "                var nbb_unformatted_code = \"import pandas as pd\\nimport matplotlib.pyplot as plt\\nimport seaborn as sns\\nimport numpy as np\\n\\n# Chargement des donn\\u00e9es\\n\\ndata = pd.read_csv(\\\"data_nettoyees.csv\\\", low_memory=False)\\ndata_wo = pd.read_csv(\\\"data_wo.csv\\\", low_memory=False)\";\n",
       "                var nbb_formatted_code = \"import pandas as pd\\nimport matplotlib.pyplot as plt\\nimport seaborn as sns\\nimport numpy as np\\n\\n# Chargement des donn\\u00e9es\\n\\ndata = pd.read_csv(\\\"data_nettoyees.csv\\\", low_memory=False)\\ndata_wo = pd.read_csv(\\\"data_wo.csv\\\", low_memory=False)\";\n",
       "                var nbb_cells = Jupyter.notebook.get_cells();\n",
       "                for (var i = 0; i < nbb_cells.length; ++i) {\n",
       "                    if (nbb_cells[i].input_prompt_number == nbb_cell_id) {\n",
       "                        if (nbb_cells[i].get_text() == nbb_unformatted_code) {\n",
       "                             nbb_cells[i].set_text(nbb_formatted_code);\n",
       "                        }\n",
       "                        break;\n",
       "                    }\n",
       "                }\n",
       "            }, 500);\n",
       "            "
      ],
      "text/plain": [
       "<IPython.core.display.Javascript object>"
      ]
     },
     "metadata": {},
     "output_type": "display_data"
    }
   ],
   "source": [
    "import pandas as pd\n",
    "import matplotlib.pyplot as plt\n",
    "import seaborn as sns\n",
    "import numpy as np\n",
    "\n",
    "# Chargement des données\n",
    "\n",
    "data = pd.read_csv(\"data_nettoyees.csv\", low_memory=False)\n",
    "data_wo = pd.read_csv(\"data_wo.csv\", low_memory=False)"
   ]
  },
  {
   "cell_type": "code",
   "execution_count": 3,
   "id": "999ce3cf",
   "metadata": {},
   "outputs": [
    {
     "data": {
      "application/javascript": [
       "\n",
       "            setTimeout(function() {\n",
       "                var nbb_cell_id = 3;\n",
       "                var nbb_unformatted_code = \"## Maintenant que nous avons r\\u00e9cup\\u00e9r\\u00e9 les donn\\u00e9es nettoy\\u00e9es, nous allons effectu\\u00e9 quelques op\\u00e9rations avant de passer aux\\n## algorithme. Nous allons donc appliquer la fonction OneHotEncoder \\u00e0 nos variables qualitatives. Dans un premier temps, je vais\\n## me servir des donn\\u00e9es sans les outliers et sans la donn\\u00e9es de EnergySTAR. Ces transformations concernent les donn\\u00e9es que\\n## nous allons mettre dans notre algorithme. Les targets seront \\u00e9tudi\\u00e9es dans une deuxi\\u00e8me partie.\\n\\nfrom sklearn.preprocessing import OneHotEncoder\\nfrom sklearn.linear_model import LinearRegression\\nfrom sklearn.model_selection import train_test_split\\nfrom sklearn.model_selection import cross_val_score\\nfrom sklearn.preprocessing import StandardScaler\\nfrom sklearn.metrics import r2_score\\n\\n\\nenc = OneHotEncoder(handle_unknown=\\\"ignore\\\")\\n\\ncolumns = [\\n    \\\"NumberofBuildings\\\",\\n    \\\"NumberofFloors\\\",\\n    \\\"GFABuilding\\\",\\n    \\\"GFAParking\\\",\\n    \\\"BuildingAge\\\",\\n    \\\"PropertyGFATotal\\\",\\n]\\nmycolumns = [\\n    \\\"BuildingType\\\",\\n    \\\"Neighborhood\\\",\\n    \\\"LargestPropertyUseType\\\",\\n    \\\"PrimaryPropertyType\\\",\\n]\\n\\nX = data.loc[:, mycolumns]\\nenc.fit(X)\\nenc.transform(X)\\nenc.categories_\\nX_bis = enc.transform(X).todense()\\n\\nf1_vec = data.loc[:, columns].values\\nX_2 = np.concatenate((f1_vec, X_bis), axis=1)\\n\\ndonnees = [\\\"SiteEnergyUse(kBtu)\\\", \\\"GHGEmissions(MetricTonsCO2e)\\\"]\\n\\ny = data.loc[:, donnees]\";\n",
       "                var nbb_formatted_code = \"## Maintenant que nous avons r\\u00e9cup\\u00e9r\\u00e9 les donn\\u00e9es nettoy\\u00e9es, nous allons effectu\\u00e9 quelques op\\u00e9rations avant de passer aux\\n## algorithme. Nous allons donc appliquer la fonction OneHotEncoder \\u00e0 nos variables qualitatives. Dans un premier temps, je vais\\n## me servir des donn\\u00e9es sans les outliers et sans la donn\\u00e9es de EnergySTAR. Ces transformations concernent les donn\\u00e9es que\\n## nous allons mettre dans notre algorithme. Les targets seront \\u00e9tudi\\u00e9es dans une deuxi\\u00e8me partie.\\n\\nfrom sklearn.preprocessing import OneHotEncoder\\nfrom sklearn.linear_model import LinearRegression\\nfrom sklearn.model_selection import train_test_split\\nfrom sklearn.model_selection import cross_val_score\\nfrom sklearn.preprocessing import StandardScaler\\nfrom sklearn.metrics import r2_score\\n\\n\\nenc = OneHotEncoder(handle_unknown=\\\"ignore\\\")\\n\\ncolumns = [\\n    \\\"NumberofBuildings\\\",\\n    \\\"NumberofFloors\\\",\\n    \\\"GFABuilding\\\",\\n    \\\"GFAParking\\\",\\n    \\\"BuildingAge\\\",\\n    \\\"PropertyGFATotal\\\",\\n]\\nmycolumns = [\\n    \\\"BuildingType\\\",\\n    \\\"Neighborhood\\\",\\n    \\\"LargestPropertyUseType\\\",\\n    \\\"PrimaryPropertyType\\\",\\n]\\n\\nX = data.loc[:, mycolumns]\\nenc.fit(X)\\nenc.transform(X)\\nenc.categories_\\nX_bis = enc.transform(X).todense()\\n\\nf1_vec = data.loc[:, columns].values\\nX_2 = np.concatenate((f1_vec, X_bis), axis=1)\\n\\ndonnees = [\\\"SiteEnergyUse(kBtu)\\\", \\\"GHGEmissions(MetricTonsCO2e)\\\"]\\n\\ny = data.loc[:, donnees]\";\n",
       "                var nbb_cells = Jupyter.notebook.get_cells();\n",
       "                for (var i = 0; i < nbb_cells.length; ++i) {\n",
       "                    if (nbb_cells[i].input_prompt_number == nbb_cell_id) {\n",
       "                        if (nbb_cells[i].get_text() == nbb_unformatted_code) {\n",
       "                             nbb_cells[i].set_text(nbb_formatted_code);\n",
       "                        }\n",
       "                        break;\n",
       "                    }\n",
       "                }\n",
       "            }, 500);\n",
       "            "
      ],
      "text/plain": [
       "<IPython.core.display.Javascript object>"
      ]
     },
     "metadata": {},
     "output_type": "display_data"
    }
   ],
   "source": [
    "## Maintenant que nous avons récupéré les données nettoyées, nous allons effectuer quelques opérations avant de passer aux\n",
    "## algorithmes. Nous allons donc appliquer la fonction OneHotEncoder à nos variables qualitatives. Dans un premier temps, je vais\n",
    "## me servir des données sans les outliers et sans la données de EnergySTAR. Ces transformations concernent les données que\n",
    "## nous allons mettre dans notre algorithme. Les targets seront étudiées dans une deuxième partie.\n",
    "\n",
    "from sklearn.preprocessing import OneHotEncoder\n",
    "from sklearn.linear_model import LinearRegression\n",
    "from sklearn.model_selection import train_test_split\n",
    "from sklearn.model_selection import cross_val_score\n",
    "from sklearn.preprocessing import StandardScaler\n",
    "from sklearn.metrics import r2_score\n",
    "\n",
    "\n",
    "enc = OneHotEncoder(handle_unknown=\"ignore\")\n",
    "\n",
    "columns = [\n",
    "    \"NumberofBuildings\",\n",
    "    \"NumberofFloors\",\n",
    "    \"GFABuilding\",\n",
    "    \"GFAParking\",\n",
    "    \"BuildingAge\",\n",
    "    \"PropertyGFATotal\",\n",
    "]\n",
    "mycolumns = [\n",
    "    \"BuildingType\",\n",
    "    \"Neighborhood\",\n",
    "    \"LargestPropertyUseType\",\n",
    "    \"PrimaryPropertyType\",\n",
    "]\n",
    "\n",
    "X = data.loc[:, mycolumns]\n",
    "enc.fit(X)\n",
    "enc.transform(X)\n",
    "enc.categories_\n",
    "X_bis = enc.transform(X).todense()\n",
    "\n",
    "f1_vec = data.loc[:, columns].values\n",
    "X_2 = np.concatenate((f1_vec, X_bis), axis=1)\n",
    "\n",
    "donnees = [\"SiteEnergyUse(kBtu)\", \"GHGEmissions(MetricTonsCO2e)\"]\n",
    "\n",
    "y = data.loc[:, donnees]"
   ]
  },
  {
   "cell_type": "code",
   "execution_count": 5,
   "id": "d144df70",
   "metadata": {},
   "outputs": [
    {
     "data": {
      "image/png": "[encoded data removed]",
      "text/plain": [
       "<Figure size 1440x576 with 2 Axes>"
      ]
     },
     "metadata": {
      "needs_background": "light"
     },
     "output_type": "display_data"
    },
    {
     "data": {
      "application/javascript": [
       "\n",
       "            setTimeout(function() {\n",
       "                var nbb_cell_id = 5;\n",
       "                var nbb_unformatted_code = \"## Nous allons maintenant modifier nos donn\\u00e9es \\u00e0 pr\\u00e9dire en appliquant une transformation logarithmique \\u00e0 nos variables. On peut remarquer\\n## qu'en faisant cela, nos variables ont une distribution normale.\\n\\nfrom sklearn.preprocessing import FunctionTransformer\\n\\nlogtransformer = FunctionTransformer(np.log, inverse_func=np.exp, check_inverse=True)\\nY_log = logtransformer.transform(y)\\n\\nfig, axes = plt.subplots(nrows=1, ncols=2, figsize=(20, 8))\\nsns.histplot(data=y, x=\\\"GHGEmissions(MetricTonsCO2e)\\\", stat=\\\"density\\\", ax=axes[0])\\nsns.histplot(data=Y_log, x=\\\"GHGEmissions(MetricTonsCO2e)\\\", stat=\\\"density\\\", ax=axes[1])\\nplt.show()\";\n",
       "                var nbb_formatted_code = \"## Nous allons maintenant modifier nos donn\\u00e9es \\u00e0 pr\\u00e9dire en appliquant une transformation logarithmique \\u00e0 nos variables. On peut remarquer\\n## qu'en faisant cela, nos variables ont une distribution normale.\\n\\nfrom sklearn.preprocessing import FunctionTransformer\\n\\nlogtransformer = FunctionTransformer(np.log, inverse_func=np.exp, check_inverse=True)\\nY_log = logtransformer.transform(y)\\n\\nfig, axes = plt.subplots(nrows=1, ncols=2, figsize=(20, 8))\\nsns.histplot(data=y, x=\\\"GHGEmissions(MetricTonsCO2e)\\\", stat=\\\"density\\\", ax=axes[0])\\nsns.histplot(data=Y_log, x=\\\"GHGEmissions(MetricTonsCO2e)\\\", stat=\\\"density\\\", ax=axes[1])\\nplt.show()\";\n",
       "                var nbb_cells = Jupyter.notebook.get_cells();\n",
       "                for (var i = 0; i < nbb_cells.length; ++i) {\n",
       "                    if (nbb_cells[i].input_prompt_number == nbb_cell_id) {\n",
       "                        if (nbb_cells[i].get_text() == nbb_unformatted_code) {\n",
       "                             nbb_cells[i].set_text(nbb_formatted_code);\n",
       "                        }\n",
       "                        break;\n",
       "                    }\n",
       "                }\n",
       "            }, 500);\n",
       "            "
      ],
      "text/plain": [
       "<IPython.core.display.Javascript object>"
      ]
     },
     "metadata": {},
     "output_type": "display_data"
    }
   ],
   "source": [
    "## Nous allons maintenant modifier nos données à prédire en appliquant une transformation logarithmique à nos variables. On peut remarquer\n",
    "## qu'en faisant cela, nos variables ont une distribution normale.\n",
    "\n",
    "from sklearn.preprocessing import FunctionTransformer\n",
    "\n",
    "logtransformer = FunctionTransformer(np.log, inverse_func=np.exp, check_inverse=True)\n",
    "Y_log = logtransformer.transform(y)\n",
    "\n",
    "fig, axes = plt.subplots(nrows=1, ncols=2, figsize=(20, 8))\n",
    "sns.histplot(data=y, x=\"GHGEmissions(MetricTonsCO2e)\", stat=\"density\", ax=axes[0])\n",
    "sns.histplot(data=Y_log, x=\"GHGEmissions(MetricTonsCO2e)\", stat=\"density\", ax=axes[1])\n",
    "plt.show()"
   ]
  },
  {
   "cell_type": "code",
   "execution_count": 6,
   "id": "083b80b2",
   "metadata": {},
   "outputs": [
    {
     "data": {
      "image/png": "[encoded data removed]",
      "text/plain": [
       "<Figure size 1440x576 with 2 Axes>"
      ]
     },
     "metadata": {
      "needs_background": "light"
     },
     "output_type": "display_data"
    },
    {
     "data": {
      "application/javascript": [
       "\n",
       "            setTimeout(function() {\n",
       "                var nbb_cell_id = 6;\n",
       "                var nbb_unformatted_code = \"fig, axes = plt.subplots(nrows=1, ncols=2, figsize=(20, 8))\\nsns.histplot(data=y, x=\\\"SiteEnergyUse(kBtu)\\\", stat=\\\"density\\\", ax=axes[0])\\nsns.histplot(data=Y_log, x=\\\"SiteEnergyUse(kBtu)\\\", stat=\\\"density\\\", ax=axes[1])\\nplt.show()\";\n",
       "                var nbb_formatted_code = \"fig, axes = plt.subplots(nrows=1, ncols=2, figsize=(20, 8))\\nsns.histplot(data=y, x=\\\"SiteEnergyUse(kBtu)\\\", stat=\\\"density\\\", ax=axes[0])\\nsns.histplot(data=Y_log, x=\\\"SiteEnergyUse(kBtu)\\\", stat=\\\"density\\\", ax=axes[1])\\nplt.show()\";\n",
       "                var nbb_cells = Jupyter.notebook.get_cells();\n",
       "                for (var i = 0; i < nbb_cells.length; ++i) {\n",
       "                    if (nbb_cells[i].input_prompt_number == nbb_cell_id) {\n",
       "                        if (nbb_cells[i].get_text() == nbb_unformatted_code) {\n",
       "                             nbb_cells[i].set_text(nbb_formatted_code);\n",
       "                        }\n",
       "                        break;\n",
       "                    }\n",
       "                }\n",
       "            }, 500);\n",
       "            "
      ],
      "text/plain": [
       "<IPython.core.display.Javascript object>"
      ]
     },
     "metadata": {},
     "output_type": "display_data"
    }
   ],
   "source": [
    "fig, axes = plt.subplots(nrows=1, ncols=2, figsize=(20, 8))\n",
    "sns.histplot(data=y, x=\"SiteEnergyUse(kBtu)\", stat=\"density\", ax=axes[0])\n",
    "sns.histplot(data=Y_log, x=\"SiteEnergyUse(kBtu)\", stat=\"density\", ax=axes[1])\n",
    "plt.show()"
   ]
  },
  {
   "cell_type": "code",
   "execution_count": 7,
   "id": "2ddb64cc",
   "metadata": {},
   "outputs": [
    {
     "data": {
      "application/javascript": [
       "\n",
       "            setTimeout(function() {\n",
       "                var nbb_cell_id = 7;\n",
       "                var nbb_unformatted_code = \"## S\\u00e9parons maintenant nos donn\\u00e9es entre les variables de tests et d'entrainements. J'ai choisi 80% d'entrainements et 20% de tests\\n\\nX_train, X_test, y_train, y_test = train_test_split(\\n    X_2, Y_log, test_size=0.2, random_state=42\\n)\";\n",
       "                var nbb_formatted_code = \"## S\\u00e9parons maintenant nos donn\\u00e9es entre les variables de tests et d'entrainements. J'ai choisi 80% d'entrainements et 20% de tests\\n\\nX_train, X_test, y_train, y_test = train_test_split(\\n    X_2, Y_log, test_size=0.2, random_state=42\\n)\";\n",
       "                var nbb_cells = Jupyter.notebook.get_cells();\n",
       "                for (var i = 0; i < nbb_cells.length; ++i) {\n",
       "                    if (nbb_cells[i].input_prompt_number == nbb_cell_id) {\n",
       "                        if (nbb_cells[i].get_text() == nbb_unformatted_code) {\n",
       "                             nbb_cells[i].set_text(nbb_formatted_code);\n",
       "                        }\n",
       "                        break;\n",
       "                    }\n",
       "                }\n",
       "            }, 500);\n",
       "            "
      ],
      "text/plain": [
       "<IPython.core.display.Javascript object>"
      ]
     },
     "metadata": {},
     "output_type": "display_data"
    }
   ],
   "source": [
    "## Séparons maintenant nos données entre les variables de tests et d'entrainements. J'ai choisi 80% d'entrainements et 20% de tests\n",
    "\n",
    "X_train, X_test, y_train, y_test = train_test_split(\n",
    "    X_2, Y_log, test_size=0.2, random_state=42\n",
    ")"
   ]
  },
  {
   "cell_type": "markdown",
   "id": "db0493c2",
   "metadata": {},
   "source": [
    "## Partie 2 : Modéles linéaires"
   ]
  },
  {
   "cell_type": "code",
   "execution_count": 8,
   "id": "ce4071af",
   "metadata": {},
   "outputs": [
    {
     "name": "stdout",
     "output_type": "stream",
     "text": [
      "Fitting 5 folds for each of 200 candidates, totalling 1000 fits\n",
      "Best R2:  [0.58000103]\n",
      "Best MAE:  [-0.65536748]\n",
      "Temps moyen [0.00639858] s\n",
      "Best Params:  {'Ridge__alpha': 112.26677735108136}\n"
     ]
    },
    {
     "data": {
      "application/javascript": [
       "\n",
       "            setTimeout(function() {\n",
       "                var nbb_cell_id = 8;\n",
       "                var nbb_unformatted_code = \"## Nous allons maintenant \\u00e0 la partie o\\u00f9 l'on teste les diff\\u00e9rents mod\\u00e9les.\\n## Effectons dans un premier temps la r\\u00e9gression Ridge\\n## Pour pouvoir compar\\u00e9 les mod\\u00e9les, je vais enregistrer le R2, le MAE et le temps.\\n\\nfrom sklearn.linear_model import Ridge\\nfrom sklearn.model_selection import GridSearchCV\\nfrom sklearn.pipeline import Pipeline\\n\\nridge = Ridge()\\n\\npipe_ridge = Pipeline([(\\\"scaler\\\", StandardScaler()), (\\\"Ridge\\\", ridge)])\\n\\nn_alphas = 200\\nalphas = np.logspace(2, 3, n_alphas)\\nparam_grid = dict(Ridge__alpha=alphas)\\n\\n# Mod\\u00e9le pour l'\\u00e9nergie\\n\\ngrid = GridSearchCV(\\n    pipe_ridge,\\n    param_grid=param_grid,\\n    cv=5,\\n    scoring=(\\\"r2\\\", \\\"neg_mean_absolute_error\\\"),\\n    return_train_score=True,\\n    refit=\\\"r2\\\",\\n    verbose=1,\\n    n_jobs=-1,\\n)\\ngrid_result = grid.fit(X_train, y_train[\\\"SiteEnergyUse(kBtu)\\\"])\\n\\nRidge_Energy = grid.best_estimator_\\n\\nEnergy_results_ridge = pd.DataFrame.from_dict(grid_result.cv_results_)\\n\\nprint(\\n    \\\"Best R2: \\\",\\n    np.array(\\n        Energy_results_ridge[Energy_results_ridge.rank_test_r2 == 1][\\\"mean_test_r2\\\"]\\n    ),\\n)\\nprint(\\n    \\\"Best MAE: \\\",\\n    np.array(\\n        Energy_results_ridge[Energy_results_ridge.rank_test_r2 == 1][\\n            \\\"mean_test_neg_mean_absolute_error\\\"\\n        ]\\n    ),\\n)\\nprint(\\n    \\\"Temps moyen\\\",\\n    np.array(\\n        Energy_results_ridge[Energy_results_ridge.rank_test_r2 == 1][\\\"mean_fit_time\\\"]\\n    ),\\n    \\\"s\\\",\\n)\\nprint(\\\"Best Params: \\\", grid_result.best_params_)\";\n",
       "                var nbb_formatted_code = \"## Nous allons maintenant \\u00e0 la partie o\\u00f9 l'on teste les diff\\u00e9rents mod\\u00e9les.\\n## Effectons dans un premier temps la r\\u00e9gression Ridge\\n## Pour pouvoir compar\\u00e9 les mod\\u00e9les, je vais enregistrer le R2, le MAE et le temps.\\n\\nfrom sklearn.linear_model import Ridge\\nfrom sklearn.model_selection import GridSearchCV\\nfrom sklearn.pipeline import Pipeline\\n\\nridge = Ridge()\\n\\npipe_ridge = Pipeline([(\\\"scaler\\\", StandardScaler()), (\\\"Ridge\\\", ridge)])\\n\\nn_alphas = 200\\nalphas = np.logspace(2, 3, n_alphas)\\nparam_grid = dict(Ridge__alpha=alphas)\\n\\n# Mod\\u00e9le pour l'\\u00e9nergie\\n\\ngrid = GridSearchCV(\\n    pipe_ridge,\\n    param_grid=param_grid,\\n    cv=5,\\n    scoring=(\\\"r2\\\", \\\"neg_mean_absolute_error\\\"),\\n    return_train_score=True,\\n    refit=\\\"r2\\\",\\n    verbose=1,\\n    n_jobs=-1,\\n)\\ngrid_result = grid.fit(X_train, y_train[\\\"SiteEnergyUse(kBtu)\\\"])\\n\\nRidge_Energy = grid.best_estimator_\\n\\nEnergy_results_ridge = pd.DataFrame.from_dict(grid_result.cv_results_)\\n\\nprint(\\n    \\\"Best R2: \\\",\\n    np.array(\\n        Energy_results_ridge[Energy_results_ridge.rank_test_r2 == 1][\\\"mean_test_r2\\\"]\\n    ),\\n)\\nprint(\\n    \\\"Best MAE: \\\",\\n    np.array(\\n        Energy_results_ridge[Energy_results_ridge.rank_test_r2 == 1][\\n            \\\"mean_test_neg_mean_absolute_error\\\"\\n        ]\\n    ),\\n)\\nprint(\\n    \\\"Temps moyen\\\",\\n    np.array(\\n        Energy_results_ridge[Energy_results_ridge.rank_test_r2 == 1][\\\"mean_fit_time\\\"]\\n    ),\\n    \\\"s\\\",\\n)\\nprint(\\\"Best Params: \\\", grid_result.best_params_)\";\n",
       "                var nbb_cells = Jupyter.notebook.get_cells();\n",
       "                for (var i = 0; i < nbb_cells.length; ++i) {\n",
       "                    if (nbb_cells[i].input_prompt_number == nbb_cell_id) {\n",
       "                        if (nbb_cells[i].get_text() == nbb_unformatted_code) {\n",
       "                             nbb_cells[i].set_text(nbb_formatted_code);\n",
       "                        }\n",
       "                        break;\n",
       "                    }\n",
       "                }\n",
       "            }, 500);\n",
       "            "
      ],
      "text/plain": [
       "<IPython.core.display.Javascript object>"
      ]
     },
     "metadata": {},
     "output_type": "display_data"
    }
   ],
   "source": [
    "## Nous allons maintenant passer à la partie où l'on teste les différents modéles.\n",
    "## Effectons dans un premier temps la régression Ridge\n",
    "## Pour pouvoir comparé les modéles, je vais enregistrer le R2, le MAE et le temps.\n",
    "\n",
    "from sklearn.linear_model import Ridge\n",
    "from sklearn.model_selection import GridSearchCV\n",
    "from sklearn.pipeline import Pipeline\n",
    "\n",
    "ridge = Ridge()\n",
    "\n",
    "pipe_ridge = Pipeline([(\"scaler\", StandardScaler()), (\"Ridge\", ridge)])\n",
    "\n",
    "n_alphas = 200\n",
    "alphas = np.logspace(2, 3, n_alphas)\n",
    "param_grid = dict(Ridge__alpha=alphas)\n",
    "\n",
    "# Modéle pour l'énergie\n",
    "\n",
    "grid = GridSearchCV(\n",
    "    pipe_ridge,\n",
    "    param_grid=param_grid,\n",
    "    cv=5,\n",
    "    scoring=(\"r2\", \"neg_mean_absolute_error\"),\n",
    "    return_train_score=True,\n",
    "    refit=\"r2\",\n",
    "    verbose=1,\n",
    "    n_jobs=-1,\n",
    ")\n",
    "grid_result = grid.fit(X_train, y_train[\"SiteEnergyUse(kBtu)\"])\n",
    "\n",
    "Ridge_Energy = grid.best_estimator_\n",
    "\n",
    "Energy_results_ridge = pd.DataFrame.from_dict(grid_result.cv_results_)\n",
    "\n",
    "print(\n",
    "    \"Best R2: \",\n",
    "    np.array(\n",
    "        Energy_results_ridge[Energy_results_ridge.rank_test_r2 == 1][\"mean_test_r2\"]\n",
    "    ),\n",
    ")\n",
    "print(\n",
    "    \"Best MAE: \",\n",
    "    np.array(\n",
    "        Energy_results_ridge[Energy_results_ridge.rank_test_r2 == 1][\n",
    "            \"mean_test_neg_mean_absolute_error\"\n",
    "        ]\n",
    "    ),\n",
    ")\n",
    "print(\n",
    "    \"Temps moyen\",\n",
    "    np.array(\n",
    "        Energy_results_ridge[Energy_results_ridge.rank_test_r2 == 1][\"mean_fit_time\"]\n",
    "    ),\n",
    "    \"s\",\n",
    ")\n",
    "print(\"Best Params: \", grid_result.best_params_)"
   ]
  },
  {
   "cell_type": "code",
   "execution_count": 9,
   "id": "24cfecb5",
   "metadata": {},
   "outputs": [
    {
     "name": "stdout",
     "output_type": "stream",
     "text": [
      "Fitting 5 folds for each of 200 candidates, totalling 1000 fits\n",
      "Best R2:  [0.42513401]\n",
      "Best MAE:  [-0.88492608]\n",
      "Temps moyen [0.01040068] s\n",
      "Best Params:  {'Ridge__alpha': 176.2914118095948}\n"
     ]
    },
    {
     "data": {
      "application/javascript": [
       "\n",
       "            setTimeout(function() {\n",
       "                var nbb_cell_id = 9;\n",
       "                var nbb_unformatted_code = \"pipe_ridge = Pipeline([('scaler', StandardScaler()), ('Ridge', ridge)])\\n\\nn_alphas = 200\\nalphas = np.logspace(2,3,n_alphas)\\n\\nparam_grid = dict(Ridge__alpha=alphas)\\n\\n## Mod\\u00e9le pour les \\u00e9missions de CO2\\n\\ngrid = GridSearchCV(pipe_ridge, param_grid=param_grid, cv = 5, scoring=('r2','neg_mean_absolute_error'), return_train_score = True,refit='r2', verbose=1, n_jobs=-1)\\ngrid_result = grid.fit(X_train, y_train['GHGEmissions(MetricTonsCO2e)'])\\n\\nRidge_CO2 = grid.best_estimator_\\n\\nCO2_results_ridge = pd.DataFrame.from_dict(grid_result.cv_results_)\\n\\nprint('Best R2: ', np.array(CO2_results_ridge[CO2_results_ridge.rank_test_r2==1]['mean_test_r2']))\\nprint('Best MAE: ', np.array(CO2_results_ridge[CO2_results_ridge.rank_test_r2==1]['mean_test_neg_mean_absolute_error']))\\nprint('Temps moyen', np.array(CO2_results_ridge[CO2_results_ridge.rank_test_r2==1]['mean_fit_time']),'s')\\nprint('Best Params: ', grid_result.best_params_)\";\n",
       "                var nbb_formatted_code = \"pipe_ridge = Pipeline([(\\\"scaler\\\", StandardScaler()), (\\\"Ridge\\\", ridge)])\\n\\nn_alphas = 200\\nalphas = np.logspace(2, 3, n_alphas)\\n\\nparam_grid = dict(Ridge__alpha=alphas)\\n\\n## Mod\\u00e9le pour les \\u00e9missions de CO2\\n\\ngrid = GridSearchCV(\\n    pipe_ridge,\\n    param_grid=param_grid,\\n    cv=5,\\n    scoring=(\\\"r2\\\", \\\"neg_mean_absolute_error\\\"),\\n    return_train_score=True,\\n    refit=\\\"r2\\\",\\n    verbose=1,\\n    n_jobs=-1,\\n)\\ngrid_result = grid.fit(X_train, y_train[\\\"GHGEmissions(MetricTonsCO2e)\\\"])\\n\\nRidge_CO2 = grid.best_estimator_\\n\\nCO2_results_ridge = pd.DataFrame.from_dict(grid_result.cv_results_)\\n\\nprint(\\n    \\\"Best R2: \\\",\\n    np.array(CO2_results_ridge[CO2_results_ridge.rank_test_r2 == 1][\\\"mean_test_r2\\\"]),\\n)\\nprint(\\n    \\\"Best MAE: \\\",\\n    np.array(\\n        CO2_results_ridge[CO2_results_ridge.rank_test_r2 == 1][\\n            \\\"mean_test_neg_mean_absolute_error\\\"\\n        ]\\n    ),\\n)\\nprint(\\n    \\\"Temps moyen\\\",\\n    np.array(CO2_results_ridge[CO2_results_ridge.rank_test_r2 == 1][\\\"mean_fit_time\\\"]),\\n    \\\"s\\\",\\n)\\nprint(\\\"Best Params: \\\", grid_result.best_params_)\";\n",
       "                var nbb_cells = Jupyter.notebook.get_cells();\n",
       "                for (var i = 0; i < nbb_cells.length; ++i) {\n",
       "                    if (nbb_cells[i].input_prompt_number == nbb_cell_id) {\n",
       "                        if (nbb_cells[i].get_text() == nbb_unformatted_code) {\n",
       "                             nbb_cells[i].set_text(nbb_formatted_code);\n",
       "                        }\n",
       "                        break;\n",
       "                    }\n",
       "                }\n",
       "            }, 500);\n",
       "            "
      ],
      "text/plain": [
       "<IPython.core.display.Javascript object>"
      ]
     },
     "metadata": {},
     "output_type": "display_data"
    }
   ],
   "source": [
    "pipe_ridge = Pipeline([('scaler', StandardScaler()), ('Ridge', ridge)])\n",
    "\n",
    "n_alphas = 200\n",
    "alphas = np.logspace(2,3,n_alphas)\n",
    "\n",
    "param_grid = dict(Ridge__alpha=alphas)\n",
    "\n",
    "## Modéle pour les émissions de CO2\n",
    "\n",
    "grid = GridSearchCV(pipe_ridge, param_grid=param_grid, cv = 5, scoring=('r2','neg_mean_absolute_error'), return_train_score = True,refit='r2', verbose=1, n_jobs=-1)\n",
    "grid_result = grid.fit(X_train, y_train['GHGEmissions(MetricTonsCO2e)'])\n",
    "\n",
    "Ridge_CO2 = grid.best_estimator_\n",
    "\n",
    "CO2_results_ridge = pd.DataFrame.from_dict(grid_result.cv_results_)\n",
    "\n",
    "print('Best R2: ', np.array(CO2_results_ridge[CO2_results_ridge.rank_test_r2==1]['mean_test_r2']))\n",
    "print('Best MAE: ', np.array(CO2_results_ridge[CO2_results_ridge.rank_test_r2==1]['mean_test_neg_mean_absolute_error']))\n",
    "print('Temps moyen', np.array(CO2_results_ridge[CO2_results_ridge.rank_test_r2==1]['mean_fit_time']),'s')\n",
    "print('Best Params: ', grid_result.best_params_)\n"
   ]
  },
  {
   "cell_type": "code",
   "execution_count": 10,
   "id": "19982aef",
   "metadata": {},
   "outputs": [
    {
     "name": "stdout",
     "output_type": "stream",
     "text": [
      "Fitting 5 folds for each of 200 candidates, totalling 1000 fits\n",
      "Best R2:  [0.59019945]\n",
      "Best MAE:  [-0.64995872]\n",
      "Temps moyen [0.02046227] s\n",
      "Best Params:  {'Lasso__alpha': 0.01933891750455231}\n"
     ]
    },
    {
     "data": {
      "application/javascript": [
       "\n",
       "            setTimeout(function() {\n",
       "                var nbb_cell_id = 10;\n",
       "                var nbb_unformatted_code = \"## Maintenant, nous allons effectuer la r\\u00e9gression Lasso\\n\\nfrom sklearn.linear_model import Lasso\\n\\nlasso = Lasso()\\n\\npipe_lasso = Pipeline([('scaler', StandardScaler()), ('Lasso', lasso)])\\n\\nn_alphas = 200\\n\\nalphas = np.logspace(-2,-1,n_alphas)\\n\\nparam_grid = dict(Lasso__alpha=alphas)\\n\\n## Mod\\u00e9le pour l'\\u00e9nergie\\n\\ngrid = GridSearchCV(pipe_lasso, param_grid=param_grid, cv = 5,scoring=('r2','neg_mean_absolute_error'),return_train_score = True,refit='r2', verbose=1, n_jobs=-1)\\n\\ngrid_result = grid.fit(X_train, y_train['SiteEnergyUse(kBtu)'])\\n\\nLasso_Energy = grid.best_estimator_\\n\\nEnergy_results_lasso = pd.DataFrame.from_dict(grid_result.cv_results_)\\n\\nprint('Best R2: ', np.array(Energy_results_lasso[Energy_results_lasso.rank_test_r2==1]['mean_test_r2']))\\nprint('Best MAE: ', np.array(Energy_results_lasso[Energy_results_lasso.rank_test_r2==1]['mean_test_neg_mean_absolute_error']))\\nprint('Temps moyen', np.array(Energy_results_lasso[Energy_results_lasso.rank_test_r2==1]['mean_fit_time']),'s')\\nprint('Best Params: ', grid_result.best_params_)\";\n",
       "                var nbb_formatted_code = \"## Maintenant, nous allons effectuer la r\\u00e9gression Lasso\\n\\nfrom sklearn.linear_model import Lasso\\n\\nlasso = Lasso()\\n\\npipe_lasso = Pipeline([(\\\"scaler\\\", StandardScaler()), (\\\"Lasso\\\", lasso)])\\n\\nn_alphas = 200\\n\\nalphas = np.logspace(-2, -1, n_alphas)\\n\\nparam_grid = dict(Lasso__alpha=alphas)\\n\\n## Mod\\u00e9le pour l'\\u00e9nergie\\n\\ngrid = GridSearchCV(\\n    pipe_lasso,\\n    param_grid=param_grid,\\n    cv=5,\\n    scoring=(\\\"r2\\\", \\\"neg_mean_absolute_error\\\"),\\n    return_train_score=True,\\n    refit=\\\"r2\\\",\\n    verbose=1,\\n    n_jobs=-1,\\n)\\n\\ngrid_result = grid.fit(X_train, y_train[\\\"SiteEnergyUse(kBtu)\\\"])\\n\\nLasso_Energy = grid.best_estimator_\\n\\nEnergy_results_lasso = pd.DataFrame.from_dict(grid_result.cv_results_)\\n\\nprint(\\n    \\\"Best R2: \\\",\\n    np.array(\\n        Energy_results_lasso[Energy_results_lasso.rank_test_r2 == 1][\\\"mean_test_r2\\\"]\\n    ),\\n)\\nprint(\\n    \\\"Best MAE: \\\",\\n    np.array(\\n        Energy_results_lasso[Energy_results_lasso.rank_test_r2 == 1][\\n            \\\"mean_test_neg_mean_absolute_error\\\"\\n        ]\\n    ),\\n)\\nprint(\\n    \\\"Temps moyen\\\",\\n    np.array(\\n        Energy_results_lasso[Energy_results_lasso.rank_test_r2 == 1][\\\"mean_fit_time\\\"]\\n    ),\\n    \\\"s\\\",\\n)\\nprint(\\\"Best Params: \\\", grid_result.best_params_)\";\n",
       "                var nbb_cells = Jupyter.notebook.get_cells();\n",
       "                for (var i = 0; i < nbb_cells.length; ++i) {\n",
       "                    if (nbb_cells[i].input_prompt_number == nbb_cell_id) {\n",
       "                        if (nbb_cells[i].get_text() == nbb_unformatted_code) {\n",
       "                             nbb_cells[i].set_text(nbb_formatted_code);\n",
       "                        }\n",
       "                        break;\n",
       "                    }\n",
       "                }\n",
       "            }, 500);\n",
       "            "
      ],
      "text/plain": [
       "<IPython.core.display.Javascript object>"
      ]
     },
     "metadata": {},
     "output_type": "display_data"
    }
   ],
   "source": [
    "## Maintenant, nous allons effectuer la régression Lasso\n",
    "\n",
    "from sklearn.linear_model import Lasso\n",
    "\n",
    "lasso = Lasso()\n",
    "\n",
    "pipe_lasso = Pipeline([('scaler', StandardScaler()), ('Lasso', lasso)])\n",
    "\n",
    "n_alphas = 200\n",
    "\n",
    "alphas = np.logspace(-2,-1,n_alphas)\n",
    "\n",
    "param_grid = dict(Lasso__alpha=alphas)\n",
    "\n",
    "## Modéle pour l'énergie\n",
    "\n",
    "grid = GridSearchCV(pipe_lasso, param_grid=param_grid, cv = 5,scoring=('r2','neg_mean_absolute_error'),return_train_score = True,refit='r2', verbose=1, n_jobs=-1)\n",
    "\n",
    "grid_result = grid.fit(X_train, y_train['SiteEnergyUse(kBtu)'])\n",
    "\n",
    "Lasso_Energy = grid.best_estimator_\n",
    "\n",
    "Energy_results_lasso = pd.DataFrame.from_dict(grid_result.cv_results_)\n",
    "\n",
    "print('Best R2: ', np.array(Energy_results_lasso[Energy_results_lasso.rank_test_r2==1]['mean_test_r2']))\n",
    "print('Best MAE: ', np.array(Energy_results_lasso[Energy_results_lasso.rank_test_r2==1]['mean_test_neg_mean_absolute_error']))\n",
    "print('Temps moyen', np.array(Energy_results_lasso[Energy_results_lasso.rank_test_r2==1]['mean_fit_time']),'s')\n",
    "print('Best Params: ', grid_result.best_params_)\n"
   ]
  },
  {
   "cell_type": "code",
   "execution_count": 11,
   "id": "32929718",
   "metadata": {},
   "outputs": [
    {
     "name": "stdout",
     "output_type": "stream",
     "text": [
      "Fitting 5 folds for each of 200 candidates, totalling 1000 fits\n",
      "Best R2:  [0.43644238]\n",
      "Best MAE:  [-0.87852561]\n",
      "Temps moyen [0.01858025] s\n",
      "Best Params:  {'Lasso__alpha': 0.024658110758226038}\n"
     ]
    },
    {
     "data": {
      "application/javascript": [
       "\n",
       "            setTimeout(function() {\n",
       "                var nbb_cell_id = 11;\n",
       "                var nbb_unformatted_code = \"pipe_lasso = Pipeline([(\\\"scaler\\\", StandardScaler()), (\\\"Lasso\\\", lasso)])\\n\\nn_alphas = 200\\n\\nalphas = np.logspace(-2, -1, n_alphas)\\n\\nparam_grid = dict(Lasso__alpha=alphas)\\n\\n## Mod\\u00e9le pour les \\u00e9missions de CO2\\n\\ngrid = GridSearchCV(\\n    pipe_lasso,\\n    param_grid=param_grid,\\n    cv=5,\\n    scoring=(\\\"r2\\\", \\\"neg_mean_absolute_error\\\"),\\n    refit=\\\"r2\\\",\\n    return_train_score=True,\\n    verbose=1,\\n    n_jobs=-1,\\n)\\n\\ngrid_result = grid.fit(X_train, y_train[\\\"GHGEmissions(MetricTonsCO2e)\\\"])\\n\\nLasso_CO2 = grid.best_estimator_\\n\\nCO2_results_lasso = pd.DataFrame.from_dict(grid_result.cv_results_)\\n\\nprint(\\n    \\\"Best R2: \\\",\\n    np.array(CO2_results_lasso[CO2_results_lasso.rank_test_r2 == 1][\\\"mean_test_r2\\\"]),\\n)\\nprint(\\n    \\\"Best MAE: \\\",\\n    np.array(\\n        CO2_results_lasso[CO2_results_lasso.rank_test_r2 == 1][\\n            \\\"mean_test_neg_mean_absolute_error\\\"\\n        ]\\n    ),\\n)\\nprint(\\n    \\\"Temps moyen\\\",\\n    np.array(CO2_results_lasso[CO2_results_lasso.rank_test_r2 == 1][\\\"mean_fit_time\\\"]),\\n    \\\"s\\\",\\n)\\nprint(\\\"Best Params: \\\", grid_result.best_params_)\";\n",
       "                var nbb_formatted_code = \"pipe_lasso = Pipeline([(\\\"scaler\\\", StandardScaler()), (\\\"Lasso\\\", lasso)])\\n\\nn_alphas = 200\\n\\nalphas = np.logspace(-2, -1, n_alphas)\\n\\nparam_grid = dict(Lasso__alpha=alphas)\\n\\n## Mod\\u00e9le pour les \\u00e9missions de CO2\\n\\ngrid = GridSearchCV(\\n    pipe_lasso,\\n    param_grid=param_grid,\\n    cv=5,\\n    scoring=(\\\"r2\\\", \\\"neg_mean_absolute_error\\\"),\\n    refit=\\\"r2\\\",\\n    return_train_score=True,\\n    verbose=1,\\n    n_jobs=-1,\\n)\\n\\ngrid_result = grid.fit(X_train, y_train[\\\"GHGEmissions(MetricTonsCO2e)\\\"])\\n\\nLasso_CO2 = grid.best_estimator_\\n\\nCO2_results_lasso = pd.DataFrame.from_dict(grid_result.cv_results_)\\n\\nprint(\\n    \\\"Best R2: \\\",\\n    np.array(CO2_results_lasso[CO2_results_lasso.rank_test_r2 == 1][\\\"mean_test_r2\\\"]),\\n)\\nprint(\\n    \\\"Best MAE: \\\",\\n    np.array(\\n        CO2_results_lasso[CO2_results_lasso.rank_test_r2 == 1][\\n            \\\"mean_test_neg_mean_absolute_error\\\"\\n        ]\\n    ),\\n)\\nprint(\\n    \\\"Temps moyen\\\",\\n    np.array(CO2_results_lasso[CO2_results_lasso.rank_test_r2 == 1][\\\"mean_fit_time\\\"]),\\n    \\\"s\\\",\\n)\\nprint(\\\"Best Params: \\\", grid_result.best_params_)\";\n",
       "                var nbb_cells = Jupyter.notebook.get_cells();\n",
       "                for (var i = 0; i < nbb_cells.length; ++i) {\n",
       "                    if (nbb_cells[i].input_prompt_number == nbb_cell_id) {\n",
       "                        if (nbb_cells[i].get_text() == nbb_unformatted_code) {\n",
       "                             nbb_cells[i].set_text(nbb_formatted_code);\n",
       "                        }\n",
       "                        break;\n",
       "                    }\n",
       "                }\n",
       "            }, 500);\n",
       "            "
      ],
      "text/plain": [
       "<IPython.core.display.Javascript object>"
      ]
     },
     "metadata": {},
     "output_type": "display_data"
    }
   ],
   "source": [
    "pipe_lasso = Pipeline([(\"scaler\", StandardScaler()), (\"Lasso\", lasso)])\n",
    "\n",
    "n_alphas = 200\n",
    "\n",
    "alphas = np.logspace(-2, -1, n_alphas)\n",
    "\n",
    "param_grid = dict(Lasso__alpha=alphas)\n",
    "\n",
    "## Modéle pour les émissions de CO2\n",
    "\n",
    "grid = GridSearchCV(\n",
    "    pipe_lasso,\n",
    "    param_grid=param_grid,\n",
    "    cv=5,\n",
    "    scoring=(\"r2\", \"neg_mean_absolute_error\"),\n",
    "    refit=\"r2\",\n",
    "    return_train_score=True,\n",
    "    verbose=1,\n",
    "    n_jobs=-1,\n",
    ")\n",
    "\n",
    "grid_result = grid.fit(X_train, y_train[\"GHGEmissions(MetricTonsCO2e)\"])\n",
    "\n",
    "Lasso_CO2 = grid.best_estimator_\n",
    "\n",
    "CO2_results_lasso = pd.DataFrame.from_dict(grid_result.cv_results_)\n",
    "\n",
    "print(\n",
    "    \"Best R2: \",\n",
    "    np.array(CO2_results_lasso[CO2_results_lasso.rank_test_r2 == 1][\"mean_test_r2\"]),\n",
    ")\n",
    "print(\n",
    "    \"Best MAE: \",\n",
    "    np.array(\n",
    "        CO2_results_lasso[CO2_results_lasso.rank_test_r2 == 1][\n",
    "            \"mean_test_neg_mean_absolute_error\"\n",
    "        ]\n",
    "    ),\n",
    ")\n",
    "print(\n",
    "    \"Temps moyen\",\n",
    "    np.array(CO2_results_lasso[CO2_results_lasso.rank_test_r2 == 1][\"mean_fit_time\"]),\n",
    "    \"s\",\n",
    ")\n",
    "print(\"Best Params: \", grid_result.best_params_)"
   ]
  },
  {
   "cell_type": "code",
   "execution_count": 12,
   "id": "abe6f7db",
   "metadata": {},
   "outputs": [
    {
     "name": "stdout",
     "output_type": "stream",
     "text": [
      "Fitting 5 folds for each of 625 candidates, totalling 3125 fits\n",
      "Best R2:  [0.59019837]\n",
      "Best MAE:  [-0.650018]\n",
      "Temps moyen [0.01198583] s\n",
      "Best Params:  {'Elastic__alpha': 0.019573417814876596, 'Elastic__l1_ratio': 1.0}\n"
     ]
    },
    {
     "name": "stderr",
     "output_type": "stream",
     "text": [
      "C:\\Users\\antoi\\miniconda3\\envs\\Test\\lib\\site-packages\\sklearn\\model_selection\\_search.py:922: UserWarning: One or more of the test scores are non-finite: [0.58693179        nan        nan        nan        nan        nan\n",
      "        nan        nan        nan        nan        nan        nan\n",
      "        nan        nan        nan        nan        nan        nan\n",
      "        nan        nan        nan        nan        nan        nan\n",
      "        nan 0.58772423        nan        nan        nan        nan\n",
      "        nan        nan        nan        nan        nan        nan\n",
      "        nan        nan        nan        nan        nan        nan\n",
      "        nan        nan        nan        nan        nan        nan\n",
      "        nan        nan 0.58843237        nan        nan        nan\n",
      "        nan        nan        nan        nan        nan        nan\n",
      "        nan        nan        nan        nan        nan        nan\n",
      "        nan        nan        nan        nan        nan        nan\n",
      "        nan        nan        nan 0.58906687        nan        nan\n",
      "        nan        nan        nan        nan        nan        nan\n",
      "        nan        nan        nan        nan        nan        nan\n",
      "        nan        nan        nan        nan        nan        nan\n",
      "        nan        nan        nan        nan 0.589624          nan\n",
      "        nan        nan        nan        nan        nan        nan\n",
      "        nan        nan        nan        nan        nan        nan\n",
      "        nan        nan        nan        nan        nan        nan\n",
      "        nan        nan        nan        nan        nan 0.58995759\n",
      "        nan        nan        nan        nan        nan        nan\n",
      "        nan        nan        nan        nan        nan        nan\n",
      "        nan        nan        nan        nan        nan        nan\n",
      "        nan        nan        nan        nan        nan        nan\n",
      " 0.5901226         nan        nan        nan        nan        nan\n",
      "        nan        nan        nan        nan        nan        nan\n",
      "        nan        nan        nan        nan        nan        nan\n",
      "        nan        nan        nan        nan        nan        nan\n",
      "        nan 0.59019837        nan        nan        nan        nan\n",
      "        nan        nan        nan        nan        nan        nan\n",
      "        nan        nan        nan        nan        nan        nan\n",
      "        nan        nan        nan        nan        nan        nan\n",
      "        nan        nan 0.59004755        nan        nan        nan\n",
      "        nan        nan        nan        nan        nan        nan\n",
      "        nan        nan        nan        nan        nan        nan\n",
      "        nan        nan        nan        nan        nan        nan\n",
      "        nan        nan        nan 0.5897655         nan        nan\n",
      "        nan        nan        nan        nan        nan        nan\n",
      "        nan        nan        nan        nan        nan        nan\n",
      "        nan        nan        nan        nan        nan        nan\n",
      "        nan        nan        nan        nan 0.58919953        nan\n",
      "        nan        nan        nan        nan        nan        nan\n",
      "        nan        nan        nan        nan        nan        nan\n",
      "        nan        nan        nan        nan        nan        nan\n",
      "        nan        nan        nan        nan        nan 0.58818393\n",
      "        nan        nan        nan        nan        nan        nan\n",
      "        nan        nan        nan        nan        nan        nan\n",
      "        nan        nan        nan        nan        nan        nan\n",
      "        nan        nan        nan        nan        nan        nan\n",
      " 0.5869445         nan        nan        nan        nan        nan\n",
      "        nan        nan        nan        nan        nan        nan\n",
      "        nan        nan        nan        nan        nan        nan\n",
      "        nan        nan        nan        nan        nan        nan\n",
      "        nan 0.58531246        nan        nan        nan        nan\n",
      "        nan        nan        nan        nan        nan        nan\n",
      "        nan        nan        nan        nan        nan        nan\n",
      "        nan        nan        nan        nan        nan        nan\n",
      "        nan        nan 0.58341524        nan        nan        nan\n",
      "        nan        nan        nan        nan        nan        nan\n",
      "        nan        nan        nan        nan        nan        nan\n",
      "        nan        nan        nan        nan        nan        nan\n",
      "        nan        nan        nan 0.58118638        nan        nan\n",
      "        nan        nan        nan        nan        nan        nan\n",
      "        nan        nan        nan        nan        nan        nan\n",
      "        nan        nan        nan        nan        nan        nan\n",
      "        nan        nan        nan        nan 0.57808997        nan\n",
      "        nan        nan        nan        nan        nan        nan\n",
      "        nan        nan        nan        nan        nan        nan\n",
      "        nan        nan        nan        nan        nan        nan\n",
      "        nan        nan        nan        nan        nan 0.57433636\n",
      "        nan        nan        nan        nan        nan        nan\n",
      "        nan        nan        nan        nan        nan        nan\n",
      "        nan        nan        nan        nan        nan        nan\n",
      "        nan        nan        nan        nan        nan        nan\n",
      " 0.56974759        nan        nan        nan        nan        nan\n",
      "        nan        nan        nan        nan        nan        nan\n",
      "        nan        nan        nan        nan        nan        nan\n",
      "        nan        nan        nan        nan        nan        nan\n",
      "        nan 0.56432261        nan        nan        nan        nan\n",
      "        nan        nan        nan        nan        nan        nan\n",
      "        nan        nan        nan        nan        nan        nan\n",
      "        nan        nan        nan        nan        nan        nan\n",
      "        nan        nan 0.55764812        nan        nan        nan\n",
      "        nan        nan        nan        nan        nan        nan\n",
      "        nan        nan        nan        nan        nan        nan\n",
      "        nan        nan        nan        nan        nan        nan\n",
      "        nan        nan        nan 0.54979398        nan        nan\n",
      "        nan        nan        nan        nan        nan        nan\n",
      "        nan        nan        nan        nan        nan        nan\n",
      "        nan        nan        nan        nan        nan        nan\n",
      "        nan        nan        nan        nan 0.54115163        nan\n",
      "        nan        nan        nan        nan        nan        nan\n",
      "        nan        nan        nan        nan        nan        nan\n",
      "        nan        nan        nan        nan        nan        nan\n",
      "        nan        nan        nan        nan        nan 0.53123388\n",
      "        nan        nan        nan        nan        nan        nan\n",
      "        nan        nan        nan        nan        nan        nan\n",
      "        nan        nan        nan        nan        nan        nan\n",
      "        nan        nan        nan        nan        nan        nan\n",
      " 0.52009598        nan        nan        nan        nan        nan\n",
      "        nan        nan        nan        nan        nan        nan\n",
      "        nan        nan        nan        nan        nan        nan\n",
      "        nan        nan        nan        nan        nan        nan\n",
      "        nan]\n",
      "  warnings.warn(\n",
      "C:\\Users\\antoi\\miniconda3\\envs\\Test\\lib\\site-packages\\sklearn\\model_selection\\_search.py:922: UserWarning: One or more of the train scores are non-finite: [0.65608081        nan        nan        nan        nan        nan\n",
      "        nan        nan        nan        nan        nan        nan\n",
      "        nan        nan        nan        nan        nan        nan\n",
      "        nan        nan        nan        nan        nan        nan\n",
      "        nan 0.65524476        nan        nan        nan        nan\n",
      "        nan        nan        nan        nan        nan        nan\n",
      "        nan        nan        nan        nan        nan        nan\n",
      "        nan        nan        nan        nan        nan        nan\n",
      "        nan        nan 0.65427097        nan        nan        nan\n",
      "        nan        nan        nan        nan        nan        nan\n",
      "        nan        nan        nan        nan        nan        nan\n",
      "        nan        nan        nan        nan        nan        nan\n",
      "        nan        nan        nan 0.65318766        nan        nan\n",
      "        nan        nan        nan        nan        nan        nan\n",
      "        nan        nan        nan        nan        nan        nan\n",
      "        nan        nan        nan        nan        nan        nan\n",
      "        nan        nan        nan        nan 0.65195512        nan\n",
      "        nan        nan        nan        nan        nan        nan\n",
      "        nan        nan        nan        nan        nan        nan\n",
      "        nan        nan        nan        nan        nan        nan\n",
      "        nan        nan        nan        nan        nan 0.65052185\n",
      "        nan        nan        nan        nan        nan        nan\n",
      "        nan        nan        nan        nan        nan        nan\n",
      "        nan        nan        nan        nan        nan        nan\n",
      "        nan        nan        nan        nan        nan        nan\n",
      " 0.64887727        nan        nan        nan        nan        nan\n",
      "        nan        nan        nan        nan        nan        nan\n",
      "        nan        nan        nan        nan        nan        nan\n",
      "        nan        nan        nan        nan        nan        nan\n",
      "        nan 0.64700206        nan        nan        nan        nan\n",
      "        nan        nan        nan        nan        nan        nan\n",
      "        nan        nan        nan        nan        nan        nan\n",
      "        nan        nan        nan        nan        nan        nan\n",
      "        nan        nan 0.6448839         nan        nan        nan\n",
      "        nan        nan        nan        nan        nan        nan\n",
      "        nan        nan        nan        nan        nan        nan\n",
      "        nan        nan        nan        nan        nan        nan\n",
      "        nan        nan        nan 0.64243226        nan        nan\n",
      "        nan        nan        nan        nan        nan        nan\n",
      "        nan        nan        nan        nan        nan        nan\n",
      "        nan        nan        nan        nan        nan        nan\n",
      "        nan        nan        nan        nan 0.6396559         nan\n",
      "        nan        nan        nan        nan        nan        nan\n",
      "        nan        nan        nan        nan        nan        nan\n",
      "        nan        nan        nan        nan        nan        nan\n",
      "        nan        nan        nan        nan        nan 0.63652531\n",
      "        nan        nan        nan        nan        nan        nan\n",
      "        nan        nan        nan        nan        nan        nan\n",
      "        nan        nan        nan        nan        nan        nan\n",
      "        nan        nan        nan        nan        nan        nan\n",
      " 0.63302839        nan        nan        nan        nan        nan\n",
      "        nan        nan        nan        nan        nan        nan\n",
      "        nan        nan        nan        nan        nan        nan\n",
      "        nan        nan        nan        nan        nan        nan\n",
      "        nan 0.62897452        nan        nan        nan        nan\n",
      "        nan        nan        nan        nan        nan        nan\n",
      "        nan        nan        nan        nan        nan        nan\n",
      "        nan        nan        nan        nan        nan        nan\n",
      "        nan        nan 0.62440198        nan        nan        nan\n",
      "        nan        nan        nan        nan        nan        nan\n",
      "        nan        nan        nan        nan        nan        nan\n",
      "        nan        nan        nan        nan        nan        nan\n",
      "        nan        nan        nan 0.61931719        nan        nan\n",
      "        nan        nan        nan        nan        nan        nan\n",
      "        nan        nan        nan        nan        nan        nan\n",
      "        nan        nan        nan        nan        nan        nan\n",
      "        nan        nan        nan        nan 0.61361001        nan\n",
      "        nan        nan        nan        nan        nan        nan\n",
      "        nan        nan        nan        nan        nan        nan\n",
      "        nan        nan        nan        nan        nan        nan\n",
      "        nan        nan        nan        nan        nan 0.60731764\n",
      "        nan        nan        nan        nan        nan        nan\n",
      "        nan        nan        nan        nan        nan        nan\n",
      "        nan        nan        nan        nan        nan        nan\n",
      "        nan        nan        nan        nan        nan        nan\n",
      " 0.6003477         nan        nan        nan        nan        nan\n",
      "        nan        nan        nan        nan        nan        nan\n",
      "        nan        nan        nan        nan        nan        nan\n",
      "        nan        nan        nan        nan        nan        nan\n",
      "        nan 0.592607          nan        nan        nan        nan\n",
      "        nan        nan        nan        nan        nan        nan\n",
      "        nan        nan        nan        nan        nan        nan\n",
      "        nan        nan        nan        nan        nan        nan\n",
      "        nan        nan 0.58387578        nan        nan        nan\n",
      "        nan        nan        nan        nan        nan        nan\n",
      "        nan        nan        nan        nan        nan        nan\n",
      "        nan        nan        nan        nan        nan        nan\n",
      "        nan        nan        nan 0.57416525        nan        nan\n",
      "        nan        nan        nan        nan        nan        nan\n",
      "        nan        nan        nan        nan        nan        nan\n",
      "        nan        nan        nan        nan        nan        nan\n",
      "        nan        nan        nan        nan 0.56352987        nan\n",
      "        nan        nan        nan        nan        nan        nan\n",
      "        nan        nan        nan        nan        nan        nan\n",
      "        nan        nan        nan        nan        nan        nan\n",
      "        nan        nan        nan        nan        nan 0.55206291\n",
      "        nan        nan        nan        nan        nan        nan\n",
      "        nan        nan        nan        nan        nan        nan\n",
      "        nan        nan        nan        nan        nan        nan\n",
      "        nan        nan        nan        nan        nan        nan\n",
      " 0.53978921        nan        nan        nan        nan        nan\n",
      "        nan        nan        nan        nan        nan        nan\n",
      "        nan        nan        nan        nan        nan        nan\n",
      "        nan        nan        nan        nan        nan        nan\n",
      "        nan]\n",
      "  warnings.warn(\n",
      "C:\\Users\\antoi\\miniconda3\\envs\\Test\\lib\\site-packages\\sklearn\\model_selection\\_search.py:922: UserWarning: One or more of the test scores are non-finite: [-0.64996227         nan         nan         nan         nan         nan\n",
      "         nan         nan         nan         nan         nan         nan\n",
      "         nan         nan         nan         nan         nan         nan\n",
      "         nan         nan         nan         nan         nan         nan\n",
      "         nan -0.64969855         nan         nan         nan         nan\n",
      "         nan         nan         nan         nan         nan         nan\n",
      "         nan         nan         nan         nan         nan         nan\n",
      "         nan         nan         nan         nan         nan         nan\n",
      "         nan         nan -0.64948392         nan         nan         nan\n",
      "         nan         nan         nan         nan         nan         nan\n",
      "         nan         nan         nan         nan         nan         nan\n",
      "         nan         nan         nan         nan         nan         nan\n",
      "         nan         nan         nan -0.64928003         nan         nan\n",
      "         nan         nan         nan         nan         nan         nan\n",
      "         nan         nan         nan         nan         nan         nan\n",
      "         nan         nan         nan         nan         nan         nan\n",
      "         nan         nan         nan         nan -0.64914457         nan\n",
      "         nan         nan         nan         nan         nan         nan\n",
      "         nan         nan         nan         nan         nan         nan\n",
      "         nan         nan         nan         nan         nan         nan\n",
      "         nan         nan         nan         nan         nan -0.649275\n",
      "         nan         nan         nan         nan         nan         nan\n",
      "         nan         nan         nan         nan         nan         nan\n",
      "         nan         nan         nan         nan         nan         nan\n",
      "         nan         nan         nan         nan         nan         nan\n",
      " -0.64959509         nan         nan         nan         nan         nan\n",
      "         nan         nan         nan         nan         nan         nan\n",
      "         nan         nan         nan         nan         nan         nan\n",
      "         nan         nan         nan         nan         nan         nan\n",
      "         nan -0.650018           nan         nan         nan         nan\n",
      "         nan         nan         nan         nan         nan         nan\n",
      "         nan         nan         nan         nan         nan         nan\n",
      "         nan         nan         nan         nan         nan         nan\n",
      "         nan         nan -0.65063831         nan         nan         nan\n",
      "         nan         nan         nan         nan         nan         nan\n",
      "         nan         nan         nan         nan         nan         nan\n",
      "         nan         nan         nan         nan         nan         nan\n",
      "         nan         nan         nan -0.65149531         nan         nan\n",
      "         nan         nan         nan         nan         nan         nan\n",
      "         nan         nan         nan         nan         nan         nan\n",
      "         nan         nan         nan         nan         nan         nan\n",
      "         nan         nan         nan         nan -0.65274898         nan\n",
      "         nan         nan         nan         nan         nan         nan\n",
      "         nan         nan         nan         nan         nan         nan\n",
      "         nan         nan         nan         nan         nan         nan\n",
      "         nan         nan         nan         nan         nan -0.65440408\n",
      "         nan         nan         nan         nan         nan         nan\n",
      "         nan         nan         nan         nan         nan         nan\n",
      "         nan         nan         nan         nan         nan         nan\n",
      "         nan         nan         nan         nan         nan         nan\n",
      " -0.65626359         nan         nan         nan         nan         nan\n",
      "         nan         nan         nan         nan         nan         nan\n",
      "         nan         nan         nan         nan         nan         nan\n",
      "         nan         nan         nan         nan         nan         nan\n",
      "         nan -0.65824646         nan         nan         nan         nan\n",
      "         nan         nan         nan         nan         nan         nan\n",
      "         nan         nan         nan         nan         nan         nan\n",
      "         nan         nan         nan         nan         nan         nan\n",
      "         nan         nan -0.66019269         nan         nan         nan\n",
      "         nan         nan         nan         nan         nan         nan\n",
      "         nan         nan         nan         nan         nan         nan\n",
      "         nan         nan         nan         nan         nan         nan\n",
      "         nan         nan         nan -0.66266391         nan         nan\n",
      "         nan         nan         nan         nan         nan         nan\n",
      "         nan         nan         nan         nan         nan         nan\n",
      "         nan         nan         nan         nan         nan         nan\n",
      "         nan         nan         nan         nan -0.66576444         nan\n",
      "         nan         nan         nan         nan         nan         nan\n",
      "         nan         nan         nan         nan         nan         nan\n",
      "         nan         nan         nan         nan         nan         nan\n",
      "         nan         nan         nan         nan         nan -0.66912279\n",
      "         nan         nan         nan         nan         nan         nan\n",
      "         nan         nan         nan         nan         nan         nan\n",
      "         nan         nan         nan         nan         nan         nan\n",
      "         nan         nan         nan         nan         nan         nan\n",
      " -0.67307855         nan         nan         nan         nan         nan\n",
      "         nan         nan         nan         nan         nan         nan\n",
      "         nan         nan         nan         nan         nan         nan\n",
      "         nan         nan         nan         nan         nan         nan\n",
      "         nan -0.67773426         nan         nan         nan         nan\n",
      "         nan         nan         nan         nan         nan         nan\n",
      "         nan         nan         nan         nan         nan         nan\n",
      "         nan         nan         nan         nan         nan         nan\n",
      "         nan         nan -0.68330262         nan         nan         nan\n",
      "         nan         nan         nan         nan         nan         nan\n",
      "         nan         nan         nan         nan         nan         nan\n",
      "         nan         nan         nan         nan         nan         nan\n",
      "         nan         nan         nan -0.69009967         nan         nan\n",
      "         nan         nan         nan         nan         nan         nan\n",
      "         nan         nan         nan         nan         nan         nan\n",
      "         nan         nan         nan         nan         nan         nan\n",
      "         nan         nan         nan         nan -0.69789597         nan\n",
      "         nan         nan         nan         nan         nan         nan\n",
      "         nan         nan         nan         nan         nan         nan\n",
      "         nan         nan         nan         nan         nan         nan\n",
      "         nan         nan         nan         nan         nan -0.70637253\n",
      "         nan         nan         nan         nan         nan         nan\n",
      "         nan         nan         nan         nan         nan         nan\n",
      "         nan         nan         nan         nan         nan         nan\n",
      "         nan         nan         nan         nan         nan         nan\n",
      " -0.71547541         nan         nan         nan         nan         nan\n",
      "         nan         nan         nan         nan         nan         nan\n",
      "         nan         nan         nan         nan         nan         nan\n",
      "         nan         nan         nan         nan         nan         nan\n",
      "         nan]\n",
      "  warnings.warn(\n",
      "C:\\Users\\antoi\\miniconda3\\envs\\Test\\lib\\site-packages\\sklearn\\model_selection\\_search.py:922: UserWarning: One or more of the train scores are non-finite: [-0.60108297         nan         nan         nan         nan         nan\n",
      "         nan         nan         nan         nan         nan         nan\n",
      "         nan         nan         nan         nan         nan         nan\n",
      "         nan         nan         nan         nan         nan         nan\n",
      "         nan -0.60210353         nan         nan         nan         nan\n",
      "         nan         nan         nan         nan         nan         nan\n",
      "         nan         nan         nan         nan         nan         nan\n",
      "         nan         nan         nan         nan         nan         nan\n",
      "         nan         nan -0.60321026         nan         nan         nan\n",
      "         nan         nan         nan         nan         nan         nan\n",
      "         nan         nan         nan         nan         nan         nan\n",
      "         nan         nan         nan         nan         nan         nan\n",
      "         nan         nan         nan -0.60436461         nan         nan\n",
      "         nan         nan         nan         nan         nan         nan\n",
      "         nan         nan         nan         nan         nan         nan\n",
      "         nan         nan         nan         nan         nan         nan\n",
      "         nan         nan         nan         nan -0.60564918         nan\n",
      "         nan         nan         nan         nan         nan         nan\n",
      "         nan         nan         nan         nan         nan         nan\n",
      "         nan         nan         nan         nan         nan         nan\n",
      "         nan         nan         nan         nan         nan -0.60710993\n",
      "         nan         nan         nan         nan         nan         nan\n",
      "         nan         nan         nan         nan         nan         nan\n",
      "         nan         nan         nan         nan         nan         nan\n",
      "         nan         nan         nan         nan         nan         nan\n",
      " -0.60876896         nan         nan         nan         nan         nan\n",
      "         nan         nan         nan         nan         nan         nan\n",
      "         nan         nan         nan         nan         nan         nan\n",
      "         nan         nan         nan         nan         nan         nan\n",
      "         nan -0.61067773         nan         nan         nan         nan\n",
      "         nan         nan         nan         nan         nan         nan\n",
      "         nan         nan         nan         nan         nan         nan\n",
      "         nan         nan         nan         nan         nan         nan\n",
      "         nan         nan -0.61279152         nan         nan         nan\n",
      "         nan         nan         nan         nan         nan         nan\n",
      "         nan         nan         nan         nan         nan         nan\n",
      "         nan         nan         nan         nan         nan         nan\n",
      "         nan         nan         nan -0.61516705         nan         nan\n",
      "         nan         nan         nan         nan         nan         nan\n",
      "         nan         nan         nan         nan         nan         nan\n",
      "         nan         nan         nan         nan         nan         nan\n",
      "         nan         nan         nan         nan -0.61780283         nan\n",
      "         nan         nan         nan         nan         nan         nan\n",
      "         nan         nan         nan         nan         nan         nan\n",
      "         nan         nan         nan         nan         nan         nan\n",
      "         nan         nan         nan         nan         nan -0.62063744\n",
      "         nan         nan         nan         nan         nan         nan\n",
      "         nan         nan         nan         nan         nan         nan\n",
      "         nan         nan         nan         nan         nan         nan\n",
      "         nan         nan         nan         nan         nan         nan\n",
      " -0.62370947         nan         nan         nan         nan         nan\n",
      "         nan         nan         nan         nan         nan         nan\n",
      "         nan         nan         nan         nan         nan         nan\n",
      "         nan         nan         nan         nan         nan         nan\n",
      "         nan -0.62720228         nan         nan         nan         nan\n",
      "         nan         nan         nan         nan         nan         nan\n",
      "         nan         nan         nan         nan         nan         nan\n",
      "         nan         nan         nan         nan         nan         nan\n",
      "         nan         nan -0.63109587         nan         nan         nan\n",
      "         nan         nan         nan         nan         nan         nan\n",
      "         nan         nan         nan         nan         nan         nan\n",
      "         nan         nan         nan         nan         nan         nan\n",
      "         nan         nan         nan -0.63542134         nan         nan\n",
      "         nan         nan         nan         nan         nan         nan\n",
      "         nan         nan         nan         nan         nan         nan\n",
      "         nan         nan         nan         nan         nan         nan\n",
      "         nan         nan         nan         nan -0.64019023         nan\n",
      "         nan         nan         nan         nan         nan         nan\n",
      "         nan         nan         nan         nan         nan         nan\n",
      "         nan         nan         nan         nan         nan         nan\n",
      "         nan         nan         nan         nan         nan -0.64550355\n",
      "         nan         nan         nan         nan         nan         nan\n",
      "         nan         nan         nan         nan         nan         nan\n",
      "         nan         nan         nan         nan         nan         nan\n",
      "         nan         nan         nan         nan         nan         nan\n",
      " -0.65146342         nan         nan         nan         nan         nan\n",
      "         nan         nan         nan         nan         nan         nan\n",
      "         nan         nan         nan         nan         nan         nan\n",
      "         nan         nan         nan         nan         nan         nan\n",
      "         nan -0.65810488         nan         nan         nan         nan\n",
      "         nan         nan         nan         nan         nan         nan\n",
      "         nan         nan         nan         nan         nan         nan\n",
      "         nan         nan         nan         nan         nan         nan\n",
      "         nan         nan -0.66550473         nan         nan         nan\n",
      "         nan         nan         nan         nan         nan         nan\n",
      "         nan         nan         nan         nan         nan         nan\n",
      "         nan         nan         nan         nan         nan         nan\n",
      "         nan         nan         nan -0.67373588         nan         nan\n",
      "         nan         nan         nan         nan         nan         nan\n",
      "         nan         nan         nan         nan         nan         nan\n",
      "         nan         nan         nan         nan         nan         nan\n",
      "         nan         nan         nan         nan -0.68268255         nan\n",
      "         nan         nan         nan         nan         nan         nan\n",
      "         nan         nan         nan         nan         nan         nan\n",
      "         nan         nan         nan         nan         nan         nan\n",
      "         nan         nan         nan         nan         nan -0.69217074\n",
      "         nan         nan         nan         nan         nan         nan\n",
      "         nan         nan         nan         nan         nan         nan\n",
      "         nan         nan         nan         nan         nan         nan\n",
      "         nan         nan         nan         nan         nan         nan\n",
      " -0.70218466         nan         nan         nan         nan         nan\n",
      "         nan         nan         nan         nan         nan         nan\n",
      "         nan         nan         nan         nan         nan         nan\n",
      "         nan         nan         nan         nan         nan         nan\n",
      "         nan]\n",
      "  warnings.warn(\n"
     ]
    },
    {
     "data": {
      "application/javascript": [
       "\n",
       "            setTimeout(function() {\n",
       "                var nbb_cell_id = 12;\n",
       "                var nbb_unformatted_code = \"## Nous allons tester la r\\u00e9gression ElasticNet\\n\\nfrom sklearn.linear_model import ElasticNet\\n\\nelastic_net = ElasticNet()\\npipe_elastic = Pipeline([(\\\"scaler\\\", StandardScaler()), (\\\"Elastic\\\", elastic_net)])\\n\\nn_alphas = 25\\n\\nalpha = np.logspace(-2, -1, n_alphas)\\nl1_ratio = np.logspace(0, 1, n_alphas)\\nparam_grid = dict(Elastic__alpha=alpha, Elastic__l1_ratio=l1_ratio)\\n\\n##  Mod\\u00e9le pour l'\\u00e9nergie\\n\\ngrid = GridSearchCV(\\n    pipe_elastic,\\n    param_grid=param_grid,\\n    cv=5,\\n    scoring=(\\\"r2\\\", \\\"neg_mean_absolute_error\\\"),\\n    return_train_score=True,\\n    refit=\\\"r2\\\",\\n    verbose=1,\\n    n_jobs=-1,\\n)\\ngrid_result = grid.fit(X_train, y_train[\\\"SiteEnergyUse(kBtu)\\\"])\\n\\nElastic_Energy = grid.best_estimator_\\n\\nEnergy_results_Elastic = pd.DataFrame.from_dict(grid_result.cv_results_)\\n\\nprint(\\n    \\\"Best R2: \\\",\\n    np.array(\\n        Energy_results_Elastic[Energy_results_Elastic.rank_test_r2 == 1][\\\"mean_test_r2\\\"]\\n    ),\\n)\\nprint(\\n    \\\"Best MAE: \\\",\\n    np.array(\\n        Energy_results_Elastic[Energy_results_Elastic.rank_test_r2 == 1][\\n            \\\"mean_test_neg_mean_absolute_error\\\"\\n        ]\\n    ),\\n)\\nprint(\\n    \\\"Temps moyen\\\",\\n    np.array(\\n        Energy_results_Elastic[Energy_results_Elastic.rank_test_r2 == 1][\\n            \\\"mean_fit_time\\\"\\n        ]\\n    ),\\n    \\\"s\\\",\\n)\\nprint(\\\"Best Params: \\\", grid_result.best_params_)\";\n",
       "                var nbb_formatted_code = \"## Nous allons tester la r\\u00e9gression ElasticNet\\n\\nfrom sklearn.linear_model import ElasticNet\\n\\nelastic_net = ElasticNet()\\npipe_elastic = Pipeline([(\\\"scaler\\\", StandardScaler()), (\\\"Elastic\\\", elastic_net)])\\n\\nn_alphas = 25\\n\\nalpha = np.logspace(-2, -1, n_alphas)\\nl1_ratio = np.logspace(0, 1, n_alphas)\\nparam_grid = dict(Elastic__alpha=alpha, Elastic__l1_ratio=l1_ratio)\\n\\n##  Mod\\u00e9le pour l'\\u00e9nergie\\n\\ngrid = GridSearchCV(\\n    pipe_elastic,\\n    param_grid=param_grid,\\n    cv=5,\\n    scoring=(\\\"r2\\\", \\\"neg_mean_absolute_error\\\"),\\n    return_train_score=True,\\n    refit=\\\"r2\\\",\\n    verbose=1,\\n    n_jobs=-1,\\n)\\ngrid_result = grid.fit(X_train, y_train[\\\"SiteEnergyUse(kBtu)\\\"])\\n\\nElastic_Energy = grid.best_estimator_\\n\\nEnergy_results_Elastic = pd.DataFrame.from_dict(grid_result.cv_results_)\\n\\nprint(\\n    \\\"Best R2: \\\",\\n    np.array(\\n        Energy_results_Elastic[Energy_results_Elastic.rank_test_r2 == 1][\\\"mean_test_r2\\\"]\\n    ),\\n)\\nprint(\\n    \\\"Best MAE: \\\",\\n    np.array(\\n        Energy_results_Elastic[Energy_results_Elastic.rank_test_r2 == 1][\\n            \\\"mean_test_neg_mean_absolute_error\\\"\\n        ]\\n    ),\\n)\\nprint(\\n    \\\"Temps moyen\\\",\\n    np.array(\\n        Energy_results_Elastic[Energy_results_Elastic.rank_test_r2 == 1][\\n            \\\"mean_fit_time\\\"\\n        ]\\n    ),\\n    \\\"s\\\",\\n)\\nprint(\\\"Best Params: \\\", grid_result.best_params_)\";\n",
       "                var nbb_cells = Jupyter.notebook.get_cells();\n",
       "                for (var i = 0; i < nbb_cells.length; ++i) {\n",
       "                    if (nbb_cells[i].input_prompt_number == nbb_cell_id) {\n",
       "                        if (nbb_cells[i].get_text() == nbb_unformatted_code) {\n",
       "                             nbb_cells[i].set_text(nbb_formatted_code);\n",
       "                        }\n",
       "                        break;\n",
       "                    }\n",
       "                }\n",
       "            }, 500);\n",
       "            "
      ],
      "text/plain": [
       "<IPython.core.display.Javascript object>"
      ]
     },
     "metadata": {},
     "output_type": "display_data"
    }
   ],
   "source": [
    "## Nous allons tester la régression ElasticNet\n",
    "\n",
    "from sklearn.linear_model import ElasticNet\n",
    "\n",
    "elastic_net = ElasticNet()\n",
    "pipe_elastic = Pipeline([(\"scaler\", StandardScaler()), (\"Elastic\", elastic_net)])\n",
    "\n",
    "n_alphas = 25\n",
    "\n",
    "alpha = np.logspace(-2, -1, n_alphas)\n",
    "l1_ratio = np.logspace(0, 1, n_alphas)\n",
    "param_grid = dict(Elastic__alpha=alpha, Elastic__l1_ratio=l1_ratio)\n",
    "\n",
    "##  Modéle pour l'énergie\n",
    "\n",
    "grid = GridSearchCV(\n",
    "    pipe_elastic,\n",
    "    param_grid=param_grid,\n",
    "    cv=5,\n",
    "    scoring=(\"r2\", \"neg_mean_absolute_error\"),\n",
    "    return_train_score=True,\n",
    "    refit=\"r2\",\n",
    "    verbose=1,\n",
    "    n_jobs=-1,\n",
    ")\n",
    "grid_result = grid.fit(X_train, y_train[\"SiteEnergyUse(kBtu)\"])\n",
    "\n",
    "Elastic_Energy = grid.best_estimator_\n",
    "\n",
    "Energy_results_Elastic = pd.DataFrame.from_dict(grid_result.cv_results_)\n",
    "\n",
    "print(\n",
    "    \"Best R2: \",\n",
    "    np.array(\n",
    "        Energy_results_Elastic[Energy_results_Elastic.rank_test_r2 == 1][\"mean_test_r2\"]\n",
    "    ),\n",
    ")\n",
    "print(\n",
    "    \"Best MAE: \",\n",
    "    np.array(\n",
    "        Energy_results_Elastic[Energy_results_Elastic.rank_test_r2 == 1][\n",
    "            \"mean_test_neg_mean_absolute_error\"\n",
    "        ]\n",
    "    ),\n",
    ")\n",
    "print(\n",
    "    \"Temps moyen\",\n",
    "    np.array(\n",
    "        Energy_results_Elastic[Energy_results_Elastic.rank_test_r2 == 1][\n",
    "            \"mean_fit_time\"\n",
    "        ]\n",
    "    ),\n",
    "    \"s\",\n",
    ")\n",
    "print(\"Best Params: \", grid_result.best_params_)"
   ]
  },
  {
   "cell_type": "code",
   "execution_count": 13,
   "id": "4597d816",
   "metadata": {},
   "outputs": [
    {
     "name": "stdout",
     "output_type": "stream",
     "text": [
      "Fitting 5 folds for each of 625 candidates, totalling 3125 fits\n",
      "Best R2:  [0.43791847]\n",
      "Best MAE:  [-0.87704931]\n",
      "Temps moyen [0.01559124] s\n",
      "Best Params:  {'Elastic__alpha': 0.06812920690579612, 'Elastic__l1_ratio': 0.31622776601683794}\n"
     ]
    },
    {
     "name": "stderr",
     "output_type": "stream",
     "text": [
      "C:\\Users\\antoi\\miniconda3\\envs\\Test\\lib\\site-packages\\sklearn\\model_selection\\_search.py:922: UserWarning: One or more of the test scores are non-finite: [0.42061458 0.4209398  0.42131681 0.42174437 0.42222195 0.42275146\n",
      " 0.42336249 0.42410607 0.4250247  0.42610735 0.42731486 0.42857454\n",
      " 0.4292931         nan        nan        nan        nan        nan\n",
      "        nan        nan        nan        nan        nan        nan\n",
      "        nan 0.42089593 0.42124582 0.42164202 0.4220953  0.4225924\n",
      " 0.42316324 0.42383406 0.42468425 0.42566291 0.42678252 0.42807579\n",
      " 0.42933533 0.43015975        nan        nan        nan        nan\n",
      "        nan        nan        nan        nan        nan        nan\n",
      "        nan        nan 0.42119882 0.4215662  0.42198711 0.42245818\n",
      " 0.42299177 0.42359634 0.4243576  0.42526257 0.42630574 0.4274932\n",
      " 0.42882928 0.43010876 0.43112761        nan        nan        nan\n",
      "        nan        nan        nan        nan        nan        nan\n",
      "        nan        nan        nan 0.42151462 0.42190307 0.42234993\n",
      " 0.42284682 0.42340949 0.424066   0.42490854 0.42587221 0.42696464\n",
      " 0.428272   0.42960061 0.43109069 0.43208984        nan        nan\n",
      "        nan        nan        nan        nan        nan        nan\n",
      "        nan        nan        nan        nan 0.42184437 0.42226492\n",
      " 0.42272488 0.42325744 0.42385553 0.42457961 0.42548317 0.42652097\n",
      " 0.42769706 0.42905793 0.4303846  0.43208303 0.43301563        nan\n",
      "        nan        nan        nan        nan        nan        nan\n",
      "        nan        nan        nan        nan        nan 0.42219912\n",
      " 0.42263289 0.42312537 0.42368584 0.42433706 0.42513643 0.42609925\n",
      " 0.42718907 0.42847358 0.42983168 0.43140992 0.43307089 0.4339222\n",
      "        nan        nan        nan        nan        nan        nan\n",
      "        nan        nan        nan        nan        nan        nan\n",
      " 0.42257019 0.42302182 0.42354469 0.42414062 0.42484828 0.42571389\n",
      " 0.42674868 0.42793399 0.4292726  0.4307351  0.43240121 0.43400661\n",
      " 0.43475056        nan        nan        nan        nan        nan\n",
      "        nan        nan        nan        nan        nan        nan\n",
      "        nan 0.42294795 0.42343038 0.42398608 0.42462465 0.42540408\n",
      " 0.42633216 0.42743887 0.42869192 0.43016939 0.43173971 0.43338314\n",
      " 0.43492922 0.43554328        nan        nan        nan        nan\n",
      "        nan        nan        nan        nan        nan        nan\n",
      "        nan        nan 0.42334675 0.42385948 0.42445176 0.42515029\n",
      " 0.42598362 0.4269924  0.42817957 0.42956098 0.43112341 0.43273063\n",
      " 0.43431729 0.43576954 0.43619675        nan        nan        nan\n",
      "        nan        nan        nan        nan        nan        nan\n",
      "        nan        nan        nan 0.4237621  0.42430817 0.42493966\n",
      " 0.42571231 0.42659875 0.42769567 0.42898293 0.43050434 0.43208107\n",
      " 0.43370414 0.43522058 0.43658798 0.43642854        nan        nan\n",
      "        nan        nan        nan        nan        nan        nan\n",
      "        nan        nan        nan        nan 0.42419027 0.42477546\n",
      " 0.42547103 0.4262941  0.42727727 0.42849218 0.42991976 0.43148848\n",
      " 0.43306684 0.43462632 0.43607602 0.43721002 0.43640595        nan\n",
      "        nan        nan        nan        nan        nan        nan\n",
      "        nan        nan        nan        nan        nan 0.42463739\n",
      " 0.42526959 0.42603709 0.42693673 0.42804925 0.42938935 0.43087621\n",
      " 0.4324733  0.43401935 0.43549138 0.43691354 0.4374065  0.43620108\n",
      "        nan        nan        nan        nan        nan        nan\n",
      "        nan        nan        nan        nan        nan        nan\n",
      " 0.42510545 0.42581556 0.42664472 0.42769733 0.42894899 0.43030712\n",
      " 0.43186228 0.43340292 0.43492413 0.4363871  0.43745924 0.43739035\n",
      " 0.43569768        nan        nan        nan        nan        nan\n",
      "        nan        nan        nan        nan        nan        nan\n",
      "        nan 0.42562312 0.42640367 0.42741305 0.42857153 0.42981784\n",
      " 0.43126517 0.43283511 0.43432866 0.43576911 0.43720377 0.43760745\n",
      " 0.43715368 0.43481915        nan        nan        nan        nan\n",
      "        nan        nan        nan        nan        nan        nan\n",
      "        nan        nan 0.42625677 0.42719028 0.42825085 0.4294434\n",
      " 0.4307373  0.43224265 0.43375329 0.43520849 0.43668667 0.43766765\n",
      " 0.43757859 0.43658199 0.43340419        nan        nan        nan\n",
      "        nan        nan        nan        nan        nan        nan\n",
      "        nan        nan        nan 0.42703201 0.42800007 0.42912981\n",
      " 0.43029315 0.43167773 0.43320478 0.43462397 0.43610107 0.43744307\n",
      " 0.4377669  0.4373033  0.43560434 0.43164694        nan        nan\n",
      "        nan        nan        nan        nan        nan        nan\n",
      "        nan        nan        nan        nan 0.42781557 0.42883777\n",
      " 0.42994579 0.43122372 0.43263172 0.43410445 0.43553357 0.43695932\n",
      " 0.43781516 0.4376692  0.43665788 0.43411018 0.42953138        nan\n",
      "        nan        nan        nan        nan        nan        nan\n",
      "        nan        nan        nan        nan        nan 0.42862492\n",
      " 0.42966784 0.43081123 0.43215057 0.43356732 0.43496804 0.43642047\n",
      " 0.43758826 0.43786622 0.43732772 0.43564215 0.43215817 0.42699244\n",
      "        nan        nan        nan        nan        nan        nan\n",
      "        nan        nan        nan        nan        nan        nan\n",
      " 0.42944146 0.43047328 0.43173164 0.43306148 0.43445543 0.43585651\n",
      " 0.43717038 0.43790196 0.43765379 0.43659444 0.43411815 0.42994814\n",
      " 0.42396665        nan        nan        nan        nan        nan\n",
      "        nan        nan        nan        nan        nan        nan\n",
      "        nan 0.43008852 0.43122527 0.43256134 0.43395319 0.43537419\n",
      " 0.43668021 0.4376831  0.43788078 0.43722151 0.43555498 0.43209095\n",
      " 0.4273288  0.42053631        nan        nan        nan        nan\n",
      "        nan        nan        nan        nan        nan        nan\n",
      "        nan        nan 0.4307248  0.43198732 0.43332762 0.43476876\n",
      " 0.43617315 0.43733465 0.43791847 0.43757234 0.43640533 0.43395012\n",
      " 0.42968246 0.42423667 0.41634319        nan        nan        nan\n",
      "        nan        nan        nan        nan        nan        nan\n",
      "        nan        nan        nan 0.43142273 0.43270067 0.43413004\n",
      " 0.43551191 0.43675055 0.43778558 0.43778556 0.43699675 0.43531299\n",
      " 0.43186725 0.42698702 0.42063902 0.41087816        nan        nan\n",
      "        nan        nan        nan        nan        nan        nan\n",
      "        nan        nan        nan        nan 0.43210062 0.43346803\n",
      " 0.43483727 0.43607912 0.43716597 0.43779053 0.43734382 0.43608626\n",
      " 0.43363345 0.42930418 0.42382233 0.41628733 0.40422113        nan\n",
      "        nan        nan        nan        nan        nan        nan\n",
      "        nan        nan        nan        nan        nan 0.43282536\n",
      " 0.43417364 0.43540266 0.43650541 0.43738754 0.43739236 0.43663397\n",
      " 0.43489802 0.4314295  0.42642428 0.42007983 0.41063795 0.39658686\n",
      "        nan        nan        nan        nan        nan        nan\n",
      "        nan        nan        nan        nan        nan        nan\n",
      " 0.43348485 0.43476224 0.4358027  0.43675357 0.43721562 0.43671626\n",
      " 0.43551253 0.4331261  0.42873874 0.42316516 0.41559159 0.40380881\n",
      " 0.38783751        nan        nan        nan        nan        nan\n",
      "        nan        nan        nan        nan        nan        nan\n",
      "        nan]\n",
      "  warnings.warn(\n",
      "C:\\Users\\antoi\\miniconda3\\envs\\Test\\lib\\site-packages\\sklearn\\model_selection\\_search.py:922: UserWarning: One or more of the train scores are non-finite: [0.52556524 0.52545281 0.52530462 0.52510657 0.52484074 0.52448752\n",
      " 0.524003   0.5233538  0.5226527  0.52202056 0.52122661 0.52020297\n",
      " 0.51896481        nan        nan        nan        nan        nan\n",
      "        nan        nan        nan        nan        nan        nan\n",
      "        nan 0.52540999 0.52527918 0.52510634 0.52487548 0.52456847\n",
      " 0.52415919 0.52359787 0.52291941 0.52225561 0.52158829 0.52065115\n",
      " 0.51955941 0.51815415        nan        nan        nan        nan\n",
      "        nan        nan        nan        nan        nan        nan\n",
      "        nan        nan 0.52523698 0.52508516 0.52488408 0.52461667\n",
      " 0.52426566 0.52378803 0.52316267 0.52249902 0.52187265 0.52108222\n",
      " 0.52006323 0.51882955 0.51721486        nan        nan        nan\n",
      "        nan        nan        nan        nan        nan        nan\n",
      "        nan        nan        nan 0.52504488 0.52486895 0.52463641\n",
      " 0.52433122 0.52392599 0.52337647 0.52273081 0.52209773 0.5214254\n",
      " 0.52050306 0.51940771 0.51801872 0.51609283        nan        nan\n",
      "        nan        nan        nan        nan        nan        nan\n",
      "        nan        nan        nan        nan 0.52483193 0.5246288\n",
      " 0.52436168 0.52401408 0.52354405 0.52294796 0.52231601 0.52169592\n",
      " 0.52090802 0.51989294 0.51866929 0.5170579  0.51477378        nan\n",
      "        nan        nan        nan        nan        nan        nan\n",
      "        nan        nan        nan        nan        nan 0.52459648\n",
      " 0.52436266 0.52406106 0.52366019 0.52312659 0.5225146  0.52190952\n",
      " 0.52123242 0.52031784 0.51922231 0.5178458  0.51591394 0.51323432\n",
      "        nan        nan        nan        nan        nan        nan\n",
      "        nan        nan        nan        nan        nan        nan\n",
      " 0.52433637 0.52407195 0.52372774 0.52326553 0.52270296 0.52209905\n",
      " 0.52148439 0.52069788 0.51969106 0.51848318 0.51686001 0.51457525\n",
      " 0.51144939        nan        nan        nan        nan        nan\n",
      "        nan        nan        nan        nan        nan        nan\n",
      "        nan 0.52405103 0.52375313 0.52335623 0.52284595 0.52226791\n",
      " 0.52168325 0.52100184 0.52009534 0.51901371 0.51762931 0.51569127\n",
      " 0.51301095 0.50941961        nan        nan        nan        nan\n",
      "        nan        nan        nan        nan        nan        nan\n",
      "        nan        nan 0.52374097 0.5233993  0.52295143 0.52241786\n",
      " 0.52184703 0.52123293 0.5204431  0.51945691 0.51825449 0.51661207\n",
      " 0.51432348 0.51120912 0.50707017        nan        nan        nan\n",
      "        nan        nan        nan        nan        nan        nan\n",
      "        nan        nan        nan 0.52339914 0.52300778 0.52252687\n",
      " 0.52198248 0.52140964 0.52072167 0.51983035 0.51876568 0.51736134\n",
      " 0.51541611 0.51272849 0.50916561 0.50440197        nan        nan\n",
      "        nan        nan        nan        nan        nan        nan\n",
      "        nan        nan        nan        nan 0.52302091 0.52259191\n",
      " 0.52208262 0.52154701 0.52092952 0.52014403 0.5191809  0.51797602\n",
      " 0.51630926 0.51400999 0.51091062 0.50678292 0.50133341        nan\n",
      "        nan        nan        nan        nan        nan        nan\n",
      "        nan        nan        nan        nan        nan 0.52261276\n",
      " 0.52215624 0.5216416  0.52107936 0.52039549 0.51951762 0.51846613\n",
      " 0.51703751 0.5150786  0.51238217 0.50884491 0.50411273 0.49793449\n",
      "        nan        nan        nan        nan        nan        nan\n",
      "        nan        nan        nan        nan        nan        nan\n",
      " 0.522179   0.52170403 0.52118513 0.52057699 0.519797   0.51885088\n",
      " 0.51763199 0.51594367 0.51362664 0.51055361 0.50643939 0.50107653\n",
      " 0.49436624        nan        nan        nan        nan        nan\n",
      "        nan        nan        nan        nan        nan        nan\n",
      "        nan 0.52171951 0.52124134 0.52069545 0.52001375 0.51914574\n",
      " 0.5180929  0.51664486 0.51466323 0.5119637  0.50844635 0.50374747\n",
      " 0.49765337 0.49056569        nan        nan        nan        nan\n",
      "        nan        nan        nan        nan        nan        nan\n",
      "        nan        nan 0.52125883 0.52076959 0.5201595  0.51938077\n",
      " 0.5184435  0.51720441 0.51550218 0.51315614 0.51011106 0.50602834\n",
      " 0.50072779 0.49406382 0.48636147        nan        nan        nan\n",
      "        nan        nan        nan        nan        nan        nan\n",
      "        nan        nan        nan 0.52078869 0.52023594 0.51954579\n",
      " 0.51869939 0.51762769 0.51616435 0.51415113 0.51147459 0.50795572\n",
      " 0.50332861 0.49730928 0.49025039 0.4816102         nan        nan\n",
      "        nan        nan        nan        nan        nan        nan\n",
      "        nan        nan        nan        nan 0.52026313 0.51964517\n",
      " 0.51888603 0.51793678 0.51667487 0.514956   0.51259565 0.50956638\n",
      " 0.50551794 0.500272   0.49372293 0.48601039 0.47652146        nan\n",
      "        nan        nan        nan        nan        nan        nan\n",
      "        nan        nan        nan        nan        nan 0.51967157\n",
      " 0.51899553 0.51814253 0.51704759 0.5155665  0.5135331  0.51087771\n",
      " 0.50736418 0.50280826 0.4968879  0.48983261 0.48117905 0.47098475\n",
      "        nan        nan        nan        nan        nan        nan\n",
      "        nan        nan        nan        nan        nan        nan\n",
      " 0.51903015 0.51826342 0.51729947 0.51601798 0.5142692  0.51193303\n",
      " 0.50889221 0.50491854 0.4997438  0.4932921  0.48554187 0.47601225\n",
      " 0.46496212        nan        nan        nan        nan        nan\n",
      "        nan        nan        nan        nan        nan        nan\n",
      "        nan 0.51828699 0.517427   0.5163202  0.51481433 0.51279865\n",
      " 0.51014055 0.50665247 0.50215589 0.49637795 0.48931984 0.48066021\n",
      " 0.47041751 0.45844888        nan        nan        nan        nan\n",
      "        nan        nan        nan        nan        nan        nan\n",
      "        nan        nan 0.51745023 0.51648226 0.51517977 0.51344682\n",
      " 0.5111179  0.50808612 0.50415765 0.49908214 0.49271939 0.48492625\n",
      " 0.4753578  0.4642998  0.45123618        nan        nan        nan\n",
      "        nan        nan        nan        nan        nan        nan\n",
      "        nan        nan        nan 0.51651804 0.51538254 0.51389131\n",
      " 0.51185708 0.50922415 0.50579023 0.50137825 0.49570413 0.48867646\n",
      " 0.47997468 0.46967749 0.45765925 0.44319706        nan        nan\n",
      "        nan        nan        nan        nan        nan        nan\n",
      "        nan        nan        nan        nan 0.51544334 0.51415614\n",
      " 0.51239401 0.51006916 0.50710821 0.50324125 0.49828891 0.4919801\n",
      " 0.48413763 0.47456642 0.46344515 0.45035234 0.43446165        nan\n",
      "        nan        nan        nan        nan        nan        nan\n",
      "        nan        nan        nan        nan        nan 0.51425453\n",
      " 0.51272653 0.51066917 0.50812414 0.5047214  0.50040274 0.49483613\n",
      " 0.48782054 0.47906634 0.46873853 0.45662755 0.44217907 0.42461774\n",
      "        nan        nan        nan        nan        nan        nan\n",
      "        nan        nan        nan        nan        nan        nan\n",
      " 0.51287099 0.51107863 0.50884376 0.5059015  0.50208751 0.49721732\n",
      " 0.49097674 0.48313793 0.47354397 0.46236268 0.44917371 0.43329286\n",
      " 0.41374126        nan        nan        nan        nan        nan\n",
      "        nan        nan        nan        nan        nan        nan\n",
      "        nan]\n",
      "  warnings.warn(\n",
      "C:\\Users\\antoi\\miniconda3\\envs\\Test\\lib\\site-packages\\sklearn\\model_selection\\_search.py:922: UserWarning: One or more of the test scores are non-finite: [-0.88688397 -0.88658593 -0.88623109 -0.88582998 -0.88542439 -0.88500768\n",
      " -0.88456311 -0.88405393 -0.88344892 -0.882741   -0.88199263 -0.88132559\n",
      " -0.88171221         nan         nan         nan         nan         nan\n",
      "         nan         nan         nan         nan         nan         nan\n",
      "         nan -0.88667151 -0.88634099 -0.88596661 -0.88556945 -0.88515527\n",
      " -0.88473533 -0.88425885 -0.88368925 -0.8830359  -0.88230475 -0.88154604\n",
      " -0.88089132 -0.881202           nan         nan         nan         nan\n",
      "         nan         nan         nan         nan         nan         nan\n",
      "         nan         nan -0.88643912 -0.88608862 -0.88569678 -0.88528683\n",
      " -0.88489161 -0.88445184 -0.88393941 -0.88332262 -0.88262426 -0.88187671\n",
      " -0.88111011 -0.88042934 -0.8806681          nan         nan         nan\n",
      "         nan         nan         nan         nan         nan         nan\n",
      "         nan         nan         nan -0.88619386 -0.88581732 -0.88542341\n",
      " -0.88502575 -0.88461301 -0.8841559  -0.88358112 -0.88291821 -0.88218896\n",
      " -0.8813908  -0.88067386 -0.87987484 -0.88011673         nan         nan\n",
      "         nan         nan         nan         nan         nan         nan\n",
      "         nan         nan         nan         nan -0.88593526 -0.88554139\n",
      " -0.88515128 -0.88475719 -0.88433077 -0.88383755 -0.88320778 -0.88249436\n",
      " -0.88173668 -0.88092121 -0.88023686 -0.87934266 -0.8795291          nan\n",
      "         nan         nan         nan         nan         nan         nan\n",
      "         nan         nan         nan         nan         nan -0.88564904\n",
      " -0.88526849 -0.88488813 -0.88448304 -0.88403256 -0.88346925 -0.88278429\n",
      " -0.88204644 -0.881242   -0.88048388 -0.87965535 -0.87880635 -0.87892412\n",
      "         nan         nan         nan         nan         nan         nan\n",
      "         nan         nan         nan         nan         nan         nan\n",
      " -0.88537202 -0.88500194 -0.8846121  -0.88420204 -0.88371201 -0.88308924\n",
      " -0.88236327 -0.88156599 -0.88078147 -0.87999346 -0.87913853 -0.87822489\n",
      " -0.8785874          nan         nan         nan         nan         nan\n",
      "         nan         nan         nan         nan         nan         nan\n",
      "         nan -0.8850934  -0.8847284  -0.88434212 -0.88390146 -0.88334256\n",
      " -0.88266052 -0.88189179 -0.88111299 -0.8802647  -0.8794421  -0.87860829\n",
      " -0.87765699 -0.87827925         nan         nan         nan         nan\n",
      "         nan         nan         nan         nan         nan         nan\n",
      "         nan         nan -0.88482737 -0.88446635 -0.88404722 -0.8835542\n",
      " -0.88294927 -0.88222772 -0.88141341 -0.88063392 -0.87972371 -0.87894526\n",
      " -0.87802042 -0.87730702 -0.87811293         nan         nan         nan\n",
      "         nan         nan         nan         nan         nan         nan\n",
      "         nan         nan         nan -0.88456823 -0.88418372 -0.88373353\n",
      " -0.88318175 -0.88251627 -0.88173007 -0.88096357 -0.88007447 -0.87924792\n",
      " -0.87841674 -0.87751615 -0.87697897 -0.8783023          nan         nan\n",
      "         nan         nan         nan         nan         nan         nan\n",
      "         nan         nan         nan         nan -0.88429517 -0.88388758\n",
      " -0.88339077 -0.88277366 -0.88204444 -0.88126288 -0.88046238 -0.87951182\n",
      " -0.87875988 -0.87783703 -0.87713301 -0.87688708 -0.87889703         nan\n",
      "         nan         nan         nan         nan         nan         nan\n",
      "         nan         nan         nan         nan         nan -0.8840134\n",
      " -0.88356865 -0.88300496 -0.88229745 -0.88154459 -0.88078426 -0.87990432\n",
      " -0.87902185 -0.8782393  -0.87741075 -0.87675842 -0.87713491 -0.87948456\n",
      "         nan         nan         nan         nan         nan         nan\n",
      "         nan         nan         nan         nan         nan         nan\n",
      " -0.88371518 -0.88319855 -0.88254547 -0.88179824 -0.88104422 -0.88029248\n",
      " -0.8793463  -0.87858978 -0.87770479 -0.87699498 -0.87671587 -0.87771915\n",
      " -0.88038934         nan         nan         nan         nan         nan\n",
      "         nan         nan         nan         nan         nan         nan\n",
      "         nan -0.88335576 -0.88277399 -0.88204123 -0.88129412 -0.88061389\n",
      " -0.87975115 -0.87888309 -0.8781036  -0.87735471 -0.8765939  -0.87702509\n",
      " -0.87838186 -0.88170664         nan         nan         nan         nan\n",
      "         nan         nan         nan         nan         nan         nan\n",
      "         nan         nan -0.88293616 -0.88226104 -0.88153235 -0.88083802\n",
      " -0.88013393 -0.87922251 -0.87845285 -0.87764657 -0.8768769  -0.87659266\n",
      " -0.87757888 -0.87941937 -0.88334153         nan         nan         nan\n",
      "         nan         nan         nan         nan         nan         nan\n",
      "         nan         nan         nan -0.88245865 -0.88176927 -0.88106654\n",
      " -0.88045705 -0.8796331  -0.87879465 -0.87808206 -0.87727956 -0.87650634\n",
      " -0.87696041 -0.87831485 -0.88092462 -0.88509033         nan         nan\n",
      "         nan         nan         nan         nan         nan         nan\n",
      "         nan         nan         nan         nan -0.88201336 -0.88133898\n",
      " -0.88072446 -0.88001264 -0.87920221 -0.87850243 -0.87761733 -0.87683105\n",
      " -0.87662767 -0.87757365 -0.87948515 -0.88272061 -0.88721077         nan\n",
      "         nan         nan         nan         nan         nan         nan\n",
      "         nan         nan         nan         nan         nan -0.88157457\n",
      " -0.88095997 -0.88035826 -0.87959397 -0.87887482 -0.87812644 -0.87722803\n",
      " -0.87656884 -0.87704715 -0.87839316 -0.88102855 -0.88470362 -0.88929616\n",
      "         nan         nan         nan         nan         nan         nan\n",
      "         nan         nan         nan         nan         nan         nan\n",
      " -0.88119477 -0.88066886 -0.87997429 -0.87926759 -0.87855637 -0.87763009\n",
      " -0.87685611 -0.87678286 -0.87776537 -0.87968038 -0.88286417 -0.88696701\n",
      " -0.89158886         nan         nan         nan         nan         nan\n",
      "         nan         nan         nan         nan         nan         nan\n",
      "         nan -0.88096518 -0.88038647 -0.87965743 -0.8789282  -0.87805502\n",
      " -0.87726994 -0.87676737 -0.87728209 -0.87870987 -0.88126683 -0.88489884\n",
      " -0.88917526 -0.89438009         nan         nan         nan         nan\n",
      "         nan         nan         nan         nan         nan         nan\n",
      "         nan         nan -0.88080318 -0.88009895 -0.87938459 -0.87853695\n",
      " -0.87768855 -0.87701202 -0.87704931 -0.8780412  -0.88008727 -0.88316699\n",
      " -0.88729972 -0.89155848 -0.89838626         nan         nan         nan\n",
      "         nan         nan         nan         nan         nan         nan\n",
      "         nan         nan         nan -0.88053244 -0.87983295 -0.87896965\n",
      " -0.87815416 -0.87748568 -0.8769974  -0.87759878 -0.87915926 -0.88169732\n",
      " -0.88523156 -0.8895535  -0.89452668 -0.90314109         nan         nan\n",
      "         nan         nan         nan         nan         nan         nan\n",
      "         nan         nan         nan         nan -0.88024823 -0.8794552\n",
      " -0.87863176 -0.8779277  -0.87739472 -0.87738795 -0.87854755 -0.88056276\n",
      " -0.88367832 -0.88770375 -0.89200974 -0.898616   -0.90883883         nan\n",
      "         nan         nan         nan         nan         nan         nan\n",
      "         nan         nan         nan         nan         nan -0.8799223\n",
      " -0.87910041 -0.87835666 -0.87784475 -0.87743376 -0.87814315 -0.87971323\n",
      " -0.88227732 -0.88578341 -0.89009743 -0.89502215 -0.90344722 -0.91566022\n",
      "         nan         nan         nan         nan         nan         nan\n",
      "         nan         nan         nan         nan         nan         nan\n",
      " -0.87960917 -0.87876575 -0.87828643 -0.87785569 -0.87792235 -0.87924422\n",
      " -0.88121667 -0.88435505 -0.88832963 -0.8926318  -0.89915336 -0.90933339\n",
      " -0.92363707         nan         nan         nan         nan         nan\n",
      "         nan         nan         nan         nan         nan         nan\n",
      "         nan]\n",
      "  warnings.warn(\n",
      "C:\\Users\\antoi\\miniconda3\\envs\\Test\\lib\\site-packages\\sklearn\\model_selection\\_search.py:922: UserWarning: One or more of the train scores are non-finite: [-0.80543732 -0.80564876 -0.80590646 -0.80622083 -0.80660897 -0.80709297\n",
      " -0.80768452 -0.80842155 -0.80915086 -0.80984118 -0.81071101 -0.81179969\n",
      " -0.81315512         nan         nan         nan         nan         nan\n",
      "         nan         nan         nan         nan         nan         nan\n",
      "         nan -0.80568814 -0.80591673 -0.80619628 -0.80654316 -0.80696846\n",
      " -0.80749732 -0.80815402 -0.80888579 -0.80957768 -0.81032064 -0.81131685\n",
      " -0.81250998 -0.81406269         nan         nan         nan         nan\n",
      "         nan         nan         nan         nan         nan         nan\n",
      "         nan         nan -0.80594888 -0.80619729 -0.80650308 -0.80688601\n",
      " -0.80734767 -0.80792699 -0.80863211 -0.80932784 -0.81001297 -0.81087076\n",
      " -0.81195709 -0.8133283  -0.81510395         nan         nan         nan\n",
      "         nan         nan         nan         nan         nan         nan\n",
      "         nan         nan         nan -0.80622456 -0.80649447 -0.80683378\n",
      " -0.80724329 -0.80774545 -0.8083903  -0.8090904  -0.80976216 -0.81051131\n",
      " -0.81148432 -0.81270249 -0.81425297 -0.81633339         nan         nan\n",
      "         nan         nan         nan         nan         nan         nan\n",
      "         nan         nan         nan         nan -0.80651358 -0.80681128\n",
      " -0.8071815  -0.80761779 -0.80817726 -0.80885895 -0.80952507 -0.81021305\n",
      " -0.81107235 -0.812167   -0.81354844 -0.81531803 -0.81776126         nan\n",
      "         nan         nan         nan         nan         nan         nan\n",
      "         nan         nan         nan         nan         nan -0.80681885\n",
      " -0.80714923 -0.80753948 -0.80801904 -0.80864093 -0.80931327 -0.80997079\n",
      " -0.81073469 -0.81171328 -0.81293586 -0.8144952  -0.81657568 -0.81941201\n",
      "         nan         nan         nan         nan         nan         nan\n",
      "         nan         nan         nan         nan         nan         nan\n",
      " -0.80714528 -0.8074992  -0.80791493 -0.80846044 -0.80910346 -0.80975948\n",
      " -0.81045426 -0.81131565 -0.81242683 -0.8138033  -0.81559155 -0.81801814\n",
      " -0.82129769         nan         nan         nan         nan         nan\n",
      "         nan         nan         nan         nan         nan         nan\n",
      "         nan -0.8074899  -0.80785892 -0.80833117 -0.80892503 -0.80957189\n",
      " -0.81022833 -0.81099804 -0.8119865  -0.81320751 -0.81478328 -0.81687738\n",
      " -0.8196789  -0.82337332         nan         nan         nan         nan\n",
      "         nan         nan         nan         nan         nan         nan\n",
      "         nan         nan -0.80784169 -0.80825065 -0.80877791 -0.80939106\n",
      " -0.81003611 -0.81074467 -0.81160882 -0.81271784 -0.81410188 -0.81592223\n",
      " -0.81835412 -0.82156708 -0.82570382         nan         nan         nan\n",
      "         nan         nan         nan         nan         nan         nan\n",
      "         nan         nan         nan -0.8082153  -0.8086831  -0.80924842\n",
      " -0.80987179 -0.81053662 -0.8113127  -0.81230247 -0.81352207 -0.81512397\n",
      " -0.81724087 -0.82003473 -0.82365981 -0.82834383         nan         nan\n",
      "         nan         nan         nan         nan         nan         nan\n",
      "         nan         nan         nan         nan -0.80863599 -0.80914662\n",
      " -0.80973458 -0.81035541 -0.81107648 -0.81195659 -0.81305567 -0.81444302\n",
      " -0.81629267 -0.81875461 -0.82193268 -0.82601308 -0.83137484         nan\n",
      "         nan         nan         nan         nan         nan         nan\n",
      "         nan         nan         nan         nan         nan -0.80909174\n",
      " -0.80962405 -0.81022432 -0.81089079 -0.81168009 -0.81267948 -0.81390356\n",
      " -0.81551645 -0.81765769 -0.82045811 -0.82406111 -0.82866659 -0.83471109\n",
      "         nan         nan         nan         nan         nan         nan\n",
      "         nan         nan         nan         nan         nan         nan\n",
      " -0.80956994 -0.81012643 -0.81074482 -0.81146357 -0.8123588  -0.81347292\n",
      " -0.81486739 -0.8167412  -0.8192146  -0.82238222 -0.82645705 -0.83168301\n",
      " -0.8381137          nan         nan         nan         nan         nan\n",
      "         nan         nan         nan         nan         nan         nan\n",
      "         nan -0.81007182 -0.81064431 -0.81130393 -0.8121002  -0.81311997\n",
      " -0.81436512 -0.81598532 -0.81814682 -0.82095345 -0.82454122 -0.82914006\n",
      " -0.83505409 -0.84162259         nan         nan         nan         nan\n",
      "         nan         nan         nan         nan         nan         nan\n",
      "         nan         nan -0.81059014 -0.81119036 -0.81190756 -0.8128196\n",
      " -0.81395761 -0.81536981 -0.81725498 -0.81974753 -0.82290342 -0.82697012\n",
      " -0.83215944 -0.83848782 -0.84544345         nan         nan         nan\n",
      "         nan         nan         nan         nan         nan         nan\n",
      "         nan         nan         nan -0.81112853 -0.81178332 -0.81259485\n",
      " -0.81363496 -0.81489582 -0.81654769 -0.8187195  -0.82152204 -0.82510387\n",
      " -0.82969818 -0.83555198 -0.8419946  -0.84962943         nan         nan\n",
      "         nan         nan         nan         nan         nan         nan\n",
      "         nan         nan         nan         nan -0.81170813 -0.8124415\n",
      " -0.81336964 -0.81450776 -0.81596975 -0.81786668 -0.82037629 -0.8235186\n",
      " -0.82757979 -0.83275691 -0.83896791 -0.84584442 -0.85398832         nan\n",
      "         nan         nan         nan         nan         nan         nan\n",
      "         nan         nan         nan         nan         nan -0.81235847\n",
      " -0.81320101 -0.8142258  -0.81551506 -0.81721655 -0.81940518 -0.82219294\n",
      " -0.82578668 -0.83033267 -0.83612644 -0.84252429 -0.85006195 -0.85863443\n",
      "         nan         nan         nan         nan         nan         nan\n",
      "         nan         nan         nan         nan         nan         nan\n",
      " -0.81310478 -0.81403257 -0.81517547 -0.81667683 -0.81860818 -0.82113419\n",
      " -0.8242546  -0.82829563 -0.83343817 -0.83954596 -0.84642493 -0.85444543\n",
      " -0.86369532         nan         nan         nan         nan         nan\n",
      "         nan         nan         nan         nan         nan         nan\n",
      "         nan -0.81392811 -0.8149532  -0.81627432 -0.81799717 -0.82023517\n",
      " -0.82299675 -0.82660065 -0.83111154 -0.83676031 -0.84318624 -0.85068114\n",
      " -0.85911602 -0.86920649         nan         nan         nan         nan\n",
      "         nan         nan         nan         nan         nan         nan\n",
      "         nan         nan -0.81484598 -0.81602163 -0.81753717 -0.8195227\n",
      " -0.82202017 -0.82515975 -0.82916786 -0.83423941 -0.84025222 -0.84716415\n",
      " -0.85513068 -0.86428668 -0.87535715         nan         nan         nan\n",
      "         nan         nan         nan         nan         nan         nan\n",
      "         nan         nan         nan -0.81588394 -0.81724423 -0.81898768\n",
      " -0.82126718 -0.82399392 -0.82756765 -0.83204038 -0.83755313 -0.84396147\n",
      " -0.85148333 -0.85987435 -0.8699133  -0.8821977          nan         nan\n",
      "         nan         nan         nan         nan         nan         nan\n",
      "         nan         nan         nan         nan -0.81707782 -0.81860569\n",
      " -0.8206343  -0.82312436 -0.82625533 -0.83022902 -0.8351579  -0.84109418\n",
      " -0.84804971 -0.85601838 -0.86513927 -0.87617221 -0.88960747         nan\n",
      "         nan         nan         nan         nan         nan         nan\n",
      "         nan         nan         nan         nan         nan -0.81839332\n",
      " -0.82017321 -0.82247504 -0.8251839  -0.82877653 -0.833176   -0.83851675\n",
      " -0.84491577 -0.85247656 -0.86088204 -0.87094952 -0.88315419 -0.89789336\n",
      "         nan         nan         nan         nan         nan         nan\n",
      "         nan         nan         nan         nan         nan         nan\n",
      " -0.81989886 -0.82196189 -0.82441089 -0.82756838 -0.83152748 -0.83635229\n",
      " -0.84217092 -0.84912942 -0.85710121 -0.86628316 -0.87733766 -0.89068043\n",
      " -0.90697919         nan         nan         nan         nan         nan\n",
      "         nan         nan         nan         nan         nan         nan\n",
      "         nan]\n",
      "  warnings.warn(\n"
     ]
    },
    {
     "data": {
      "application/javascript": [
       "\n",
       "            setTimeout(function() {\n",
       "                var nbb_cell_id = 13;\n",
       "                var nbb_unformatted_code = \"pipe_elastic = Pipeline([('scaler', StandardScaler()), ('Elastic', elastic_net)])\\n\\nn_alphas = 25\\n\\nalpha = np.logspace(-2, -1, n_alphas)\\nl1_ratio = np.logspace(-1,1,n_alphas)\\nparam_grid = dict(Elastic__alpha=alpha, Elastic__l1_ratio=l1_ratio)\\n\\n## Mod\\u00e9le pour les \\u00e9missions de CO2\\n\\ngrid = GridSearchCV(pipe_elastic, param_grid=param_grid, cv = 5, scoring=('r2','neg_mean_absolute_error'),refit='r2',return_train_score = True,verbose=1, n_jobs=-1)\\ngrid_result = grid.fit(X_train, y_train['GHGEmissions(MetricTonsCO2e)'])\\n\\nElastic_CO2 = grid.best_estimator_\\n\\nCO2_results_Elastic = pd.DataFrame.from_dict(grid_result.cv_results_)\\n\\nprint('Best R2: ', np.array(CO2_results_Elastic[CO2_results_Elastic.rank_test_r2==1]['mean_test_r2']))\\nprint('Best MAE: ', np.array(CO2_results_Elastic[CO2_results_Elastic.rank_test_r2==1]['mean_test_neg_mean_absolute_error']))\\nprint('Temps moyen', np.array(CO2_results_Elastic[CO2_results_Elastic.rank_test_r2==1]['mean_fit_time']),'s')\\nprint('Best Params: ', grid_result.best_params_)\";\n",
       "                var nbb_formatted_code = \"pipe_elastic = Pipeline([(\\\"scaler\\\", StandardScaler()), (\\\"Elastic\\\", elastic_net)])\\n\\nn_alphas = 25\\n\\nalpha = np.logspace(-2, -1, n_alphas)\\nl1_ratio = np.logspace(-1, 1, n_alphas)\\nparam_grid = dict(Elastic__alpha=alpha, Elastic__l1_ratio=l1_ratio)\\n\\n## Mod\\u00e9le pour les \\u00e9missions de CO2\\n\\ngrid = GridSearchCV(\\n    pipe_elastic,\\n    param_grid=param_grid,\\n    cv=5,\\n    scoring=(\\\"r2\\\", \\\"neg_mean_absolute_error\\\"),\\n    refit=\\\"r2\\\",\\n    return_train_score=True,\\n    verbose=1,\\n    n_jobs=-1,\\n)\\ngrid_result = grid.fit(X_train, y_train[\\\"GHGEmissions(MetricTonsCO2e)\\\"])\\n\\nElastic_CO2 = grid.best_estimator_\\n\\nCO2_results_Elastic = pd.DataFrame.from_dict(grid_result.cv_results_)\\n\\nprint(\\n    \\\"Best R2: \\\",\\n    np.array(\\n        CO2_results_Elastic[CO2_results_Elastic.rank_test_r2 == 1][\\\"mean_test_r2\\\"]\\n    ),\\n)\\nprint(\\n    \\\"Best MAE: \\\",\\n    np.array(\\n        CO2_results_Elastic[CO2_results_Elastic.rank_test_r2 == 1][\\n            \\\"mean_test_neg_mean_absolute_error\\\"\\n        ]\\n    ),\\n)\\nprint(\\n    \\\"Temps moyen\\\",\\n    np.array(\\n        CO2_results_Elastic[CO2_results_Elastic.rank_test_r2 == 1][\\\"mean_fit_time\\\"]\\n    ),\\n    \\\"s\\\",\\n)\\nprint(\\\"Best Params: \\\", grid_result.best_params_)\";\n",
       "                var nbb_cells = Jupyter.notebook.get_cells();\n",
       "                for (var i = 0; i < nbb_cells.length; ++i) {\n",
       "                    if (nbb_cells[i].input_prompt_number == nbb_cell_id) {\n",
       "                        if (nbb_cells[i].get_text() == nbb_unformatted_code) {\n",
       "                             nbb_cells[i].set_text(nbb_formatted_code);\n",
       "                        }\n",
       "                        break;\n",
       "                    }\n",
       "                }\n",
       "            }, 500);\n",
       "            "
      ],
      "text/plain": [
       "<IPython.core.display.Javascript object>"
      ]
     },
     "metadata": {},
     "output_type": "display_data"
    }
   ],
   "source": [
    "pipe_elastic = Pipeline([('scaler', StandardScaler()), ('Elastic', elastic_net)])\n",
    "\n",
    "n_alphas = 25\n",
    "\n",
    "alpha = np.logspace(-2, -1, n_alphas)\n",
    "l1_ratio = np.logspace(-1,1,n_alphas)\n",
    "param_grid = dict(Elastic__alpha=alpha, Elastic__l1_ratio=l1_ratio)\n",
    "\n",
    "## Modéle pour les émissions de CO2\n",
    "\n",
    "grid = GridSearchCV(pipe_elastic, param_grid=param_grid, cv = 5, scoring=('r2','neg_mean_absolute_error'),refit='r2',return_train_score = True,verbose=1, n_jobs=-1)\n",
    "grid_result = grid.fit(X_train, y_train['GHGEmissions(MetricTonsCO2e)'])\n",
    "\n",
    "Elastic_CO2 = grid.best_estimator_\n",
    "\n",
    "CO2_results_Elastic = pd.DataFrame.from_dict(grid_result.cv_results_)\n",
    "\n",
    "print('Best R2: ', np.array(CO2_results_Elastic[CO2_results_Elastic.rank_test_r2==1]['mean_test_r2']))\n",
    "print('Best MAE: ', np.array(CO2_results_Elastic[CO2_results_Elastic.rank_test_r2==1]['mean_test_neg_mean_absolute_error']))\n",
    "print('Temps moyen', np.array(CO2_results_Elastic[CO2_results_Elastic.rank_test_r2==1]['mean_fit_time']),'s')\n",
    "print('Best Params: ', grid_result.best_params_)\n"
   ]
  },
  {
   "cell_type": "code",
   "execution_count": 14,
   "id": "4bd35994",
   "metadata": {},
   "outputs": [
    {
     "name": "stdout",
     "output_type": "stream",
     "text": [
      "Fitting 5 folds for each of 625 candidates, totalling 3125 fits\n",
      "Best R2:  [0.57291197]\n",
      "Best MAE:  [-0.65461628]\n",
      "Temps moyen [0.48542886] s\n",
      "Best Params:  {'svr__C': 2.154434690031884, 'svr__epsilon': 0.34807005884284103}\n"
     ]
    },
    {
     "name": "stderr",
     "output_type": "stream",
     "text": [
      "C:\\Users\\antoi\\miniconda3\\envs\\Test\\lib\\site-packages\\sklearn\\svm\\_base.py:985: ConvergenceWarning: Liblinear failed to converge, increase the number of iterations.\n",
      "  warnings.warn(\"Liblinear failed to converge, increase \"\n"
     ]
    },
    {
     "data": {
      "application/javascript": [
       "\n",
       "            setTimeout(function() {\n",
       "                var nbb_cell_id = 14;\n",
       "                var nbb_unformatted_code = \"## Testons cette fois-ci une SVR. Apr\\u00e8s avoir effectu\\u00e9 plusieurs tests sur les diff\\u00e9rents noyaux. Les meilleures performances\\n## sont avec un noyau Lin\\u00e9aire\\n\\nfrom sklearn.svm import LinearSVR\\n\\nsvr = LinearSVR()\\npipe_svr = Pipeline([(\\\"scaler\\\", StandardScaler()), (\\\"svr\\\", svr)])\\n\\nn_alphas = 25\\n\\nC = np.logspace(0, 1, n_alphas)\\nepsilon = np.logspace(-1, 0, n_alphas)\\nparam_grid = dict(svr__C=C, svr__epsilon=epsilon)\\n\\n## Mod\\u00e9le pour l'\\u00e9nergie\\n\\ngrid = GridSearchCV(\\n    pipe_svr,\\n    param_grid=param_grid,\\n    scoring=(\\\"r2\\\", \\\"neg_mean_absolute_error\\\"),\\n    return_train_score=True,\\n    refit=\\\"r2\\\",\\n    cv=5,\\n    verbose=1,\\n    n_jobs=-1,\\n)\\ngrid_result = grid.fit(X_train, y_train[\\\"SiteEnergyUse(kBtu)\\\"])\\n\\nSVR_Energy = grid.best_estimator_\\n\\nEnergy_results_svr = pd.DataFrame.from_dict(grid_result.cv_results_)\\n\\nprint(\\n    \\\"Best R2: \\\",\\n    np.array(Energy_results_svr[Energy_results_svr.rank_test_r2 == 1][\\\"mean_test_r2\\\"]),\\n)\\nprint(\\n    \\\"Best MAE: \\\",\\n    np.array(\\n        Energy_results_svr[Energy_results_svr.rank_test_r2 == 1][\\n            \\\"mean_test_neg_mean_absolute_error\\\"\\n        ]\\n    ),\\n)\\nprint(\\n    \\\"Temps moyen\\\",\\n    np.array(Energy_results_svr[Energy_results_svr.rank_test_r2 == 1][\\\"mean_fit_time\\\"]),\\n    \\\"s\\\",\\n)\\nprint(\\\"Best Params: \\\", grid_result.best_params_)\";\n",
       "                var nbb_formatted_code = \"## Testons cette fois-ci une SVR. Apr\\u00e8s avoir effectu\\u00e9 plusieurs tests sur les diff\\u00e9rents noyaux. Les meilleures performances\\n## sont avec un noyau Lin\\u00e9aire\\n\\nfrom sklearn.svm import LinearSVR\\n\\nsvr = LinearSVR()\\npipe_svr = Pipeline([(\\\"scaler\\\", StandardScaler()), (\\\"svr\\\", svr)])\\n\\nn_alphas = 25\\n\\nC = np.logspace(0, 1, n_alphas)\\nepsilon = np.logspace(-1, 0, n_alphas)\\nparam_grid = dict(svr__C=C, svr__epsilon=epsilon)\\n\\n## Mod\\u00e9le pour l'\\u00e9nergie\\n\\ngrid = GridSearchCV(\\n    pipe_svr,\\n    param_grid=param_grid,\\n    scoring=(\\\"r2\\\", \\\"neg_mean_absolute_error\\\"),\\n    return_train_score=True,\\n    refit=\\\"r2\\\",\\n    cv=5,\\n    verbose=1,\\n    n_jobs=-1,\\n)\\ngrid_result = grid.fit(X_train, y_train[\\\"SiteEnergyUse(kBtu)\\\"])\\n\\nSVR_Energy = grid.best_estimator_\\n\\nEnergy_results_svr = pd.DataFrame.from_dict(grid_result.cv_results_)\\n\\nprint(\\n    \\\"Best R2: \\\",\\n    np.array(Energy_results_svr[Energy_results_svr.rank_test_r2 == 1][\\\"mean_test_r2\\\"]),\\n)\\nprint(\\n    \\\"Best MAE: \\\",\\n    np.array(\\n        Energy_results_svr[Energy_results_svr.rank_test_r2 == 1][\\n            \\\"mean_test_neg_mean_absolute_error\\\"\\n        ]\\n    ),\\n)\\nprint(\\n    \\\"Temps moyen\\\",\\n    np.array(Energy_results_svr[Energy_results_svr.rank_test_r2 == 1][\\\"mean_fit_time\\\"]),\\n    \\\"s\\\",\\n)\\nprint(\\\"Best Params: \\\", grid_result.best_params_)\";\n",
       "                var nbb_cells = Jupyter.notebook.get_cells();\n",
       "                for (var i = 0; i < nbb_cells.length; ++i) {\n",
       "                    if (nbb_cells[i].input_prompt_number == nbb_cell_id) {\n",
       "                        if (nbb_cells[i].get_text() == nbb_unformatted_code) {\n",
       "                             nbb_cells[i].set_text(nbb_formatted_code);\n",
       "                        }\n",
       "                        break;\n",
       "                    }\n",
       "                }\n",
       "            }, 500);\n",
       "            "
      ],
      "text/plain": [
       "<IPython.core.display.Javascript object>"
      ]
     },
     "metadata": {},
     "output_type": "display_data"
    }
   ],
   "source": [
    "## Testons cette fois-ci une SVR. Après avoir effectué plusieurs tests sur les différents noyaux. Les meilleures performances\n",
    "## sont avec un noyau Linéaire\n",
    "\n",
    "from sklearn.svm import LinearSVR\n",
    "\n",
    "svr = LinearSVR()\n",
    "pipe_svr = Pipeline([(\"scaler\", StandardScaler()), (\"svr\", svr)])\n",
    "\n",
    "n_alphas = 25\n",
    "\n",
    "C = np.logspace(0, 1, n_alphas)\n",
    "epsilon = np.logspace(-1, 0, n_alphas)\n",
    "param_grid = dict(svr__C=C, svr__epsilon=epsilon)\n",
    "\n",
    "## Modéle pour l'énergie\n",
    "\n",
    "grid = GridSearchCV(\n",
    "    pipe_svr,\n",
    "    param_grid=param_grid,\n",
    "    scoring=(\"r2\", \"neg_mean_absolute_error\"),\n",
    "    return_train_score=True,\n",
    "    refit=\"r2\",\n",
    "    cv=5,\n",
    "    verbose=1,\n",
    "    n_jobs=-1,\n",
    ")\n",
    "grid_result = grid.fit(X_train, y_train[\"SiteEnergyUse(kBtu)\"])\n",
    "\n",
    "SVR_Energy = grid.best_estimator_\n",
    "\n",
    "Energy_results_svr = pd.DataFrame.from_dict(grid_result.cv_results_)\n",
    "\n",
    "print(\n",
    "    \"Best R2: \",\n",
    "    np.array(Energy_results_svr[Energy_results_svr.rank_test_r2 == 1][\"mean_test_r2\"]),\n",
    ")\n",
    "print(\n",
    "    \"Best MAE: \",\n",
    "    np.array(\n",
    "        Energy_results_svr[Energy_results_svr.rank_test_r2 == 1][\n",
    "            \"mean_test_neg_mean_absolute_error\"\n",
    "        ]\n",
    "    ),\n",
    ")\n",
    "print(\n",
    "    \"Temps moyen\",\n",
    "    np.array(Energy_results_svr[Energy_results_svr.rank_test_r2 == 1][\"mean_fit_time\"]),\n",
    "    \"s\",\n",
    ")\n",
    "print(\"Best Params: \", grid_result.best_params_)"
   ]
  },
  {
   "cell_type": "code",
   "execution_count": 15,
   "id": "c4169e3c",
   "metadata": {},
   "outputs": [
    {
     "name": "stdout",
     "output_type": "stream",
     "text": [
      "Fitting 5 folds for each of 625 candidates, totalling 3125 fits\n",
      "Best R2:  [0.41230331]\n",
      "Best MAE:  [-0.89192081]\n",
      "Temps moyen [0.2012135] s\n",
      "Best Params:  {'svr__C': 0.34807005884284103, 'svr__epsilon': 0.34807005884284103}\n"
     ]
    },
    {
     "name": "stderr",
     "output_type": "stream",
     "text": [
      "C:\\Users\\antoi\\miniconda3\\envs\\Test\\lib\\site-packages\\sklearn\\svm\\_base.py:985: ConvergenceWarning: Liblinear failed to converge, increase the number of iterations.\n",
      "  warnings.warn(\"Liblinear failed to converge, increase \"\n"
     ]
    },
    {
     "data": {
      "application/javascript": [
       "\n",
       "            setTimeout(function() {\n",
       "                var nbb_cell_id = 15;\n",
       "                var nbb_unformatted_code = \"pipe_svr = Pipeline([('scaler', StandardScaler()), ('svr', svr)])\\n\\nn_alphas = 25\\n\\nC = np.logspace(-1, 0, n_alphas )\\nepsilon = np.logspace(-1,0,n_alphas)\\nparam_grid = dict(svr__C=C, svr__epsilon=epsilon)\\n\\n## Mod\\u00e9le pour les \\u00e9missions de CO2\\n\\ngrid = GridSearchCV(pipe_svr, param_grid=param_grid, scoring=('r2','neg_mean_absolute_error'),return_train_score = True,refit='r2', cv = 5, verbose=1,n_jobs=-1)\\ngrid_result = grid.fit(X_train, y_train['GHGEmissions(MetricTonsCO2e)'])\\n\\nSVR_CO2 = grid.best_estimator_\\n\\nCO2_results_svr = pd.DataFrame.from_dict(grid_result.cv_results_)\\n\\nprint('Best R2: ', np.array(CO2_results_svr[CO2_results_svr.rank_test_r2==1]['mean_test_r2']))\\nprint('Best MAE: ', np.array(CO2_results_svr[CO2_results_svr.rank_test_r2==1]['mean_test_neg_mean_absolute_error']))\\nprint('Temps moyen', np.array(CO2_results_svr[CO2_results_svr.rank_test_r2==1]['mean_fit_time']),'s')\\nprint('Best Params: ', grid_result.best_params_)\";\n",
       "                var nbb_formatted_code = \"pipe_svr = Pipeline([(\\\"scaler\\\", StandardScaler()), (\\\"svr\\\", svr)])\\n\\nn_alphas = 25\\n\\nC = np.logspace(-1, 0, n_alphas)\\nepsilon = np.logspace(-1, 0, n_alphas)\\nparam_grid = dict(svr__C=C, svr__epsilon=epsilon)\\n\\n## Mod\\u00e9le pour les \\u00e9missions de CO2\\n\\ngrid = GridSearchCV(\\n    pipe_svr,\\n    param_grid=param_grid,\\n    scoring=(\\\"r2\\\", \\\"neg_mean_absolute_error\\\"),\\n    return_train_score=True,\\n    refit=\\\"r2\\\",\\n    cv=5,\\n    verbose=1,\\n    n_jobs=-1,\\n)\\ngrid_result = grid.fit(X_train, y_train[\\\"GHGEmissions(MetricTonsCO2e)\\\"])\\n\\nSVR_CO2 = grid.best_estimator_\\n\\nCO2_results_svr = pd.DataFrame.from_dict(grid_result.cv_results_)\\n\\nprint(\\n    \\\"Best R2: \\\",\\n    np.array(CO2_results_svr[CO2_results_svr.rank_test_r2 == 1][\\\"mean_test_r2\\\"]),\\n)\\nprint(\\n    \\\"Best MAE: \\\",\\n    np.array(\\n        CO2_results_svr[CO2_results_svr.rank_test_r2 == 1][\\n            \\\"mean_test_neg_mean_absolute_error\\\"\\n        ]\\n    ),\\n)\\nprint(\\n    \\\"Temps moyen\\\",\\n    np.array(CO2_results_svr[CO2_results_svr.rank_test_r2 == 1][\\\"mean_fit_time\\\"]),\\n    \\\"s\\\",\\n)\\nprint(\\\"Best Params: \\\", grid_result.best_params_)\";\n",
       "                var nbb_cells = Jupyter.notebook.get_cells();\n",
       "                for (var i = 0; i < nbb_cells.length; ++i) {\n",
       "                    if (nbb_cells[i].input_prompt_number == nbb_cell_id) {\n",
       "                        if (nbb_cells[i].get_text() == nbb_unformatted_code) {\n",
       "                             nbb_cells[i].set_text(nbb_formatted_code);\n",
       "                        }\n",
       "                        break;\n",
       "                    }\n",
       "                }\n",
       "            }, 500);\n",
       "            "
      ],
      "text/plain": [
       "<IPython.core.display.Javascript object>"
      ]
     },
     "metadata": {},
     "output_type": "display_data"
    }
   ],
   "source": [
    "pipe_svr = Pipeline([('scaler', StandardScaler()), ('svr', svr)])\n",
    "\n",
    "n_alphas = 25\n",
    "\n",
    "C = np.logspace(-1, 0, n_alphas )\n",
    "epsilon = np.logspace(-1,0,n_alphas)\n",
    "param_grid = dict(svr__C=C, svr__epsilon=epsilon)\n",
    "\n",
    "## Modéle pour les émissions de CO2\n",
    "\n",
    "grid = GridSearchCV(pipe_svr, param_grid=param_grid, scoring=('r2','neg_mean_absolute_error'),return_train_score = True,refit='r2', cv = 5, verbose=1,n_jobs=-1)\n",
    "grid_result = grid.fit(X_train, y_train['GHGEmissions(MetricTonsCO2e)'])\n",
    "\n",
    "SVR_CO2 = grid.best_estimator_\n",
    "\n",
    "CO2_results_svr = pd.DataFrame.from_dict(grid_result.cv_results_)\n",
    "\n",
    "print('Best R2: ', np.array(CO2_results_svr[CO2_results_svr.rank_test_r2==1]['mean_test_r2']))\n",
    "print('Best MAE: ', np.array(CO2_results_svr[CO2_results_svr.rank_test_r2==1]['mean_test_neg_mean_absolute_error']))\n",
    "print('Temps moyen', np.array(CO2_results_svr[CO2_results_svr.rank_test_r2==1]['mean_fit_time']),'s')\n",
    "print('Best Params: ', grid_result.best_params_)\n"
   ]
  },
  {
   "cell_type": "markdown",
   "id": "4c3e75b2",
   "metadata": {},
   "source": [
    "## Partie 3 : Modéles non linéaires"
   ]
  },
  {
   "cell_type": "code",
   "execution_count": 16,
   "id": "637ef248",
   "metadata": {},
   "outputs": [
    {
     "name": "stdout",
     "output_type": "stream",
     "text": [
      "Fitting 5 folds for each of 192 candidates, totalling 960 fits\n",
      "Best R2:  [0.72388194]\n",
      "Best MAE:  [-0.51902537]\n",
      "Temps moyen [0.34891396] s\n",
      "Best Params:  {'rfr__max_depth': 25, 'rfr__min_samples_leaf': 1, 'rfr__min_samples_split': 25, 'rfr__n_estimators': 50}\n"
     ]
    },
    {
     "data": {
      "application/javascript": [
       "\n",
       "            setTimeout(function() {\n",
       "                var nbb_cell_id = 16;\n",
       "                var nbb_unformatted_code = \"## Nous allons maintenant tester les mod\\u00e9les lin\\u00e9aires pour notre r\\u00e9gression.\\n## Testons dans un premier temps le mod\\u00e9lre RandomForest\\n\\nfrom sklearn.ensemble import RandomForestRegressor\\n\\nrfr = RandomForestRegressor()\\n\\npipe_rfr = Pipeline([(\\\"scaler\\\", StandardScaler()), (\\\"rfr\\\", rfr)])\\n\\nparam_rfr = {\\n    \\\"rfr__n_estimators\\\": [50, 100, 250, 400],\\n    \\\"rfr__max_depth\\\": [1, 10, 25, 30],\\n    \\\"rfr__min_samples_split\\\": [2, 5, 20, 25],\\n    \\\"rfr__min_samples_leaf\\\": [1, 5, 10],\\n}\\n\\n## Mod\\u00e9le pour l'\\u00e9nergie\\n\\ngrid = GridSearchCV(\\n    pipe_rfr,\\n    param_grid=param_rfr,\\n    cv=5,\\n    scoring=(\\\"r2\\\", \\\"neg_mean_absolute_error\\\"),\\n    return_train_score=True,\\n    refit=\\\"r2\\\",\\n    verbose=1,\\n    n_jobs=-1,\\n)\\ngrid_result = grid.fit(X_train, y_train[\\\"SiteEnergyUse(kBtu)\\\"])\\n\\nRFR_Energy = grid.best_estimator_\\n\\nEnergy_results_rfr = pd.DataFrame.from_dict(grid_result.cv_results_)\\n\\nprint(\\n    \\\"Best R2: \\\",\\n    np.array(Energy_results_rfr[Energy_results_rfr.rank_test_r2 == 1][\\\"mean_test_r2\\\"]),\\n)\\nprint(\\n    \\\"Best MAE: \\\",\\n    np.array(\\n        Energy_results_rfr[Energy_results_rfr.rank_test_r2 == 1][\\n            \\\"mean_test_neg_mean_absolute_error\\\"\\n        ]\\n    ),\\n)\\nprint(\\n    \\\"Temps moyen\\\",\\n    np.array(Energy_results_rfr[Energy_results_rfr.rank_test_r2 == 1][\\\"mean_fit_time\\\"]),\\n    \\\"s\\\",\\n)\\nprint(\\\"Best Params: \\\", grid_result.best_params_)\";\n",
       "                var nbb_formatted_code = \"## Nous allons maintenant tester les mod\\u00e9les lin\\u00e9aires pour notre r\\u00e9gression.\\n## Testons dans un premier temps le mod\\u00e9lre RandomForest\\n\\nfrom sklearn.ensemble import RandomForestRegressor\\n\\nrfr = RandomForestRegressor()\\n\\npipe_rfr = Pipeline([(\\\"scaler\\\", StandardScaler()), (\\\"rfr\\\", rfr)])\\n\\nparam_rfr = {\\n    \\\"rfr__n_estimators\\\": [50, 100, 250, 400],\\n    \\\"rfr__max_depth\\\": [1, 10, 25, 30],\\n    \\\"rfr__min_samples_split\\\": [2, 5, 20, 25],\\n    \\\"rfr__min_samples_leaf\\\": [1, 5, 10],\\n}\\n\\n## Mod\\u00e9le pour l'\\u00e9nergie\\n\\ngrid = GridSearchCV(\\n    pipe_rfr,\\n    param_grid=param_rfr,\\n    cv=5,\\n    scoring=(\\\"r2\\\", \\\"neg_mean_absolute_error\\\"),\\n    return_train_score=True,\\n    refit=\\\"r2\\\",\\n    verbose=1,\\n    n_jobs=-1,\\n)\\ngrid_result = grid.fit(X_train, y_train[\\\"SiteEnergyUse(kBtu)\\\"])\\n\\nRFR_Energy = grid.best_estimator_\\n\\nEnergy_results_rfr = pd.DataFrame.from_dict(grid_result.cv_results_)\\n\\nprint(\\n    \\\"Best R2: \\\",\\n    np.array(Energy_results_rfr[Energy_results_rfr.rank_test_r2 == 1][\\\"mean_test_r2\\\"]),\\n)\\nprint(\\n    \\\"Best MAE: \\\",\\n    np.array(\\n        Energy_results_rfr[Energy_results_rfr.rank_test_r2 == 1][\\n            \\\"mean_test_neg_mean_absolute_error\\\"\\n        ]\\n    ),\\n)\\nprint(\\n    \\\"Temps moyen\\\",\\n    np.array(Energy_results_rfr[Energy_results_rfr.rank_test_r2 == 1][\\\"mean_fit_time\\\"]),\\n    \\\"s\\\",\\n)\\nprint(\\\"Best Params: \\\", grid_result.best_params_)\";\n",
       "                var nbb_cells = Jupyter.notebook.get_cells();\n",
       "                for (var i = 0; i < nbb_cells.length; ++i) {\n",
       "                    if (nbb_cells[i].input_prompt_number == nbb_cell_id) {\n",
       "                        if (nbb_cells[i].get_text() == nbb_unformatted_code) {\n",
       "                             nbb_cells[i].set_text(nbb_formatted_code);\n",
       "                        }\n",
       "                        break;\n",
       "                    }\n",
       "                }\n",
       "            }, 500);\n",
       "            "
      ],
      "text/plain": [
       "<IPython.core.display.Javascript object>"
      ]
     },
     "metadata": {},
     "output_type": "display_data"
    }
   ],
   "source": [
    "## Testons dans un premier temps le modéle RandomForest\n",
    "\n",
    "from sklearn.ensemble import RandomForestRegressor\n",
    "\n",
    "rfr = RandomForestRegressor()\n",
    "\n",
    "pipe_rfr = Pipeline([(\"scaler\", StandardScaler()), (\"rfr\", rfr)])\n",
    "\n",
    "param_rfr = {\n",
    "    \"rfr__n_estimators\": [50, 100, 250, 400],\n",
    "    \"rfr__max_depth\": [1, 10, 25, 30],\n",
    "    \"rfr__min_samples_split\": [2, 5, 20, 25],\n",
    "    \"rfr__min_samples_leaf\": [1, 5, 10],\n",
    "}\n",
    "\n",
    "## Modéle pour l'énergie\n",
    "\n",
    "grid = GridSearchCV(\n",
    "    pipe_rfr,\n",
    "    param_grid=param_rfr,\n",
    "    cv=5,\n",
    "    scoring=(\"r2\", \"neg_mean_absolute_error\"),\n",
    "    return_train_score=True,\n",
    "    refit=\"r2\",\n",
    "    verbose=1,\n",
    "    n_jobs=-1,\n",
    ")\n",
    "grid_result = grid.fit(X_train, y_train[\"SiteEnergyUse(kBtu)\"])\n",
    "\n",
    "RFR_Energy = grid.best_estimator_\n",
    "\n",
    "Energy_results_rfr = pd.DataFrame.from_dict(grid_result.cv_results_)\n",
    "\n",
    "print(\n",
    "    \"Best R2: \",\n",
    "    np.array(Energy_results_rfr[Energy_results_rfr.rank_test_r2 == 1][\"mean_test_r2\"]),\n",
    ")\n",
    "print(\n",
    "    \"Best MAE: \",\n",
    "    np.array(\n",
    "        Energy_results_rfr[Energy_results_rfr.rank_test_r2 == 1][\n",
    "            \"mean_test_neg_mean_absolute_error\"\n",
    "        ]\n",
    "    ),\n",
    ")\n",
    "print(\n",
    "    \"Temps moyen\",\n",
    "    np.array(Energy_results_rfr[Energy_results_rfr.rank_test_r2 == 1][\"mean_fit_time\"]),\n",
    "    \"s\",\n",
    ")\n",
    "print(\"Best Params: \", grid_result.best_params_)"
   ]
  },
  {
   "cell_type": "code",
   "execution_count": 17,
   "id": "66a6d7a5",
   "metadata": {},
   "outputs": [
    {
     "name": "stdout",
     "output_type": "stream",
     "text": [
      "Fitting 5 folds for each of 144 candidates, totalling 720 fits\n",
      "Best R2:  [0.53578407]\n",
      "Best MAE:  [-0.80220983]\n",
      "Temps moyen [1.85503254] s\n",
      "Best Params:  {'rfr__max_depth': 30, 'rfr__min_samples_leaf': 1, 'rfr__min_samples_split': 10, 'rfr__n_estimators': 250}\n"
     ]
    },
    {
     "data": {
      "application/javascript": [
       "\n",
       "            setTimeout(function() {\n",
       "                var nbb_cell_id = 17;\n",
       "                var nbb_unformatted_code = \"pipe_rfr = Pipeline([('scaler', StandardScaler()), ('rfr', rfr)])\\n\\nparam_rfr = {'rfr__n_estimators' : [50,100,250,300],\\n             'rfr__max_depth' : [1, 20,30],\\n            'rfr__min_samples_split' : [2, 10, 15, 20], \\n             'rfr__min_samples_leaf' : [1, 5, 10]}\\n\\n## Mod\\u00e9le pour les \\u00e9missions de CO2\\n\\ngrid = GridSearchCV(pipe_rfr, param_grid=param_rfr, cv= 5, scoring=('r2','neg_mean_absolute_error'),return_train_score = True, refit='r2',verbose=1,n_jobs=-1)\\ngrid_result = grid.fit(X_train, y_train['GHGEmissions(MetricTonsCO2e)'])\\n\\nRFR_CO2 = grid.best_estimator_\\n\\nCO2_results_rfr = pd.DataFrame.from_dict(grid_result.cv_results_)\\n\\nprint('Best R2: ', np.array(CO2_results_rfr[CO2_results_rfr.rank_test_r2==1]['mean_test_r2']))\\nprint('Best MAE: ', np.array(CO2_results_rfr[CO2_results_rfr.rank_test_r2==1]['mean_test_neg_mean_absolute_error']))\\nprint('Temps moyen', np.array(CO2_results_rfr[CO2_results_rfr.rank_test_r2==1]['mean_fit_time']),'s')\\nprint('Best Params: ', grid_result.best_params_)\";\n",
       "                var nbb_formatted_code = \"pipe_rfr = Pipeline([(\\\"scaler\\\", StandardScaler()), (\\\"rfr\\\", rfr)])\\n\\nparam_rfr = {\\n    \\\"rfr__n_estimators\\\": [50, 100, 250, 300],\\n    \\\"rfr__max_depth\\\": [1, 20, 30],\\n    \\\"rfr__min_samples_split\\\": [2, 10, 15, 20],\\n    \\\"rfr__min_samples_leaf\\\": [1, 5, 10],\\n}\\n\\n## Mod\\u00e9le pour les \\u00e9missions de CO2\\n\\ngrid = GridSearchCV(\\n    pipe_rfr,\\n    param_grid=param_rfr,\\n    cv=5,\\n    scoring=(\\\"r2\\\", \\\"neg_mean_absolute_error\\\"),\\n    return_train_score=True,\\n    refit=\\\"r2\\\",\\n    verbose=1,\\n    n_jobs=-1,\\n)\\ngrid_result = grid.fit(X_train, y_train[\\\"GHGEmissions(MetricTonsCO2e)\\\"])\\n\\nRFR_CO2 = grid.best_estimator_\\n\\nCO2_results_rfr = pd.DataFrame.from_dict(grid_result.cv_results_)\\n\\nprint(\\n    \\\"Best R2: \\\",\\n    np.array(CO2_results_rfr[CO2_results_rfr.rank_test_r2 == 1][\\\"mean_test_r2\\\"]),\\n)\\nprint(\\n    \\\"Best MAE: \\\",\\n    np.array(\\n        CO2_results_rfr[CO2_results_rfr.rank_test_r2 == 1][\\n            \\\"mean_test_neg_mean_absolute_error\\\"\\n        ]\\n    ),\\n)\\nprint(\\n    \\\"Temps moyen\\\",\\n    np.array(CO2_results_rfr[CO2_results_rfr.rank_test_r2 == 1][\\\"mean_fit_time\\\"]),\\n    \\\"s\\\",\\n)\\nprint(\\\"Best Params: \\\", grid_result.best_params_)\";\n",
       "                var nbb_cells = Jupyter.notebook.get_cells();\n",
       "                for (var i = 0; i < nbb_cells.length; ++i) {\n",
       "                    if (nbb_cells[i].input_prompt_number == nbb_cell_id) {\n",
       "                        if (nbb_cells[i].get_text() == nbb_unformatted_code) {\n",
       "                             nbb_cells[i].set_text(nbb_formatted_code);\n",
       "                        }\n",
       "                        break;\n",
       "                    }\n",
       "                }\n",
       "            }, 500);\n",
       "            "
      ],
      "text/plain": [
       "<IPython.core.display.Javascript object>"
      ]
     },
     "metadata": {},
     "output_type": "display_data"
    }
   ],
   "source": [
    "pipe_rfr = Pipeline([('scaler', StandardScaler()), ('rfr', rfr)])\n",
    "\n",
    "param_rfr = {'rfr__n_estimators' : [50,100,250,300],\n",
    "             'rfr__max_depth' : [1, 20,30],\n",
    "            'rfr__min_samples_split' : [2, 10, 15, 20], \n",
    "             'rfr__min_samples_leaf' : [1, 5, 10]}\n",
    "\n",
    "## Modéle pour les émissions de CO2\n",
    "\n",
    "grid = GridSearchCV(pipe_rfr, param_grid=param_rfr, cv= 5, scoring=('r2','neg_mean_absolute_error'),return_train_score = True, refit='r2',verbose=1,n_jobs=-1)\n",
    "grid_result = grid.fit(X_train, y_train['GHGEmissions(MetricTonsCO2e)'])\n",
    "\n",
    "RFR_CO2 = grid.best_estimator_\n",
    "\n",
    "CO2_results_rfr = pd.DataFrame.from_dict(grid_result.cv_results_)\n",
    "\n",
    "print('Best R2: ', np.array(CO2_results_rfr[CO2_results_rfr.rank_test_r2==1]['mean_test_r2']))\n",
    "print('Best MAE: ', np.array(CO2_results_rfr[CO2_results_rfr.rank_test_r2==1]['mean_test_neg_mean_absolute_error']))\n",
    "print('Temps moyen', np.array(CO2_results_rfr[CO2_results_rfr.rank_test_r2==1]['mean_fit_time']),'s')\n",
    "print('Best Params: ', grid_result.best_params_)\n"
   ]
  },
  {
   "cell_type": "code",
   "execution_count": 18,
   "id": "7717f23d",
   "metadata": {},
   "outputs": [
    {
     "name": "stdout",
     "output_type": "stream",
     "text": [
      "Fitting 5 folds for each of 432 candidates, totalling 2160 fits\n",
      "Best R2:  [0.73485507]\n",
      "Best MAE:  [-0.50914173]\n",
      "Temps moyen [0.75535641] s\n",
      "Best Params:  {'gbr__learning_rate': 0.1, 'gbr__max_depth': 1, 'gbr__min_samples_leaf': 1, 'gbr__min_samples_split': 6, 'gbr__n_estimators': 500}\n"
     ]
    },
    {
     "data": {
      "application/javascript": [
       "\n",
       "            setTimeout(function() {\n",
       "                var nbb_cell_id = 18;\n",
       "                var nbb_unformatted_code = \"## Testons maintenant la m\\u00e9thode du GradientBoosting\\n\\nfrom sklearn.ensemble import GradientBoostingRegressor\\n\\ngbr = GradientBoostingRegressor()\\npipe_gbr = Pipeline([('scaler', StandardScaler()), ('gbr', gbr)])\\n\\nparam_gbr = {'gbr__n_estimators': [10, 100, 500,1000],\\n            'gbr__learning_rate' : [0.01, 0.1, 0.2],\\n            'gbr__min_samples_split' : [2, 4, 6, 10],\\n            'gbr__min_samples_leaf' : [1, 3, 10],\\n            'gbr__max_depth' : [1, 5, 10]}\\n\\n## Mod\\u00e9le pour l'\\u00e9nergie\\n\\ngrid_energy = GridSearchCV(pipe_gbr, param_grid=param_gbr, scoring=('r2','neg_mean_absolute_error'),return_train_score = True, cv=5, refit='r2',verbose=1,n_jobs=-1)\\n\\ngrid_result = grid_energy.fit(X_train, y_train['SiteEnergyUse(kBtu)'])\\n\\nGBR_Energy = grid_energy.best_estimator_\\n\\nEnergy_results_gbr = pd.DataFrame.from_dict(grid_result.cv_results_)\\n\\nprint('Best R2: ', np.array(Energy_results_gbr[Energy_results_gbr.rank_test_r2==1]['mean_test_r2']))\\nprint('Best MAE: ', np.array(Energy_results_gbr[Energy_results_gbr.rank_test_r2==1]['mean_test_neg_mean_absolute_error']))\\nprint('Temps moyen', np.array(Energy_results_gbr[Energy_results_gbr.rank_test_r2==1]['mean_fit_time']),'s')\\nprint('Best Params: ', grid_result.best_params_)\";\n",
       "                var nbb_formatted_code = \"## Testons maintenant la m\\u00e9thode du GradientBoosting\\n\\nfrom sklearn.ensemble import GradientBoostingRegressor\\n\\ngbr = GradientBoostingRegressor()\\npipe_gbr = Pipeline([(\\\"scaler\\\", StandardScaler()), (\\\"gbr\\\", gbr)])\\n\\nparam_gbr = {\\n    \\\"gbr__n_estimators\\\": [10, 100, 500, 1000],\\n    \\\"gbr__learning_rate\\\": [0.01, 0.1, 0.2],\\n    \\\"gbr__min_samples_split\\\": [2, 4, 6, 10],\\n    \\\"gbr__min_samples_leaf\\\": [1, 3, 10],\\n    \\\"gbr__max_depth\\\": [1, 5, 10],\\n}\\n\\n## Mod\\u00e9le pour l'\\u00e9nergie\\n\\ngrid_energy = GridSearchCV(\\n    pipe_gbr,\\n    param_grid=param_gbr,\\n    scoring=(\\\"r2\\\", \\\"neg_mean_absolute_error\\\"),\\n    return_train_score=True,\\n    cv=5,\\n    refit=\\\"r2\\\",\\n    verbose=1,\\n    n_jobs=-1,\\n)\\n\\ngrid_result = grid_energy.fit(X_train, y_train[\\\"SiteEnergyUse(kBtu)\\\"])\\n\\nGBR_Energy = grid_energy.best_estimator_\\n\\nEnergy_results_gbr = pd.DataFrame.from_dict(grid_result.cv_results_)\\n\\nprint(\\n    \\\"Best R2: \\\",\\n    np.array(Energy_results_gbr[Energy_results_gbr.rank_test_r2 == 1][\\\"mean_test_r2\\\"]),\\n)\\nprint(\\n    \\\"Best MAE: \\\",\\n    np.array(\\n        Energy_results_gbr[Energy_results_gbr.rank_test_r2 == 1][\\n            \\\"mean_test_neg_mean_absolute_error\\\"\\n        ]\\n    ),\\n)\\nprint(\\n    \\\"Temps moyen\\\",\\n    np.array(Energy_results_gbr[Energy_results_gbr.rank_test_r2 == 1][\\\"mean_fit_time\\\"]),\\n    \\\"s\\\",\\n)\\nprint(\\\"Best Params: \\\", grid_result.best_params_)\";\n",
       "                var nbb_cells = Jupyter.notebook.get_cells();\n",
       "                for (var i = 0; i < nbb_cells.length; ++i) {\n",
       "                    if (nbb_cells[i].input_prompt_number == nbb_cell_id) {\n",
       "                        if (nbb_cells[i].get_text() == nbb_unformatted_code) {\n",
       "                             nbb_cells[i].set_text(nbb_formatted_code);\n",
       "                        }\n",
       "                        break;\n",
       "                    }\n",
       "                }\n",
       "            }, 500);\n",
       "            "
      ],
      "text/plain": [
       "<IPython.core.display.Javascript object>"
      ]
     },
     "metadata": {},
     "output_type": "display_data"
    }
   ],
   "source": [
    "## Testons maintenant la méthode du GradientBoosting\n",
    "\n",
    "from sklearn.ensemble import GradientBoostingRegressor\n",
    "\n",
    "gbr = GradientBoostingRegressor()\n",
    "pipe_gbr = Pipeline([('scaler', StandardScaler()), ('gbr', gbr)])\n",
    "\n",
    "param_gbr = {'gbr__n_estimators': [10, 100, 500,1000],\n",
    "            'gbr__learning_rate' : [0.01, 0.1, 0.2],\n",
    "            'gbr__min_samples_split' : [2, 4, 6, 10],\n",
    "            'gbr__min_samples_leaf' : [1, 3, 10],\n",
    "            'gbr__max_depth' : [1, 5, 10]}\n",
    "\n",
    "## Modéle pour l'énergie\n",
    "\n",
    "grid_energy = GridSearchCV(pipe_gbr, param_grid=param_gbr, scoring=('r2','neg_mean_absolute_error'),return_train_score = True, cv=5, refit='r2',verbose=1,n_jobs=-1)\n",
    "\n",
    "grid_result = grid_energy.fit(X_train, y_train['SiteEnergyUse(kBtu)'])\n",
    "\n",
    "GBR_Energy = grid_energy.best_estimator_\n",
    "\n",
    "Energy_results_gbr = pd.DataFrame.from_dict(grid_result.cv_results_)\n",
    "\n",
    "print('Best R2: ', np.array(Energy_results_gbr[Energy_results_gbr.rank_test_r2==1]['mean_test_r2']))\n",
    "print('Best MAE: ', np.array(Energy_results_gbr[Energy_results_gbr.rank_test_r2==1]['mean_test_neg_mean_absolute_error']))\n",
    "print('Temps moyen', np.array(Energy_results_gbr[Energy_results_gbr.rank_test_r2==1]['mean_fit_time']),'s')\n",
    "print('Best Params: ', grid_result.best_params_)\n"
   ]
  },
  {
   "cell_type": "code",
   "execution_count": 19,
   "id": "27c3d175",
   "metadata": {},
   "outputs": [
    {
     "name": "stdout",
     "output_type": "stream",
     "text": [
      "Fitting 5 folds for each of 576 candidates, totalling 2880 fits\n",
      "Best R2:  [0.54385681]\n",
      "Best MAE:  [-0.79789303]\n",
      "Temps moyen [0.78348045] s\n",
      "Best Params:  {'gbr__learning_rate': 0.1, 'gbr__max_depth': 1, 'gbr__min_samples_leaf': 1, 'gbr__min_samples_split': 15, 'gbr__n_estimators': 500}\n"
     ]
    },
    {
     "data": {
      "application/javascript": [
       "\n",
       "            setTimeout(function() {\n",
       "                var nbb_cell_id = 19;\n",
       "                var nbb_unformatted_code = \"pipe_gbr = Pipeline([(\\\"scaler\\\", StandardScaler()), (\\\"gbr\\\", gbr)])\\n\\nparam_gbr = {\\n    \\\"gbr__n_estimators\\\": [10, 100, 500, 1000],\\n    \\\"gbr__learning_rate\\\": [0.01, 0.1, 0.2],\\n    \\\"gbr__min_samples_split\\\": [2, 6, 15, 20],\\n    \\\"gbr__min_samples_leaf\\\": [1, 5, 10],\\n    \\\"gbr__max_depth\\\": [1, 5, 10, 15],\\n}\\n\\n## Mod\\u00e9le pour les \\u00e9mssions de CO2\\n\\ngrid_co2 = GridSearchCV(\\n    pipe_gbr,\\n    param_grid=param_gbr,\\n    scoring=(\\\"r2\\\", \\\"neg_mean_absolute_error\\\"),\\n    return_train_score=True,\\n    cv=5,\\n    refit=\\\"r2\\\",\\n    verbose=1,\\n    n_jobs=-1,\\n)\\n\\ngrid_result = grid_co2.fit(X_train, y_train[\\\"GHGEmissions(MetricTonsCO2e)\\\"])\\n\\nGBR_CO2 = grid_co2.best_estimator_\\n\\nCO2_results_gbr = pd.DataFrame.from_dict(grid_result.cv_results_)\\n\\nprint(\\n    \\\"Best R2: \\\",\\n    np.array(CO2_results_gbr[CO2_results_gbr.rank_test_r2 == 1][\\\"mean_test_r2\\\"]),\\n)\\nprint(\\n    \\\"Best MAE: \\\",\\n    np.array(\\n        CO2_results_gbr[CO2_results_gbr.rank_test_r2 == 1][\\n            \\\"mean_test_neg_mean_absolute_error\\\"\\n        ]\\n    ),\\n)\\nprint(\\n    \\\"Temps moyen\\\",\\n    np.array(CO2_results_gbr[CO2_results_gbr.rank_test_r2 == 1][\\\"mean_fit_time\\\"]),\\n    \\\"s\\\",\\n)\\nprint(\\\"Best Params: \\\", grid_result.best_params_)\";\n",
       "                var nbb_formatted_code = \"pipe_gbr = Pipeline([(\\\"scaler\\\", StandardScaler()), (\\\"gbr\\\", gbr)])\\n\\nparam_gbr = {\\n    \\\"gbr__n_estimators\\\": [10, 100, 500, 1000],\\n    \\\"gbr__learning_rate\\\": [0.01, 0.1, 0.2],\\n    \\\"gbr__min_samples_split\\\": [2, 6, 15, 20],\\n    \\\"gbr__min_samples_leaf\\\": [1, 5, 10],\\n    \\\"gbr__max_depth\\\": [1, 5, 10, 15],\\n}\\n\\n## Mod\\u00e9le pour les \\u00e9mssions de CO2\\n\\ngrid_co2 = GridSearchCV(\\n    pipe_gbr,\\n    param_grid=param_gbr,\\n    scoring=(\\\"r2\\\", \\\"neg_mean_absolute_error\\\"),\\n    return_train_score=True,\\n    cv=5,\\n    refit=\\\"r2\\\",\\n    verbose=1,\\n    n_jobs=-1,\\n)\\n\\ngrid_result = grid_co2.fit(X_train, y_train[\\\"GHGEmissions(MetricTonsCO2e)\\\"])\\n\\nGBR_CO2 = grid_co2.best_estimator_\\n\\nCO2_results_gbr = pd.DataFrame.from_dict(grid_result.cv_results_)\\n\\nprint(\\n    \\\"Best R2: \\\",\\n    np.array(CO2_results_gbr[CO2_results_gbr.rank_test_r2 == 1][\\\"mean_test_r2\\\"]),\\n)\\nprint(\\n    \\\"Best MAE: \\\",\\n    np.array(\\n        CO2_results_gbr[CO2_results_gbr.rank_test_r2 == 1][\\n            \\\"mean_test_neg_mean_absolute_error\\\"\\n        ]\\n    ),\\n)\\nprint(\\n    \\\"Temps moyen\\\",\\n    np.array(CO2_results_gbr[CO2_results_gbr.rank_test_r2 == 1][\\\"mean_fit_time\\\"]),\\n    \\\"s\\\",\\n)\\nprint(\\\"Best Params: \\\", grid_result.best_params_)\";\n",
       "                var nbb_cells = Jupyter.notebook.get_cells();\n",
       "                for (var i = 0; i < nbb_cells.length; ++i) {\n",
       "                    if (nbb_cells[i].input_prompt_number == nbb_cell_id) {\n",
       "                        if (nbb_cells[i].get_text() == nbb_unformatted_code) {\n",
       "                             nbb_cells[i].set_text(nbb_formatted_code);\n",
       "                        }\n",
       "                        break;\n",
       "                    }\n",
       "                }\n",
       "            }, 500);\n",
       "            "
      ],
      "text/plain": [
       "<IPython.core.display.Javascript object>"
      ]
     },
     "metadata": {},
     "output_type": "display_data"
    }
   ],
   "source": [
    "pipe_gbr = Pipeline([(\"scaler\", StandardScaler()), (\"gbr\", gbr)])\n",
    "\n",
    "param_gbr = {\n",
    "    \"gbr__n_estimators\": [10, 100, 500, 1000],\n",
    "    \"gbr__learning_rate\": [0.01, 0.1, 0.2],\n",
    "    \"gbr__min_samples_split\": [2, 6, 15, 20],\n",
    "    \"gbr__min_samples_leaf\": [1, 5, 10],\n",
    "    \"gbr__max_depth\": [1, 5, 10, 15],\n",
    "}\n",
    "\n",
    "## Modéle pour les émssions de CO2\n",
    "\n",
    "grid_co2 = GridSearchCV(\n",
    "    pipe_gbr,\n",
    "    param_grid=param_gbr,\n",
    "    scoring=(\"r2\", \"neg_mean_absolute_error\"),\n",
    "    return_train_score=True,\n",
    "    cv=5,\n",
    "    refit=\"r2\",\n",
    "    verbose=1,\n",
    "    n_jobs=-1,\n",
    ")\n",
    "\n",
    "grid_result = grid_co2.fit(X_train, y_train[\"GHGEmissions(MetricTonsCO2e)\"])\n",
    "\n",
    "GBR_CO2 = grid_co2.best_estimator_\n",
    "\n",
    "CO2_results_gbr = pd.DataFrame.from_dict(grid_result.cv_results_)\n",
    "\n",
    "print(\n",
    "    \"Best R2: \",\n",
    "    np.array(CO2_results_gbr[CO2_results_gbr.rank_test_r2 == 1][\"mean_test_r2\"]),\n",
    ")\n",
    "print(\n",
    "    \"Best MAE: \",\n",
    "    np.array(\n",
    "        CO2_results_gbr[CO2_results_gbr.rank_test_r2 == 1][\n",
    "            \"mean_test_neg_mean_absolute_error\"\n",
    "        ]\n",
    "    ),\n",
    ")\n",
    "print(\n",
    "    \"Temps moyen\",\n",
    "    np.array(CO2_results_gbr[CO2_results_gbr.rank_test_r2 == 1][\"mean_fit_time\"]),\n",
    "    \"s\",\n",
    ")\n",
    "print(\"Best Params: \", grid_result.best_params_)"
   ]
  },
  {
   "cell_type": "markdown",
   "id": "d2bb299e",
   "metadata": {},
   "source": [
    "## Partie 4 : Choix du meilleur modéle "
   ]
  },
  {
   "cell_type": "code",
   "execution_count": 20,
   "id": "349f5105",
   "metadata": {},
   "outputs": [
    {
     "data": {
      "application/javascript": [
       "\n",
       "            setTimeout(function() {\n",
       "                var nbb_cell_id = 20;\n",
       "                var nbb_unformatted_code = \"## Regroupons tous les r\\u00e9sultats de nos diff\\u00e9rents mod\\u00e9les pour pouvoir les comparer.\\n\\nmetrics = ['mean_fit_time', 'mean_score_time','mean_test_neg_mean_absolute_error','mean_train_neg_mean_absolute_error',\\n          'mean_test_r2','mean_train_r2']\\n\\nEnergy_compare_metrics = pd.concat([Energy_results_rfr[Energy_results_rfr.rank_test_r2==1][metrics],\\n                                   Energy_results_gbr[Energy_results_gbr.rank_test_r2==1][metrics],\\n                                   Energy_results_svr[Energy_results_svr.rank_test_r2==1][metrics], \\n                                   Energy_results_Elastic[Energy_results_Elastic.rank_test_r2==1][metrics], \\n                                   Energy_results_ridge[Energy_results_ridge.rank_test_r2==1][metrics],\\n                                   Energy_results_lasso[Energy_results_lasso.rank_test_r2==1][metrics]],\\n                                   keys=['RandomForest', 'XGBoost','LinearSVR','ElasticNet','Ridge','Lasso']\\n          )\\n\\nCO2_compare_metrics = pd.concat([CO2_results_rfr[CO2_results_rfr.rank_test_r2==1][metrics],\\n                                   CO2_results_gbr[CO2_results_gbr.rank_test_r2==1][metrics],\\n                                   CO2_results_svr[CO2_results_svr.rank_test_r2==1][metrics], \\n                                   CO2_results_Elastic[CO2_results_Elastic.rank_test_r2==1][metrics], \\n                                   CO2_results_ridge[CO2_results_ridge.rank_test_r2==1][metrics],\\n                                   CO2_results_lasso[CO2_results_lasso.rank_test_r2==1][metrics]],\\n                                   keys=['RandomForest', 'XGBoost','LinearSVR','ElasticNet','Ridge','Lasso']\\n          )\";\n",
       "                var nbb_formatted_code = \"## Regroupons tous les r\\u00e9sultats de nos diff\\u00e9rents mod\\u00e9les pour pouvoir les comparer.\\n\\nmetrics = [\\n    \\\"mean_fit_time\\\",\\n    \\\"mean_score_time\\\",\\n    \\\"mean_test_neg_mean_absolute_error\\\",\\n    \\\"mean_train_neg_mean_absolute_error\\\",\\n    \\\"mean_test_r2\\\",\\n    \\\"mean_train_r2\\\",\\n]\\n\\nEnergy_compare_metrics = pd.concat(\\n    [\\n        Energy_results_rfr[Energy_results_rfr.rank_test_r2 == 1][metrics],\\n        Energy_results_gbr[Energy_results_gbr.rank_test_r2 == 1][metrics],\\n        Energy_results_svr[Energy_results_svr.rank_test_r2 == 1][metrics],\\n        Energy_results_Elastic[Energy_results_Elastic.rank_test_r2 == 1][metrics],\\n        Energy_results_ridge[Energy_results_ridge.rank_test_r2 == 1][metrics],\\n        Energy_results_lasso[Energy_results_lasso.rank_test_r2 == 1][metrics],\\n    ],\\n    keys=[\\\"RandomForest\\\", \\\"XGBoost\\\", \\\"LinearSVR\\\", \\\"ElasticNet\\\", \\\"Ridge\\\", \\\"Lasso\\\"],\\n)\\n\\nCO2_compare_metrics = pd.concat(\\n    [\\n        CO2_results_rfr[CO2_results_rfr.rank_test_r2 == 1][metrics],\\n        CO2_results_gbr[CO2_results_gbr.rank_test_r2 == 1][metrics],\\n        CO2_results_svr[CO2_results_svr.rank_test_r2 == 1][metrics],\\n        CO2_results_Elastic[CO2_results_Elastic.rank_test_r2 == 1][metrics],\\n        CO2_results_ridge[CO2_results_ridge.rank_test_r2 == 1][metrics],\\n        CO2_results_lasso[CO2_results_lasso.rank_test_r2 == 1][metrics],\\n    ],\\n    keys=[\\\"RandomForest\\\", \\\"XGBoost\\\", \\\"LinearSVR\\\", \\\"ElasticNet\\\", \\\"Ridge\\\", \\\"Lasso\\\"],\\n)\";\n",
       "                var nbb_cells = Jupyter.notebook.get_cells();\n",
       "                for (var i = 0; i < nbb_cells.length; ++i) {\n",
       "                    if (nbb_cells[i].input_prompt_number == nbb_cell_id) {\n",
       "                        if (nbb_cells[i].get_text() == nbb_unformatted_code) {\n",
       "                             nbb_cells[i].set_text(nbb_formatted_code);\n",
       "                        }\n",
       "                        break;\n",
       "                    }\n",
       "                }\n",
       "            }, 500);\n",
       "            "
      ],
      "text/plain": [
       "<IPython.core.display.Javascript object>"
      ]
     },
     "metadata": {},
     "output_type": "display_data"
    }
   ],
   "source": [
    "## Regroupons tous les résultats de nos différents modéles pour pouvoir les comparer.\n",
    "\n",
    "metrics = ['mean_fit_time', 'mean_score_time','mean_test_neg_mean_absolute_error','mean_train_neg_mean_absolute_error',\n",
    "          'mean_test_r2','mean_train_r2']\n",
    "\n",
    "Energy_compare_metrics = pd.concat([Energy_results_rfr[Energy_results_rfr.rank_test_r2==1][metrics],\n",
    "                                   Energy_results_gbr[Energy_results_gbr.rank_test_r2==1][metrics],\n",
    "                                   Energy_results_svr[Energy_results_svr.rank_test_r2==1][metrics], \n",
    "                                   Energy_results_Elastic[Energy_results_Elastic.rank_test_r2==1][metrics], \n",
    "                                   Energy_results_ridge[Energy_results_ridge.rank_test_r2==1][metrics],\n",
    "                                   Energy_results_lasso[Energy_results_lasso.rank_test_r2==1][metrics]],\n",
    "                                   keys=['RandomForest', 'XGBoost','LinearSVR','ElasticNet','Ridge','Lasso']\n",
    "          )\n",
    "\n",
    "CO2_compare_metrics = pd.concat([CO2_results_rfr[CO2_results_rfr.rank_test_r2==1][metrics],\n",
    "                                   CO2_results_gbr[CO2_results_gbr.rank_test_r2==1][metrics],\n",
    "                                   CO2_results_svr[CO2_results_svr.rank_test_r2==1][metrics], \n",
    "                                   CO2_results_Elastic[CO2_results_Elastic.rank_test_r2==1][metrics], \n",
    "                                   CO2_results_ridge[CO2_results_ridge.rank_test_r2==1][metrics],\n",
    "                                   CO2_results_lasso[CO2_results_lasso.rank_test_r2==1][metrics]],\n",
    "                                   keys=['RandomForest', 'XGBoost','LinearSVR','ElasticNet','Ridge','Lasso']\n",
    "          )\n"
   ]
  },
  {
   "cell_type": "code",
   "execution_count": 21,
   "id": "6c59662b",
   "metadata": {},
   "outputs": [
    {
     "data": {
      "application/javascript": [
       "\n",
       "            setTimeout(function() {\n",
       "                var nbb_cell_id = 21;\n",
       "                var nbb_unformatted_code = \"Energy_compare_metrics = Energy_compare_metrics.reset_index()\\ndel Energy_compare_metrics[\\\"level_1\\\"]\";\n",
       "                var nbb_formatted_code = \"Energy_compare_metrics = Energy_compare_metrics.reset_index()\\ndel Energy_compare_metrics[\\\"level_1\\\"]\";\n",
       "                var nbb_cells = Jupyter.notebook.get_cells();\n",
       "                for (var i = 0; i < nbb_cells.length; ++i) {\n",
       "                    if (nbb_cells[i].input_prompt_number == nbb_cell_id) {\n",
       "                        if (nbb_cells[i].get_text() == nbb_unformatted_code) {\n",
       "                             nbb_cells[i].set_text(nbb_formatted_code);\n",
       "                        }\n",
       "                        break;\n",
       "                    }\n",
       "                }\n",
       "            }, 500);\n",
       "            "
      ],
      "text/plain": [
       "<IPython.core.display.Javascript object>"
      ]
     },
     "metadata": {},
     "output_type": "display_data"
    }
   ],
   "source": [
    "Energy_compare_metrics = Energy_compare_metrics.reset_index()\n",
    "del Energy_compare_metrics[\"level_1\"]"
   ]
  },
  {
   "cell_type": "code",
   "execution_count": 22,
   "id": "a26baccd",
   "metadata": {},
   "outputs": [
    {
     "data": {
      "application/javascript": [
       "\n",
       "            setTimeout(function() {\n",
       "                var nbb_cell_id = 22;\n",
       "                var nbb_unformatted_code = \"CO2_compare_metrics = CO2_compare_metrics.reset_index()\\ndel CO2_compare_metrics[\\\"level_1\\\"]\";\n",
       "                var nbb_formatted_code = \"CO2_compare_metrics = CO2_compare_metrics.reset_index()\\ndel CO2_compare_metrics[\\\"level_1\\\"]\";\n",
       "                var nbb_cells = Jupyter.notebook.get_cells();\n",
       "                for (var i = 0; i < nbb_cells.length; ++i) {\n",
       "                    if (nbb_cells[i].input_prompt_number == nbb_cell_id) {\n",
       "                        if (nbb_cells[i].get_text() == nbb_unformatted_code) {\n",
       "                             nbb_cells[i].set_text(nbb_formatted_code);\n",
       "                        }\n",
       "                        break;\n",
       "                    }\n",
       "                }\n",
       "            }, 500);\n",
       "            "
      ],
      "text/plain": [
       "<IPython.core.display.Javascript object>"
      ]
     },
     "metadata": {},
     "output_type": "display_data"
    }
   ],
   "source": [
    "CO2_compare_metrics = CO2_compare_metrics.reset_index()\n",
    "del CO2_compare_metrics[\"level_1\"]"
   ]
  },
  {
   "cell_type": "code",
   "execution_count": 23,
   "id": "9c598d66",
   "metadata": {},
   "outputs": [
    {
     "data": {
      "text/html": [
       "<div>\n",
       "<style scoped>\n",
       "    .dataframe tbody tr th:only-of-type {\n",
       "        vertical-align: middle;\n",
       "    }\n",
       "\n",
       "    .dataframe tbody tr th {\n",
       "        vertical-align: top;\n",
       "    }\n",
       "\n",
       "    .dataframe thead th {\n",
       "        text-align: right;\n",
       "    }\n",
       "</style>\n",
       "<table border=\"1\" class=\"dataframe\">\n",
       "  <thead>\n",
       "    <tr style=\"text-align: right;\">\n",
       "      <th></th>\n",
       "      <th>level_0</th>\n",
       "      <th>mean_fit_time</th>\n",
       "      <th>mean_score_time</th>\n",
       "      <th>mean_test_neg_mean_absolute_error</th>\n",
       "      <th>mean_train_neg_mean_absolute_error</th>\n",
       "      <th>mean_test_r2</th>\n",
       "      <th>mean_train_r2</th>\n",
       "    </tr>\n",
       "  </thead>\n",
       "  <tbody>\n",
       "    <tr>\n",
       "      <th>0</th>\n",
       "      <td>RandomForest</td>\n",
       "      <td>0.348914</td>\n",
       "      <td>0.006798</td>\n",
       "      <td>-0.519025</td>\n",
       "      <td>-0.384862</td>\n",
       "      <td>0.723882</td>\n",
       "      <td>0.855457</td>\n",
       "    </tr>\n",
       "    <tr>\n",
       "      <th>1</th>\n",
       "      <td>XGBoost</td>\n",
       "      <td>0.755356</td>\n",
       "      <td>0.002797</td>\n",
       "      <td>-0.509142</td>\n",
       "      <td>-0.454507</td>\n",
       "      <td>0.734855</td>\n",
       "      <td>0.792341</td>\n",
       "    </tr>\n",
       "    <tr>\n",
       "      <th>2</th>\n",
       "      <td>LinearSVR</td>\n",
       "      <td>0.485429</td>\n",
       "      <td>0.002398</td>\n",
       "      <td>-0.654616</td>\n",
       "      <td>-0.599187</td>\n",
       "      <td>0.572912</td>\n",
       "      <td>0.643161</td>\n",
       "    </tr>\n",
       "    <tr>\n",
       "      <th>3</th>\n",
       "      <td>ElasticNet</td>\n",
       "      <td>0.011986</td>\n",
       "      <td>0.000999</td>\n",
       "      <td>-0.650018</td>\n",
       "      <td>-0.610678</td>\n",
       "      <td>0.590198</td>\n",
       "      <td>0.647002</td>\n",
       "    </tr>\n",
       "    <tr>\n",
       "      <th>4</th>\n",
       "      <td>Ridge</td>\n",
       "      <td>0.006399</td>\n",
       "      <td>0.001400</td>\n",
       "      <td>-0.655367</td>\n",
       "      <td>-0.598502</td>\n",
       "      <td>0.580001</td>\n",
       "      <td>0.655609</td>\n",
       "    </tr>\n",
       "    <tr>\n",
       "      <th>5</th>\n",
       "      <td>Lasso</td>\n",
       "      <td>0.020462</td>\n",
       "      <td>0.001702</td>\n",
       "      <td>-0.649959</td>\n",
       "      <td>-0.610425</td>\n",
       "      <td>0.590199</td>\n",
       "      <td>0.647249</td>\n",
       "    </tr>\n",
       "  </tbody>\n",
       "</table>\n",
       "</div>"
      ],
      "text/plain": [
       "        level_0  mean_fit_time  mean_score_time  \\\n",
       "0  RandomForest       0.348914         0.006798   \n",
       "1       XGBoost       0.755356         0.002797   \n",
       "2     LinearSVR       0.485429         0.002398   \n",
       "3    ElasticNet       0.011986         0.000999   \n",
       "4         Ridge       0.006399         0.001400   \n",
       "5         Lasso       0.020462         0.001702   \n",
       "\n",
       "   mean_test_neg_mean_absolute_error  mean_train_neg_mean_absolute_error  \\\n",
       "0                          -0.519025                           -0.384862   \n",
       "1                          -0.509142                           -0.454507   \n",
       "2                          -0.654616                           -0.599187   \n",
       "3                          -0.650018                           -0.610678   \n",
       "4                          -0.655367                           -0.598502   \n",
       "5                          -0.649959                           -0.610425   \n",
       "\n",
       "   mean_test_r2  mean_train_r2  \n",
       "0      0.723882       0.855457  \n",
       "1      0.734855       0.792341  \n",
       "2      0.572912       0.643161  \n",
       "3      0.590198       0.647002  \n",
       "4      0.580001       0.655609  \n",
       "5      0.590199       0.647249  "
      ]
     },
     "execution_count": 23,
     "metadata": {},
     "output_type": "execute_result"
    },
    {
     "data": {
      "application/javascript": [
       "\n",
       "            setTimeout(function() {\n",
       "                var nbb_cell_id = 23;\n",
       "                var nbb_unformatted_code = \"Energy_compare_metrics\";\n",
       "                var nbb_formatted_code = \"Energy_compare_metrics\";\n",
       "                var nbb_cells = Jupyter.notebook.get_cells();\n",
       "                for (var i = 0; i < nbb_cells.length; ++i) {\n",
       "                    if (nbb_cells[i].input_prompt_number == nbb_cell_id) {\n",
       "                        if (nbb_cells[i].get_text() == nbb_unformatted_code) {\n",
       "                             nbb_cells[i].set_text(nbb_formatted_code);\n",
       "                        }\n",
       "                        break;\n",
       "                    }\n",
       "                }\n",
       "            }, 500);\n",
       "            "
      ],
      "text/plain": [
       "<IPython.core.display.Javascript object>"
      ]
     },
     "metadata": {},
     "output_type": "display_data"
    }
   ],
   "source": [
    "Energy_compare_metrics"
   ]
  },
  {
   "cell_type": "code",
   "execution_count": 24,
   "id": "d9548d80",
   "metadata": {},
   "outputs": [
    {
     "data": {
      "application/javascript": [
       "\n",
       "            setTimeout(function() {\n",
       "                var nbb_cell_id = 24;\n",
       "                var nbb_unformatted_code = \"## Gr\\u00e2ce \\u00e0 ce tableau, nous pouvons remarquer que pour l'\\u00e9nergie les deux meilleurs mod\\u00e9les semblent \\u00eatre le RandomForest\\n## et le GradientBoosting. Les colonnes a consid\\u00e9r\\u00e9 sont les colonnes des performances sur le Test, c'est \\u00e0 dire les sets\\n## de validation de la cross validation.\\n\\n## En prenant en compte ces r\\u00e9sultats, il semble que le meilleur mod\\u00e9le soit le Gradient Boosting\\n\\n## Il est \\u00e9galement int\\u00e9ressant de noter que RandomForest a de meilleurs r\\u00e9sultats sur le train alors que le Gradient Boosting\\n## semble mieux g\\u00e9n\\u00e9raliser.\\n\\n## Les temps de calculs ne nous sont finalement peu utile car les temps sont \\u00e9quivalents pour les deux mod\\u00e9les\";\n",
       "                var nbb_formatted_code = \"## Gr\\u00e2ce \\u00e0 ce tableau, nous pouvons remarquer que pour l'\\u00e9nergie les deux meilleurs mod\\u00e9les semblent \\u00eatre le RandomForest\\n## et le GradientBoosting. Les colonnes a consid\\u00e9r\\u00e9 sont les colonnes des performances sur le Test, c'est \\u00e0 dire les sets\\n## de validation de la cross validation.\\n\\n## En prenant en compte ces r\\u00e9sultats, il semble que le meilleur mod\\u00e9le soit le Gradient Boosting\\n\\n## Il est \\u00e9galement int\\u00e9ressant de noter que RandomForest a de meilleurs r\\u00e9sultats sur le train alors que le Gradient Boosting\\n## semble mieux g\\u00e9n\\u00e9raliser.\\n\\n## Les temps de calculs ne nous sont finalement peu utile car les temps sont \\u00e9quivalents pour les deux mod\\u00e9les\";\n",
       "                var nbb_cells = Jupyter.notebook.get_cells();\n",
       "                for (var i = 0; i < nbb_cells.length; ++i) {\n",
       "                    if (nbb_cells[i].input_prompt_number == nbb_cell_id) {\n",
       "                        if (nbb_cells[i].get_text() == nbb_unformatted_code) {\n",
       "                             nbb_cells[i].set_text(nbb_formatted_code);\n",
       "                        }\n",
       "                        break;\n",
       "                    }\n",
       "                }\n",
       "            }, 500);\n",
       "            "
      ],
      "text/plain": [
       "<IPython.core.display.Javascript object>"
      ]
     },
     "metadata": {},
     "output_type": "display_data"
    }
   ],
   "source": [
    "## Grâce à ce tableau, nous pouvons remarquer que pour l'énergie les deux meilleurs modéles semblent être le RandomForest\n",
    "## et le GradientBoosting. Les colonnes a considéré sont les colonnes des performances sur le Test, c'est à dire les sets\n",
    "## de validation de la cross validation.\n",
    "\n",
    "## En prenant en compte ces résultats, il semble que le meilleur modéle soit le Gradient Boosting. C'est celui que j'ai \n",
    "## sélectionné\n",
    "\n",
    "## Il est également intéressant de noter que RandomForest a de meilleurs résultats sur le train alors que le Gradient Boosting\n",
    "## semble mieux généraliser.\n",
    "\n",
    "## Les temps de calculs ne nous sont finalement que peu utile car les temps sont équivalents pour les deux modéles"
   ]
  },
  {
   "cell_type": "code",
   "execution_count": 25,
   "id": "4454e91b",
   "metadata": {},
   "outputs": [
    {
     "data": {
      "text/html": [
       "<div>\n",
       "<style scoped>\n",
       "    .dataframe tbody tr th:only-of-type {\n",
       "        vertical-align: middle;\n",
       "    }\n",
       "\n",
       "    .dataframe tbody tr th {\n",
       "        vertical-align: top;\n",
       "    }\n",
       "\n",
       "    .dataframe thead th {\n",
       "        text-align: right;\n",
       "    }\n",
       "</style>\n",
       "<table border=\"1\" class=\"dataframe\">\n",
       "  <thead>\n",
       "    <tr style=\"text-align: right;\">\n",
       "      <th></th>\n",
       "      <th>level_0</th>\n",
       "      <th>mean_fit_time</th>\n",
       "      <th>mean_score_time</th>\n",
       "      <th>mean_test_neg_mean_absolute_error</th>\n",
       "      <th>mean_train_neg_mean_absolute_error</th>\n",
       "      <th>mean_test_r2</th>\n",
       "      <th>mean_train_r2</th>\n",
       "    </tr>\n",
       "  </thead>\n",
       "  <tbody>\n",
       "    <tr>\n",
       "      <th>0</th>\n",
       "      <td>RandomForest</td>\n",
       "      <td>1.855033</td>\n",
       "      <td>0.029976</td>\n",
       "      <td>-0.802210</td>\n",
       "      <td>-0.473077</td>\n",
       "      <td>0.535784</td>\n",
       "      <td>0.838226</td>\n",
       "    </tr>\n",
       "    <tr>\n",
       "      <th>1</th>\n",
       "      <td>XGBoost</td>\n",
       "      <td>0.783480</td>\n",
       "      <td>0.002994</td>\n",
       "      <td>-0.797893</td>\n",
       "      <td>-0.722004</td>\n",
       "      <td>0.543857</td>\n",
       "      <td>0.626606</td>\n",
       "    </tr>\n",
       "    <tr>\n",
       "      <th>2</th>\n",
       "      <td>LinearSVR</td>\n",
       "      <td>0.201214</td>\n",
       "      <td>0.001798</td>\n",
       "      <td>-0.891921</td>\n",
       "      <td>-0.803289</td>\n",
       "      <td>0.412303</td>\n",
       "      <td>0.511028</td>\n",
       "    </tr>\n",
       "    <tr>\n",
       "      <th>3</th>\n",
       "      <td>ElasticNet</td>\n",
       "      <td>0.015591</td>\n",
       "      <td>0.002197</td>\n",
       "      <td>-0.877049</td>\n",
       "      <td>-0.829168</td>\n",
       "      <td>0.437918</td>\n",
       "      <td>0.504158</td>\n",
       "    </tr>\n",
       "    <tr>\n",
       "      <th>4</th>\n",
       "      <td>Ridge</td>\n",
       "      <td>0.010401</td>\n",
       "      <td>0.001997</td>\n",
       "      <td>-0.884926</td>\n",
       "      <td>-0.816550</td>\n",
       "      <td>0.425134</td>\n",
       "      <td>0.513619</td>\n",
       "    </tr>\n",
       "    <tr>\n",
       "      <th>5</th>\n",
       "      <td>Lasso</td>\n",
       "      <td>0.018580</td>\n",
       "      <td>0.001798</td>\n",
       "      <td>-0.878526</td>\n",
       "      <td>-0.829532</td>\n",
       "      <td>0.436442</td>\n",
       "      <td>0.503200</td>\n",
       "    </tr>\n",
       "  </tbody>\n",
       "</table>\n",
       "</div>"
      ],
      "text/plain": [
       "        level_0  mean_fit_time  mean_score_time  \\\n",
       "0  RandomForest       1.855033         0.029976   \n",
       "1       XGBoost       0.783480         0.002994   \n",
       "2     LinearSVR       0.201214         0.001798   \n",
       "3    ElasticNet       0.015591         0.002197   \n",
       "4         Ridge       0.010401         0.001997   \n",
       "5         Lasso       0.018580         0.001798   \n",
       "\n",
       "   mean_test_neg_mean_absolute_error  mean_train_neg_mean_absolute_error  \\\n",
       "0                          -0.802210                           -0.473077   \n",
       "1                          -0.797893                           -0.722004   \n",
       "2                          -0.891921                           -0.803289   \n",
       "3                          -0.877049                           -0.829168   \n",
       "4                          -0.884926                           -0.816550   \n",
       "5                          -0.878526                           -0.829532   \n",
       "\n",
       "   mean_test_r2  mean_train_r2  \n",
       "0      0.535784       0.838226  \n",
       "1      0.543857       0.626606  \n",
       "2      0.412303       0.511028  \n",
       "3      0.437918       0.504158  \n",
       "4      0.425134       0.513619  \n",
       "5      0.436442       0.503200  "
      ]
     },
     "execution_count": 25,
     "metadata": {},
     "output_type": "execute_result"
    },
    {
     "data": {
      "application/javascript": [
       "\n",
       "            setTimeout(function() {\n",
       "                var nbb_cell_id = 25;\n",
       "                var nbb_unformatted_code = \"CO2_compare_metrics\";\n",
       "                var nbb_formatted_code = \"CO2_compare_metrics\";\n",
       "                var nbb_cells = Jupyter.notebook.get_cells();\n",
       "                for (var i = 0; i < nbb_cells.length; ++i) {\n",
       "                    if (nbb_cells[i].input_prompt_number == nbb_cell_id) {\n",
       "                        if (nbb_cells[i].get_text() == nbb_unformatted_code) {\n",
       "                             nbb_cells[i].set_text(nbb_formatted_code);\n",
       "                        }\n",
       "                        break;\n",
       "                    }\n",
       "                }\n",
       "            }, 500);\n",
       "            "
      ],
      "text/plain": [
       "<IPython.core.display.Javascript object>"
      ]
     },
     "metadata": {},
     "output_type": "display_data"
    }
   ],
   "source": [
    "CO2_compare_metrics"
   ]
  },
  {
   "cell_type": "code",
   "execution_count": 26,
   "id": "ebbf0410",
   "metadata": {},
   "outputs": [
    {
     "data": {
      "application/javascript": [
       "\n",
       "            setTimeout(function() {\n",
       "                var nbb_cell_id = 26;\n",
       "                var nbb_unformatted_code = \"## Gr\\u00e2ce \\u00e0 ce tableau, nous pouvons remarquer que pour les \\u00e9missions de CO2 les deux meilleurs mod\\u00e9les semblent \\u00eatre le RandomForest\\n## et le GradientBoosting. Les colonnes a consid\\u00e9r\\u00e9 sont les colonnes des performances sur le Test, c'est \\u00e0 dire les sets\\n## de validation de la cross validation.\\n\\n## En prenant en compte ces r\\u00e9sultats, il semble que le meilleur mod\\u00e9le soit le Gradient Boosting\\n\\n## Il est \\u00e9galement int\\u00e9ressant de noter que RandomForest a de meilleurs r\\u00e9sultats sur le train alors que le Gradient Boosting\\n## semble mieux g\\u00e9n\\u00e9raliser.\\n\\n## Les temps de calculs ne nous sont finalement peu utile car les temps sont \\u00e9quivalents pour les deux mod\\u00e9les\";\n",
       "                var nbb_formatted_code = \"## Gr\\u00e2ce \\u00e0 ce tableau, nous pouvons remarquer que pour les \\u00e9missions de CO2 les deux meilleurs mod\\u00e9les semblent \\u00eatre le RandomForest\\n## et le GradientBoosting. Les colonnes a consid\\u00e9r\\u00e9 sont les colonnes des performances sur le Test, c'est \\u00e0 dire les sets\\n## de validation de la cross validation.\\n\\n## En prenant en compte ces r\\u00e9sultats, il semble que le meilleur mod\\u00e9le soit le Gradient Boosting\\n\\n## Il est \\u00e9galement int\\u00e9ressant de noter que RandomForest a de meilleurs r\\u00e9sultats sur le train alors que le Gradient Boosting\\n## semble mieux g\\u00e9n\\u00e9raliser.\\n\\n## Les temps de calculs ne nous sont finalement peu utile car les temps sont \\u00e9quivalents pour les deux mod\\u00e9les\";\n",
       "                var nbb_cells = Jupyter.notebook.get_cells();\n",
       "                for (var i = 0; i < nbb_cells.length; ++i) {\n",
       "                    if (nbb_cells[i].input_prompt_number == nbb_cell_id) {\n",
       "                        if (nbb_cells[i].get_text() == nbb_unformatted_code) {\n",
       "                             nbb_cells[i].set_text(nbb_formatted_code);\n",
       "                        }\n",
       "                        break;\n",
       "                    }\n",
       "                }\n",
       "            }, 500);\n",
       "            "
      ],
      "text/plain": [
       "<IPython.core.display.Javascript object>"
      ]
     },
     "metadata": {},
     "output_type": "display_data"
    }
   ],
   "source": [
    "## Grâce à ce tableau, nous pouvons remarquer que pour les émissions de CO2 les deux meilleurs modéles semblent être le RandomForest\n",
    "## et le GradientBoosting. Les colonnes a considéré sont les colonnes des performances sur le Test, c'est à dire les sets\n",
    "## de validation de la cross validation.\n",
    "\n",
    "## En prenant en compte ces résultats, il semble que le meilleur modéle soit le Gradient Boosting. C'est celui que j'ai \n",
    "## sélectionné \n",
    "\n",
    "## Il est également intéressant de noter que RandomForest a de meilleurs résultats sur le train alors que le Gradient Boosting\n",
    "## semble mieux généraliser.\n",
    "\n",
    "## Les temps de calculs ne nous sont finalement peu utile car les temps sont équivalents pour les deux modéles"
   ]
  },
  {
   "cell_type": "code",
   "execution_count": 27,
   "id": "772465ae",
   "metadata": {},
   "outputs": [
    {
     "data": {
      "text/plain": [
       "<AxesSubplot:xlabel='[RandomForest, XGBoost, LinearSVR, ElasticNet, Ridge, Lasso]'>"
      ]
     },
     "execution_count": 27,
     "metadata": {},
     "output_type": "execute_result"
    },
    {
     "data": {
      "image/png": "[encoded data removed]",
      "text/plain": [
       "<Figure size 432x288 with 1 Axes>"
      ]
     },
     "metadata": {
      "needs_background": "light"
     },
     "output_type": "display_data"
    },
    {
     "data": {
      "application/javascript": [
       "\n",
       "            setTimeout(function() {\n",
       "                var nbb_cell_id = 27;\n",
       "                var nbb_unformatted_code = \"## Repr\\u00e9sentons maintenant les r\\u00e9sultats que nous avons d\\u00e9taill\\u00e9 pr\\u00e9c\\u00e9demment\\n\\n## Dans un premier temps, les r\\u00e9sultats pour la consommation \\u00e9nerg\\u00e9tique.\\n\\nr2 = [\\\"mean_test_r2\\\", \\\"mean_train_r2\\\"]\\nx = Energy_compare_metrics[\\\"level_0\\\"]\\n\\nEnergy_compare_metrics[r2].plot(kind=\\\"bar\\\", rot=30, xlabel=x)\";\n",
       "                var nbb_formatted_code = \"## Repr\\u00e9sentons maintenant les r\\u00e9sultats que nous avons d\\u00e9taill\\u00e9 pr\\u00e9c\\u00e9demment\\n\\n## Dans un premier temps, les r\\u00e9sultats pour la consommation \\u00e9nerg\\u00e9tique.\\n\\nr2 = [\\\"mean_test_r2\\\", \\\"mean_train_r2\\\"]\\nx = Energy_compare_metrics[\\\"level_0\\\"]\\n\\nEnergy_compare_metrics[r2].plot(kind=\\\"bar\\\", rot=30, xlabel=x)\";\n",
       "                var nbb_cells = Jupyter.notebook.get_cells();\n",
       "                for (var i = 0; i < nbb_cells.length; ++i) {\n",
       "                    if (nbb_cells[i].input_prompt_number == nbb_cell_id) {\n",
       "                        if (nbb_cells[i].get_text() == nbb_unformatted_code) {\n",
       "                             nbb_cells[i].set_text(nbb_formatted_code);\n",
       "                        }\n",
       "                        break;\n",
       "                    }\n",
       "                }\n",
       "            }, 500);\n",
       "            "
      ],
      "text/plain": [
       "<IPython.core.display.Javascript object>"
      ]
     },
     "metadata": {},
     "output_type": "display_data"
    }
   ],
   "source": [
    "## Représentons maintenant les résultats que nous avons détaillé précédemment\n",
    "\n",
    "## Dans un premier temps, les résultats pour la consommation énergétique.\n",
    "\n",
    "r2 = [\"mean_test_r2\", \"mean_train_r2\"]\n",
    "x = Energy_compare_metrics[\"level_0\"]\n",
    "\n",
    "Energy_compare_metrics[r2].plot(kind=\"bar\", rot=30, xlabel=x)"
   ]
  },
  {
   "cell_type": "code",
   "execution_count": 28,
   "id": "0705a91c",
   "metadata": {},
   "outputs": [
    {
     "data": {
      "text/plain": [
       "<AxesSubplot:xlabel='[RandomForest, XGBoost, LinearSVR, ElasticNet, Ridge, Lasso]'>"
      ]
     },
     "execution_count": 28,
     "metadata": {},
     "output_type": "execute_result"
    },
    {
     "data": {
      "image/png": "[encoded data removed]",
      "text/plain": [
       "<Figure size 432x288 with 1 Axes>"
      ]
     },
     "metadata": {
      "needs_background": "light"
     },
     "output_type": "display_data"
    },
    {
     "data": {
      "application/javascript": [
       "\n",
       "            setTimeout(function() {\n",
       "                var nbb_cell_id = 28;\n",
       "                var nbb_unformatted_code = \"mae = [\\\"mean_test_neg_mean_absolute_error\\\", \\\"mean_train_neg_mean_absolute_error\\\"]\\nx = Energy_compare_metrics[\\\"level_0\\\"]\\n\\nEnergy_compare_metrics[mae].plot(kind=\\\"bar\\\", rot=30, xlabel=x)\";\n",
       "                var nbb_formatted_code = \"mae = [\\\"mean_test_neg_mean_absolute_error\\\", \\\"mean_train_neg_mean_absolute_error\\\"]\\nx = Energy_compare_metrics[\\\"level_0\\\"]\\n\\nEnergy_compare_metrics[mae].plot(kind=\\\"bar\\\", rot=30, xlabel=x)\";\n",
       "                var nbb_cells = Jupyter.notebook.get_cells();\n",
       "                for (var i = 0; i < nbb_cells.length; ++i) {\n",
       "                    if (nbb_cells[i].input_prompt_number == nbb_cell_id) {\n",
       "                        if (nbb_cells[i].get_text() == nbb_unformatted_code) {\n",
       "                             nbb_cells[i].set_text(nbb_formatted_code);\n",
       "                        }\n",
       "                        break;\n",
       "                    }\n",
       "                }\n",
       "            }, 500);\n",
       "            "
      ],
      "text/plain": [
       "<IPython.core.display.Javascript object>"
      ]
     },
     "metadata": {},
     "output_type": "display_data"
    }
   ],
   "source": [
    "mae = [\"mean_test_neg_mean_absolute_error\", \"mean_train_neg_mean_absolute_error\"]\n",
    "x = Energy_compare_metrics[\"level_0\"]\n",
    "\n",
    "Energy_compare_metrics[mae].plot(kind=\"bar\", rot=30, xlabel=x)"
   ]
  },
  {
   "cell_type": "code",
   "execution_count": 29,
   "id": "ed9ab52d",
   "metadata": {},
   "outputs": [
    {
     "data": {
      "text/plain": [
       "<AxesSubplot:xlabel='[RandomForest, XGBoost, LinearSVR, ElasticNet, Ridge, Lasso]'>"
      ]
     },
     "execution_count": 29,
     "metadata": {},
     "output_type": "execute_result"
    },
    {
     "data": {
      "image/png": "[encoded data removed]",
      "text/plain": [
       "<Figure size 432x288 with 1 Axes>"
      ]
     },
     "metadata": {
      "needs_background": "light"
     },
     "output_type": "display_data"
    },
    {
     "data": {
      "application/javascript": [
       "\n",
       "            setTimeout(function() {\n",
       "                var nbb_cell_id = 29;\n",
       "                var nbb_unformatted_code = \"## Repr\\u00e9sentation pour les \\u00e9missions de CO2\\n\\nr2 = [\\\"mean_test_r2\\\", \\\"mean_train_r2\\\"]\\nx = Energy_compare_metrics[\\\"level_0\\\"]\\n\\nCO2_compare_metrics[r2].plot(kind=\\\"bar\\\", rot=30, xlabel=x)\";\n",
       "                var nbb_formatted_code = \"## Repr\\u00e9sentation pour les \\u00e9missions de CO2\\n\\nr2 = [\\\"mean_test_r2\\\", \\\"mean_train_r2\\\"]\\nx = Energy_compare_metrics[\\\"level_0\\\"]\\n\\nCO2_compare_metrics[r2].plot(kind=\\\"bar\\\", rot=30, xlabel=x)\";\n",
       "                var nbb_cells = Jupyter.notebook.get_cells();\n",
       "                for (var i = 0; i < nbb_cells.length; ++i) {\n",
       "                    if (nbb_cells[i].input_prompt_number == nbb_cell_id) {\n",
       "                        if (nbb_cells[i].get_text() == nbb_unformatted_code) {\n",
       "                             nbb_cells[i].set_text(nbb_formatted_code);\n",
       "                        }\n",
       "                        break;\n",
       "                    }\n",
       "                }\n",
       "            }, 500);\n",
       "            "
      ],
      "text/plain": [
       "<IPython.core.display.Javascript object>"
      ]
     },
     "metadata": {},
     "output_type": "display_data"
    }
   ],
   "source": [
    "## Représentation pour les émissions de CO2\n",
    "\n",
    "r2 = [\"mean_test_r2\", \"mean_train_r2\"]\n",
    "x = Energy_compare_metrics[\"level_0\"]\n",
    "\n",
    "CO2_compare_metrics[r2].plot(kind=\"bar\", rot=30, xlabel=x)"
   ]
  },
  {
   "cell_type": "code",
   "execution_count": 30,
   "id": "74506b8e",
   "metadata": {},
   "outputs": [
    {
     "data": {
      "text/plain": [
       "<AxesSubplot:xlabel='[RandomForest, XGBoost, LinearSVR, ElasticNet, Ridge, Lasso]'>"
      ]
     },
     "execution_count": 30,
     "metadata": {},
     "output_type": "execute_result"
    },
    {
     "data": {
      "image/png": "[encoded data removed]",
      "text/plain": [
       "<Figure size 432x288 with 1 Axes>"
      ]
     },
     "metadata": {
      "needs_background": "light"
     },
     "output_type": "display_data"
    },
    {
     "data": {
      "application/javascript": [
       "\n",
       "            setTimeout(function() {\n",
       "                var nbb_cell_id = 30;\n",
       "                var nbb_unformatted_code = \"mae = [\\\"mean_test_neg_mean_absolute_error\\\", \\\"mean_train_neg_mean_absolute_error\\\"]\\nx = Energy_compare_metrics[\\\"level_0\\\"]\\n\\nCO2_compare_metrics[mae].plot(kind=\\\"bar\\\", rot=30, xlabel=x)\";\n",
       "                var nbb_formatted_code = \"mae = [\\\"mean_test_neg_mean_absolute_error\\\", \\\"mean_train_neg_mean_absolute_error\\\"]\\nx = Energy_compare_metrics[\\\"level_0\\\"]\\n\\nCO2_compare_metrics[mae].plot(kind=\\\"bar\\\", rot=30, xlabel=x)\";\n",
       "                var nbb_cells = Jupyter.notebook.get_cells();\n",
       "                for (var i = 0; i < nbb_cells.length; ++i) {\n",
       "                    if (nbb_cells[i].input_prompt_number == nbb_cell_id) {\n",
       "                        if (nbb_cells[i].get_text() == nbb_unformatted_code) {\n",
       "                             nbb_cells[i].set_text(nbb_formatted_code);\n",
       "                        }\n",
       "                        break;\n",
       "                    }\n",
       "                }\n",
       "            }, 500);\n",
       "            "
      ],
      "text/plain": [
       "<IPython.core.display.Javascript object>"
      ]
     },
     "metadata": {},
     "output_type": "display_data"
    }
   ],
   "source": [
    "mae = [\"mean_test_neg_mean_absolute_error\", \"mean_train_neg_mean_absolute_error\"]\n",
    "x = Energy_compare_metrics[\"level_0\"]\n",
    "\n",
    "CO2_compare_metrics[mae].plot(kind=\"bar\", rot=30, xlabel=x)"
   ]
  },
  {
   "cell_type": "markdown",
   "id": "30106dbe",
   "metadata": {},
   "source": [
    "## Partie 5 : Test des modéles sélectionnés "
   ]
  },
  {
   "cell_type": "code",
   "execution_count": 31,
   "id": "061158f8",
   "metadata": {},
   "outputs": [
    {
     "data": {
      "application/javascript": [
       "\n",
       "            setTimeout(function() {\n",
       "                var nbb_cell_id = 31;\n",
       "                var nbb_unformatted_code = \"## Je vais dans un premier temps r\\u00e9cup\\u00e9r\\u00e9 l'importance des features. Ces donn\\u00e9es seront int\\u00e9ressantes lorsque nous testerons des\\n## am\\u00e9liorations des mod\\u00e9les.\\n\\ncoefficients_energy = abs(\\n    grid_energy.best_estimator_.named_steps.gbr.feature_importances_\\n)\\nliste_coefs_rer_energy = pd.DataFrame(coefficients_energy, columns=[\\\"Coefficients\\\"])\\ncoefficients_co2 = abs(grid_co2.best_estimator_.named_steps.gbr.feature_importances_)\\nliste_coefs_rer_co2 = pd.DataFrame(coefficients_co2, columns=[\\\"Coefficients\\\"])\";\n",
       "                var nbb_formatted_code = \"## Je vais dans un premier temps r\\u00e9cup\\u00e9r\\u00e9 l'importance des features. Ces donn\\u00e9es seront int\\u00e9ressantes lorsque nous testerons des\\n## am\\u00e9liorations des mod\\u00e9les.\\n\\ncoefficients_energy = abs(\\n    grid_energy.best_estimator_.named_steps.gbr.feature_importances_\\n)\\nliste_coefs_rer_energy = pd.DataFrame(coefficients_energy, columns=[\\\"Coefficients\\\"])\\ncoefficients_co2 = abs(grid_co2.best_estimator_.named_steps.gbr.feature_importances_)\\nliste_coefs_rer_co2 = pd.DataFrame(coefficients_co2, columns=[\\\"Coefficients\\\"])\";\n",
       "                var nbb_cells = Jupyter.notebook.get_cells();\n",
       "                for (var i = 0; i < nbb_cells.length; ++i) {\n",
       "                    if (nbb_cells[i].input_prompt_number == nbb_cell_id) {\n",
       "                        if (nbb_cells[i].get_text() == nbb_unformatted_code) {\n",
       "                             nbb_cells[i].set_text(nbb_formatted_code);\n",
       "                        }\n",
       "                        break;\n",
       "                    }\n",
       "                }\n",
       "            }, 500);\n",
       "            "
      ],
      "text/plain": [
       "<IPython.core.display.Javascript object>"
      ]
     },
     "metadata": {},
     "output_type": "display_data"
    }
   ],
   "source": [
    "## Je vais dans un premier temps récupéré l'importance des features. Ces données seront intéressantes lorsque nous testerons des\n",
    "## améliorations du modéle.\n",
    "\n",
    "coefficients_energy = abs(\n",
    "    grid_energy.best_estimator_.named_steps.gbr.feature_importances_\n",
    ")\n",
    "liste_coefs_rer_energy = pd.DataFrame(coefficients_energy, columns=[\"Coefficients\"])\n",
    "coefficients_co2 = abs(grid_co2.best_estimator_.named_steps.gbr.feature_importances_)\n",
    "liste_coefs_rer_co2 = pd.DataFrame(coefficients_co2, columns=[\"Coefficients\"])"
   ]
  },
  {
   "cell_type": "code",
   "execution_count": 32,
   "id": "fc7e243a",
   "metadata": {},
   "outputs": [
    {
     "data": {
      "application/javascript": [
       "\n",
       "            setTimeout(function() {\n",
       "                var nbb_cell_id = 32;\n",
       "                var nbb_unformatted_code = \"variable = pd.concat(\\n    (\\n        pd.DataFrame(data.loc[:, columns].columns, columns=[\\\"Variables\\\"]),\\n        pd.DataFrame(enc.get_feature_names(), columns=[\\\"Variables\\\"]),\\n    )\\n)\";\n",
       "                var nbb_formatted_code = \"variable = pd.concat(\\n    (\\n        pd.DataFrame(data.loc[:, columns].columns, columns=[\\\"Variables\\\"]),\\n        pd.DataFrame(enc.get_feature_names(), columns=[\\\"Variables\\\"]),\\n    )\\n)\";\n",
       "                var nbb_cells = Jupyter.notebook.get_cells();\n",
       "                for (var i = 0; i < nbb_cells.length; ++i) {\n",
       "                    if (nbb_cells[i].input_prompt_number == nbb_cell_id) {\n",
       "                        if (nbb_cells[i].get_text() == nbb_unformatted_code) {\n",
       "                             nbb_cells[i].set_text(nbb_formatted_code);\n",
       "                        }\n",
       "                        break;\n",
       "                    }\n",
       "                }\n",
       "            }, 500);\n",
       "            "
      ],
      "text/plain": [
       "<IPython.core.display.Javascript object>"
      ]
     },
     "metadata": {},
     "output_type": "display_data"
    }
   ],
   "source": [
    "variable = pd.concat(\n",
    "    (\n",
    "        pd.DataFrame(data.loc[:, columns].columns, columns=[\"Variables\"]),\n",
    "        pd.DataFrame(enc.get_feature_names(), columns=[\"Variables\"]),\n",
    "    )\n",
    ")"
   ]
  },
  {
   "cell_type": "code",
   "execution_count": 33,
   "id": "9d8fd3c7",
   "metadata": {},
   "outputs": [
    {
     "data": {
      "application/javascript": [
       "\n",
       "            setTimeout(function() {\n",
       "                var nbb_cell_id = 33;\n",
       "                var nbb_unformatted_code = \"df_feature_importance_energy = pd.Series(coefficients_energy, index=variable)\\ndf_feature_importance_co2 = pd.Series(coefficients_co2, index=variable)\";\n",
       "                var nbb_formatted_code = \"df_feature_importance_energy = pd.Series(coefficients_energy, index=variable)\\ndf_feature_importance_co2 = pd.Series(coefficients_co2, index=variable)\";\n",
       "                var nbb_cells = Jupyter.notebook.get_cells();\n",
       "                for (var i = 0; i < nbb_cells.length; ++i) {\n",
       "                    if (nbb_cells[i].input_prompt_number == nbb_cell_id) {\n",
       "                        if (nbb_cells[i].get_text() == nbb_unformatted_code) {\n",
       "                             nbb_cells[i].set_text(nbb_formatted_code);\n",
       "                        }\n",
       "                        break;\n",
       "                    }\n",
       "                }\n",
       "            }, 500);\n",
       "            "
      ],
      "text/plain": [
       "<IPython.core.display.Javascript object>"
      ]
     },
     "metadata": {},
     "output_type": "display_data"
    }
   ],
   "source": [
    "df_feature_importance_energy = pd.Series(coefficients_energy, index=variable)\n",
    "df_feature_importance_co2 = pd.Series(coefficients_co2, index=variable)"
   ]
  },
  {
   "cell_type": "code",
   "execution_count": 34,
   "id": "33791127",
   "metadata": {},
   "outputs": [
    {
     "data": {
      "application/javascript": [
       "\n",
       "            setTimeout(function() {\n",
       "                var nbb_cell_id = 34;\n",
       "                var nbb_unformatted_code = \"df_feature_importance_energy.loc[\\\"BuildingType\\\"] = df_feature_importance_energy.iloc[\\n    6:11\\n].sum(axis=0)\\ndf_feature_importance_energy.loc[\\\"Neighborhood\\\"] = df_feature_importance_energy.iloc[\\n    12:30\\n].sum(axis=0)\\ndf_feature_importance_energy.loc[\\n    \\\"LargestPropertyUseType\\\"\\n] = df_feature_importance_energy.iloc[31:86].sum(axis=0)\\ndf_feature_importance_energy.loc[\\n    \\\"PrimaryPropertyType\\\"\\n] = df_feature_importance_energy.iloc[87:110].sum(axis=0)\\n\\ndf_feature_importance_co2.loc[\\\"BuildingType\\\"] = df_feature_importance_co2.iloc[\\n    6:11\\n].sum(axis=0)\\ndf_feature_importance_co2.loc[\\\"Neighborhood\\\"] = df_feature_importance_co2.iloc[\\n    12:30\\n].sum(axis=0)\\ndf_feature_importance_co2.loc[\\n    \\\"LargestPropertyUseType\\\"\\n] = df_feature_importance_co2.iloc[31:86].sum(axis=0)\\ndf_feature_importance_co2.loc[\\\"PrimaryPropertyType\\\"] = df_feature_importance_co2.iloc[\\n    87:110\\n].sum(axis=0)\";\n",
       "                var nbb_formatted_code = \"df_feature_importance_energy.loc[\\\"BuildingType\\\"] = df_feature_importance_energy.iloc[\\n    6:11\\n].sum(axis=0)\\ndf_feature_importance_energy.loc[\\\"Neighborhood\\\"] = df_feature_importance_energy.iloc[\\n    12:30\\n].sum(axis=0)\\ndf_feature_importance_energy.loc[\\n    \\\"LargestPropertyUseType\\\"\\n] = df_feature_importance_energy.iloc[31:86].sum(axis=0)\\ndf_feature_importance_energy.loc[\\n    \\\"PrimaryPropertyType\\\"\\n] = df_feature_importance_energy.iloc[87:110].sum(axis=0)\\n\\ndf_feature_importance_co2.loc[\\\"BuildingType\\\"] = df_feature_importance_co2.iloc[\\n    6:11\\n].sum(axis=0)\\ndf_feature_importance_co2.loc[\\\"Neighborhood\\\"] = df_feature_importance_co2.iloc[\\n    12:30\\n].sum(axis=0)\\ndf_feature_importance_co2.loc[\\n    \\\"LargestPropertyUseType\\\"\\n] = df_feature_importance_co2.iloc[31:86].sum(axis=0)\\ndf_feature_importance_co2.loc[\\\"PrimaryPropertyType\\\"] = df_feature_importance_co2.iloc[\\n    87:110\\n].sum(axis=0)\";\n",
       "                var nbb_cells = Jupyter.notebook.get_cells();\n",
       "                for (var i = 0; i < nbb_cells.length; ++i) {\n",
       "                    if (nbb_cells[i].input_prompt_number == nbb_cell_id) {\n",
       "                        if (nbb_cells[i].get_text() == nbb_unformatted_code) {\n",
       "                             nbb_cells[i].set_text(nbb_formatted_code);\n",
       "                        }\n",
       "                        break;\n",
       "                    }\n",
       "                }\n",
       "            }, 500);\n",
       "            "
      ],
      "text/plain": [
       "<IPython.core.display.Javascript object>"
      ]
     },
     "metadata": {},
     "output_type": "display_data"
    }
   ],
   "source": [
    "df_feature_importance_energy.loc[\"BuildingType\"] = df_feature_importance_energy.iloc[\n",
    "    6:11\n",
    "].sum(axis=0)\n",
    "df_feature_importance_energy.loc[\"Neighborhood\"] = df_feature_importance_energy.iloc[\n",
    "    12:30\n",
    "].sum(axis=0)\n",
    "df_feature_importance_energy.loc[\n",
    "    \"LargestPropertyUseType\"\n",
    "] = df_feature_importance_energy.iloc[31:86].sum(axis=0)\n",
    "df_feature_importance_energy.loc[\n",
    "    \"PrimaryPropertyType\"\n",
    "] = df_feature_importance_energy.iloc[87:110].sum(axis=0)\n",
    "\n",
    "df_feature_importance_co2.loc[\"BuildingType\"] = df_feature_importance_co2.iloc[\n",
    "    6:11\n",
    "].sum(axis=0)\n",
    "df_feature_importance_co2.loc[\"Neighborhood\"] = df_feature_importance_co2.iloc[\n",
    "    12:30\n",
    "].sum(axis=0)\n",
    "df_feature_importance_co2.loc[\n",
    "    \"LargestPropertyUseType\"\n",
    "] = df_feature_importance_co2.iloc[31:86].sum(axis=0)\n",
    "df_feature_importance_co2.loc[\"PrimaryPropertyType\"] = df_feature_importance_co2.iloc[\n",
    "    87:110\n",
    "].sum(axis=0)"
   ]
  },
  {
   "cell_type": "code",
   "execution_count": 35,
   "id": "c400cea3",
   "metadata": {},
   "outputs": [
    {
     "data": {
      "application/javascript": [
       "\n",
       "            setTimeout(function() {\n",
       "                var nbb_cell_id = 35;\n",
       "                var nbb_unformatted_code = \"df_feature_importance_energy = df_feature_importance_energy.drop(\\n    index=df_feature_importance_energy.iloc[6:110].index\\n)\\n\\ndf_feature_importance_co2 = df_feature_importance_co2.drop(\\n    index=df_feature_importance_co2.iloc[6:110].index\\n)\";\n",
       "                var nbb_formatted_code = \"df_feature_importance_energy = df_feature_importance_energy.drop(\\n    index=df_feature_importance_energy.iloc[6:110].index\\n)\\n\\ndf_feature_importance_co2 = df_feature_importance_co2.drop(\\n    index=df_feature_importance_co2.iloc[6:110].index\\n)\";\n",
       "                var nbb_cells = Jupyter.notebook.get_cells();\n",
       "                for (var i = 0; i < nbb_cells.length; ++i) {\n",
       "                    if (nbb_cells[i].input_prompt_number == nbb_cell_id) {\n",
       "                        if (nbb_cells[i].get_text() == nbb_unformatted_code) {\n",
       "                             nbb_cells[i].set_text(nbb_formatted_code);\n",
       "                        }\n",
       "                        break;\n",
       "                    }\n",
       "                }\n",
       "            }, 500);\n",
       "            "
      ],
      "text/plain": [
       "<IPython.core.display.Javascript object>"
      ]
     },
     "metadata": {},
     "output_type": "display_data"
    }
   ],
   "source": [
    "df_feature_importance_energy = df_feature_importance_energy.drop(\n",
    "    index=df_feature_importance_energy.iloc[6:110].index\n",
    ")\n",
    "\n",
    "df_feature_importance_co2 = df_feature_importance_co2.drop(\n",
    "    index=df_feature_importance_co2.iloc[6:110].index\n",
    ")"
   ]
  },
  {
   "cell_type": "code",
   "execution_count": 36,
   "id": "76510ce7",
   "metadata": {},
   "outputs": [
    {
     "data": {
      "image/png": "[encoded data removed]",
      "text/plain": [
       "<Figure size 864x576 with 1 Axes>"
      ]
     },
     "metadata": {
      "needs_background": "light"
     },
     "output_type": "display_data"
    },
    {
     "data": {
      "application/javascript": [
       "\n",
       "            setTimeout(function() {\n",
       "                var nbb_cell_id = 36;\n",
       "                var nbb_unformatted_code = \"## Repr\\u00e9sentation pour l'\\u00e9nergie\\n\\nfig, ax = plt.subplots(figsize=(12, 8))\\ndf_feature_importance_energy.plot.bar(ax=ax)\\nax.set_title(\\\"Feature importances du mod\\u00e8le XGBoost sur la consommation d'\\u00e9nergie\\\")\\nfig.tight_layout()\\n\\n## Nous pouvons noter que les trois features importantes sont la surface et les utilisations du b\\u00e2timents\\n## Ceci peut nous donner un axe pour am\\u00e9liorer les performances du mod\\u00e9le en int\\u00e9grant de nouvelles features proches de celle-ci\";\n",
       "                var nbb_formatted_code = \"## Repr\\u00e9sentation pour l'\\u00e9nergie\\n\\nfig, ax = plt.subplots(figsize=(12, 8))\\ndf_feature_importance_energy.plot.bar(ax=ax)\\nax.set_title(\\\"Feature importances du mod\\u00e8le XGBoost sur la consommation d'\\u00e9nergie\\\")\\nfig.tight_layout()\\n\\n## Nous pouvons noter que les trois features importantes sont la surface et les utilisations du b\\u00e2timents\\n## Ceci peut nous donner un axe pour am\\u00e9liorer les performances du mod\\u00e9le en int\\u00e9grant de nouvelles features proches de celle-ci\";\n",
       "                var nbb_cells = Jupyter.notebook.get_cells();\n",
       "                for (var i = 0; i < nbb_cells.length; ++i) {\n",
       "                    if (nbb_cells[i].input_prompt_number == nbb_cell_id) {\n",
       "                        if (nbb_cells[i].get_text() == nbb_unformatted_code) {\n",
       "                             nbb_cells[i].set_text(nbb_formatted_code);\n",
       "                        }\n",
       "                        break;\n",
       "                    }\n",
       "                }\n",
       "            }, 500);\n",
       "            "
      ],
      "text/plain": [
       "<IPython.core.display.Javascript object>"
      ]
     },
     "metadata": {},
     "output_type": "display_data"
    }
   ],
   "source": [
    "## Représentation pour l'énergie\n",
    "\n",
    "fig, ax = plt.subplots(figsize=(12, 8))\n",
    "df_feature_importance_energy.plot.bar(ax=ax)\n",
    "ax.set_title(\"Feature importances du modèle XGBoost sur la consommation d'énergie\")\n",
    "fig.tight_layout()\n",
    "\n",
    "## Nous pouvons noter que les trois features importantes sont la surface et les utilisations du bâtiments\n",
    "## Ceci peut nous donner un axe pour améliorer les performances du modéle en intégrant de nouvelles features proches de celle-ci"
   ]
  },
  {
   "cell_type": "code",
   "execution_count": 37,
   "id": "cbdfcde8",
   "metadata": {},
   "outputs": [
    {
     "data": {
      "image/png": "[encoded data removed]",
      "text/plain": [
       "<Figure size 864x576 with 1 Axes>"
      ]
     },
     "metadata": {
      "needs_background": "light"
     },
     "output_type": "display_data"
    },
    {
     "data": {
      "application/javascript": [
       "\n",
       "            setTimeout(function() {\n",
       "                var nbb_cell_id = 37;\n",
       "                var nbb_unformatted_code = \"##Repr\\u00e9sentation pour les \\u00e9missions de CO2\\n\\nfig, ax = plt.subplots(figsize=(12, 8))\\ndf_feature_importance_co2.plot.bar(ax=ax)\\nax.set_title(\\\"Feature importances du mod\\u00e8le XGBoost sur la consommation de CO2\\\")\\nfig.tight_layout()\\n\\n## Comme pour l'\\u00e9nergie, les features plus importantes sont la surface et les utilisations du b\\u00e2timents\";\n",
       "                var nbb_formatted_code = \"##Repr\\u00e9sentation pour les \\u00e9missions de CO2\\n\\nfig, ax = plt.subplots(figsize=(12, 8))\\ndf_feature_importance_co2.plot.bar(ax=ax)\\nax.set_title(\\\"Feature importances du mod\\u00e8le XGBoost sur la consommation de CO2\\\")\\nfig.tight_layout()\\n\\n## Comme pour l'\\u00e9nergie, les features plus importantes sont la surface et les utilisations du b\\u00e2timents\";\n",
       "                var nbb_cells = Jupyter.notebook.get_cells();\n",
       "                for (var i = 0; i < nbb_cells.length; ++i) {\n",
       "                    if (nbb_cells[i].input_prompt_number == nbb_cell_id) {\n",
       "                        if (nbb_cells[i].get_text() == nbb_unformatted_code) {\n",
       "                             nbb_cells[i].set_text(nbb_formatted_code);\n",
       "                        }\n",
       "                        break;\n",
       "                    }\n",
       "                }\n",
       "            }, 500);\n",
       "            "
      ],
      "text/plain": [
       "<IPython.core.display.Javascript object>"
      ]
     },
     "metadata": {},
     "output_type": "display_data"
    }
   ],
   "source": [
    "## Représentation pour les émissions de CO2\n",
    "\n",
    "fig, ax = plt.subplots(figsize=(12, 8))\n",
    "df_feature_importance_co2.plot.bar(ax=ax)\n",
    "ax.set_title(\"Feature importances du modèle XGBoost sur la consommation de CO2\")\n",
    "fig.tight_layout()\n",
    "\n",
    "## Comme pour l'énergie, les features plus importantes sont la surface et les utilisations du bâtiments"
   ]
  },
  {
   "cell_type": "code",
   "execution_count": 38,
   "id": "28639dea",
   "metadata": {},
   "outputs": [
    {
     "name": "stdout",
     "output_type": "stream",
     "text": [
      "r2 train : 0.7872458107165097\n",
      "r2 test : 0.7139458572735262\n"
     ]
    },
    {
     "data": {
      "application/javascript": [
       "\n",
       "            setTimeout(function() {\n",
       "                var nbb_cell_id = 38;\n",
       "                var nbb_unformatted_code = \"## Nous allons maintenant passer \\u00e0 la partie o\\u00f9 l'on test les mod\\u00e9les sur les donn\\u00e9es de test\\n\\n## Test pour l'\\u00e9nergie\\n\\nGBR_Energy.fit(X_train, y_train[\\\"SiteEnergyUse(kBtu)\\\"])\\n\\nprint(\\n    \\\"r2 train :\\\", r2_score(y_train[\\\"SiteEnergyUse(kBtu)\\\"], GBR_Energy.predict(X_train))\\n)\\nprint(\\\"r2 test :\\\", r2_score(y_test[\\\"SiteEnergyUse(kBtu)\\\"], GBR_Energy.predict(X_test)))\";\n",
       "                var nbb_formatted_code = \"## Nous allons maintenant passer \\u00e0 la partie o\\u00f9 l'on test les mod\\u00e9les sur les donn\\u00e9es de test\\n\\n## Test pour l'\\u00e9nergie\\n\\nGBR_Energy.fit(X_train, y_train[\\\"SiteEnergyUse(kBtu)\\\"])\\n\\nprint(\\n    \\\"r2 train :\\\", r2_score(y_train[\\\"SiteEnergyUse(kBtu)\\\"], GBR_Energy.predict(X_train))\\n)\\nprint(\\\"r2 test :\\\", r2_score(y_test[\\\"SiteEnergyUse(kBtu)\\\"], GBR_Energy.predict(X_test)))\";\n",
       "                var nbb_cells = Jupyter.notebook.get_cells();\n",
       "                for (var i = 0; i < nbb_cells.length; ++i) {\n",
       "                    if (nbb_cells[i].input_prompt_number == nbb_cell_id) {\n",
       "                        if (nbb_cells[i].get_text() == nbb_unformatted_code) {\n",
       "                             nbb_cells[i].set_text(nbb_formatted_code);\n",
       "                        }\n",
       "                        break;\n",
       "                    }\n",
       "                }\n",
       "            }, 500);\n",
       "            "
      ],
      "text/plain": [
       "<IPython.core.display.Javascript object>"
      ]
     },
     "metadata": {},
     "output_type": "display_data"
    }
   ],
   "source": [
    "## Nous allons maintenant passer à la partie où l'on test les modéles sur les données de test\n",
    "\n",
    "## Test pour l'énergie\n",
    "\n",
    "GBR_Energy.fit(X_train, y_train[\"SiteEnergyUse(kBtu)\"])\n",
    "\n",
    "print(\n",
    "    \"r2 train :\", r2_score(y_train[\"SiteEnergyUse(kBtu)\"], GBR_Energy.predict(X_train))\n",
    ")\n",
    "print(\"r2 test :\", r2_score(y_test[\"SiteEnergyUse(kBtu)\"], GBR_Energy.predict(X_test)))"
   ]
  },
  {
   "cell_type": "code",
   "execution_count": 39,
   "id": "0cf82c63",
   "metadata": {},
   "outputs": [
    {
     "name": "stdout",
     "output_type": "stream",
     "text": [
      "r2 train : 0.6180502924109486\n",
      "r2 test : 0.5202627787533665\n"
     ]
    },
    {
     "data": {
      "application/javascript": [
       "\n",
       "            setTimeout(function() {\n",
       "                var nbb_cell_id = 39;\n",
       "                var nbb_unformatted_code = \"##Test pour le CO2\\n\\nGBR_CO2.fit(X_train, y_train[\\\"GHGEmissions(MetricTonsCO2e)\\\"])\\n\\nprint(\\n    \\\"r2 train :\\\",\\n    r2_score(y_train[\\\"GHGEmissions(MetricTonsCO2e)\\\"], GBR_CO2.predict(X_train)),\\n)\\nprint(\\n    \\\"r2 test :\\\",\\n    r2_score(y_test[\\\"GHGEmissions(MetricTonsCO2e)\\\"], GBR_CO2.predict(X_test)),\\n)\";\n",
       "                var nbb_formatted_code = \"##Test pour le CO2\\n\\nGBR_CO2.fit(X_train, y_train[\\\"GHGEmissions(MetricTonsCO2e)\\\"])\\n\\nprint(\\n    \\\"r2 train :\\\",\\n    r2_score(y_train[\\\"GHGEmissions(MetricTonsCO2e)\\\"], GBR_CO2.predict(X_train)),\\n)\\nprint(\\n    \\\"r2 test :\\\",\\n    r2_score(y_test[\\\"GHGEmissions(MetricTonsCO2e)\\\"], GBR_CO2.predict(X_test)),\\n)\";\n",
       "                var nbb_cells = Jupyter.notebook.get_cells();\n",
       "                for (var i = 0; i < nbb_cells.length; ++i) {\n",
       "                    if (nbb_cells[i].input_prompt_number == nbb_cell_id) {\n",
       "                        if (nbb_cells[i].get_text() == nbb_unformatted_code) {\n",
       "                             nbb_cells[i].set_text(nbb_formatted_code);\n",
       "                        }\n",
       "                        break;\n",
       "                    }\n",
       "                }\n",
       "            }, 500);\n",
       "            "
      ],
      "text/plain": [
       "<IPython.core.display.Javascript object>"
      ]
     },
     "metadata": {},
     "output_type": "display_data"
    }
   ],
   "source": [
    "## Test pour le CO2\n",
    "\n",
    "GBR_CO2.fit(X_train, y_train[\"GHGEmissions(MetricTonsCO2e)\"])\n",
    "\n",
    "print(\n",
    "    \"r2 train :\",\n",
    "    r2_score(y_train[\"GHGEmissions(MetricTonsCO2e)\"], GBR_CO2.predict(X_train)),\n",
    ")\n",
    "print(\n",
    "    \"r2 test :\",\n",
    "    r2_score(y_test[\"GHGEmissions(MetricTonsCO2e)\"], GBR_CO2.predict(X_test)),\n",
    ")"
   ]
  },
  {
   "cell_type": "code",
   "execution_count": 40,
   "id": "9db1e58e",
   "metadata": {},
   "outputs": [
    {
     "data": {
      "application/javascript": [
       "\n",
       "            setTimeout(function() {\n",
       "                var nbb_cell_id = 40;\n",
       "                var nbb_unformatted_code = \"## Je vais maintenant repasser mes donn\\u00e9es gr\\u00e2ce \\u00e0 la transformation inverse. En effet, ce que nous voulons estimer, ce sont\\n## les donn\\u00e9es et non les donn\\u00e9es en logarithme\\n\\ny_train_true_energy = logtransformer.inverse_transform(y_train[\\\"SiteEnergyUse(kBtu)\\\"])\\ny_test_true_energy = logtransformer.inverse_transform(y_test[\\\"SiteEnergyUse(kBtu)\\\"])\\nx_train_true_energy = logtransformer.inverse_transform(GBR_Energy.predict(X_train))\\nx_test_true_energy = logtransformer.inverse_transform(GBR_Energy.predict(X_test))\\n\\ny_train_true_co2 = logtransformer.inverse_transform(\\n    y_train[\\\"GHGEmissions(MetricTonsCO2e)\\\"]\\n)\\ny_test_true_co2 = logtransformer.inverse_transform(\\n    y_test[\\\"GHGEmissions(MetricTonsCO2e)\\\"]\\n)\\nx_train_true_co2 = logtransformer.inverse_transform(GBR_CO2.predict(X_train))\\nx_test_true_co2 = logtransformer.inverse_transform(GBR_CO2.predict(X_test))\";\n",
       "                var nbb_formatted_code = \"## Je vais maintenant repasser mes donn\\u00e9es gr\\u00e2ce \\u00e0 la transformation inverse. En effet, ce que nous voulons estimer, ce sont\\n## les donn\\u00e9es et non les donn\\u00e9es en logarithme\\n\\ny_train_true_energy = logtransformer.inverse_transform(y_train[\\\"SiteEnergyUse(kBtu)\\\"])\\ny_test_true_energy = logtransformer.inverse_transform(y_test[\\\"SiteEnergyUse(kBtu)\\\"])\\nx_train_true_energy = logtransformer.inverse_transform(GBR_Energy.predict(X_train))\\nx_test_true_energy = logtransformer.inverse_transform(GBR_Energy.predict(X_test))\\n\\ny_train_true_co2 = logtransformer.inverse_transform(\\n    y_train[\\\"GHGEmissions(MetricTonsCO2e)\\\"]\\n)\\ny_test_true_co2 = logtransformer.inverse_transform(\\n    y_test[\\\"GHGEmissions(MetricTonsCO2e)\\\"]\\n)\\nx_train_true_co2 = logtransformer.inverse_transform(GBR_CO2.predict(X_train))\\nx_test_true_co2 = logtransformer.inverse_transform(GBR_CO2.predict(X_test))\";\n",
       "                var nbb_cells = Jupyter.notebook.get_cells();\n",
       "                for (var i = 0; i < nbb_cells.length; ++i) {\n",
       "                    if (nbb_cells[i].input_prompt_number == nbb_cell_id) {\n",
       "                        if (nbb_cells[i].get_text() == nbb_unformatted_code) {\n",
       "                             nbb_cells[i].set_text(nbb_formatted_code);\n",
       "                        }\n",
       "                        break;\n",
       "                    }\n",
       "                }\n",
       "            }, 500);\n",
       "            "
      ],
      "text/plain": [
       "<IPython.core.display.Javascript object>"
      ]
     },
     "metadata": {},
     "output_type": "display_data"
    }
   ],
   "source": [
    "## Je vais maintenant repasser mes données grâce à la transformation inverse. En effet, ce que nous voulons estimer, ce sont\n",
    "## les données et non les données en logarithmes\n",
    "\n",
    "y_train_true_energy = logtransformer.inverse_transform(y_train[\"SiteEnergyUse(kBtu)\"])\n",
    "y_test_true_energy = logtransformer.inverse_transform(y_test[\"SiteEnergyUse(kBtu)\"])\n",
    "x_train_true_energy = logtransformer.inverse_transform(GBR_Energy.predict(X_train))\n",
    "x_test_true_energy = logtransformer.inverse_transform(GBR_Energy.predict(X_test))\n",
    "\n",
    "y_train_true_co2 = logtransformer.inverse_transform(\n",
    "    y_train[\"GHGEmissions(MetricTonsCO2e)\"]\n",
    ")\n",
    "y_test_true_co2 = logtransformer.inverse_transform(\n",
    "    y_test[\"GHGEmissions(MetricTonsCO2e)\"]\n",
    ")\n",
    "x_train_true_co2 = logtransformer.inverse_transform(GBR_CO2.predict(X_train))\n",
    "x_test_true_co2 = logtransformer.inverse_transform(GBR_CO2.predict(X_test))"
   ]
  },
  {
   "cell_type": "code",
   "execution_count": 41,
   "id": "19b5255b",
   "metadata": {},
   "outputs": [
    {
     "name": "stdout",
     "output_type": "stream",
     "text": [
      "r2 test : 0.7074398120741373\n"
     ]
    },
    {
     "data": {
      "application/javascript": [
       "\n",
       "            setTimeout(function() {\n",
       "                var nbb_cell_id = 41;\n",
       "                var nbb_unformatted_code = \"## Test pour l'\\u00e9nergie\\n\\nprint('r2 test :' , r2_score(y_test_true_energy,x_test_true_energy))\";\n",
       "                var nbb_formatted_code = \"## Test pour l'\\u00e9nergie\\n\\nprint(\\\"r2 test :\\\", r2_score(y_test_true_energy, x_test_true_energy))\";\n",
       "                var nbb_cells = Jupyter.notebook.get_cells();\n",
       "                for (var i = 0; i < nbb_cells.length; ++i) {\n",
       "                    if (nbb_cells[i].input_prompt_number == nbb_cell_id) {\n",
       "                        if (nbb_cells[i].get_text() == nbb_unformatted_code) {\n",
       "                             nbb_cells[i].set_text(nbb_formatted_code);\n",
       "                        }\n",
       "                        break;\n",
       "                    }\n",
       "                }\n",
       "            }, 500);\n",
       "            "
      ],
      "text/plain": [
       "<IPython.core.display.Javascript object>"
      ]
     },
     "metadata": {},
     "output_type": "display_data"
    }
   ],
   "source": [
    "## Test pour l'énergie\n",
    "\n",
    "print('r2 test :' , r2_score(y_test_true_energy,x_test_true_energy))\n"
   ]
  },
  {
   "cell_type": "code",
   "execution_count": 42,
   "id": "b319c646",
   "metadata": {},
   "outputs": [
    {
     "name": "stdout",
     "output_type": "stream",
     "text": [
      "r2 test : 0.529842699444947\n"
     ]
    },
    {
     "data": {
      "application/javascript": [
       "\n",
       "            setTimeout(function() {\n",
       "                var nbb_cell_id = 42;\n",
       "                var nbb_unformatted_code = \"## Test pour les \\u00e9missions de CO2\\n\\nprint(\\\"r2 test :\\\", r2_score(y_test_true_co2, x_test_true_co2))\\n\\n## On remarque que les performances ne sont pas affect\\u00e9es\";\n",
       "                var nbb_formatted_code = \"## Test pour les \\u00e9missions de CO2\\n\\nprint(\\\"r2 test :\\\", r2_score(y_test_true_co2, x_test_true_co2))\\n\\n## On remarque que les performances ne sont pas affect\\u00e9es\";\n",
       "                var nbb_cells = Jupyter.notebook.get_cells();\n",
       "                for (var i = 0; i < nbb_cells.length; ++i) {\n",
       "                    if (nbb_cells[i].input_prompt_number == nbb_cell_id) {\n",
       "                        if (nbb_cells[i].get_text() == nbb_unformatted_code) {\n",
       "                             nbb_cells[i].set_text(nbb_formatted_code);\n",
       "                        }\n",
       "                        break;\n",
       "                    }\n",
       "                }\n",
       "            }, 500);\n",
       "            "
      ],
      "text/plain": [
       "<IPython.core.display.Javascript object>"
      ]
     },
     "metadata": {},
     "output_type": "display_data"
    }
   ],
   "source": [
    "## Test pour les émissions de CO2\n",
    "\n",
    "print(\"r2 test :\", r2_score(y_test_true_co2, x_test_true_co2))\n",
    "\n",
    "## On remarque que les performances ne sont pas affectées"
   ]
  },
  {
   "cell_type": "code",
   "execution_count": 43,
   "id": "a75eec03",
   "metadata": {},
   "outputs": [
    {
     "data": {
      "image/png": "[encoded data removed]",
      "text/plain": [
       "<Figure size 432x288 with 1 Axes>"
      ]
     },
     "metadata": {
      "needs_background": "light"
     },
     "output_type": "display_data"
    },
    {
     "data": {
      "application/javascript": [
       "\n",
       "            setTimeout(function() {\n",
       "                var nbb_cell_id = 43;\n",
       "                var nbb_unformatted_code = \"## Tra\\u00e7ons maintenant les donn\\u00e9es pr\\u00e9dites pour les compar\\u00e9 aux donn\\u00e9es r\\u00e9elles\\n\\n## Pour l'\\u00e9nergie\\n\\nplt.plot(x_test_true_energy,y_test_true_energy,'o',alpha=0.5)\\nplt.xlabel('Valeurs r\\u00e9elles')\\nplt.axis(xmin=0,ymin=0,xmax=1e8,ymax=1.5e8)\\nplt.ylabel('Valeurs Pr\\u00e9dites')\\nplt.plot([0.0, 1e8], [0.0, 1e8], 'r-', lw=2)\\nplt.show()\";\n",
       "                var nbb_formatted_code = \"## Tra\\u00e7ons maintenant les donn\\u00e9es pr\\u00e9dites pour les compar\\u00e9 aux donn\\u00e9es r\\u00e9elles\\n\\n## Pour l'\\u00e9nergie\\n\\nplt.plot(x_test_true_energy, y_test_true_energy, \\\"o\\\", alpha=0.5)\\nplt.xlabel(\\\"Valeurs r\\u00e9elles\\\")\\nplt.axis(xmin=0, ymin=0, xmax=1e8, ymax=1.5e8)\\nplt.ylabel(\\\"Valeurs Pr\\u00e9dites\\\")\\nplt.plot([0.0, 1e8], [0.0, 1e8], \\\"r-\\\", lw=2)\\nplt.show()\";\n",
       "                var nbb_cells = Jupyter.notebook.get_cells();\n",
       "                for (var i = 0; i < nbb_cells.length; ++i) {\n",
       "                    if (nbb_cells[i].input_prompt_number == nbb_cell_id) {\n",
       "                        if (nbb_cells[i].get_text() == nbb_unformatted_code) {\n",
       "                             nbb_cells[i].set_text(nbb_formatted_code);\n",
       "                        }\n",
       "                        break;\n",
       "                    }\n",
       "                }\n",
       "            }, 500);\n",
       "            "
      ],
      "text/plain": [
       "<IPython.core.display.Javascript object>"
      ]
     },
     "metadata": {},
     "output_type": "display_data"
    }
   ],
   "source": [
    "## Traçons maintenant les données prédites pour les comparé aux données réelles\n",
    "\n",
    "## Pour l'énergie\n",
    "\n",
    "plt.plot(x_test_true_energy,y_test_true_energy,'o',alpha=0.5)\n",
    "plt.xlabel('Valeurs réelles')\n",
    "plt.axis(xmin=0,ymin=0,xmax=1e8,ymax=1.5e8)\n",
    "plt.ylabel('Valeurs Prédites')\n",
    "plt.plot([0.0, 1e8], [0.0, 1e8], 'r-', lw=2)\n",
    "plt.show()\n"
   ]
  },
  {
   "cell_type": "code",
   "execution_count": 44,
   "id": "29095418",
   "metadata": {},
   "outputs": [
    {
     "data": {
      "image/png": "[encoded data removed]",
      "text/plain": [
       "<Figure size 432x288 with 1 Axes>"
      ]
     },
     "metadata": {
      "needs_background": "light"
     },
     "output_type": "display_data"
    },
    {
     "data": {
      "application/javascript": [
       "\n",
       "            setTimeout(function() {\n",
       "                var nbb_cell_id = 44;\n",
       "                var nbb_unformatted_code = \"## Pour les \\u00e9missions de CO2\\n\\nplt.plot(x_test_true_co2, y_test_true_co2, \\\"o\\\", alpha=0.5)\\nplt.xlabel(\\\"Valeurs r\\u00e9elles\\\")\\nplt.ylabel(\\\"Valeurs Pr\\u00e9dites\\\")\\nplt.axis(xmin=0, ymin=0, xmax=1000, ymax=2000)\\nplt.plot([0.0, 2000], [0.0, 2000], \\\"r-\\\", lw=2)\\nplt.show()\";\n",
       "                var nbb_formatted_code = \"## Pour les \\u00e9missions de CO2\\n\\nplt.plot(x_test_true_co2, y_test_true_co2, \\\"o\\\", alpha=0.5)\\nplt.xlabel(\\\"Valeurs r\\u00e9elles\\\")\\nplt.ylabel(\\\"Valeurs Pr\\u00e9dites\\\")\\nplt.axis(xmin=0, ymin=0, xmax=1000, ymax=2000)\\nplt.plot([0.0, 2000], [0.0, 2000], \\\"r-\\\", lw=2)\\nplt.show()\";\n",
       "                var nbb_cells = Jupyter.notebook.get_cells();\n",
       "                for (var i = 0; i < nbb_cells.length; ++i) {\n",
       "                    if (nbb_cells[i].input_prompt_number == nbb_cell_id) {\n",
       "                        if (nbb_cells[i].get_text() == nbb_unformatted_code) {\n",
       "                             nbb_cells[i].set_text(nbb_formatted_code);\n",
       "                        }\n",
       "                        break;\n",
       "                    }\n",
       "                }\n",
       "            }, 500);\n",
       "            "
      ],
      "text/plain": [
       "<IPython.core.display.Javascript object>"
      ]
     },
     "metadata": {},
     "output_type": "display_data"
    }
   ],
   "source": [
    "## Pour les émissions de CO2\n",
    "\n",
    "plt.plot(x_test_true_co2, y_test_true_co2, \"o\", alpha=0.5)\n",
    "plt.xlabel(\"Valeurs réelles\")\n",
    "plt.ylabel(\"Valeurs Prédites\")\n",
    "plt.axis(xmin=0, ymin=0, xmax=1000, ymax=2000)\n",
    "plt.plot([0.0, 2000], [0.0, 2000], \"r-\", lw=2)\n",
    "plt.show()"
   ]
  },
  {
   "cell_type": "markdown",
   "id": "5f4ef5cd",
   "metadata": {},
   "source": [
    "## Partie 6 : Amélioration du modéle "
   ]
  },
  {
   "cell_type": "code",
   "execution_count": 45,
   "id": "220ac3e7",
   "metadata": {},
   "outputs": [
    {
     "data": {
      "application/javascript": [
       "\n",
       "            setTimeout(function() {\n",
       "                var nbb_cell_id = 45;\n",
       "                var nbb_unformatted_code = \"## Nous allons tester dans un premier temps, si l'utilisation de l'\\u00e9nergie Star Score, nous permet d'am\\u00e9liorer les performances\\n## du mod\\u00e9le\\n\\n## Preprocessing \\n\\ndata_es = data[data['ENERGYSTARScore'].notna()]\\n\\ncolumns = ['NumberofBuildings','NumberofFloors','GFABuilding','GFAParking','BuildingAge','PropertyGFATotal','ENERGYSTARScore']\\nmycolumns = ['BuildingType','Neighborhood','LargestPropertyUseType','PrimaryPropertyType'] \\n\\nX = data_es.loc[:,mycolumns]\\nenc.fit(X)\\nenc.transform(X)\\nenc.categories_\\nX_bis = enc.transform(X).todense()\\nf1_vec = data_es.loc[:,columns].values\\n\\nX_2 = np.concatenate((f1_vec,X_bis),axis = 1)\\n\\ndonnees = ['SiteEnergyUse(kBtu)','GHGEmissions(MetricTonsCO2e)']\\n\\ny = data_es.loc[:,donnees]\\n\\nlogtransformer = FunctionTransformer(np.log, inverse_func = np.exp, check_inverse = True)\\nY_log = logtransformer.transform(y)\\n\\nX_train, X_test, y_train, y_test = train_test_split(X_2, Y_log, test_size=0.2,  random_state=42)\";\n",
       "                var nbb_formatted_code = \"## Nous allons tester dans un premier temps, si l'utilisation de l'\\u00e9nergie Star Score, nous permet d'am\\u00e9liorer les performances\\n## du mod\\u00e9le\\n\\n## Preprocessing\\n\\ndata_es = data[data[\\\"ENERGYSTARScore\\\"].notna()]\\n\\ncolumns = [\\n    \\\"NumberofBuildings\\\",\\n    \\\"NumberofFloors\\\",\\n    \\\"GFABuilding\\\",\\n    \\\"GFAParking\\\",\\n    \\\"BuildingAge\\\",\\n    \\\"PropertyGFATotal\\\",\\n    \\\"ENERGYSTARScore\\\",\\n]\\nmycolumns = [\\n    \\\"BuildingType\\\",\\n    \\\"Neighborhood\\\",\\n    \\\"LargestPropertyUseType\\\",\\n    \\\"PrimaryPropertyType\\\",\\n]\\n\\nX = data_es.loc[:, mycolumns]\\nenc.fit(X)\\nenc.transform(X)\\nenc.categories_\\nX_bis = enc.transform(X).todense()\\nf1_vec = data_es.loc[:, columns].values\\n\\nX_2 = np.concatenate((f1_vec, X_bis), axis=1)\\n\\ndonnees = [\\\"SiteEnergyUse(kBtu)\\\", \\\"GHGEmissions(MetricTonsCO2e)\\\"]\\n\\ny = data_es.loc[:, donnees]\\n\\nlogtransformer = FunctionTransformer(np.log, inverse_func=np.exp, check_inverse=True)\\nY_log = logtransformer.transform(y)\\n\\nX_train, X_test, y_train, y_test = train_test_split(\\n    X_2, Y_log, test_size=0.2, random_state=42\\n)\";\n",
       "                var nbb_cells = Jupyter.notebook.get_cells();\n",
       "                for (var i = 0; i < nbb_cells.length; ++i) {\n",
       "                    if (nbb_cells[i].input_prompt_number == nbb_cell_id) {\n",
       "                        if (nbb_cells[i].get_text() == nbb_unformatted_code) {\n",
       "                             nbb_cells[i].set_text(nbb_formatted_code);\n",
       "                        }\n",
       "                        break;\n",
       "                    }\n",
       "                }\n",
       "            }, 500);\n",
       "            "
      ],
      "text/plain": [
       "<IPython.core.display.Javascript object>"
      ]
     },
     "metadata": {},
     "output_type": "display_data"
    }
   ],
   "source": [
    "## Nous allons tester dans un premier temps, si l'utilisation de l'énergie StarScore, nous permet d'améliorer les performances\n",
    "## du modéle.\n",
    "\n",
    "## Preprocessing \n",
    "\n",
    "data_es = data[data['ENERGYSTARScore'].notna()]\n",
    "\n",
    "columns = ['NumberofBuildings','NumberofFloors','GFABuilding','GFAParking','BuildingAge','PropertyGFATotal','ENERGYSTARScore']\n",
    "mycolumns = ['BuildingType','Neighborhood','LargestPropertyUseType','PrimaryPropertyType'] \n",
    "\n",
    "X = data_es.loc[:,mycolumns]\n",
    "enc.fit(X)\n",
    "enc.transform(X)\n",
    "enc.categories_\n",
    "X_bis = enc.transform(X).todense()\n",
    "f1_vec = data_es.loc[:,columns].values\n",
    "\n",
    "X_2 = np.concatenate((f1_vec,X_bis),axis = 1)\n",
    "\n",
    "donnees = ['SiteEnergyUse(kBtu)','GHGEmissions(MetricTonsCO2e)']\n",
    "\n",
    "y = data_es.loc[:,donnees]\n",
    "\n",
    "logtransformer = FunctionTransformer(np.log, inverse_func = np.exp, check_inverse = True)\n",
    "Y_log = logtransformer.transform(y)\n",
    "\n",
    "X_train, X_test, y_train, y_test = train_test_split(X_2, Y_log, test_size=0.2,  random_state=42)\n"
   ]
  },
  {
   "cell_type": "code",
   "execution_count": 46,
   "id": "c8a0d3cb",
   "metadata": {},
   "outputs": [
    {
     "name": "stdout",
     "output_type": "stream",
     "text": [
      "Fitting 5 folds for each of 270 candidates, totalling 1350 fits\n",
      "Best R2:  [0.84905578]\n",
      "Best MAE:  [-0.35597688]\n",
      "Temps moyen [0.43847232] s\n",
      "Best Params:  {'gbr__learning_rate': 0.1, 'gbr__max_depth': 1, 'gbr__min_samples_leaf': 1, 'gbr__min_samples_split': 6, 'gbr__n_estimators': 500}\n"
     ]
    },
    {
     "data": {
      "application/javascript": [
       "\n",
       "            setTimeout(function() {\n",
       "                var nbb_cell_id = 46;\n",
       "                var nbb_unformatted_code = \"pipe_gbr = Pipeline([(\\\"scaler\\\", StandardScaler()), (\\\"gbr\\\", gbr)])\\n\\nparam_gbr = {\\n    \\\"gbr__n_estimators\\\": [5, 10, 100, 500, 1000],\\n    \\\"gbr__learning_rate\\\": [0.01, 0.1, 0.2],\\n    \\\"gbr__min_samples_split\\\": [2, 4, 6],\\n    \\\"gbr__min_samples_leaf\\\": [1, 3, 10],\\n    \\\"gbr__max_depth\\\": [1, 5],\\n}\\n\\n## Mod\\u00e9le pour l'\\u00e9nergie avec l'\\u00e9nergie Star Score\\n\\ngrid_energy_es = GridSearchCV(\\n    pipe_gbr,\\n    param_grid=param_gbr,\\n    scoring=(\\\"r2\\\", \\\"neg_mean_absolute_error\\\"),\\n    return_train_score=True,\\n    cv=5,\\n    refit=\\\"r2\\\",\\n    verbose=1,\\n    n_jobs=-1,\\n)\\n\\ngrid_result = grid_energy_es.fit(X_train, y_train[\\\"SiteEnergyUse(kBtu)\\\"])\\n\\nGBR_Energy_es = grid_energy_es.best_estimator_\\n\\nEnergy_results_gbr_es = pd.DataFrame.from_dict(grid_result.cv_results_)\\n\\nprint(\\n    \\\"Best R2: \\\",\\n    np.array(\\n        Energy_results_gbr_es[Energy_results_gbr_es.rank_test_r2 == 1][\\\"mean_test_r2\\\"]\\n    ),\\n)\\nprint(\\n    \\\"Best MAE: \\\",\\n    np.array(\\n        Energy_results_gbr_es[Energy_results_gbr_es.rank_test_r2 == 1][\\n            \\\"mean_test_neg_mean_absolute_error\\\"\\n        ]\\n    ),\\n)\\nprint(\\n    \\\"Temps moyen\\\",\\n    np.array(\\n        Energy_results_gbr_es[Energy_results_gbr_es.rank_test_r2 == 1][\\\"mean_fit_time\\\"]\\n    ),\\n    \\\"s\\\",\\n)\\nprint(\\\"Best Params: \\\", grid_result.best_params_)\";\n",
       "                var nbb_formatted_code = \"pipe_gbr = Pipeline([(\\\"scaler\\\", StandardScaler()), (\\\"gbr\\\", gbr)])\\n\\nparam_gbr = {\\n    \\\"gbr__n_estimators\\\": [5, 10, 100, 500, 1000],\\n    \\\"gbr__learning_rate\\\": [0.01, 0.1, 0.2],\\n    \\\"gbr__min_samples_split\\\": [2, 4, 6],\\n    \\\"gbr__min_samples_leaf\\\": [1, 3, 10],\\n    \\\"gbr__max_depth\\\": [1, 5],\\n}\\n\\n## Mod\\u00e9le pour l'\\u00e9nergie avec l'\\u00e9nergie Star Score\\n\\ngrid_energy_es = GridSearchCV(\\n    pipe_gbr,\\n    param_grid=param_gbr,\\n    scoring=(\\\"r2\\\", \\\"neg_mean_absolute_error\\\"),\\n    return_train_score=True,\\n    cv=5,\\n    refit=\\\"r2\\\",\\n    verbose=1,\\n    n_jobs=-1,\\n)\\n\\ngrid_result = grid_energy_es.fit(X_train, y_train[\\\"SiteEnergyUse(kBtu)\\\"])\\n\\nGBR_Energy_es = grid_energy_es.best_estimator_\\n\\nEnergy_results_gbr_es = pd.DataFrame.from_dict(grid_result.cv_results_)\\n\\nprint(\\n    \\\"Best R2: \\\",\\n    np.array(\\n        Energy_results_gbr_es[Energy_results_gbr_es.rank_test_r2 == 1][\\\"mean_test_r2\\\"]\\n    ),\\n)\\nprint(\\n    \\\"Best MAE: \\\",\\n    np.array(\\n        Energy_results_gbr_es[Energy_results_gbr_es.rank_test_r2 == 1][\\n            \\\"mean_test_neg_mean_absolute_error\\\"\\n        ]\\n    ),\\n)\\nprint(\\n    \\\"Temps moyen\\\",\\n    np.array(\\n        Energy_results_gbr_es[Energy_results_gbr_es.rank_test_r2 == 1][\\\"mean_fit_time\\\"]\\n    ),\\n    \\\"s\\\",\\n)\\nprint(\\\"Best Params: \\\", grid_result.best_params_)\";\n",
       "                var nbb_cells = Jupyter.notebook.get_cells();\n",
       "                for (var i = 0; i < nbb_cells.length; ++i) {\n",
       "                    if (nbb_cells[i].input_prompt_number == nbb_cell_id) {\n",
       "                        if (nbb_cells[i].get_text() == nbb_unformatted_code) {\n",
       "                             nbb_cells[i].set_text(nbb_formatted_code);\n",
       "                        }\n",
       "                        break;\n",
       "                    }\n",
       "                }\n",
       "            }, 500);\n",
       "            "
      ],
      "text/plain": [
       "<IPython.core.display.Javascript object>"
      ]
     },
     "metadata": {},
     "output_type": "display_data"
    }
   ],
   "source": [
    "pipe_gbr = Pipeline([(\"scaler\", StandardScaler()), (\"gbr\", gbr)])\n",
    "\n",
    "param_gbr = {\n",
    "    \"gbr__n_estimators\": [5, 10, 100, 500, 1000],\n",
    "    \"gbr__learning_rate\": [0.01, 0.1, 0.2],\n",
    "    \"gbr__min_samples_split\": [2, 4, 6],\n",
    "    \"gbr__min_samples_leaf\": [1, 3, 10],\n",
    "    \"gbr__max_depth\": [1, 5],\n",
    "}\n",
    "\n",
    "## Modéle pour l'énergie avec l'énergie Star Score\n",
    "\n",
    "grid_energy_es = GridSearchCV(\n",
    "    pipe_gbr,\n",
    "    param_grid=param_gbr,\n",
    "    scoring=(\"r2\", \"neg_mean_absolute_error\"),\n",
    "    return_train_score=True,\n",
    "    cv=5,\n",
    "    refit=\"r2\",\n",
    "    verbose=1,\n",
    "    n_jobs=-1,\n",
    ")\n",
    "\n",
    "grid_result = grid_energy_es.fit(X_train, y_train[\"SiteEnergyUse(kBtu)\"])\n",
    "\n",
    "GBR_Energy_es = grid_energy_es.best_estimator_\n",
    "\n",
    "Energy_results_gbr_es = pd.DataFrame.from_dict(grid_result.cv_results_)\n",
    "\n",
    "print(\n",
    "    \"Best R2: \",\n",
    "    np.array(\n",
    "        Energy_results_gbr_es[Energy_results_gbr_es.rank_test_r2 == 1][\"mean_test_r2\"]\n",
    "    ),\n",
    ")\n",
    "print(\n",
    "    \"Best MAE: \",\n",
    "    np.array(\n",
    "        Energy_results_gbr_es[Energy_results_gbr_es.rank_test_r2 == 1][\n",
    "            \"mean_test_neg_mean_absolute_error\"\n",
    "        ]\n",
    "    ),\n",
    ")\n",
    "print(\n",
    "    \"Temps moyen\",\n",
    "    np.array(\n",
    "        Energy_results_gbr_es[Energy_results_gbr_es.rank_test_r2 == 1][\"mean_fit_time\"]\n",
    "    ),\n",
    "    \"s\",\n",
    ")\n",
    "print(\"Best Params: \", grid_result.best_params_)"
   ]
  },
  {
   "cell_type": "code",
   "execution_count": 47,
   "id": "5bd4930e",
   "metadata": {},
   "outputs": [
    {
     "name": "stdout",
     "output_type": "stream",
     "text": [
      "Fitting 5 folds for each of 768 candidates, totalling 3840 fits\n",
      "Best R2:  [0.60250996]\n",
      "Best MAE:  [-0.73060835]\n",
      "Temps moyen [0.41944261] s\n",
      "Best Params:  {'gbr__learning_rate': 0.1, 'gbr__max_depth': 1, 'gbr__min_samples_leaf': 1, 'gbr__min_samples_split': 2, 'gbr__n_estimators': 500}\n"
     ]
    },
    {
     "data": {
      "application/javascript": [
       "\n",
       "            setTimeout(function() {\n",
       "                var nbb_cell_id = 47;\n",
       "                var nbb_unformatted_code = \"pipe_gbr = Pipeline([(\\\"scaler\\\", StandardScaler()), (\\\"gbr\\\", gbr)])\\n\\nparam_gbr = {\\n    \\\"gbr__n_estimators\\\": [5, 10, 100, 500],\\n    \\\"gbr__learning_rate\\\": [0.01, 0.1, 0.2, 0.3],\\n    \\\"gbr__min_samples_split\\\": [2, 6, 15, 20],\\n    \\\"gbr__min_samples_leaf\\\": [1, 5, 10],\\n    \\\"gbr__max_depth\\\": [1, 5, 10, 15],\\n}\\n\\n## Mod\\u00e9le pour les \\u00e9missions de CO2 avec l'\\u00e9nergie Star Score\\n\\ngrid_co2_es = GridSearchCV(\\n    pipe_gbr,\\n    param_grid=param_gbr,\\n    scoring=(\\\"r2\\\", \\\"neg_mean_absolute_error\\\"),\\n    return_train_score=True,\\n    cv=5,\\n    refit=\\\"r2\\\",\\n    verbose=1,\\n    n_jobs=-1,\\n)\\n\\ngrid_result = grid_co2_es.fit(X_train, y_train[\\\"GHGEmissions(MetricTonsCO2e)\\\"])\\n\\nGBR_CO2_es = grid_co2_es.best_estimator_\\n\\nCO2_results_gbr_es = pd.DataFrame.from_dict(grid_result.cv_results_)\\n\\nprint(\\n    \\\"Best R2: \\\",\\n    np.array(CO2_results_gbr_es[CO2_results_gbr_es.rank_test_r2 == 1][\\\"mean_test_r2\\\"]),\\n)\\nprint(\\n    \\\"Best MAE: \\\",\\n    np.array(\\n        CO2_results_gbr_es[CO2_results_gbr_es.rank_test_r2 == 1][\\n            \\\"mean_test_neg_mean_absolute_error\\\"\\n        ]\\n    ),\\n)\\nprint(\\n    \\\"Temps moyen\\\",\\n    np.array(CO2_results_gbr_es[CO2_results_gbr_es.rank_test_r2 == 1][\\\"mean_fit_time\\\"]),\\n    \\\"s\\\",\\n)\\nprint(\\\"Best Params: \\\", grid_result.best_params_)\";\n",
       "                var nbb_formatted_code = \"pipe_gbr = Pipeline([(\\\"scaler\\\", StandardScaler()), (\\\"gbr\\\", gbr)])\\n\\nparam_gbr = {\\n    \\\"gbr__n_estimators\\\": [5, 10, 100, 500],\\n    \\\"gbr__learning_rate\\\": [0.01, 0.1, 0.2, 0.3],\\n    \\\"gbr__min_samples_split\\\": [2, 6, 15, 20],\\n    \\\"gbr__min_samples_leaf\\\": [1, 5, 10],\\n    \\\"gbr__max_depth\\\": [1, 5, 10, 15],\\n}\\n\\n## Mod\\u00e9le pour les \\u00e9missions de CO2 avec l'\\u00e9nergie Star Score\\n\\ngrid_co2_es = GridSearchCV(\\n    pipe_gbr,\\n    param_grid=param_gbr,\\n    scoring=(\\\"r2\\\", \\\"neg_mean_absolute_error\\\"),\\n    return_train_score=True,\\n    cv=5,\\n    refit=\\\"r2\\\",\\n    verbose=1,\\n    n_jobs=-1,\\n)\\n\\ngrid_result = grid_co2_es.fit(X_train, y_train[\\\"GHGEmissions(MetricTonsCO2e)\\\"])\\n\\nGBR_CO2_es = grid_co2_es.best_estimator_\\n\\nCO2_results_gbr_es = pd.DataFrame.from_dict(grid_result.cv_results_)\\n\\nprint(\\n    \\\"Best R2: \\\",\\n    np.array(CO2_results_gbr_es[CO2_results_gbr_es.rank_test_r2 == 1][\\\"mean_test_r2\\\"]),\\n)\\nprint(\\n    \\\"Best MAE: \\\",\\n    np.array(\\n        CO2_results_gbr_es[CO2_results_gbr_es.rank_test_r2 == 1][\\n            \\\"mean_test_neg_mean_absolute_error\\\"\\n        ]\\n    ),\\n)\\nprint(\\n    \\\"Temps moyen\\\",\\n    np.array(CO2_results_gbr_es[CO2_results_gbr_es.rank_test_r2 == 1][\\\"mean_fit_time\\\"]),\\n    \\\"s\\\",\\n)\\nprint(\\\"Best Params: \\\", grid_result.best_params_)\";\n",
       "                var nbb_cells = Jupyter.notebook.get_cells();\n",
       "                for (var i = 0; i < nbb_cells.length; ++i) {\n",
       "                    if (nbb_cells[i].input_prompt_number == nbb_cell_id) {\n",
       "                        if (nbb_cells[i].get_text() == nbb_unformatted_code) {\n",
       "                             nbb_cells[i].set_text(nbb_formatted_code);\n",
       "                        }\n",
       "                        break;\n",
       "                    }\n",
       "                }\n",
       "            }, 500);\n",
       "            "
      ],
      "text/plain": [
       "<IPython.core.display.Javascript object>"
      ]
     },
     "metadata": {},
     "output_type": "display_data"
    }
   ],
   "source": [
    "pipe_gbr = Pipeline([(\"scaler\", StandardScaler()), (\"gbr\", gbr)])\n",
    "\n",
    "param_gbr = {\n",
    "    \"gbr__n_estimators\": [5, 10, 100, 500],\n",
    "    \"gbr__learning_rate\": [0.01, 0.1, 0.2, 0.3],\n",
    "    \"gbr__min_samples_split\": [2, 6, 15, 20],\n",
    "    \"gbr__min_samples_leaf\": [1, 5, 10],\n",
    "    \"gbr__max_depth\": [1, 5, 10, 15],\n",
    "}\n",
    "\n",
    "## Modéle pour les émissions de CO2 avec l'énergie Star Score\n",
    "\n",
    "grid_co2_es = GridSearchCV(\n",
    "    pipe_gbr,\n",
    "    param_grid=param_gbr,\n",
    "    scoring=(\"r2\", \"neg_mean_absolute_error\"),\n",
    "    return_train_score=True,\n",
    "    cv=5,\n",
    "    refit=\"r2\",\n",
    "    verbose=1,\n",
    "    n_jobs=-1,\n",
    ")\n",
    "\n",
    "grid_result = grid_co2_es.fit(X_train, y_train[\"GHGEmissions(MetricTonsCO2e)\"])\n",
    "\n",
    "GBR_CO2_es = grid_co2_es.best_estimator_\n",
    "\n",
    "CO2_results_gbr_es = pd.DataFrame.from_dict(grid_result.cv_results_)\n",
    "\n",
    "print(\n",
    "    \"Best R2: \",\n",
    "    np.array(CO2_results_gbr_es[CO2_results_gbr_es.rank_test_r2 == 1][\"mean_test_r2\"]),\n",
    ")\n",
    "print(\n",
    "    \"Best MAE: \",\n",
    "    np.array(\n",
    "        CO2_results_gbr_es[CO2_results_gbr_es.rank_test_r2 == 1][\n",
    "            \"mean_test_neg_mean_absolute_error\"\n",
    "        ]\n",
    "    ),\n",
    ")\n",
    "print(\n",
    "    \"Temps moyen\",\n",
    "    np.array(CO2_results_gbr_es[CO2_results_gbr_es.rank_test_r2 == 1][\"mean_fit_time\"]),\n",
    "    \"s\",\n",
    ")\n",
    "print(\"Best Params: \", grid_result.best_params_)"
   ]
  },
  {
   "cell_type": "code",
   "execution_count": 48,
   "id": "11f7b637",
   "metadata": {},
   "outputs": [
    {
     "data": {
      "application/javascript": [
       "\n",
       "            setTimeout(function() {\n",
       "                var nbb_cell_id = 48;\n",
       "                var nbb_unformatted_code = \"GBR_CO2_es.fit(X_train, y_train[\\\"GHGEmissions(MetricTonsCO2e)\\\"])\\nGBR_Energy_es.fit(X_train, y_train[\\\"SiteEnergyUse(kBtu)\\\"])\\n\\n## Je repasse les targets avec la fonction inverse\\n\\ny_train_true_energy_es = logtransformer.inverse_transform(\\n    y_train[\\\"SiteEnergyUse(kBtu)\\\"]\\n)\\ny_test_true_energy_es = logtransformer.inverse_transform(y_test[\\\"SiteEnergyUse(kBtu)\\\"])\\nx_train_true_energy_es = logtransformer.inverse_transform(\\n    GBR_Energy_es.predict(X_train)\\n)\\nx_test_true_energy_es = logtransformer.inverse_transform(GBR_Energy_es.predict(X_test))\\n\\ny_train_true_co2_es = logtransformer.inverse_transform(\\n    y_train[\\\"GHGEmissions(MetricTonsCO2e)\\\"]\\n)\\ny_test_true_co2_es = logtransformer.inverse_transform(\\n    y_test[\\\"GHGEmissions(MetricTonsCO2e)\\\"]\\n)\\nx_train_true_co2_es = logtransformer.inverse_transform(GBR_CO2_es.predict(X_train))\\nx_test_true_co2_es = logtransformer.inverse_transform(GBR_CO2_es.predict(X_test))\";\n",
       "                var nbb_formatted_code = \"GBR_CO2_es.fit(X_train, y_train[\\\"GHGEmissions(MetricTonsCO2e)\\\"])\\nGBR_Energy_es.fit(X_train, y_train[\\\"SiteEnergyUse(kBtu)\\\"])\\n\\n## Je repasse les targets avec la fonction inverse\\n\\ny_train_true_energy_es = logtransformer.inverse_transform(\\n    y_train[\\\"SiteEnergyUse(kBtu)\\\"]\\n)\\ny_test_true_energy_es = logtransformer.inverse_transform(y_test[\\\"SiteEnergyUse(kBtu)\\\"])\\nx_train_true_energy_es = logtransformer.inverse_transform(\\n    GBR_Energy_es.predict(X_train)\\n)\\nx_test_true_energy_es = logtransformer.inverse_transform(GBR_Energy_es.predict(X_test))\\n\\ny_train_true_co2_es = logtransformer.inverse_transform(\\n    y_train[\\\"GHGEmissions(MetricTonsCO2e)\\\"]\\n)\\ny_test_true_co2_es = logtransformer.inverse_transform(\\n    y_test[\\\"GHGEmissions(MetricTonsCO2e)\\\"]\\n)\\nx_train_true_co2_es = logtransformer.inverse_transform(GBR_CO2_es.predict(X_train))\\nx_test_true_co2_es = logtransformer.inverse_transform(GBR_CO2_es.predict(X_test))\";\n",
       "                var nbb_cells = Jupyter.notebook.get_cells();\n",
       "                for (var i = 0; i < nbb_cells.length; ++i) {\n",
       "                    if (nbb_cells[i].input_prompt_number == nbb_cell_id) {\n",
       "                        if (nbb_cells[i].get_text() == nbb_unformatted_code) {\n",
       "                             nbb_cells[i].set_text(nbb_formatted_code);\n",
       "                        }\n",
       "                        break;\n",
       "                    }\n",
       "                }\n",
       "            }, 500);\n",
       "            "
      ],
      "text/plain": [
       "<IPython.core.display.Javascript object>"
      ]
     },
     "metadata": {},
     "output_type": "display_data"
    }
   ],
   "source": [
    "GBR_CO2_es.fit(X_train, y_train[\"GHGEmissions(MetricTonsCO2e)\"])\n",
    "GBR_Energy_es.fit(X_train, y_train[\"SiteEnergyUse(kBtu)\"])\n",
    "\n",
    "## Je repasse les targets avec la fonction inverse\n",
    "\n",
    "y_train_true_energy_es = logtransformer.inverse_transform(\n",
    "    y_train[\"SiteEnergyUse(kBtu)\"]\n",
    ")\n",
    "y_test_true_energy_es = logtransformer.inverse_transform(y_test[\"SiteEnergyUse(kBtu)\"])\n",
    "x_train_true_energy_es = logtransformer.inverse_transform(\n",
    "    GBR_Energy_es.predict(X_train)\n",
    ")\n",
    "x_test_true_energy_es = logtransformer.inverse_transform(GBR_Energy_es.predict(X_test))\n",
    "\n",
    "y_train_true_co2_es = logtransformer.inverse_transform(\n",
    "    y_train[\"GHGEmissions(MetricTonsCO2e)\"]\n",
    ")\n",
    "y_test_true_co2_es = logtransformer.inverse_transform(\n",
    "    y_test[\"GHGEmissions(MetricTonsCO2e)\"]\n",
    ")\n",
    "x_train_true_co2_es = logtransformer.inverse_transform(GBR_CO2_es.predict(X_train))\n",
    "x_test_true_co2_es = logtransformer.inverse_transform(GBR_CO2_es.predict(X_test))"
   ]
  },
  {
   "cell_type": "code",
   "execution_count": 49,
   "id": "d4830d87",
   "metadata": {},
   "outputs": [
    {
     "name": "stdout",
     "output_type": "stream",
     "text": [
      "r2 train : 0.8969972852661048\n",
      "r2 test : 0.8666764935504276\n"
     ]
    },
    {
     "data": {
      "application/javascript": [
       "\n",
       "            setTimeout(function() {\n",
       "                var nbb_cell_id = 49;\n",
       "                var nbb_unformatted_code = \"## Test des performances pour l'\\u00e9nergie\\n\\nprint(\\n    \\\"r2 train :\\\",\\n    r2_score(y_train[\\\"SiteEnergyUse(kBtu)\\\"], GBR_Energy_es.predict(X_train)),\\n)\\nprint(\\n    \\\"r2 test :\\\", r2_score(y_test[\\\"SiteEnergyUse(kBtu)\\\"], GBR_Energy_es.predict(X_test))\\n)\";\n",
       "                var nbb_formatted_code = \"## Test des performances pour l'\\u00e9nergie\\n\\nprint(\\n    \\\"r2 train :\\\",\\n    r2_score(y_train[\\\"SiteEnergyUse(kBtu)\\\"], GBR_Energy_es.predict(X_train)),\\n)\\nprint(\\n    \\\"r2 test :\\\", r2_score(y_test[\\\"SiteEnergyUse(kBtu)\\\"], GBR_Energy_es.predict(X_test))\\n)\";\n",
       "                var nbb_cells = Jupyter.notebook.get_cells();\n",
       "                for (var i = 0; i < nbb_cells.length; ++i) {\n",
       "                    if (nbb_cells[i].input_prompt_number == nbb_cell_id) {\n",
       "                        if (nbb_cells[i].get_text() == nbb_unformatted_code) {\n",
       "                             nbb_cells[i].set_text(nbb_formatted_code);\n",
       "                        }\n",
       "                        break;\n",
       "                    }\n",
       "                }\n",
       "            }, 500);\n",
       "            "
      ],
      "text/plain": [
       "<IPython.core.display.Javascript object>"
      ]
     },
     "metadata": {},
     "output_type": "display_data"
    }
   ],
   "source": [
    "## Test des performances pour l'énergie\n",
    "\n",
    "print(\n",
    "    \"r2 train :\",\n",
    "    r2_score(y_train[\"SiteEnergyUse(kBtu)\"], GBR_Energy_es.predict(X_train)),\n",
    ")\n",
    "print(\n",
    "    \"r2 test :\", r2_score(y_test[\"SiteEnergyUse(kBtu)\"], GBR_Energy_es.predict(X_test))\n",
    ")\n",
    "\n",
    "## Les performances de nos prédictions avec l'énergie Starscore semblent meilleures.\n",
    "## Il ne faut cependant pas oublier que cette variable était moins renseigné que les autres et le coût supplémentaire pour \n",
    "## pouvoir la déterminer."
   ]
  },
  {
   "cell_type": "code",
   "execution_count": 50,
   "id": "559f6a46",
   "metadata": {},
   "outputs": [
    {
     "name": "stdout",
     "output_type": "stream",
     "text": [
      "r2 train : 0.7042059636029256\n",
      "r2 test : 0.8970908368582337\n"
     ]
    },
    {
     "data": {
      "application/javascript": [
       "\n",
       "            setTimeout(function() {\n",
       "                var nbb_cell_id = 50;\n",
       "                var nbb_unformatted_code = \"print(\\\"r2 train :\\\", r2_score(y_train_true_energy_es, x_train_true_energy_es))\\nprint(\\\"r2 test :\\\", r2_score(y_test_true_energy_es, x_test_true_energy_es))\";\n",
       "                var nbb_formatted_code = \"print(\\\"r2 train :\\\", r2_score(y_train_true_energy_es, x_train_true_energy_es))\\nprint(\\\"r2 test :\\\", r2_score(y_test_true_energy_es, x_test_true_energy_es))\";\n",
       "                var nbb_cells = Jupyter.notebook.get_cells();\n",
       "                for (var i = 0; i < nbb_cells.length; ++i) {\n",
       "                    if (nbb_cells[i].input_prompt_number == nbb_cell_id) {\n",
       "                        if (nbb_cells[i].get_text() == nbb_unformatted_code) {\n",
       "                             nbb_cells[i].set_text(nbb_formatted_code);\n",
       "                        }\n",
       "                        break;\n",
       "                    }\n",
       "                }\n",
       "            }, 500);\n",
       "            "
      ],
      "text/plain": [
       "<IPython.core.display.Javascript object>"
      ]
     },
     "metadata": {},
     "output_type": "display_data"
    }
   ],
   "source": [
    "print(\"r2 train :\", r2_score(y_train_true_energy_es, x_train_true_energy_es))\n",
    "print(\"r2 test :\", r2_score(y_test_true_energy_es, x_test_true_energy_es))"
   ]
  },
  {
   "cell_type": "code",
   "execution_count": 51,
   "id": "ebf8ea17",
   "metadata": {},
   "outputs": [
    {
     "name": "stdout",
     "output_type": "stream",
     "text": [
      "r2 train : 0.7017817304605993\n",
      "r2 test : 0.6889057583867331\n"
     ]
    },
    {
     "data": {
      "application/javascript": [
       "\n",
       "            setTimeout(function() {\n",
       "                var nbb_cell_id = 51;\n",
       "                var nbb_unformatted_code = \"## Test des perfomances pour le CO2\\n\\nprint(\\n    \\\"r2 train :\\\",\\n    r2_score(y_train[\\\"GHGEmissions(MetricTonsCO2e)\\\"], GBR_CO2_es.predict(X_train)),\\n)\\nprint(\\n    \\\"r2 test :\\\",\\n    r2_score(y_test[\\\"GHGEmissions(MetricTonsCO2e)\\\"], GBR_CO2_es.predict(X_test)),\\n)\";\n",
       "                var nbb_formatted_code = \"## Test des perfomances pour le CO2\\n\\nprint(\\n    \\\"r2 train :\\\",\\n    r2_score(y_train[\\\"GHGEmissions(MetricTonsCO2e)\\\"], GBR_CO2_es.predict(X_train)),\\n)\\nprint(\\n    \\\"r2 test :\\\",\\n    r2_score(y_test[\\\"GHGEmissions(MetricTonsCO2e)\\\"], GBR_CO2_es.predict(X_test)),\\n)\";\n",
       "                var nbb_cells = Jupyter.notebook.get_cells();\n",
       "                for (var i = 0; i < nbb_cells.length; ++i) {\n",
       "                    if (nbb_cells[i].input_prompt_number == nbb_cell_id) {\n",
       "                        if (nbb_cells[i].get_text() == nbb_unformatted_code) {\n",
       "                             nbb_cells[i].set_text(nbb_formatted_code);\n",
       "                        }\n",
       "                        break;\n",
       "                    }\n",
       "                }\n",
       "            }, 500);\n",
       "            "
      ],
      "text/plain": [
       "<IPython.core.display.Javascript object>"
      ]
     },
     "metadata": {},
     "output_type": "display_data"
    }
   ],
   "source": [
    "## Test des perfomances pour le CO2\n",
    "\n",
    "print(\n",
    "    \"r2 train :\",\n",
    "    r2_score(y_train[\"GHGEmissions(MetricTonsCO2e)\"], GBR_CO2_es.predict(X_train)),\n",
    ")\n",
    "print(\n",
    "    \"r2 test :\",\n",
    "    r2_score(y_test[\"GHGEmissions(MetricTonsCO2e)\"], GBR_CO2_es.predict(X_test)),\n",
    ")"
   ]
  },
  {
   "cell_type": "code",
   "execution_count": 52,
   "id": "a899218f",
   "metadata": {},
   "outputs": [
    {
     "name": "stdout",
     "output_type": "stream",
     "text": [
      "r2 train : 0.4878337909113356\n",
      "r2 test : 0.696056438382576\n"
     ]
    },
    {
     "data": {
      "application/javascript": [
       "\n",
       "            setTimeout(function() {\n",
       "                var nbb_cell_id = 52;\n",
       "                var nbb_unformatted_code = \"print(\\\"r2 train :\\\", r2_score(y_train_true_co2_es, x_train_true_co2_es))\\nprint(\\\"r2 test :\\\", r2_score(y_test_true_co2_es, x_test_true_co2_es))\";\n",
       "                var nbb_formatted_code = \"print(\\\"r2 train :\\\", r2_score(y_train_true_co2_es, x_train_true_co2_es))\\nprint(\\\"r2 test :\\\", r2_score(y_test_true_co2_es, x_test_true_co2_es))\";\n",
       "                var nbb_cells = Jupyter.notebook.get_cells();\n",
       "                for (var i = 0; i < nbb_cells.length; ++i) {\n",
       "                    if (nbb_cells[i].input_prompt_number == nbb_cell_id) {\n",
       "                        if (nbb_cells[i].get_text() == nbb_unformatted_code) {\n",
       "                             nbb_cells[i].set_text(nbb_formatted_code);\n",
       "                        }\n",
       "                        break;\n",
       "                    }\n",
       "                }\n",
       "            }, 500);\n",
       "            "
      ],
      "text/plain": [
       "<IPython.core.display.Javascript object>"
      ]
     },
     "metadata": {},
     "output_type": "display_data"
    }
   ],
   "source": [
    "print(\"r2 train :\", r2_score(y_train_true_co2_es, x_train_true_co2_es))\n",
    "print(\"r2 test :\", r2_score(y_test_true_co2_es, x_test_true_co2_es))\n",
    "\n",
    "## Les performances de nos prédictions avec l'énergie Starscore semblent meilleures.\n",
    "## Il ne faut cependant pas oublier que cette variable était moins renseigné que les autres et le coût supplémentaire pour \n",
    "## pouvoir la déterminer."
   ]
  },
  {
   "cell_type": "code",
   "execution_count": 53,
   "id": "40192895",
   "metadata": {},
   "outputs": [
    {
     "data": {
      "image/png": "[encoded data removed]",
      "text/plain": [
       "<Figure size 432x288 with 1 Axes>"
      ]
     },
     "metadata": {
      "needs_background": "light"
     },
     "output_type": "display_data"
    },
    {
     "data": {
      "application/javascript": [
       "\n",
       "            setTimeout(function() {\n",
       "                var nbb_cell_id = 53;\n",
       "                var nbb_unformatted_code = \"## Tra\\u00e7ons maintenant les donn\\u00e9es pr\\u00e9dites pour les compar\\u00e9 aux donn\\u00e9es r\\u00e9elles\\n\\nplt.plot(x_test_true_energy_es, y_test_true_energy_es, \\\"o\\\", alpha=0.5)\\nplt.xlabel(\\\"Valeurs r\\u00e9elles\\\")\\nplt.axis(xmin=0, ymin=0, xmax=1e8, ymax=1.5e8)\\nplt.ylabel(\\\"Valeurs Pr\\u00e9dites\\\")\\nplt.plot([0.0, 1e8], [0.0, 1e8], \\\"r-\\\", lw=2)\\nplt.show()\";\n",
       "                var nbb_formatted_code = \"## Tra\\u00e7ons maintenant les donn\\u00e9es pr\\u00e9dites pour les compar\\u00e9 aux donn\\u00e9es r\\u00e9elles\\n\\nplt.plot(x_test_true_energy_es, y_test_true_energy_es, \\\"o\\\", alpha=0.5)\\nplt.xlabel(\\\"Valeurs r\\u00e9elles\\\")\\nplt.axis(xmin=0, ymin=0, xmax=1e8, ymax=1.5e8)\\nplt.ylabel(\\\"Valeurs Pr\\u00e9dites\\\")\\nplt.plot([0.0, 1e8], [0.0, 1e8], \\\"r-\\\", lw=2)\\nplt.show()\";\n",
       "                var nbb_cells = Jupyter.notebook.get_cells();\n",
       "                for (var i = 0; i < nbb_cells.length; ++i) {\n",
       "                    if (nbb_cells[i].input_prompt_number == nbb_cell_id) {\n",
       "                        if (nbb_cells[i].get_text() == nbb_unformatted_code) {\n",
       "                             nbb_cells[i].set_text(nbb_formatted_code);\n",
       "                        }\n",
       "                        break;\n",
       "                    }\n",
       "                }\n",
       "            }, 500);\n",
       "            "
      ],
      "text/plain": [
       "<IPython.core.display.Javascript object>"
      ]
     },
     "metadata": {},
     "output_type": "display_data"
    }
   ],
   "source": [
    "## Traçons maintenant les données prédites pour les comparé aux données réelles\n",
    "\n",
    "plt.plot(x_test_true_energy_es, y_test_true_energy_es, \"o\", alpha=0.5)\n",
    "plt.xlabel(\"Valeurs réelles\")\n",
    "plt.axis(xmin=0, ymin=0, xmax=1e8, ymax=1.5e8)\n",
    "plt.ylabel(\"Valeurs Prédites\")\n",
    "plt.plot([0.0, 1e8], [0.0, 1e8], \"r-\", lw=2)\n",
    "plt.show()"
   ]
  },
  {
   "cell_type": "code",
   "execution_count": 54,
   "id": "6a77ccdb",
   "metadata": {},
   "outputs": [
    {
     "data": {
      "image/png": "[encoded data removed]",
      "text/plain": [
       "<Figure size 432x288 with 1 Axes>"
      ]
     },
     "metadata": {
      "needs_background": "light"
     },
     "output_type": "display_data"
    },
    {
     "data": {
      "application/javascript": [
       "\n",
       "            setTimeout(function() {\n",
       "                var nbb_cell_id = 54;\n",
       "                var nbb_unformatted_code = \"plt.plot(x_test_true_co2_es, y_test_true_co2_es, \\\"o\\\", alpha=0.5)\\nplt.xlabel(\\\"Valeurs r\\u00e9elles\\\")\\nplt.ylabel(\\\"Valeurs Pr\\u00e9dites\\\")\\nplt.axis(xmin=0, ymin=0, xmax=600, ymax=600)\\nplt.plot([0.0, 1000], [0.0, 1000], \\\"r-\\\", lw=2)\\nplt.show()\";\n",
       "                var nbb_formatted_code = \"plt.plot(x_test_true_co2_es, y_test_true_co2_es, \\\"o\\\", alpha=0.5)\\nplt.xlabel(\\\"Valeurs r\\u00e9elles\\\")\\nplt.ylabel(\\\"Valeurs Pr\\u00e9dites\\\")\\nplt.axis(xmin=0, ymin=0, xmax=600, ymax=600)\\nplt.plot([0.0, 1000], [0.0, 1000], \\\"r-\\\", lw=2)\\nplt.show()\";\n",
       "                var nbb_cells = Jupyter.notebook.get_cells();\n",
       "                for (var i = 0; i < nbb_cells.length; ++i) {\n",
       "                    if (nbb_cells[i].input_prompt_number == nbb_cell_id) {\n",
       "                        if (nbb_cells[i].get_text() == nbb_unformatted_code) {\n",
       "                             nbb_cells[i].set_text(nbb_formatted_code);\n",
       "                        }\n",
       "                        break;\n",
       "                    }\n",
       "                }\n",
       "            }, 500);\n",
       "            "
      ],
      "text/plain": [
       "<IPython.core.display.Javascript object>"
      ]
     },
     "metadata": {},
     "output_type": "display_data"
    }
   ],
   "source": [
    "plt.plot(x_test_true_co2_es, y_test_true_co2_es, \"o\", alpha=0.5)\n",
    "plt.xlabel(\"Valeurs réelles\")\n",
    "plt.ylabel(\"Valeurs Prédites\")\n",
    "plt.axis(xmin=0, ymin=0, xmax=600, ymax=600)\n",
    "plt.plot([0.0, 1000], [0.0, 1000], \"r-\", lw=2)\n",
    "plt.show()"
   ]
  },
  {
   "cell_type": "code",
   "execution_count": 55,
   "id": "49aef4df",
   "metadata": {},
   "outputs": [
    {
     "data": {
      "application/javascript": [
       "\n",
       "            setTimeout(function() {\n",
       "                var nbb_cell_id = 55;\n",
       "                var nbb_unformatted_code = \"## On calcul les features importantes dans notre mod\\u00e9le avec EnergyStarScore pour visualiser l'importance de cette variable\\n\\ncoefficients_energy_es = abs(\\n    grid_energy_es.best_estimator_.named_steps.gbr.feature_importances_\\n)\\nliste_coefs_rer_energy_es = pd.DataFrame(\\n    coefficients_energy_es, columns=[\\\"Coefficients\\\"]\\n)\\ncoefficients_co2_es = abs(\\n    grid_co2_es.best_estimator_.named_steps.gbr.feature_importances_\\n)\\nliste_coefs_rer_co2_es = pd.DataFrame(coefficients_co2_es, columns=[\\\"Coefficients\\\"])\\n\\nvariable = pd.concat(\\n    (\\n        pd.DataFrame(data.loc[:, columns].columns, columns=[\\\"Variables\\\"]),\\n        pd.DataFrame(enc.get_feature_names(), columns=[\\\"Variables\\\"]),\\n    )\\n)\\n\\ndf_feature_importance_energy_es = pd.Series(coefficients_energy_es, index=variable)\\ndf_feature_importance_co2_es = pd.Series(coefficients_co2_es, index=variable)\\n\\ndf_feature_importance_energy_es.loc[\\n    \\\"BuildingType\\\"\\n] = df_feature_importance_energy_es.iloc[7:11].sum(axis=0)\\ndf_feature_importance_energy_es.loc[\\n    \\\"Neighborhood\\\"\\n] = df_feature_importance_energy_es.iloc[12:29].sum(axis=0)\\ndf_feature_importance_energy_es.loc[\\n    \\\"LargestPropertyUseType\\\"\\n] = df_feature_importance_energy_es.iloc[30:56].sum(axis=0)\\ndf_feature_importance_energy_es.loc[\\n    \\\"PrimaryPropertyType\\\"\\n] = df_feature_importance_energy_es.iloc[57:77].sum(axis=0)\\n\\ndf_feature_importance_co2_es.loc[\\\"BuildingType\\\"] = df_feature_importance_co2_es.iloc[\\n    7:11\\n].sum(axis=0)\\ndf_feature_importance_co2_es.loc[\\\"Neighborhood\\\"] = df_feature_importance_co2_es.iloc[\\n    12:29\\n].sum(axis=0)\\ndf_feature_importance_co2_es.loc[\\n    \\\"LargestPropertyUseType\\\"\\n] = df_feature_importance_co2_es.iloc[30:56].sum(axis=0)\\ndf_feature_importance_co2_es.loc[\\n    \\\"PrimaryPropertyType\\\"\\n] = df_feature_importance_co2_es.iloc[57:77].sum(axis=0)\\n\\ndf_feature_importance_energy_es = df_feature_importance_energy_es.drop(\\n    index=df_feature_importance_energy_es.iloc[7:77].index\\n)\\n\\ndf_feature_importance_co2_es = df_feature_importance_co2_es.drop(\\n    index=df_feature_importance_co2_es.iloc[7:77].index\\n)\";\n",
       "                var nbb_formatted_code = \"## On calcul les features importantes dans notre mod\\u00e9le avec EnergyStarScore pour visualiser l'importance de cette variable\\n\\ncoefficients_energy_es = abs(\\n    grid_energy_es.best_estimator_.named_steps.gbr.feature_importances_\\n)\\nliste_coefs_rer_energy_es = pd.DataFrame(\\n    coefficients_energy_es, columns=[\\\"Coefficients\\\"]\\n)\\ncoefficients_co2_es = abs(\\n    grid_co2_es.best_estimator_.named_steps.gbr.feature_importances_\\n)\\nliste_coefs_rer_co2_es = pd.DataFrame(coefficients_co2_es, columns=[\\\"Coefficients\\\"])\\n\\nvariable = pd.concat(\\n    (\\n        pd.DataFrame(data.loc[:, columns].columns, columns=[\\\"Variables\\\"]),\\n        pd.DataFrame(enc.get_feature_names(), columns=[\\\"Variables\\\"]),\\n    )\\n)\\n\\ndf_feature_importance_energy_es = pd.Series(coefficients_energy_es, index=variable)\\ndf_feature_importance_co2_es = pd.Series(coefficients_co2_es, index=variable)\\n\\ndf_feature_importance_energy_es.loc[\\n    \\\"BuildingType\\\"\\n] = df_feature_importance_energy_es.iloc[7:11].sum(axis=0)\\ndf_feature_importance_energy_es.loc[\\n    \\\"Neighborhood\\\"\\n] = df_feature_importance_energy_es.iloc[12:29].sum(axis=0)\\ndf_feature_importance_energy_es.loc[\\n    \\\"LargestPropertyUseType\\\"\\n] = df_feature_importance_energy_es.iloc[30:56].sum(axis=0)\\ndf_feature_importance_energy_es.loc[\\n    \\\"PrimaryPropertyType\\\"\\n] = df_feature_importance_energy_es.iloc[57:77].sum(axis=0)\\n\\ndf_feature_importance_co2_es.loc[\\\"BuildingType\\\"] = df_feature_importance_co2_es.iloc[\\n    7:11\\n].sum(axis=0)\\ndf_feature_importance_co2_es.loc[\\\"Neighborhood\\\"] = df_feature_importance_co2_es.iloc[\\n    12:29\\n].sum(axis=0)\\ndf_feature_importance_co2_es.loc[\\n    \\\"LargestPropertyUseType\\\"\\n] = df_feature_importance_co2_es.iloc[30:56].sum(axis=0)\\ndf_feature_importance_co2_es.loc[\\n    \\\"PrimaryPropertyType\\\"\\n] = df_feature_importance_co2_es.iloc[57:77].sum(axis=0)\\n\\ndf_feature_importance_energy_es = df_feature_importance_energy_es.drop(\\n    index=df_feature_importance_energy_es.iloc[7:77].index\\n)\\n\\ndf_feature_importance_co2_es = df_feature_importance_co2_es.drop(\\n    index=df_feature_importance_co2_es.iloc[7:77].index\\n)\";\n",
       "                var nbb_cells = Jupyter.notebook.get_cells();\n",
       "                for (var i = 0; i < nbb_cells.length; ++i) {\n",
       "                    if (nbb_cells[i].input_prompt_number == nbb_cell_id) {\n",
       "                        if (nbb_cells[i].get_text() == nbb_unformatted_code) {\n",
       "                             nbb_cells[i].set_text(nbb_formatted_code);\n",
       "                        }\n",
       "                        break;\n",
       "                    }\n",
       "                }\n",
       "            }, 500);\n",
       "            "
      ],
      "text/plain": [
       "<IPython.core.display.Javascript object>"
      ]
     },
     "metadata": {},
     "output_type": "display_data"
    }
   ],
   "source": [
    "## On calcul les features importantes dans notre modéle avec EnergyStarScore pour visualiser l'importance de cette variable\n",
    "\n",
    "coefficients_energy_es = abs(\n",
    "    grid_energy_es.best_estimator_.named_steps.gbr.feature_importances_\n",
    ")\n",
    "liste_coefs_rer_energy_es = pd.DataFrame(\n",
    "    coefficients_energy_es, columns=[\"Coefficients\"]\n",
    ")\n",
    "coefficients_co2_es = abs(\n",
    "    grid_co2_es.best_estimator_.named_steps.gbr.feature_importances_\n",
    ")\n",
    "liste_coefs_rer_co2_es = pd.DataFrame(coefficients_co2_es, columns=[\"Coefficients\"])\n",
    "\n",
    "variable = pd.concat(\n",
    "    (\n",
    "        pd.DataFrame(data.loc[:, columns].columns, columns=[\"Variables\"]),\n",
    "        pd.DataFrame(enc.get_feature_names(), columns=[\"Variables\"]),\n",
    "    )\n",
    ")\n",
    "\n",
    "df_feature_importance_energy_es = pd.Series(coefficients_energy_es, index=variable)\n",
    "df_feature_importance_co2_es = pd.Series(coefficients_co2_es, index=variable)\n",
    "\n",
    "df_feature_importance_energy_es.loc[\n",
    "    \"BuildingType\"\n",
    "] = df_feature_importance_energy_es.iloc[7:11].sum(axis=0)\n",
    "df_feature_importance_energy_es.loc[\n",
    "    \"Neighborhood\"\n",
    "] = df_feature_importance_energy_es.iloc[12:29].sum(axis=0)\n",
    "df_feature_importance_energy_es.loc[\n",
    "    \"LargestPropertyUseType\"\n",
    "] = df_feature_importance_energy_es.iloc[30:56].sum(axis=0)\n",
    "df_feature_importance_energy_es.loc[\n",
    "    \"PrimaryPropertyType\"\n",
    "] = df_feature_importance_energy_es.iloc[57:77].sum(axis=0)\n",
    "\n",
    "df_feature_importance_co2_es.loc[\"BuildingType\"] = df_feature_importance_co2_es.iloc[\n",
    "    7:11\n",
    "].sum(axis=0)\n",
    "df_feature_importance_co2_es.loc[\"Neighborhood\"] = df_feature_importance_co2_es.iloc[\n",
    "    12:29\n",
    "].sum(axis=0)\n",
    "df_feature_importance_co2_es.loc[\n",
    "    \"LargestPropertyUseType\"\n",
    "] = df_feature_importance_co2_es.iloc[30:56].sum(axis=0)\n",
    "df_feature_importance_co2_es.loc[\n",
    "    \"PrimaryPropertyType\"\n",
    "] = df_feature_importance_co2_es.iloc[57:77].sum(axis=0)\n",
    "\n",
    "df_feature_importance_energy_es = df_feature_importance_energy_es.drop(\n",
    "    index=df_feature_importance_energy_es.iloc[7:77].index\n",
    ")\n",
    "\n",
    "df_feature_importance_co2_es = df_feature_importance_co2_es.drop(\n",
    "    index=df_feature_importance_co2_es.iloc[7:77].index\n",
    ")"
   ]
  },
  {
   "cell_type": "code",
   "execution_count": 56,
   "id": "712246a4",
   "metadata": {},
   "outputs": [
    {
     "data": {
      "image/png": "[encoded data removed]",
      "text/plain": [
       "<Figure size 864x576 with 1 Axes>"
      ]
     },
     "metadata": {
      "needs_background": "light"
     },
     "output_type": "display_data"
    },
    {
     "data": {
      "application/javascript": [
       "\n",
       "            setTimeout(function() {\n",
       "                var nbb_cell_id = 56;\n",
       "                var nbb_unformatted_code = \"fig, ax = plt.subplots(figsize=(12, 8))\\ndf_feature_importance_energy_es.plot.bar(ax=ax)\\nax.set_title(\\\"Feature importances du mod\\u00e8le XGBoost sur la consommation d'\\u00e9nergie\\\")\\nfig.tight_layout()\\n\\n## On peut remarque que l'importance de l'\\u00e9nergy Star Score est au niveau des types de b\\u00e2timents pour l'\\u00e9nergie\";\n",
       "                var nbb_formatted_code = \"fig, ax = plt.subplots(figsize=(12, 8))\\ndf_feature_importance_energy_es.plot.bar(ax=ax)\\nax.set_title(\\\"Feature importances du mod\\u00e8le XGBoost sur la consommation d'\\u00e9nergie\\\")\\nfig.tight_layout()\\n\\n## On peut remarque que l'importance de l'\\u00e9nergy Star Score est au niveau des types de b\\u00e2timents pour l'\\u00e9nergie\";\n",
       "                var nbb_cells = Jupyter.notebook.get_cells();\n",
       "                for (var i = 0; i < nbb_cells.length; ++i) {\n",
       "                    if (nbb_cells[i].input_prompt_number == nbb_cell_id) {\n",
       "                        if (nbb_cells[i].get_text() == nbb_unformatted_code) {\n",
       "                             nbb_cells[i].set_text(nbb_formatted_code);\n",
       "                        }\n",
       "                        break;\n",
       "                    }\n",
       "                }\n",
       "            }, 500);\n",
       "            "
      ],
      "text/plain": [
       "<IPython.core.display.Javascript object>"
      ]
     },
     "metadata": {},
     "output_type": "display_data"
    }
   ],
   "source": [
    "fig, ax = plt.subplots(figsize=(12, 8))\n",
    "df_feature_importance_energy_es.plot.bar(ax=ax)\n",
    "ax.set_title(\"Feature importances du modèle XGBoost sur la consommation d'énergie\")\n",
    "fig.tight_layout()\n",
    "\n",
    "## On peut remarque que l'importance de l'énergy Star Score est au niveau des types de bâtiments pour l'énergie\n",
    "## C'est assez logique avec l'amélioration des performances que l'on a pu constater."
   ]
  },
  {
   "cell_type": "code",
   "execution_count": 57,
   "id": "7a79135f",
   "metadata": {},
   "outputs": [
    {
     "data": {
      "image/png": "[encoded data removed]",
      "text/plain": [
       "<Figure size 864x576 with 1 Axes>"
      ]
     },
     "metadata": {
      "needs_background": "light"
     },
     "output_type": "display_data"
    },
    {
     "data": {
      "application/javascript": [
       "\n",
       "            setTimeout(function() {\n",
       "                var nbb_cell_id = 57;\n",
       "                var nbb_unformatted_code = \"fig, ax = plt.subplots(figsize=(12, 8))\\ndf_feature_importance_co2_es.plot.bar(ax=ax)\\nax.set_title(\\\"Feature importances du mod\\u00e8le XGBoost sur la consommation de CO2\\\")\\nfig.tight_layout()\\n\\n## On peut remarque que l'importance de l'\\u00e9nergy Star Score est au niveau des types de b\\u00e2timents pour les \\u00e9missions de CO2\";\n",
       "                var nbb_formatted_code = \"fig, ax = plt.subplots(figsize=(12, 8))\\ndf_feature_importance_co2_es.plot.bar(ax=ax)\\nax.set_title(\\\"Feature importances du mod\\u00e8le XGBoost sur la consommation de CO2\\\")\\nfig.tight_layout()\\n\\n## On peut remarque que l'importance de l'\\u00e9nergy Star Score est au niveau des types de b\\u00e2timents pour les \\u00e9missions de CO2\";\n",
       "                var nbb_cells = Jupyter.notebook.get_cells();\n",
       "                for (var i = 0; i < nbb_cells.length; ++i) {\n",
       "                    if (nbb_cells[i].input_prompt_number == nbb_cell_id) {\n",
       "                        if (nbb_cells[i].get_text() == nbb_unformatted_code) {\n",
       "                             nbb_cells[i].set_text(nbb_formatted_code);\n",
       "                        }\n",
       "                        break;\n",
       "                    }\n",
       "                }\n",
       "            }, 500);\n",
       "            "
      ],
      "text/plain": [
       "<IPython.core.display.Javascript object>"
      ]
     },
     "metadata": {},
     "output_type": "display_data"
    }
   ],
   "source": [
    "fig, ax = plt.subplots(figsize=(12, 8))\n",
    "df_feature_importance_co2_es.plot.bar(ax=ax)\n",
    "ax.set_title(\"Feature importances du modèle XGBoost sur la consommation de CO2\")\n",
    "fig.tight_layout()\n",
    "\n",
    "## On peut remarque que l'importance de l'énergy Star Score est au niveau des types de bâtiments pour les émissions de CO2\n",
    "## C'est assez logique avec l'amélioration des performances que l'on a pu constater."
   ]
  },
  {
   "cell_type": "code",
   "execution_count": 58,
   "id": "09d41744",
   "metadata": {},
   "outputs": [
    {
     "data": {
      "application/javascript": [
       "\n",
       "            setTimeout(function() {\n",
       "                var nbb_cell_id = 58;\n",
       "                var nbb_unformatted_code = \"## Je vais cette fois-ci, tester les mod\\u00e9les lorsque je garde toutes les donn\\u00e9es m\\u00eame les outliers et voir l'importance sur \\n## les performances du mod\\u00e9le \\n\\n## Preprocessing\\n\\ncolumns = ['NumberofBuildings','NumberofFloors','GFABuilding','GFAParking','BuildingAge','PropertyGFATotal']\\nmycolumns = ['BuildingType','Neighborhood','LargestPropertyUseType','PrimaryPropertyType'] \\n\\nX = data_wo.loc[:,mycolumns]\\nenc.fit(X)\\nenc.transform(X)\\nenc.categories_\\nX_bis = enc.transform(X).todense()\\nf1_vec = data_wo.loc[:,columns].values\\n\\nX_2 = np.concatenate((f1_vec,X_bis),axis = 1)\\n\\ndonnees = ['SiteEnergyUse(kBtu)','GHGEmissions(MetricTonsCO2e)']\\n\\ny = data_wo.loc[:,donnees]\\n\\nlogtransformer = FunctionTransformer(np.log, inverse_func = np.exp, check_inverse = True)\\nY_log = logtransformer.transform(y)\\n\\nX_train, X_test, y_train, y_test = train_test_split(X_2, Y_log, test_size=0.2, random_state=42)\";\n",
       "                var nbb_formatted_code = \"## Je vais cette fois-ci, tester les mod\\u00e9les lorsque je garde toutes les donn\\u00e9es m\\u00eame les outliers et voir l'importance sur\\n## les performances du mod\\u00e9le\\n\\n## Preprocessing\\n\\ncolumns = [\\n    \\\"NumberofBuildings\\\",\\n    \\\"NumberofFloors\\\",\\n    \\\"GFABuilding\\\",\\n    \\\"GFAParking\\\",\\n    \\\"BuildingAge\\\",\\n    \\\"PropertyGFATotal\\\",\\n]\\nmycolumns = [\\n    \\\"BuildingType\\\",\\n    \\\"Neighborhood\\\",\\n    \\\"LargestPropertyUseType\\\",\\n    \\\"PrimaryPropertyType\\\",\\n]\\n\\nX = data_wo.loc[:, mycolumns]\\nenc.fit(X)\\nenc.transform(X)\\nenc.categories_\\nX_bis = enc.transform(X).todense()\\nf1_vec = data_wo.loc[:, columns].values\\n\\nX_2 = np.concatenate((f1_vec, X_bis), axis=1)\\n\\ndonnees = [\\\"SiteEnergyUse(kBtu)\\\", \\\"GHGEmissions(MetricTonsCO2e)\\\"]\\n\\ny = data_wo.loc[:, donnees]\\n\\nlogtransformer = FunctionTransformer(np.log, inverse_func=np.exp, check_inverse=True)\\nY_log = logtransformer.transform(y)\\n\\nX_train, X_test, y_train, y_test = train_test_split(\\n    X_2, Y_log, test_size=0.2, random_state=42\\n)\";\n",
       "                var nbb_cells = Jupyter.notebook.get_cells();\n",
       "                for (var i = 0; i < nbb_cells.length; ++i) {\n",
       "                    if (nbb_cells[i].input_prompt_number == nbb_cell_id) {\n",
       "                        if (nbb_cells[i].get_text() == nbb_unformatted_code) {\n",
       "                             nbb_cells[i].set_text(nbb_formatted_code);\n",
       "                        }\n",
       "                        break;\n",
       "                    }\n",
       "                }\n",
       "            }, 500);\n",
       "            "
      ],
      "text/plain": [
       "<IPython.core.display.Javascript object>"
      ]
     },
     "metadata": {},
     "output_type": "display_data"
    }
   ],
   "source": [
    "## Je vais cette fois-ci, tester les modéles lorsque je garde toutes les données même les outliers et voir l'importance sur \n",
    "## les performances du modéle \n",
    "\n",
    "## Preprocessing\n",
    "\n",
    "columns = ['NumberofBuildings','NumberofFloors','GFABuilding','GFAParking','BuildingAge','PropertyGFATotal']\n",
    "mycolumns = ['BuildingType','Neighborhood','LargestPropertyUseType','PrimaryPropertyType'] \n",
    "\n",
    "X = data_wo.loc[:,mycolumns]\n",
    "enc.fit(X)\n",
    "enc.transform(X)\n",
    "enc.categories_\n",
    "X_bis = enc.transform(X).todense()\n",
    "f1_vec = data_wo.loc[:,columns].values\n",
    "\n",
    "X_2 = np.concatenate((f1_vec,X_bis),axis = 1)\n",
    "\n",
    "donnees = ['SiteEnergyUse(kBtu)','GHGEmissions(MetricTonsCO2e)']\n",
    "\n",
    "y = data_wo.loc[:,donnees]\n",
    "\n",
    "logtransformer = FunctionTransformer(np.log, inverse_func = np.exp, check_inverse = True)\n",
    "Y_log = logtransformer.transform(y)\n",
    "\n",
    "X_train, X_test, y_train, y_test = train_test_split(X_2, Y_log, test_size=0.2, random_state=42)\n"
   ]
  },
  {
   "cell_type": "code",
   "execution_count": 59,
   "id": "c208fe23",
   "metadata": {},
   "outputs": [
    {
     "name": "stdout",
     "output_type": "stream",
     "text": [
      "Fitting 5 folds for each of 432 candidates, totalling 2160 fits\n",
      "Best R2:  [0.73498798]\n",
      "Best MAE:  [-0.50895232]\n",
      "Temps moyen [0.74301744] s\n",
      "Best Params:  {'gbr__learning_rate': 0.1, 'gbr__max_depth': 1, 'gbr__min_samples_leaf': 1, 'gbr__min_samples_split': 6, 'gbr__n_estimators': 500}\n"
     ]
    },
    {
     "data": {
      "application/javascript": [
       "\n",
       "            setTimeout(function() {\n",
       "                var nbb_cell_id = 59;\n",
       "                var nbb_unformatted_code = \"pipe_gbr = Pipeline([(\\\"scaler\\\", StandardScaler()), (\\\"gbr\\\", gbr)])\\n\\nparam_gbr = {\\n    \\\"gbr__n_estimators\\\": [10, 100, 500, 1000],\\n    \\\"gbr__learning_rate\\\": [0.01, 0.1, 0.2],\\n    \\\"gbr__min_samples_split\\\": [2, 4, 6, 10],\\n    \\\"gbr__min_samples_leaf\\\": [1, 3, 10],\\n    \\\"gbr__max_depth\\\": [1, 5, 10],\\n}\\n\\n## Mod\\u00e9le pour l'\\u00e9nergie\\n\\ngrid = GridSearchCV(\\n    pipe_gbr,\\n    param_grid=param_gbr,\\n    scoring=(\\\"r2\\\", \\\"neg_mean_absolute_error\\\"),\\n    return_train_score=True,\\n    cv=5,\\n    refit=\\\"r2\\\",\\n    verbose=1,\\n    n_jobs=-1,\\n)\\n\\ngrid_result = grid.fit(X_train, y_train[\\\"SiteEnergyUse(kBtu)\\\"])\\n\\nGBR_Energy_wo = grid.best_estimator_\\n\\nEnergy_results_gbr_wo = pd.DataFrame.from_dict(grid_result.cv_results_)\\n\\nprint(\\n    \\\"Best R2: \\\",\\n    np.array(\\n        Energy_results_gbr_wo[Energy_results_gbr_wo.rank_test_r2 == 1][\\\"mean_test_r2\\\"]\\n    ),\\n)\\nprint(\\n    \\\"Best MAE: \\\",\\n    np.array(\\n        Energy_results_gbr_wo[Energy_results_gbr_wo.rank_test_r2 == 1][\\n            \\\"mean_test_neg_mean_absolute_error\\\"\\n        ]\\n    ),\\n)\\nprint(\\n    \\\"Temps moyen\\\",\\n    np.array(\\n        Energy_results_gbr_wo[Energy_results_gbr_wo.rank_test_r2 == 1][\\\"mean_fit_time\\\"]\\n    ),\\n    \\\"s\\\",\\n)\\nprint(\\\"Best Params: \\\", grid_result.best_params_)\";\n",
       "                var nbb_formatted_code = \"pipe_gbr = Pipeline([(\\\"scaler\\\", StandardScaler()), (\\\"gbr\\\", gbr)])\\n\\nparam_gbr = {\\n    \\\"gbr__n_estimators\\\": [10, 100, 500, 1000],\\n    \\\"gbr__learning_rate\\\": [0.01, 0.1, 0.2],\\n    \\\"gbr__min_samples_split\\\": [2, 4, 6, 10],\\n    \\\"gbr__min_samples_leaf\\\": [1, 3, 10],\\n    \\\"gbr__max_depth\\\": [1, 5, 10],\\n}\\n\\n## Mod\\u00e9le pour l'\\u00e9nergie\\n\\ngrid = GridSearchCV(\\n    pipe_gbr,\\n    param_grid=param_gbr,\\n    scoring=(\\\"r2\\\", \\\"neg_mean_absolute_error\\\"),\\n    return_train_score=True,\\n    cv=5,\\n    refit=\\\"r2\\\",\\n    verbose=1,\\n    n_jobs=-1,\\n)\\n\\ngrid_result = grid.fit(X_train, y_train[\\\"SiteEnergyUse(kBtu)\\\"])\\n\\nGBR_Energy_wo = grid.best_estimator_\\n\\nEnergy_results_gbr_wo = pd.DataFrame.from_dict(grid_result.cv_results_)\\n\\nprint(\\n    \\\"Best R2: \\\",\\n    np.array(\\n        Energy_results_gbr_wo[Energy_results_gbr_wo.rank_test_r2 == 1][\\\"mean_test_r2\\\"]\\n    ),\\n)\\nprint(\\n    \\\"Best MAE: \\\",\\n    np.array(\\n        Energy_results_gbr_wo[Energy_results_gbr_wo.rank_test_r2 == 1][\\n            \\\"mean_test_neg_mean_absolute_error\\\"\\n        ]\\n    ),\\n)\\nprint(\\n    \\\"Temps moyen\\\",\\n    np.array(\\n        Energy_results_gbr_wo[Energy_results_gbr_wo.rank_test_r2 == 1][\\\"mean_fit_time\\\"]\\n    ),\\n    \\\"s\\\",\\n)\\nprint(\\\"Best Params: \\\", grid_result.best_params_)\";\n",
       "                var nbb_cells = Jupyter.notebook.get_cells();\n",
       "                for (var i = 0; i < nbb_cells.length; ++i) {\n",
       "                    if (nbb_cells[i].input_prompt_number == nbb_cell_id) {\n",
       "                        if (nbb_cells[i].get_text() == nbb_unformatted_code) {\n",
       "                             nbb_cells[i].set_text(nbb_formatted_code);\n",
       "                        }\n",
       "                        break;\n",
       "                    }\n",
       "                }\n",
       "            }, 500);\n",
       "            "
      ],
      "text/plain": [
       "<IPython.core.display.Javascript object>"
      ]
     },
     "metadata": {},
     "output_type": "display_data"
    }
   ],
   "source": [
    "pipe_gbr = Pipeline([(\"scaler\", StandardScaler()), (\"gbr\", gbr)])\n",
    "\n",
    "param_gbr = {\n",
    "    \"gbr__n_estimators\": [10, 100, 500, 1000],\n",
    "    \"gbr__learning_rate\": [0.01, 0.1, 0.2],\n",
    "    \"gbr__min_samples_split\": [2, 4, 6, 10],\n",
    "    \"gbr__min_samples_leaf\": [1, 3, 10],\n",
    "    \"gbr__max_depth\": [1, 5, 10],\n",
    "}\n",
    "\n",
    "## Modéle pour l'énergie\n",
    "\n",
    "grid = GridSearchCV(\n",
    "    pipe_gbr,\n",
    "    param_grid=param_gbr,\n",
    "    scoring=(\"r2\", \"neg_mean_absolute_error\"),\n",
    "    return_train_score=True,\n",
    "    cv=5,\n",
    "    refit=\"r2\",\n",
    "    verbose=1,\n",
    "    n_jobs=-1,\n",
    ")\n",
    "\n",
    "grid_result = grid.fit(X_train, y_train[\"SiteEnergyUse(kBtu)\"])\n",
    "\n",
    "GBR_Energy_wo = grid.best_estimator_\n",
    "\n",
    "Energy_results_gbr_wo = pd.DataFrame.from_dict(grid_result.cv_results_)\n",
    "\n",
    "print(\n",
    "    \"Best R2: \",\n",
    "    np.array(\n",
    "        Energy_results_gbr_wo[Energy_results_gbr_wo.rank_test_r2 == 1][\"mean_test_r2\"]\n",
    "    ),\n",
    ")\n",
    "print(\n",
    "    \"Best MAE: \",\n",
    "    np.array(\n",
    "        Energy_results_gbr_wo[Energy_results_gbr_wo.rank_test_r2 == 1][\n",
    "            \"mean_test_neg_mean_absolute_error\"\n",
    "        ]\n",
    "    ),\n",
    ")\n",
    "print(\n",
    "    \"Temps moyen\",\n",
    "    np.array(\n",
    "        Energy_results_gbr_wo[Energy_results_gbr_wo.rank_test_r2 == 1][\"mean_fit_time\"]\n",
    "    ),\n",
    "    \"s\",\n",
    ")\n",
    "print(\"Best Params: \", grid_result.best_params_)"
   ]
  },
  {
   "cell_type": "code",
   "execution_count": 60,
   "id": "5dd64fa8",
   "metadata": {},
   "outputs": [
    {
     "name": "stdout",
     "output_type": "stream",
     "text": [
      "Fitting 5 folds for each of 576 candidates, totalling 2880 fits\n",
      "Best R2:  [0.54259665]\n",
      "Best MAE:  [-0.79556149]\n",
      "Temps moyen [1.59020824] s\n",
      "Best Params:  {'gbr__learning_rate': 0.1, 'gbr__max_depth': 1, 'gbr__min_samples_leaf': 1, 'gbr__min_samples_split': 2, 'gbr__n_estimators': 500}\n"
     ]
    },
    {
     "name": "stderr",
     "output_type": "stream",
     "text": [
      "<ipython-input-60-d7eebd25fbac>:32: UserWarning: Boolean Series key will be reindexed to match DataFrame index.\n",
      "  np.array(CO2_results_gbr_wo[CO2_results_gbr_es.rank_test_r2 == 1][\"mean_test_r2\"]),\n",
      "<ipython-input-60-d7eebd25fbac>:37: UserWarning: Boolean Series key will be reindexed to match DataFrame index.\n",
      "  CO2_results_gbr_wo[CO2_results_gbr_es.rank_test_r2 == 1][\n",
      "<ipython-input-60-d7eebd25fbac>:44: UserWarning: Boolean Series key will be reindexed to match DataFrame index.\n",
      "  np.array(CO2_results_gbr_wo[CO2_results_gbr_es.rank_test_r2 == 1][\"mean_fit_time\"]),\n"
     ]
    },
    {
     "data": {
      "application/javascript": [
       "\n",
       "            setTimeout(function() {\n",
       "                var nbb_cell_id = 60;\n",
       "                var nbb_unformatted_code = \"pipe_gbr = Pipeline([(\\\"scaler\\\", StandardScaler()), (\\\"gbr\\\", gbr)])\\n\\nparam_gbr = {\\n    \\\"gbr__n_estimators\\\": [10, 100, 500, 1000],\\n    \\\"gbr__learning_rate\\\": [0.01, 0.1, 0.2],\\n    \\\"gbr__min_samples_split\\\": [2, 6, 15, 20],\\n    \\\"gbr__min_samples_leaf\\\": [1, 5, 10],\\n    \\\"gbr__max_depth\\\": [1, 5, 10, 15],\\n}\\n\\n## Mod\\u00e9le pour les \\u00e9missions de CO2\\n\\ngrid = GridSearchCV(\\n    pipe_gbr,\\n    param_grid=param_gbr,\\n    scoring=(\\\"r2\\\", \\\"neg_mean_absolute_error\\\"),\\n    return_train_score=True,\\n    cv=5,\\n    refit=\\\"r2\\\",\\n    verbose=1,\\n    n_jobs=-1,\\n)\\n\\ngrid_result = grid.fit(X_train, y_train[\\\"GHGEmissions(MetricTonsCO2e)\\\"])\\n\\nGBR_CO2_wo = grid.best_estimator_\\n\\nCO2_results_gbr_wo = pd.DataFrame.from_dict(grid_result.cv_results_)\\n\\nprint(\\n    \\\"Best R2: \\\",\\n    np.array(CO2_results_gbr_wo[CO2_results_gbr_es.rank_test_r2 == 1][\\\"mean_test_r2\\\"]),\\n)\\nprint(\\n    \\\"Best MAE: \\\",\\n    np.array(\\n        CO2_results_gbr_wo[CO2_results_gbr_es.rank_test_r2 == 1][\\n            \\\"mean_test_neg_mean_absolute_error\\\"\\n        ]\\n    ),\\n)\\nprint(\\n    \\\"Temps moyen\\\",\\n    np.array(CO2_results_gbr_wo[CO2_results_gbr_es.rank_test_r2 == 1][\\\"mean_fit_time\\\"]),\\n    \\\"s\\\",\\n)\\nprint(\\\"Best Params: \\\", grid_result.best_params_)\";\n",
       "                var nbb_formatted_code = \"pipe_gbr = Pipeline([(\\\"scaler\\\", StandardScaler()), (\\\"gbr\\\", gbr)])\\n\\nparam_gbr = {\\n    \\\"gbr__n_estimators\\\": [10, 100, 500, 1000],\\n    \\\"gbr__learning_rate\\\": [0.01, 0.1, 0.2],\\n    \\\"gbr__min_samples_split\\\": [2, 6, 15, 20],\\n    \\\"gbr__min_samples_leaf\\\": [1, 5, 10],\\n    \\\"gbr__max_depth\\\": [1, 5, 10, 15],\\n}\\n\\n## Mod\\u00e9le pour les \\u00e9missions de CO2\\n\\ngrid = GridSearchCV(\\n    pipe_gbr,\\n    param_grid=param_gbr,\\n    scoring=(\\\"r2\\\", \\\"neg_mean_absolute_error\\\"),\\n    return_train_score=True,\\n    cv=5,\\n    refit=\\\"r2\\\",\\n    verbose=1,\\n    n_jobs=-1,\\n)\\n\\ngrid_result = grid.fit(X_train, y_train[\\\"GHGEmissions(MetricTonsCO2e)\\\"])\\n\\nGBR_CO2_wo = grid.best_estimator_\\n\\nCO2_results_gbr_wo = pd.DataFrame.from_dict(grid_result.cv_results_)\\n\\nprint(\\n    \\\"Best R2: \\\",\\n    np.array(CO2_results_gbr_wo[CO2_results_gbr_es.rank_test_r2 == 1][\\\"mean_test_r2\\\"]),\\n)\\nprint(\\n    \\\"Best MAE: \\\",\\n    np.array(\\n        CO2_results_gbr_wo[CO2_results_gbr_es.rank_test_r2 == 1][\\n            \\\"mean_test_neg_mean_absolute_error\\\"\\n        ]\\n    ),\\n)\\nprint(\\n    \\\"Temps moyen\\\",\\n    np.array(CO2_results_gbr_wo[CO2_results_gbr_es.rank_test_r2 == 1][\\\"mean_fit_time\\\"]),\\n    \\\"s\\\",\\n)\\nprint(\\\"Best Params: \\\", grid_result.best_params_)\";\n",
       "                var nbb_cells = Jupyter.notebook.get_cells();\n",
       "                for (var i = 0; i < nbb_cells.length; ++i) {\n",
       "                    if (nbb_cells[i].input_prompt_number == nbb_cell_id) {\n",
       "                        if (nbb_cells[i].get_text() == nbb_unformatted_code) {\n",
       "                             nbb_cells[i].set_text(nbb_formatted_code);\n",
       "                        }\n",
       "                        break;\n",
       "                    }\n",
       "                }\n",
       "            }, 500);\n",
       "            "
      ],
      "text/plain": [
       "<IPython.core.display.Javascript object>"
      ]
     },
     "metadata": {},
     "output_type": "display_data"
    }
   ],
   "source": [
    "pipe_gbr = Pipeline([(\"scaler\", StandardScaler()), (\"gbr\", gbr)])\n",
    "\n",
    "param_gbr = {\n",
    "    \"gbr__n_estimators\": [10, 100, 500, 1000],\n",
    "    \"gbr__learning_rate\": [0.01, 0.1, 0.2],\n",
    "    \"gbr__min_samples_split\": [2, 6, 15, 20],\n",
    "    \"gbr__min_samples_leaf\": [1, 5, 10],\n",
    "    \"gbr__max_depth\": [1, 5, 10, 15],\n",
    "}\n",
    "\n",
    "## Modéle pour les émissions de CO2\n",
    "\n",
    "grid = GridSearchCV(\n",
    "    pipe_gbr,\n",
    "    param_grid=param_gbr,\n",
    "    scoring=(\"r2\", \"neg_mean_absolute_error\"),\n",
    "    return_train_score=True,\n",
    "    cv=5,\n",
    "    refit=\"r2\",\n",
    "    verbose=1,\n",
    "    n_jobs=-1,\n",
    ")\n",
    "\n",
    "grid_result = grid.fit(X_train, y_train[\"GHGEmissions(MetricTonsCO2e)\"])\n",
    "\n",
    "GBR_CO2_wo = grid.best_estimator_\n",
    "\n",
    "CO2_results_gbr_wo = pd.DataFrame.from_dict(grid_result.cv_results_)\n",
    "\n",
    "print(\n",
    "    \"Best R2: \",\n",
    "    np.array(CO2_results_gbr_wo[CO2_results_gbr_es.rank_test_r2 == 1][\"mean_test_r2\"]),\n",
    ")\n",
    "print(\n",
    "    \"Best MAE: \",\n",
    "    np.array(\n",
    "        CO2_results_gbr_wo[CO2_results_gbr_es.rank_test_r2 == 1][\n",
    "            \"mean_test_neg_mean_absolute_error\"\n",
    "        ]\n",
    "    ),\n",
    ")\n",
    "print(\n",
    "    \"Temps moyen\",\n",
    "    np.array(CO2_results_gbr_wo[CO2_results_gbr_es.rank_test_r2 == 1][\"mean_fit_time\"]),\n",
    "    \"s\",\n",
    ")\n",
    "print(\"Best Params: \", grid_result.best_params_)"
   ]
  },
  {
   "cell_type": "code",
   "execution_count": 61,
   "id": "024b49fc",
   "metadata": {},
   "outputs": [
    {
     "data": {
      "application/javascript": [
       "\n",
       "            setTimeout(function() {\n",
       "                var nbb_cell_id = 61;\n",
       "                var nbb_unformatted_code = \"## Il semblerait pour les deux mod\\u00e9les que les performances sont moins bonnes lorsque l'on garde les outliers sur \\n## les split de validations par rapport aux r\\u00e9sultats avec l'\\u00e9nergy Star Score\";\n",
       "                var nbb_formatted_code = \"## Il semblerait pour les deux mod\\u00e9les que les performances sont moins bonnes lorsque l'on garde les outliers sur\\n## les split de validations par rapport aux r\\u00e9sultats avec l'\\u00e9nergy Star Score\";\n",
       "                var nbb_cells = Jupyter.notebook.get_cells();\n",
       "                for (var i = 0; i < nbb_cells.length; ++i) {\n",
       "                    if (nbb_cells[i].input_prompt_number == nbb_cell_id) {\n",
       "                        if (nbb_cells[i].get_text() == nbb_unformatted_code) {\n",
       "                             nbb_cells[i].set_text(nbb_formatted_code);\n",
       "                        }\n",
       "                        break;\n",
       "                    }\n",
       "                }\n",
       "            }, 500);\n",
       "            "
      ],
      "text/plain": [
       "<IPython.core.display.Javascript object>"
      ]
     },
     "metadata": {},
     "output_type": "display_data"
    }
   ],
   "source": [
    "## Il semblerait pour les deux modéles que les performances sont moins bonnes lorsque l'on garde les outliers sur \n",
    "## les split de validations par rapport aux résultats avec l'énergy Star Score. Et les performances équivalentes sans outliers."
   ]
  },
  {
   "cell_type": "code",
   "execution_count": 62,
   "id": "9b01307b",
   "metadata": {},
   "outputs": [
    {
     "data": {
      "application/javascript": [
       "\n",
       "            setTimeout(function() {\n",
       "                var nbb_cell_id = 62;\n",
       "                var nbb_unformatted_code = \"# On sauvegarde les diff\\u00e9rents estimateur\\n\\nimport pickle\\n\\nEstimator = {\\n    \\\"Ridge_Energy\\\": Ridge_Energy,\\n    \\\"Ridge_CO2\\\": Ridge_CO2,\\n    \\\"Lasso_Energy\\\": Lasso_Energy,\\n    \\\"Ridge_CO2\\\": Lasso_CO2,\\n    \\\"Elastic_Energy\\\": Elastic_Energy,\\n    \\\"Elastic_CO2\\\": Elastic_CO2,\\n    \\\"SVR_Energy\\\": SVR_Energy,\\n    \\\"SVR_CO2\\\": SVR_CO2,\\n    \\\"RandomForest_Energy\\\": RFR_Energy,\\n    \\\"RandomForest_CO2\\\": RFR_CO2,\\n    \\\"GradientBoosting_Energy\\\": GBR_Energy,\\n    \\\"GradientBoosting_CO2\\\": GBR_CO2,\\n    \\\"GradientBoosting_Energy_EnergyStarScore\\\": GBR_Energy_es,\\n    \\\"GradientBoosting_CO2_EnergyStarScore\\\": GBR_CO2_es,\\n    \\\"GradientBoosting_Energy_outlier\\\": GBR_Energy_wo,\\n    \\\"GradientBoosting_CO2_outlier\\\": GBR_CO2_wo,\\n}\\npickle.dump(Estimator, open(\\\"save.p\\\", \\\"wb\\\"))\";\n",
       "                var nbb_formatted_code = \"# On sauvegarde les diff\\u00e9rents estimateur\\n\\nimport pickle\\n\\nEstimator = {\\n    \\\"Ridge_Energy\\\": Ridge_Energy,\\n    \\\"Ridge_CO2\\\": Ridge_CO2,\\n    \\\"Lasso_Energy\\\": Lasso_Energy,\\n    \\\"Ridge_CO2\\\": Lasso_CO2,\\n    \\\"Elastic_Energy\\\": Elastic_Energy,\\n    \\\"Elastic_CO2\\\": Elastic_CO2,\\n    \\\"SVR_Energy\\\": SVR_Energy,\\n    \\\"SVR_CO2\\\": SVR_CO2,\\n    \\\"RandomForest_Energy\\\": RFR_Energy,\\n    \\\"RandomForest_CO2\\\": RFR_CO2,\\n    \\\"GradientBoosting_Energy\\\": GBR_Energy,\\n    \\\"GradientBoosting_CO2\\\": GBR_CO2,\\n    \\\"GradientBoosting_Energy_EnergyStarScore\\\": GBR_Energy_es,\\n    \\\"GradientBoosting_CO2_EnergyStarScore\\\": GBR_CO2_es,\\n    \\\"GradientBoosting_Energy_outlier\\\": GBR_Energy_wo,\\n    \\\"GradientBoosting_CO2_outlier\\\": GBR_CO2_wo,\\n}\\npickle.dump(Estimator, open(\\\"save.p\\\", \\\"wb\\\"))\";\n",
       "                var nbb_cells = Jupyter.notebook.get_cells();\n",
       "                for (var i = 0; i < nbb_cells.length; ++i) {\n",
       "                    if (nbb_cells[i].input_prompt_number == nbb_cell_id) {\n",
       "                        if (nbb_cells[i].get_text() == nbb_unformatted_code) {\n",
       "                             nbb_cells[i].set_text(nbb_formatted_code);\n",
       "                        }\n",
       "                        break;\n",
       "                    }\n",
       "                }\n",
       "            }, 500);\n",
       "            "
      ],
      "text/plain": [
       "<IPython.core.display.Javascript object>"
      ]
     },
     "metadata": {},
     "output_type": "display_data"
    }
   ],
   "source": [
    "# On sauvegarde les différents estimateur\n",
    "\n",
    "import pickle\n",
    "\n",
    "Estimator = {\n",
    "    \"Ridge_Energy\": Ridge_Energy,\n",
    "    \"Ridge_CO2\": Ridge_CO2,\n",
    "    \"Lasso_Energy\": Lasso_Energy,\n",
    "    \"Ridge_CO2\": Lasso_CO2,\n",
    "    \"Elastic_Energy\": Elastic_Energy,\n",
    "    \"Elastic_CO2\": Elastic_CO2,\n",
    "    \"SVR_Energy\": SVR_Energy,\n",
    "    \"SVR_CO2\": SVR_CO2,\n",
    "    \"RandomForest_Energy\": RFR_Energy,\n",
    "    \"RandomForest_CO2\": RFR_CO2,\n",
    "    \"GradientBoosting_Energy\": GBR_Energy,\n",
    "    \"GradientBoosting_CO2\": GBR_CO2,\n",
    "    \"GradientBoosting_Energy_EnergyStarScore\": GBR_Energy_es,\n",
    "    \"GradientBoosting_CO2_EnergyStarScore\": GBR_CO2_es,\n",
    "    \"GradientBoosting_Energy_outlier\": GBR_Energy_wo,\n",
    "    \"GradientBoosting_CO2_outlier\": GBR_CO2_wo,\n",
    "}\n",
    "pickle.dump(Estimator, open(\"save.p\", \"wb\"))"
   ]
  },
  {
   "cell_type": "code",
   "execution_count": 63,
   "id": "9d569a29",
   "metadata": {},
   "outputs": [
    {
     "data": {
      "application/javascript": [
       "\n",
       "            setTimeout(function() {\n",
       "                var nbb_cell_id = 63;\n",
       "                var nbb_unformatted_code = \"## Je cr\\u00e9\\u00e9 une classe qui permet de retourner les estimations de la consommation \\u00e9nerg\\u00e9tique et des \\u00e9missions de CO2 en fonction\\n## de nouvelles donn\\u00e9es \\n\\nclass Energy_CO2_Predicteur:\\n    def __init__(self, OneHotEncoder, CO2_predicteur, Energy_predicteur):\\n        self.OneHotEncoder = OneHotEncoder\\n        self.CO2_predicteur = CO2_predicteur\\n        self.Energy_predicteur = Energy_predicteur\\n\\n    def predicte_CO2_Energy(\\n        self,\\n        NumberofBuildings,\\n        NumberofFloors,\\n        GFABuilding,\\n        GFAParking,\\n        BuildingAge,\\n        PropertyGFATotal,\\n        ENERGYSTARScore,\\n        BuildingType,\\n        Neighborhood,\\n        LargestPropertyUseType,\\n        PrimaryPropertyType,\\n    ):\\n        x1 = np.array(\\n            [\\n                NumberofBuildings,\\n                NumberofFloors,\\n                GFABuilding,\\n                GFAParking,\\n                BuildingAge,\\n                PropertyGFATotal,\\n                ENERGYSTARScore,\\n            ]\\n        )\\n        x2 = self.OneHotEncoder.transform(\\n            [[BuildingType, Neighborhood, LargestPropertyUseType, PrimaryPropertyType]]\\n        )\\n        x2 = x2.todense()\\n        x2 = np.asarray(x2).reshape(-1)\\n        x = np.concatenate([x1, x2])\\n        x = x.reshape(1, x.shape[0])\\n        estimated_CO2 = self.CO2_predicteur.predict(x)\\n        estimated_energy = self.Energy_predicteur.predict(x)\\n        return dict(\\n            estimated_CO2=round(estimated_CO2[0], 2),\\n            estimated_energy=round(estimated_energy[0], 2),\\n        )\";\n",
       "                var nbb_formatted_code = \"## Je cr\\u00e9\\u00e9 une classe qui permet de retourner les estimations de la consommation \\u00e9nerg\\u00e9tique et des \\u00e9missions de CO2 en fonction\\n## de nouvelles donn\\u00e9es\\n\\n\\nclass Energy_CO2_Predicteur:\\n    def __init__(self, OneHotEncoder, CO2_predicteur, Energy_predicteur):\\n        self.OneHotEncoder = OneHotEncoder\\n        self.CO2_predicteur = CO2_predicteur\\n        self.Energy_predicteur = Energy_predicteur\\n\\n    def predicte_CO2_Energy(\\n        self,\\n        NumberofBuildings,\\n        NumberofFloors,\\n        GFABuilding,\\n        GFAParking,\\n        BuildingAge,\\n        PropertyGFATotal,\\n        ENERGYSTARScore,\\n        BuildingType,\\n        Neighborhood,\\n        LargestPropertyUseType,\\n        PrimaryPropertyType,\\n    ):\\n        x1 = np.array(\\n            [\\n                NumberofBuildings,\\n                NumberofFloors,\\n                GFABuilding,\\n                GFAParking,\\n                BuildingAge,\\n                PropertyGFATotal,\\n                ENERGYSTARScore,\\n            ]\\n        )\\n        x2 = self.OneHotEncoder.transform(\\n            [[BuildingType, Neighborhood, LargestPropertyUseType, PrimaryPropertyType]]\\n        )\\n        x2 = x2.todense()\\n        x2 = np.asarray(x2).reshape(-1)\\n        x = np.concatenate([x1, x2])\\n        x = x.reshape(1, x.shape[0])\\n        estimated_CO2 = self.CO2_predicteur.predict(x)\\n        estimated_energy = self.Energy_predicteur.predict(x)\\n        return dict(\\n            estimated_CO2=round(estimated_CO2[0], 2),\\n            estimated_energy=round(estimated_energy[0], 2),\\n        )\";\n",
       "                var nbb_cells = Jupyter.notebook.get_cells();\n",
       "                for (var i = 0; i < nbb_cells.length; ++i) {\n",
       "                    if (nbb_cells[i].input_prompt_number == nbb_cell_id) {\n",
       "                        if (nbb_cells[i].get_text() == nbb_unformatted_code) {\n",
       "                             nbb_cells[i].set_text(nbb_formatted_code);\n",
       "                        }\n",
       "                        break;\n",
       "                    }\n",
       "                }\n",
       "            }, 500);\n",
       "            "
      ],
      "text/plain": [
       "<IPython.core.display.Javascript object>"
      ]
     },
     "metadata": {},
     "output_type": "display_data"
    }
   ],
   "source": [
    "## Je créé une classe qui permet de retourner les estimations de la consommation énergétique et des émissions de CO2 en fonction\n",
    "## de nouvelles données\n",
    "\n",
    "\n",
    "class Energy_CO2_Predicteur:\n",
    "    def __init__(self, OneHotEncoder, CO2_predicteur, Energy_predicteur):\n",
    "        self.OneHotEncoder = OneHotEncoder\n",
    "        self.CO2_predicteur = CO2_predicteur\n",
    "        self.Energy_predicteur = Energy_predicteur\n",
    "\n",
    "    def predicte_CO2_Energy(\n",
    "        self,\n",
    "        NumberofBuildings,\n",
    "        NumberofFloors,\n",
    "        GFABuilding,\n",
    "        GFAParking,\n",
    "        BuildingAge,\n",
    "        PropertyGFATotal,\n",
    "        ENERGYSTARScore,\n",
    "        BuildingType,\n",
    "        Neighborhood,\n",
    "        LargestPropertyUseType,\n",
    "        PrimaryPropertyType,\n",
    "    ):\n",
    "        x1 = np.array(\n",
    "            [\n",
    "                NumberofBuildings,\n",
    "                NumberofFloors,\n",
    "                GFABuilding,\n",
    "                GFAParking,\n",
    "                BuildingAge,\n",
    "                PropertyGFATotal,\n",
    "                ENERGYSTARScore,\n",
    "            ]\n",
    "        )\n",
    "        x2 = self.OneHotEncoder.transform(\n",
    "            [[BuildingType, Neighborhood, LargestPropertyUseType, PrimaryPropertyType]]\n",
    "        )\n",
    "        x2 = x2.todense()\n",
    "        x2 = np.asarray(x2).reshape(-1)\n",
    "        x = np.concatenate([x1, x2])\n",
    "        x = x.reshape(1, x.shape[0])\n",
    "        estimated_CO2 = self.CO2_predicteur.predict(x)\n",
    "        estimated_energy = self.Energy_predicteur.predict(x)\n",
    "        return dict(\n",
    "            estimated_CO2=round(estimated_CO2[0], 2),\n",
    "            estimated_energy=round(estimated_energy[0], 2),\n",
    "        )"
   ]
  },
  {
   "cell_type": "code",
   "execution_count": 64,
   "id": "58f70cac",
   "metadata": {},
   "outputs": [
    {
     "data": {
      "application/javascript": [
       "\n",
       "            setTimeout(function() {\n",
       "                var nbb_cell_id = 64;\n",
       "                var nbb_unformatted_code = \"ecpredicteur = Energy_CO2_Predicteur(enc, GBR_CO2_es, GBR_Energy_es)\";\n",
       "                var nbb_formatted_code = \"ecpredicteur = Energy_CO2_Predicteur(enc, GBR_CO2_es, GBR_Energy_es)\";\n",
       "                var nbb_cells = Jupyter.notebook.get_cells();\n",
       "                for (var i = 0; i < nbb_cells.length; ++i) {\n",
       "                    if (nbb_cells[i].input_prompt_number == nbb_cell_id) {\n",
       "                        if (nbb_cells[i].get_text() == nbb_unformatted_code) {\n",
       "                             nbb_cells[i].set_text(nbb_formatted_code);\n",
       "                        }\n",
       "                        break;\n",
       "                    }\n",
       "                }\n",
       "            }, 500);\n",
       "            "
      ],
      "text/plain": [
       "<IPython.core.display.Javascript object>"
      ]
     },
     "metadata": {},
     "output_type": "display_data"
    }
   ],
   "source": [
    "ecpredicteur = Energy_CO2_Predicteur(enc, GBR_CO2_es, GBR_Energy_es)"
   ]
  }
 ],
 "metadata": {
  "kernelspec": {
   "display_name": "Python 3",
   "language": "python",
   "name": "python3"
  },
  "language_info": {
   "codemirror_mode": {
    "name": "ipython",
    "version": 3
   },
   "file_extension": ".py",
   "mimetype": "text/x-python",
   "name": "python",
   "nbconvert_exporter": "python",
   "pygments_lexer": "ipython3",
   "version": "3.9.5"
  }
 },
 "nbformat": 4,
 "nbformat_minor": 5
}
